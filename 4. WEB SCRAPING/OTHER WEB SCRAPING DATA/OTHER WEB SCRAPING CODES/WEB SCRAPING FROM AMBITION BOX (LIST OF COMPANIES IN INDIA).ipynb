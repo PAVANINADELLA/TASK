{
 "cells": [
  {
   "cell_type": "code",
   "execution_count": 1,
   "metadata": {},
   "outputs": [],
   "source": [
    "import numpy as np\n",
    "import pandas as pd\n",
    "import requests\n",
    "from bs4 import BeautifulSoup\n",
    "import time\n",
    "from datetime import timedelta"
   ]
  },
  {
   "cell_type": "markdown",
   "metadata": {},
   "source": [
    "## Request and Fetch the Webpage"
   ]
  },
  {
   "cell_type": "code",
   "execution_count": 4,
   "metadata": {},
   "outputs": [
    {
     "data": {
      "text/plain": [
       "<Response [200]>"
      ]
     },
     "execution_count": 4,
     "metadata": {},
     "output_type": "execute_result"
    }
   ],
   "source": [
    "# hit \"www.ambitionbox.com/list-of-companies\"\n",
    "requests.get(\"https://www.ambitionbox.com/list-of-companies?page=1\")"
   ]
  },
  {
   "cell_type": "code",
   "execution_count": 5,
   "metadata": {},
   "outputs": [
    {
     "data": {
      "text/plain": [
       "'<!doctype html>\\n<html data-n-head-ssr lang=\"en\" data-n-head=\"%7B%22lang%22:%7B%22ssr%22:%22en%22%7D%7D\">\\n  <head >\\n    <meta charset=\"UTF-8\">\\n    <meta name=\"viewport\" content=\"width=device-width,initial-scale=1\">\\n    <meta http-equiv=\"X-UA-Compatible\" content=\"IE=edge\"> \\n    <title>List of companies - 486.3k companies | AmbitionBox</title><meta data-n-head=\"ssr\" name=\"copyright\" content=\"2020 AmbitionBox\"><meta data-n-head=\"ssr\" name=\"revisit-after\" content=\"1 day\"><meta data-n-head=\"ssr\" name=\"application-name\" content=\"AmbitionBox\"><meta data-n-head=\"ssr\" name=\"content-language\" content=\"EN\"><meta data-n-head=\"ssr\" name=\"google-signin-client_id\" content=\"462822053404-hphug4pkahqljh2tc96g35at47o4isv2.apps.googleusercontent.com\"><meta data-n-head=\"ssr\" property=\"fb:app_id\" content=\"712617688793459\"><meta data-n-head=\"ssr\" name=\"theme-color\" content=\"#5670fb\"><meta data-n-head=\"ssr\" name=\"msapplication-navbutton-color\" content=\"#5670fb\"><meta data-n-head=\"ssr\" name=\"apple-mobile-web-app-status-bar-style\" content=\"#5670fb\"><meta data-n-head=\"ssr\" property=\"fb:admins\" content=\"100001438127755,100000444923785\"><meta data-n-head=\"ssr\" property=\"og:site_name\" content=\"AmbitionBox\"><meta data-n-head=\"ssr\" property=\"og:type\" content=\"website\"><meta data-n-head=\"ssr\" name=\"twitter:card\" content=\"summary\"><meta data-n-head=\"ssr\" name=\"author\" content=\"www.ambitionbox.com\"><meta data-n-head=\"ssr\" name=\"resource-type\" content=\"document\"><meta data-n-head=\"ssr\" name=\"distribution\" content=\"GLOBAL\"><meta data-n-head=\"ssr\" name=\"rating\" content=\"general\"><meta data-n-head=\"ssr\" name=\"pragma\" content=\"no-cache\"><meta data-n-head=\"ssr\" name=\"classification\" content=\"Company:Reviews,Salaries,Benefits,Overview,Interview Questions\"><meta data-n-head=\"ssr\" name=\"msapplication-square310x310logo\" content=\"https://static.ambitionbox.com/alpha/img/supporting-images/browser_icon_192x192.png\"><meta data-n-head=\"ssr\" name=\"mobile-web-app-capable\" content=\"yes\"><meta data-n-head=\"ssr\" name=\"apple-mobile-web-app-title\" content=\"AmbitionBox\"><meta data-n-head=\"ssr\" data-hid=\"og:title\" property=\"og:title\" content=\"List of companies - 486.3k companies\"><meta data-n-head=\"ssr\" data-hid=\"twitter:title\" name=\"twitter:title\" content=\"List of companies - 486.3k companies\"><meta data-n-head=\"ssr\" data-hid=\"description\" name=\"description\" content=\"View list of companies in India with in-depth information on reviews, salaries, interviews, employee benefits, and more shared by 20 Lakh+ real employees.\"><meta data-n-head=\"ssr\" data-hid=\"og:description\" property=\"og:description\" content=\"View list of companies in India with in-depth information on reviews, salaries, interviews, employee benefits, and more shared by 20 Lakh+ real employees.\"><meta data-n-head=\"ssr\" data-hid=\"twitter:description\" name=\"twitter:description\" content=\"View list of companies in India with in-depth information on reviews, salaries, interviews, employee benefits, and more shared by 20 Lakh+ real employees.\"><meta data-n-head=\"ssr\" data-hid=\"og:image\" property=\"og:image\" content=\"https://static.ambitionbox.com/static/list-of-companies.jpg\"><meta data-n-head=\"ssr\" data-hid=\"twitter:image\" name=\"twitter:image\" content=\"https://static.ambitionbox.com/static/list-of-companies.jpg\"><meta data-n-head=\"ssr\" name=\"robots\" content=\"ALL\"><meta data-n-head=\"ssr\" property=\"og:url\" content=\"https://www.ambitionbox.com/list-of-companies\"><link data-n-head=\"ssr\" rel=\"icon\" type=\"image/png\" sizes=\"16x16\" href=\"https://static.ambitionbox.com/alpha/img/supporting-images/browser_icon_16x16.png\"><link data-n-head=\"ssr\" rel=\"icon\" type=\"image/png\" sizes=\"32x32\" href=\"https://static.ambitionbox.com/alpha/img/supporting-images/browser_icon_32x32.png\"><link data-n-head=\"ssr\" rel=\"icon\" type=\"image/png\" sizes=\"48x48\" href=\"https://static.ambitionbox.com/alpha/img/supporting-images/browser_icon_48x48.png\"><link data-n-head=\"ssr\" rel=\"icon\" type=\"image/png\" sizes=\"96x96\" href=\"https://static.ambitionbox.com/alpha/img/supporting-images/browser_icon_96x96.png\"><link data-n-head=\"ssr\" rel=\"icon\" type=\"image/png\" sizes=\"144x144\" href=\"https://static.ambitionbox.com/alpha/img/supporting-images/browser_icon_144x144.png\"><link data-n-head=\"ssr\" rel=\"icon\" type=\"image/png\" sizes=\"192x192\" href=\"https://static.ambitionbox.com/alpha/img/supporting-images/browser_icon_192x192.png\"><link data-n-head=\"ssr\" rel=\"apple-touch-icon\" href=\"https://static.ambitionbox.com/alpha/img/supporting-images/browser_icon_192x192.png\"><link data-n-head=\"ssr\" rel=\"preconnect dns-prefetch\" href=\"https://static.ambitionbox.com\" crossorigin=\"anonymous\"><link data-n-head=\"ssr\" rel=\"shortcut icon\" href=\"https://static.ambitionbox.com/static/pwa/16x16.png\"><link data-n-head=\"ssr\" rel=\"manifest\" href=\"https://static.ambitionbox.com/_nuxt/manifest.json\"><link data-n-head=\"ssr\" rel=\"canonical\" href=\"https://www.ambitionbox.com/list-of-companies\"><link data-n-head=\"ssr\" rel=\"next\" href=\"https://www.ambitionbox.com/list-of-companies?page=2\"><link data-n-head=\"ssr\" rel=\"first\" href=\"https://www.ambitionbox.com/list-of-companies\"><link data-n-head=\"ssr\" rel=\"last\" href=\"https://www.ambitionbox.com/list-of-companies?page=16212\"><link rel=\"preload\" href=\"https://static.ambitionbox.com/_nuxt/runtime.74c30c2046f3556799aa.js\" as=\"script\"><link rel=\"preload\" href=\"https://static.ambitionbox.com/_nuxt/commons.app.de4f7cc5a6b84c6638ac.js\" as=\"script\"><link rel=\"preload\" href=\"https://static.ambitionbox.com/_nuxt/vendors.app.cddab13450b34a194388.js\" as=\"script\"><link rel=\"preload\" href=\"https://static.ambitionbox.com/_nuxt/app.74f0b84e448189b30fd9.js\" as=\"script\"><link rel=\"preload\" href=\"https://static.ambitionbox.com/_nuxt/header.57f7e63414a8c9308652.js\" as=\"script\"><link rel=\"preload\" href=\"https://static.ambitionbox.com/_nuxt/typeahead.3408d76854c41d6c8fc3.js\" as=\"script\"><link rel=\"preload\" href=\"https://static.ambitionbox.com/_nuxt/93.aa465b738789c5b44fc2.js\" as=\"script\"><link rel=\"preload\" href=\"https://static.ambitionbox.com/_nuxt/ab.atoms.f362cc6bef79aa2672bf.js\" as=\"script\"><link rel=\"preload\" href=\"https://static.ambitionbox.com/_nuxt/c.listing.4171434591babbc5dcd6.js\" as=\"script\"><link rel=\"preload\" href=\"https://static.ambitionbox.com/_nuxt/paginator.527105654ba178f05afb.js\" as=\"script\"><link rel=\"preload\" href=\"https://static.ambitionbox.com/_nuxt/footer.d49c5dbf3bec474d713a.js\" as=\"script\"><style data-vue-ssr-id=\"689920f2:0 b0f53faa:0 4d2ed8ec:0 4be82e98:0 0db16627:0 6fb1f2b0:0 d3bb4742:0 5e3b3fd4:0 436104d5:0 755c304a:0 27015a14:0 35295af8:0 48687b7c:0\">html{-webkit-text-size-adjust:100%}body{margin:0}main{display:block}h1{font-size:2em;margin:0.67em 0}hr{box-sizing:content-box;height:0;overflow:visible}a{background-color:transparent;text-decoration:none}b,strong{font-weight:bolder}code{font-family:monospace, monospace;font-size:1em;line-height:1.15}small{font-size:80%}sub{font-size:75%;line-height:0;position:relative;vertical-align:baseline}sub{bottom:-0.25em}img{border-style:none}button,input,select,textarea{font-family:inherit;font-size:100%;line-height:1.15;margin:0}button,input{overflow:visible}button,select{text-transform:none}button,[type=\"button\"],[type=\"reset\"],[type=\"submit\"]{-webkit-appearance:button}button::-moz-focus-inner,[type=\"button\"]::-moz-focus-inner,[type=\"reset\"]::-moz-focus-inner,[type=\"submit\"]::-moz-focus-inner{border-style:none;padding:0}button:-moz-focusring,[type=\"button\"]:-moz-focusring,[type=\"reset\"]:-moz-focusring,[type=\"submit\"]:-moz-focusring{outline:1px dotted ButtonText}legend{box-sizing:border-box;color:inherit;display:table;max-width:100%;padding:0;white-space:normal}textarea{overflow:auto}[type=\"checkbox\"],[type=\"radio\"]{box-sizing:border-box;padding:0}[type=\"number\"]::-webkit-inner-spin-button,[type=\"number\"]::-webkit-outer-spin-button{height:auto;-webkit-appearance:none;margin:0}[type=\"search\"]{-webkit-appearance:textfield;outline-offset:-2px}[type=\"search\"]::-webkit-search-decoration{-webkit-appearance:none}::-webkit-file-upload-button{-webkit-appearance:button;font:inherit}details{display:block}summary{display:list-item}template{display:none}[hidden]{display:none}@font-face{font-family:\"proxima-nova\";src:url(https://static.ambitionbox.com/_nuxt/fonts/25482f2.woff2) format(\"woff2\"),url(https://static.ambitionbox.com/_nuxt/fonts/35870fd.woff) format(\"woff\"),url(https://static.ambitionbox.com/_nuxt/fonts/ce90cee.otf) format(\"opentype\");font-display:swap;font-style:normal;font-weight:700}@font-face{font-family:\"proxima-nova\";src:url(https://static.ambitionbox.com/_nuxt/fonts/350c624.woff2) format(\"woff2\"),url(https://static.ambitionbox.com/_nuxt/fonts/0b5323a.woff) format(\"woff\"),url(https://static.ambitionbox.com/_nuxt/fonts/60e0422.otf) format(\"opentype\");font-display:swap;font-style:normal;font-weight:600}@font-face{font-family:\"proxima-nova\";src:url(https://static.ambitionbox.com/_nuxt/fonts/2af231f.woff2) format(\"woff2\"),url(https://static.ambitionbox.com/_nuxt/fonts/49ef797.woff) format(\"woff\"),url(https://static.ambitionbox.com/_nuxt/fonts/93c058e.otf) format(\"opentype\");font-display:swap;font-style:normal;font-weight:500}@font-face{font-family:\"proxima-nova\";src:url(https://static.ambitionbox.com/_nuxt/fonts/ff08770.woff2) format(\"woff2\"),url(https://static.ambitionbox.com/_nuxt/fonts/b462dd3.woff) format(\"woff\"),url(https://static.ambitionbox.com/_nuxt/fonts/a79fa42.otf) format(\"opentype\");font-display:swap;font-style:normal;font-weight:400}html{box-sizing:border-box}.row{display:flex;flex-wrap:wrap;margin-right:-15px;margin-left:-15px}.no-gutters,.no-row-gutters{margin-right:0;margin-left:0}.no-gutters>.col,.no-gutters>[class*=\"col-\"]{padding-right:0;padding-left:0}.col-6,.col-12,.col,.col-sm-6,.col-sm-12,.col-md-3,.col-md-4,.col-md-6,.col-md-8,.col-md-12,.col-lg-4,.col-lg-8,.col-xl-4,.col-xl-5,.col-xl-7,.col-xl-8,.col-20{position:relative;width:100%;padding-right:15px;padding-left:15px}.col-20{flex-basis:0;flex-grow:1;max-width:25%}.col{flex-basis:0;flex-grow:1;max-width:100%}.col-6{flex:0 0 50%;max-width:50%}.col-12{flex:0 0 100%;max-width:100%}@media (min-width: 576px){.col-sm-6{flex:0 0 50%;max-width:50%}.col-sm-12{flex:0 0 100%;max-width:100%}}@media (min-width: 768px){.col-md-3{flex:0 0 25%;max-width:25%}.col-md-4{flex:0 0 33.333333%;max-width:33.333333%}.col-md-6{flex:0 0 50%;max-width:50%}.col-md-8{flex:0 0 66.666667%;max-width:66.666667%}.col-md-12{flex:0 0 100%;max-width:100%}}@media (min-width: 992px){.col-20{flex:0 0 20%;max-width:20%}.col-lg-4{flex:0 0 33.333333%;max-width:33.333333%}.col-lg-8{flex:0 0 66.666667%;max-width:66.666667%}}@media (min-width: 1200px){.col-xl-4{flex:0 0 33.333333%;max-width:33.333333%}.col-xl-5{flex:0 0 41.666667%;max-width:41.666667%}.col-xl-7{flex:0 0 58.333333%;max-width:58.333333%}.col-xl-8{flex:0 0 66.666667%;max-width:66.666667%}}.bold,.bold-display-l,.bold-display,.bold-title-l,.bold-title,.bold-title-s,.bold-section-header,.bold-list-header,.bold-Labels{font-weight:bold;letter-spacing:normal;color:#1e223c}.semibold,.sbold-title-l,.sbold-title,.sbold-section-header,.sbold-list-header,.sbold-Labels{font-weight:500;letter-spacing:normal;color:#1e223c}.body-text,.body-small,.body-small-l,.body-medium,.body-large{font-weight:normal;letter-spacing:normal;color:#1e223c}.caption-strong,.caption-strong-medium,.caption-strong-large{font-weight:500;letter-spacing:normal;color:#5e6b92}.caption-subdued,.caption-subdued-small,.caption-subdued-medium,.caption-subdued-large{font-weight:500;letter-spacing:normal;color:#97a0be}.ctas,.ctas-a-small,.ctas-a-medium,.ctas-a-large,.ctas-btn-medium{font-weight:600;line-height:1.5;color:#5670fb;cursor:pointer;letter-spacing:normal}.ctas:hover,.ctas-a-small:hover,.ctas-a-medium:hover,.ctas-a-large:hover,.ctas-btn-medium:hover{color:#4158d4}.overline-text-large{font-weight:600;letter-spacing:2px}.input-fields{font-weight:600;letter-spacing:normal}.badge-small,.badge-large,.badge-x-large{font-weight:600;letter-spacing:normal}.bold-display-l{font-size:2rem;line-height:1.5}.bold-display{font-size:1.75rem;line-height:1.43}.bold-title-l{font-size:1.5rem;line-height:1.33}.bold-title{font-size:1.25rem;line-height:1.4}.bold-title-s{font-size:1.125rem;line-height:1.1}.bold-section-header{font-size:1rem;line-height:1.5}.bold-list-header{font-size:.875rem;line-height:1.43}.bold-Labels{font-size:.75rem;line-height:1.33}.sbold-title-l{font-size:1.5rem;line-height:1.33}.sbold-title{font-size:1.25rem;line-height:1.4}.sbold-section-header{font-size:1rem;line-height:1.5}.sbold-list-header{font-size:.875rem;line-height:1.43}.sbold-Labels{font-size:.75rem;line-height:1.33}.body-small{font-size:.75rem;line-height:1.33}.body-small-l{font-size:.8125rem;line-height:1.33}.body-medium{font-size:.875rem;line-height:1.43}.body-large{font-size:1rem;line-height:1.5}.caption-strong-medium{font-size:.75rem;line-height:1.33}.caption-strong-large{font-size:.875rem;line-height:1.43}.caption-subdued-small{font-size:.625rem;line-height:1.2}.caption-subdued-medium{font-size:.75rem;line-height:1.33}.caption-subdued-large{font-size:.875rem;line-height:1.43}.ctas-a-small{font-size:.75rem;line-height:1.33}.ctas-a-medium{font-size:.875rem;line-height:1.43}.ctas-a-large{font-size:1rem;line-height:1.5}.ctas-btn-medium{font-weight:bold;font-size:.875rem;line-height:1.43}.overline-text-large{font-size:.875rem;line-height:1.43}.badge-small{font-size:.5rem}.badge-large{font-size:.625rem}.badge-x-large{font-size:1.25rem}@font-face{font-family:\"icomoon\";src:url(https://static.ambitionbox.com/_nuxt/fonts/f11b237.woff2) format(\"woff2\"),url(https://static.ambitionbox.com/_nuxt/fonts/773ebc0.woff) format(\"woff\"),url(https://static.ambitionbox.com/_nuxt/fonts/f63d06c.ttf) format(\"truetype\"),url(https://static.ambitionbox.com/_nuxt/img/9355c40.svg#icomoon) format(\"svg\"),url(https://static.ambitionbox.com/_nuxt/fonts/3af1e3e.eot#iefix) format(\"embedded-opentype\");font-weight:normal;font-style:normal;font-display:block}i{font-family:\"icomoon\" !important;speak:none;font-style:normal;font-weight:normal;font-variant:normal;text-transform:none;line-height:1;font-size:1.25rem;color:#5e6b92;-webkit-font-smoothing:antialiased;-moz-osx-font-smoothing:grayscale}.icon-external-link .path1:before{content:\"\\\\e916\";color:#fff}.icon-external-link .path2:before{content:\"\\\\e918\"}.icon-vacancies:before{content:\"\\\\e915\"}.icon-pin-outline:before{content:\"\\\\e912\"}.icon-work:before{content:\"\\\\e913\"}.icon-wallet:before{content:\"\\\\e914\"}.icon-company-selectedsvg .path1:before{content:\"\\\\e95b\";color:#c8d0f9}.icon-company-selectedsvg .path2:before{content:\"\\\\e95c\";margin-left:-1.375em;color:#5670fb}.icon-company-selectedsvg .path3:before{content:\"\\\\e95d\";margin-left:-1.375em;color:#fff}.icon-company-selectedsvg .path4:before{content:\"\\\\e95e\";margin-left:-1.375em;color:#5670fb}.icon-company-selectedsvg .path5:before{content:\"\\\\e95f\";margin-left:-1.375em;color:#5670fb}.icon-company-selectedsvg .path6:before{content:\"\\\\e960\";margin-left:-1.375em;color:#5670fb}.icon-company .path1:before{content:\"\\\\e93d\";color:#fff}.icon-company .path2:before{content:\"\\\\e93e\";margin-left:-1.375em;color:#5e6b92}.icon-company .path3:before{content:\"\\\\e93f\";margin-left:-1.375em;color:#fff}.icon-company .path4:before{content:\"\\\\e940\";margin-left:-1.375em;color:#5e6b92}.icon-company .path5:before{content:\"\\\\e941\";margin-left:-1.375em;color:#5e6b92}.icon-company .path6:before{content:\"\\\\e942\";margin-left:-1.375em;color:#5e6b92}.icon-company .path7:before{content:\"\\\\e943\";margin-left:-1.375em;color:#5e6b92}.icon-company .path8:before{content:\"\\\\e944\";margin-left:-1.375em;color:#5e6b92}.icon-company .path9:before{content:\"\\\\e945\";margin-left:-1.375em;color:#5e6b92}.icon-salary-selected .path1:before{content:\"\\\\e946\";color:#c8d0f9}.icon-salary-selected .path2:before{content:\"\\\\e947\";margin-left:-0.875em;color:#5670fb}.icon-salary-selected .path3:before{content:\"\\\\e948\";margin-left:-0.875em;color:#fff}.icon-salary-selected .path4:before{content:\"\\\\e949\";margin-left:-0.875em;color:#5670fb}.icon-salary-selected .path5:before{content:\"\\\\e94a\";margin-left:-0.875em;color:#5670fb}.icon-salary:before{content:\"\\\\e94b\";color:#5e6b92}.icon-review-selected .path1:before{content:\"\\\\e94c\";color:#c8d0f9}.icon-review-selected .path2:before{content:\"\\\\e94d\";margin-left:-1em;color:#5670fb}.icon-review-selected .path3:before{content:\"\\\\e94e\";margin-left:-1em;color:#5670fb}.icon-review-selected .path4:before{content:\"\\\\e94f\";margin-left:-1em;color:#5670fb}.icon-review:before{content:\"\\\\e950\";color:#5e6b92}.icon-home-selected .path1:before{content:\"\\\\e951\";color:#5670fb}.icon-home-selected .path2:before{content:\"\\\\e952\";margin-left:-1.375em;color:#ccd4fd}.icon-home-selected .path3:before{content:\"\\\\e953\";margin-left:-1.375em;color:#5670fb}.icon-home-selected .path4:before{content:\"\\\\e954\";margin-left:-1.375em;color:#fff}.icon-home-selected .path5:before{content:\"\\\\e955\";margin-left:-1.375em;color:#5670fb}.icon-home .path1:before{content:\"\\\\e956\";color:#5e6b92}.icon-home .path2:before{content:\"\\\\e957\";margin-left:-1.375em;color:#fff}.icon-home .path3:before{content:\"\\\\e958\";margin-left:-1.375em;color:#5e6b92}.icon-home .path4:before{content:\"\\\\e959\";margin-left:-1.375em;color:#fff}.icon-home .path5:before{content:\"\\\\e95a\";margin-left:-1.375em;color:#5e6b92}.icon-close:before{content:\"\\\\e931\";color:#97a0be}.icon-share:before{content:\"\\\\e92b\";color:#5e6b92}.icon-flag:before{content:\"\\\\e92c\";color:#5e6b92}.icon-verified:before{content:\"\\\\e92d\";color:#377e01}.icon-filter:before{content:\"\\\\e917\";color:#5e6b92}.icon-tick:before{content:\"\\\\e926\"}.icon-trust .path1:before{content:\"\\\\e929\";color:#5670fb}.icon-trust .path2:before{content:\"\\\\e92a\";margin-left:-1em;color:#fff}.icon-google-plus-lite:before{content:\"\\\\e90e\"}.icon-logout:before{content:\"\\\\e90f\"}.icon-user-silhouette:before{content:\"\\\\e910\"}.icon-linkedin:before{content:\"\\\\e901\"}.icon-twitter:before{content:\"\\\\e902\";color:#5e6b92}.icon-facebook:before{content:\"\\\\e900\";color:#5e6b92}.icon-star:before{content:\"\\\\e90c\"}.icon-access-time:before{content:\"\\\\e903\";color:#5e6b92}.icon-chevron-right:before{content:\"\\\\e904\";color:#5e6b92}.icon-company-placeholder .path1:before{content:\"\\\\e905\";color:#f6f7ff}.icon-company-placeholder .path2:before{content:\"\\\\e906\";margin-left:-1em;color:#5e6b92}.icon-company-placeholder .path3:before{content:\"\\\\e907\";margin-left:-1em;color:#5e6b92}.icon-domain:before{content:\"\\\\e908\";color:#5e6b92}.icon-pin-drop:before{content:\"\\\\e909\";color:#5e6b92}.icon-search:before{content:\"\\\\e90a\";color:#5e6b92}.icon-star-border:before{content:\"\\\\e90b\";color:#5e6b92}.icon-supervisor-account:before{content:\"\\\\e90d\";color:#5e6b92}.icon-google3:before{content:\"\\\\ea8a\"}.icon-google:before{content:\"\\\\e930\"}.icon-facebook-lite:before{content:\"\\\\ea90\"}.icon-linkedin-lite:before{content:\"\\\\eaca\"}.icon-star-half:before{content:\"\\\\e9d8\"}.icon-arrow-right:before{content:\"\\\\e911\"}.shadow-elevation-1{box-shadow:0 2px 6px -2px rgba(23,34,96,0.2);border:solid 1px #f5f7fd}.shadow-elevation-4{box-shadow:2px 6px 0 rgba(0,106,194,0.2)}.container,.container-two-col{width:100%;max-width:64rem;margin:0 auto}.container.maxWidthFix,.maxWidthFix.container-two-col{max-width:inherit;padding:0}@media (max-width: 1024px){.container,.container-two-col{margin:0;padding:0 1rem}}.container-two-col{display:flex}@media only screen and (max-width: 768px){.container-two-col{display:block;max-width:100%}}.container-two-col .col-left{flex:0 0 65.625%;max-width:65.625%;margin-right:1.953125%}@media only screen and (max-width: 768px){.container-two-col .col-left{flex:0 0 100%;max-width:100%;margin-right:0}}.container-two-col .col-right{flex:0 0 32.421875%;max-width:32.421875%}@media only screen and (max-width: 768px){.container-two-col .col-right{flex:0 0 100%;max-width:100%}}.block{display:block}.text-center{text-align:center}.text-right{text-align:right}.no-padd{padding:0}.container-left{max-width:64rem;margin:0 auto;position:relative}@media (max-width: 1024px){.container-left{margin:0;padding:0 1rem;padding-right:0}}.no-gutters-right>.col,.no-gutters-right>[class*=\"col-\"]{padding-right:0;padding-left:24px}@media screen and (min-width: 767px){.no-gutters-right>.col:nth-child(3n+1),.no-gutters-right>[class*=\"col-\"]:nth-child(3n+1){padding-left:0}}@media only screen and (max-width: 768px){.no-gutters-right>.col:nth-child(2n+1),.no-gutters-right>[class*=\"col-\"]:nth-child(2n+1){padding-left:0}}@media (max-width: 1024px){.no-gutters-right>.col,.no-gutters-right>[class*=\"col-\"]{padding-left:16px}}@media (max-width: 575px){.no-gutters-right>.col,.no-gutters-right>[class*=\"col-\"]{padding-left:0 !important}}.no-gutters-right-2n>[class*=\"col-\"]:nth-child(2n+2){padding-right:0;padding-left:34px}@media (max-width: 1024px){.no-gutters-right-2n>[class*=\"col-\"]:nth-child(2n+2){padding-left:24px}}@media (max-width: 575px){.no-gutters-right-2n>[class*=\"col-\"]:nth-child(2n+2){padding-left:0 !important}}.no-gutters-right-2n>[class*=\"col-\"]:nth-child(2n+1){padding-right:34px;padding-left:0}@media (max-width: 1024px){.no-gutters-right-2n>[class*=\"col-\"]:nth-child(2n+1){padding-right:24px}}@media (max-width: 575px){.no-gutters-right-2n>[class*=\"col-\"]:nth-child(2n+1){padding-right:0 !important}}.card-slider{display:flex;flex-direction:row;align-items:flex-start;height:auto !important;overflow-y:hidden;-webkit-overflow-scrolling:touch;scrollbar-width:none}.card-slider::-webkit-scrollbar{display:none}.card-slider>div,.card-slider>a{margin-right:20px}@media only screen and (max-width: 768px){.card-slider>div,.card-slider>a{margin-right:8px}}@media only screen and (max-width: 768px){.set-min-width .card-slider>.ab_card{min-width:50vw}}@media only screen and (max-width: 575px){.set-min-width .card-slider>.ab_card{min-width:80vw}}.shadow-buffer{padding-bottom:4px}.hidden_control{display:none !important}.slider_next{right:-1rem}@media (max-width: 1100px){.slider_next{right:0}}.slider_btns{width:2rem;height:2rem;position:absolute;opacity:0.85;border-radius:50%;top:calc(50% - 1rem);color:#757575;cursor:pointer;user-select:none;display:flex;justify-content:center;align-items:center;box-shadow:0 3px 8px 0 rgba(0,106,194,0.2);background-color:#fff}@media only screen and (max-width: 768px){.slider_btns{display:none}}.slider_btns:hover{opacity:1;color:#222;border:solid 1px #ebf0f6;background-color:#fff}.slider_btns i{font-size:24px}.slider_prev{left:-1rem}@media (max-width: 1100px){.slider_prev{left:0}}.slider_prev i,.slider_prev svg{transform:rotate(-180deg)}.flex-cont{display:flex;flex-wrap:wrap;justify-content:flex-start}@media only screen and (max-width: 768px){.flex-cont{justify-content:space-between}}@media screen and (min-width: 767px){.margin-bot-0-3n.visible:nth-last-child(-n+3),.margin-bot-0-3n:nth-last-child(-n+3){margin-bottom:0px;padding-bottom:0 !important}}@media screen and (min-width: 576px) and (max-width: 767px){.margin-bot-0-3n.visible:nth-last-child(-n+2),.margin-bot-0-3n:nth-last-child(-n+2){margin-bottom:0;padding-bottom:0 !important}}@media screen and (max-width: 576px){.margin-bot-0-3n.visible:last-child,.margin-bot-0-3n:last-child{margin-bottom:0;padding-bottom:0 !important}}@media screen and (min-width: 576px){.margin-bot-0-2n:nth-last-child(-n+2),.margin-bot-0-2n.visible:nth-last-child(-n+2){margin-bottom:0;padding-bottom:0 !important}}@media screen and (max-width: 576px){.margin-bot-0-2n:last-child,.margin-bot-0-2n.visible:last-child{margin-bottom:0;padding-bottom:0 !important}}.footer-mg-null{padding-bottom:2.5rem;margin-bottom:-3rem}.slide-right-enter,.slide-right-leave-to{-webkit-transform:translate3d(100%, 0, 0);transform:translate3d(100%, 0, 0)}.slide-right-enter-to,.slide-right-leave{-webkit-transform:translate3d(0, 0, 0);transform:translate3d(0, 0, 0)}.slide-right-enter-active,.slide-right-leave-active{transition:transform linear 100ms}.tray-enter{opacity:0}.tray-enter-to{opacity:1}.tray-enter-active{transition:opacity ease 500ms}.opacity-enter,.opacity-leave-to{opacity:0}.opacity-enter-to,.opacity-leave{opacity:1}.opacity-enter-active,.opacity-leave-active{transition:opacity linear 100ms}.rating-45{background:#377e01}.rating-4{background:#5ba829}.rating-35{background:#9acd32}.rating-3{background:#cdd614}.rating-25{background:#ffba01}.rating-2{background:#ff9a05}.rating-15{background:#ff6e2b}.rating-1{background:#ff4b2b}.rating-0{background:#bfbfbf}.star-rating-45{color:#377e01}.star-rating-4{color:#5ba829}.star-rating-35{color:#9acd32}.star-rating-3{color:#cdd614}.star-rating-25{color:#ffba01}.star-rating-2{color:#ff9a05}.star-rating-15{color:#ff6e2b}.star-rating-1{color:#ff4b2b}.star-rating-0{color:#bfbfbf}.custom-checkbox{position:absolute;opacity:0}.custom-checkbox+label{position:relative;cursor:pointer;padding:0;font-size:.875rem;line-height:1.43;color:#091e42;font-weight:normal}.custom-checkbox+label span{color:#97A0BE}.custom-checkbox+label:before{content:\\'\\';margin-right:10px;display:inline-block;vertical-align:text-top;width:15px;height:15px;border:2px solid #5E6B92;background:#fff;transition:background-color 0.15s ease-in}@media only screen and (max-width: 768px){.custom-checkbox+label:before{border-radius:2px;border:solid 1px #5E6B92}}.custom-checkbox:checked+label:before{background:#5670fb;border:2px solid #5670fb}@media only screen and (max-width: 768px){.custom-checkbox:checked+label:before{border-radius:2px;border:solid 1px #5670fb}}.custom-checkbox:disabled+label{color:#b8b8b8;cursor:auto}.custom-checkbox:disabled+label:before{box-shadow:none;background:#ddd}.custom-checkbox:checked+label:after{content:\\'\\';position:absolute;left:3px;top:7px;background:#fff;width:2px;height:2px;box-shadow:1px 0 0 #fff,3px 0 0 #fff,3px -2px 0 #fff,3px -4px 0 #fff,3px -6px 0 #fff,3px -8px 0 #fff;transform:rotate(45deg)}::-webkit-scrollbar{width:4px;height:4px;border-radius:14px}::-webkit-scrollbar-track{background:#fff}::-webkit-scrollbar-thumb{background:#dfe6ed}::-webkit-scrollbar-thumb:hover{background:#eee}@media only screen and (max-width: 768px){.noscrollbars-sm{scrollbar-width:none}.noscrollbars-sm::-webkit-scrollbar{display:none}}@media only screen and (max-width: 768px){.greyTablet{background-color:#f6f7ff}}.whiteDesktop{background-color:#fff}.whiteDesktopGreyMobile{background-color:#fff}@media only screen and (max-width: 768px){.whiteDesktopGreyMobile{background-color:#f6f7ff}}.transparentDesktop{background-color:transparent}.transparentDesktopWhiteMob{background-color:transparent;transition:background-color .3s ease}@media only screen and (max-width: 768px){.transparentDesktopWhiteMob{transition:none;background-color:#fff}}.shadow{box-shadow:0 2px 6px -2px rgba(0,106,194,0.2)}.floating-header{background-color:#fff !important;box-shadow:0 2px 6px -2px rgba(0,106,194,0.2)}@media only screen and (min-width: 1280px){.scrollUpHeader{transform:translateY(-4rem) !important}}@media only screen and (max-width: 768px){.scrollUpHeader{transform:translateY(-3.375rem) !important}}#layoutTypeahed{background-color:#fff;z-index:200;padding:0 1.25rem}@media screen and (max-width: 1024px){#layoutTypeahed{padding:0 1rem}}#layoutTypeahed.mobile{height:100vh;position:fixed;top:0;left:0;width:100%;z-index:200;overflow:hidden;transform:translateY(200vh);background-color:#f6f7ff}#layoutTypeahed.mobile.expanded{transform:none}#layoutHeaderWrapper{position:fixed;top:0;left:0;right:0;z-index:200;transform:translateY(0);transition:transform 300ms ease-in,background-color 300ms ease;-webkit-transition:transform 300ms ease-in,background-color 300ms ease}html,body{font-family:\\'proxima-nova\\', Arial, sans-serif;font-size:1rem;line-height:1.5;box-sizing:border-box;margin:0;padding:0;-webkit-tap-highlight-color:transparent}*,*:before,*:after{box-sizing:border-box;margin:0;padding:0}.section-margin-bottom{margin-bottom:2rem}@media only screen and (max-width: 768px){.section-margin-bottom{margin-bottom:1.75rem}}.mg-tb-38{margin-top:2.5rem}.no-mg-btm{margin-bottom:0}.mg-btm-20{margin-bottom:20px !important}.mg-btm-16{margin-bottom:16px}.mg-btm-24{margin-bottom:24px}.mg-btm-10{margin-bottom:10px}.mg-btm-8{margin-bottom:8px !important}.mg-top-4{margin-top:4px}.capitalize{text-transform:capitalize}input[type=\"search\"]::-webkit-search-decoration,input[type=\"search\"]::-webkit-search-cancel-button,input[type=\"search\"]::-webkit-search-results-button,input[type=\"search\"]::-webkit-search-results-decoration{display:none}.badge-purple{padding:2px 8px;display:inline-block;border-radius:12px;color:#2a47de;font-size:10px;font-weight:600;line-height:1.2;background-color:#e7eaff}.badge-orange{padding:1.2px 6.4px;height:1rem;border-radius:9px;background-color:#ff6e2b;color:#fff;font-size:.6875rem;font-weight:500;line-height:normal;margin-left:3px;display:inline-block;vertical-align:middle}.live-badge{width:2.625rem;height:1.125rem;font-size:.6875rem;font-weight:600;line-height:1.09;letter-spacing:normal;text-align:right;color:#fff;border-radius:.125rem;background-color:#ff6f30;display:inline-flex;align-items:center;padding:.3125rem .375rem .25rem .375rem;vertical-align:text-top;margin-left:.1875rem}.live-badge span{width:.25rem;height:.25rem;background-color:#fff;margin-left:.1875rem;border-radius:50%}.badge-orange{padding:.075rem .4rem;border-radius:.5625rem;background-color:#ff6e2b;color:#FFFFFF;font-size:0.6875rem;font-weight:500;line-height:normal;display:inline-block;vertical-align:middle;height:1rem;margin-left:.1875rem;box-sizing:border-box}.hide{display:none}.show{display:block}.show-flex{display:flex}.filter-by{display:flex;align-items:center;color:#5E6B92;font-size:.875rem;margin-right:.75rem}.filter-by img{margin-right:.25rem}.icon-star,.icon-star-border{font-size:19px}.icon-star-half{font-size:16px}.visible-sm{display:none}@media only screen and (max-width: 768px){.visible-sm{display:block}}.hidden-sm{display:block}@media only screen and (max-width: 768px){.hidden-sm{display:none}}.read-more{font-weight:bold;letter-spacing:normal;font-weight:600;cursor:pointer}.read-more:hover{color:#4158d4}.page-enter-active,.page-leave-active{transition:opacity .5s}.page-enter,.page-leave-to{opacity:0}.vue-notification-group{z-index:9999999 !important;top:30px !important}:invalid{box-shadow:none}:-moz-submit-invalid{box-shadow:none}:-moz-ui-invalid{box-shadow:none}.layout-enter-active,.layout-leave-active{transition:opacity .2s}.layout-enter,.layout-leave-active{opacity:0}.text-capitalize{text-transform:capitalize}.text-right{text-align:right}.inline{display:inline-block}.loading{background-image:linear-gradient(90deg, #f4f4f4 0px, rgba(229,229,229,0.8) 40px, #f4f4f4 80px);background-size:600px;animation:shine-lines 2s infinite ease-out}.line{height:14px;border-radius:7px}@keyframes shine-lines{0%{background-position:-100px}40%,100%{background-position:140px}}.badge-icon{background-color:#e59c05;font-size:10px;font-weight:500;line-height:normal;letter-spacing:normal;color:#ffffff;border-radius:50%;padding:2px 6px;margin:auto 5px auto 0px}.stickFilter{top:53px;left:0;right:0;background-color:#fff;z-index:100;transition:top 300ms ease-in;-webkit-transition:top 300ms ease-in}.stickFilter>*:last-child{position:relative}.stickFilter>*:last-child::after{position:absolute;content:\\'\\';right:-1rem;width:1rem;height:100%}.stickFilterSlideUp{position:fixed;box-shadow:0 2px 6px -2px rgba(0,106,194,0.2);top:0px}.stickFilterSlideUpReview{position:fixed;box-shadow:0 2px 6px -2px rgba(0,106,194,0.2);top:106px;border-top:solid 1px #ebf0f6}.stickFilterSlideDown{position:fixed;box-shadow:0 2px 6px -2px rgba(0,106,194,0.2);top:63px;border-top:solid 1px #ebf0f6}@media only screen and (max-width: 768px){.stickFilterSlideDown{top:53px}}main.card-arch{padding-top:1.75rem;border-radius:1.5rem 1.5rem 0 0;box-shadow:0 -4px 6px -2px rgba(0,106,194,0.09);margin-top:-1.5rem;overflow:hidden;background:#fff;border-top:solid 1px #ebf0f6}.stickFiltersUp{position:fixed;box-shadow:0 2px 6px -2px rgba(0,106,194,0.2);top:3.375rem;background-color:#fff;transition:top 300ms ease-in;z-index:100;translate:top;width:100%}.stickFiltersDown{position:fixed;box-shadow:0 2px 6px -2px rgba(0,106,194,0.2);top:6.625rem;background-color:#fff;transition:top 300ms ease-in;z-index:100;width:100%}.stickTabsUp{width:100%;position:fixed;top:0;left:0;z-index:100;transition:top 300ms ease-in}.stickTabsDown{width:100%;position:fixed;left:0;z-index:100;transition:top 300ms ease-in;top:8rem}@media only screen and (max-width: 768px){.stickTabsDown{top:3.25rem}}\\n\\n\\n.nuxt-progress {\\n  position: fixed;\\n  top: 0px;\\n  left: 0px;\\n  right: 0px;\\n  height: 3px;\\n  width: 0%;\\n  opacity: 1;\\n  transition: width 0.1s, opacity 0.4s;\\n  background-color: #5670fb;\\n  z-index: 999999;\\n}\\n.nuxt-progress.nuxt-progress-notransition {\\n  transition: none;\\n}\\n.nuxt-progress-failed {\\n  background-color: red;\\n}\\n\\n#routes-margin[data-v-4b0075a2]{padding-top:4rem}@media only screen and (max-width: 768px){#routes-margin[data-v-4b0075a2]{padding-top:3.375rem}}@media only screen and (max-width: 768px){.bottomShadow[data-v-4b0075a2]{box-shadow:0 2px 6px -2px rgba(0,106,194,0.2)}}\\n\\n.white-bg{background-color:#fff !important}.white-txt{color:#fff !important}.ab_header{width:100%}@media only screen and (max-width: 768px){.ab_header.grey{background-color:#f6f7ff}}@media only screen and (max-width: 768px){.ab_header{padding:0px;z-index:100}}.ab_header .container{margin:auto;display:flex;flex-direction:row;justify-content:space-between;align-items:center}.ab_header .navbar{height:64px;display:flex;justify-content:space-between;padding:0px 30px;width:100vw}@media only screen and (max-width: 768px){.ab_header .navbar{height:54px;padding:0px 10px;margin-bottom:0px}}@media screen and (max-width: 1024px){.ab_header .navbar{padding:0px 10px}}.ab_header .logo{text-decoration:none;display:flex;flex-direction:row;justify-content:center;align-items:center;padding:.625rem;margin-right:.75rem;margin-top:-.1875rem}@media only screen and (max-width: 768px){.ab_header .logo{margin-right:0;margin-top:0}}.ab_header .logo img{object-fit:cover;height:1.875rem}@media only screen and (max-width: 768px){.ab_header .logo img{height:1.25rem}}.ab_header .logo .text{font-size:1.2875rem;font-weight:bold;line-height:normal;letter-spacing:.02187rem;line-height:1.22;margin-left:.5rem}@media only screen and (max-width: 768px){.ab_header .logo .text{font-size:.83125rem;line-height:normal;letter-spacing:.01438rem}}.ab_header .right-container,.ab_header .left-container{display:flex;flex-direction:row;justify-content:center;align-items:center}.ab_header .right-container .nav-list-right,.ab_header .right-container .nav-list-left,.ab_header .left-container .nav-list-right,.ab_header .left-container .nav-list-left{display:flex;flex-direction:row;justify-content:center;align-items:center}.ab_header .right-container .nav-list-right .list-item,.ab_header .right-container .nav-list-left .list-item,.ab_header .left-container .nav-list-right .list-item,.ab_header .left-container .nav-list-left .list-item{display:inline-flex}@media only screen and (max-width: 768px){.ab_header .right-container .nav-list-right .list-item,.ab_header .right-container .nav-list-left .list-item,.ab_header .left-container .nav-list-right .list-item,.ab_header .left-container .nav-list-left .list-item{display:none}}.ab_header .right-container .nav-list-right .list-item .mg-top-1,.ab_header .right-container .nav-list-left .list-item .mg-top-1,.ab_header .left-container .nav-list-right .list-item .mg-top-1,.ab_header .left-container .nav-list-left .list-item .mg-top-1{margin-top:1px}.ab_header .right-container .nav-list-right .list-item.visible-xs,.ab_header .right-container .nav-list-left .list-item.visible-xs,.ab_header .left-container .nav-list-right .list-item.visible-xs,.ab_header .left-container .nav-list-left .list-item.visible-xs{display:none !important}@media only screen and (max-width: 768px){.ab_header .right-container .nav-list-right .list-item.visible-xs,.ab_header .right-container .nav-list-left .list-item.visible-xs,.ab_header .left-container .nav-list-right .list-item.visible-xs,.ab_header .left-container .nav-list-left .list-item.visible-xs{display:inline-flex !important}}.ab_header .right-container .nav-list-right .list-item a,.ab_header .right-container .nav-list-left .list-item a,.ab_header .left-container .nav-list-right .list-item a,.ab_header .left-container .nav-list-left .list-item a{text-decoration:none;padding:.6875rem;display:inline-flex;font-size:.875rem;font-weight:500;line-height:1.43;align-self:center;letter-spacing:normal;color:#1E223C;cursor:pointer}.ab_header .right-container .nav-list-right .list-item a .mg-top-2,.ab_header .right-container .nav-list-left .list-item a .mg-top-2,.ab_header .left-container .nav-list-right .list-item a .mg-top-2,.ab_header .left-container .nav-list-left .list-item a .mg-top-2{margin-top:2px}.ab_header .right-container .nav-list-right .list-item a.purple-btn,.ab_header .right-container .nav-list-left .list-item a.purple-btn,.ab_header .left-container .nav-list-right .list-item a.purple-btn,.ab_header .left-container .nav-list-left .list-item a.purple-btn{font-size:.875rem;font-weight:500;text-align:right;line-height:1.5;letter-spacing:normal;color:#5670fb;text-decoration:none}@media only screen and (max-width: 768px){.ab_header .right-container .nav-list-right .list-item a.purple-btn,.ab_header .right-container .nav-list-left .list-item a.purple-btn,.ab_header .left-container .nav-list-right .list-item a.purple-btn,.ab_header .left-container .nav-list-left .list-item a.purple-btn{font-weight:600}}@media screen and (max-width: 890px){.ab_header .right-container .nav-list-right .list-item a.purple-btn,.ab_header .right-container .nav-list-left .list-item a.purple-btn,.ab_header .left-container .nav-list-right .list-item a.purple-btn,.ab_header .left-container .nav-list-left .list-item a.purple-btn{text-align:left}}.ab_header .right-container .nav-list-right .list-item a.purple-btn:hover,.ab_header .right-container .nav-list-left .list-item a.purple-btn:hover,.ab_header .left-container .nav-list-right .list-item a.purple-btn:hover,.ab_header .left-container .nav-list-left .list-item a.purple-btn:hover{color:#4158d4}.ab_header .ic{position:relative;width:24px;height:22px;display:inline-block}.ab_header .ic .line.one{top:6px;transform-origin:right bottom}.ab_header .ic .line.two{top:11px}.ab_header .ic .line.thr{transform-origin:right top;top:16px}.ab_header .ic .line{position:absolute;left:3px;right:3px;height:1.3px;background:#5E6B92;outline:1px solid transparent}.ab_header .icon-search{font-size:1.25rem;margin-top:.0625rem}@media only screen and (max-width: 768px){.ab_header .right-container{flex-direction:row-reverse}}.ab_header .right-container .nav-list-right .list-item{position:relative}.ab_header .right-container .nav-list-right .list-item a{padding:.75rem}@media only screen and (max-width: 575px){.ab_header .right-container .nav-list-right .list-item a{padding:.625rem}}.ab_header .right-container .nav-list-right .list-item a.purple-btn{font-size:.875rem;font-weight:500;text-align:right;line-height:1.5;letter-spacing:normal;color:#5670fb;text-decoration:none}@media screen and (max-width: 890px){.ab_header .right-container .nav-list-right .list-item a.purple-btn{text-align:left}}@media only screen and (max-width: 575px){.ab_header .right-container .nav-list-right .list-item a.purple-btn{font-size:1rem}}.ab_header .right-container .nav-list-right .list-item a.purple-btn:hover{color:#4158d4}.ab_header .right-container .nav-list-right .list-item .login-btn{padding-right:1.5rem}.ab_header .right-container .nav-list-right .list-item .employer{padding-left:1.5rem}.ab_header .right-container .nav-list-right .list-item.border-right::after{width:.0625rem;position:absolute;right:0;content:\\'\\';top:calc(50% - 6px);background-color:#97A0BE;height:.75rem}@media only screen and (max-width: 768px){.ab_header .right-container .nav-list-right .list-item.border-right::after{top:calc(50% - 15px);background-color:#e9e8f9;height:1.875rem}}.ab_header .right-container .nav-list-right .list-item.border-right.white-br::after{background-color:#fff}.ab_header .right-container .nav-list-right .list-item .userinfo{display:flex;flex-direction:row;align-items:center;justify-content:center;padding-right:1.5rem}.ab_header .right-container .nav-list-right .list-item .userinfo .userimg{border-radius:50%;width:35px;margin-right:.625rem}.ab_header .right-container .nav-list-right .list-item:hover .dropdown{display:block}.ab_header .right-container .nav-list-right .list-item .dropdown{position:absolute;top:100%;left:.5rem;display:none;z-index:1000;box-shadow:0 2px 6px -2px rgba(0,106,194,0.2);border:1px solid #e9e8f9;background:#fff;padding:14px 0;border-radius:3px}.ab_header .right-container .nav-list-right .list-item .dropdown .a-row{display:flex;flex-direction:row;justify-content:space-between;align-items:center;padding:10px 24px;white-space:nowrap}.ab_header .right-container .nav-list-right .list-item .dropdown .a-row:hover{background-color:#f6f7ff}.ab_header .right-container .nav-list-right .list-item .dropdown .a-row .icon{font-size:0.9rem}.ab_header .right-container .nav-list-right .list-item .dropdown::after{content:\\'\\';position:absolute;top:calc(-0.2rem - 1px);left:1rem;transform:rotate(-45deg);width:0.4rem;height:0.4rem;background-color:white;border:solid 1px rgba(0,0,0,0.15);border-bottom:none;border-left:none}@media only screen and (max-width: 768px){.ab_header .left-container{flex-direction:row-reverse}}.ab_header .left-container .nav-list-left .list-item a{color:#5E6B92}.ab_header .left-container .nav-list-left .list-item a.router-link-exact-active,.ab_header .left-container .nav-list-left .list-item a.nuxt-link-active,.ab_header .left-container .nav-list-left .list-item a:hover{color:#1E223C}\\n\\n.ab_typeahead .twitter-typeahead{width:100%;position:static !important;padding:.75rem 0}@media only screen and (max-width: 768px){.ab_typeahead .twitter-typeahead{width:100%}}.ab_typeahead .twitter-typeahead .tt-menu{position:absolute;z-index:100;right:-2px !important;top:103% !important;left:-2px !important}.ab_typeahead .twitter-typeahead .tt-menu .tt-dataset{border-radius:0px 0px .25rem .25rem;box-shadow:0 9px 14px 0 rgba(88,95,135,0.1);border:solid 2px #a0a8c4;border-top:0;background-color:#fff;overflow-y:auto;overflow-x:hidden;max-height:12.5rem;height:100%}@media only screen and (max-width: 768px){.ab_typeahead .twitter-typeahead .tt-menu .tt-dataset{max-height:15.625rem}}.ab_typeahead .twitter-typeahead .tt-menu .tt-dataset .typeahed-header{display:flex;padding:6px 15px;justify-content:space-between;align-items:center}.ab_typeahead .twitter-typeahead .tt-menu .tt-dataset .typeahed-header p{color:#5E6B92;font-size:.75rem;font-weight:normal;line-height:1.43}.ab_typeahead .twitter-typeahead .tt-menu .tt-dataset .typeahed-header p:nth-child(2){cursor:pointer;display:flex}.ab_typeahead .twitter-typeahead .tt-menu .tt-dataset .typeahed-header p i{padding:0 !important;margin-left:.3125rem;font-size:1.0625rem}.ab_typeahead .twitter-typeahead .tt-menu .tt-dataset .suggestion_wrap{display:flex;padding:.75rem 1.5rem;box-shadow:0 9px 14px 0 rgba(88,95,135,0.1);border-top:solid 1px #ebf0f6;background-color:#fff;cursor:pointer}@media only screen and (max-width: 768px){.ab_typeahead .twitter-typeahead .tt-menu .tt-dataset .suggestion_wrap{padding:.75rem 1rem}}.ab_typeahead .twitter-typeahead .tt-menu .tt-dataset .suggestion_wrap:hover,.ab_typeahead .twitter-typeahead .tt-menu .tt-dataset .suggestion_wrap.tt-cursor{background-color:#f5f7fd}.ab_typeahead .twitter-typeahead .tt-menu .tt-dataset .suggestion_wrap:nth-child(1){border-top:0}.ab_typeahead .twitter-typeahead .tt-menu .tt-dataset .suggestion_wrap .logo_wrap img{width:2rem;height:2rem;margin-right:.75rem;object-fit:contain;border-radius:.125rem;border:solid 1px #f0f0f0}.ab_typeahead .twitter-typeahead .tt-menu .tt-dataset .suggestion_wrap .suggestion .top-row{display:flex;flex-wrap:wrap}@media only screen and (max-width: 768px){.ab_typeahead .twitter-typeahead .tt-menu .tt-dataset .suggestion_wrap .suggestion .top-row{display:unset}}.ab_typeahead .twitter-typeahead .tt-menu .tt-dataset .suggestion_wrap .suggestion .top-row .tt_text{font-size:1rem;font-weight:bold;line-height:1.5;letter-spacing:normal;color:#1E223C;margin-right:.75rem}@media only screen and (max-width: 768px){.ab_typeahead .twitter-typeahead .tt-menu .tt-dataset .suggestion_wrap .suggestion .top-row .tt_text{font-size:.875rem;margin-right:0;line-height:1.71}}.ab_typeahead .twitter-typeahead .tt-menu .tt-dataset .suggestion_wrap .suggestion .top-row .rating-wrapper{display:flex;align-items:center;line-height:1.33}@media only screen and (max-width: 768px){.ab_typeahead .twitter-typeahead .tt-menu .tt-dataset .suggestion_wrap .suggestion .top-row .rating-wrapper{margin-bottom:.375rem}}.ab_typeahead .twitter-typeahead .tt-menu .tt-dataset .suggestion_wrap .suggestion .top-row .rating-wrapper .rating{color:#fff;margin-right:.5rem;padding:.125rem .25rem;border-radius:.125rem;display:flex;width:2.1875rem;height:1rem;font-size:.625rem;align-items:center;justify-content:flex-end}@media only screen and (max-width: 768px){.ab_typeahead .twitter-typeahead .tt-menu .tt-dataset .suggestion_wrap .suggestion .top-row .rating-wrapper .rating{font-size:.625rem}}.ab_typeahead .twitter-typeahead .tt-menu .tt-dataset .suggestion_wrap .suggestion .top-row .rating-wrapper .rating i{width:.625rem;font-size:.8125rem;margin-right:.3125rem;color:#fff;padding:0px 1px;margin-bottom:1px}@media only screen and (max-width: 768px){.ab_typeahead .twitter-typeahead .tt-menu .tt-dataset .suggestion_wrap .suggestion .top-row .rating-wrapper .rating i{font-size:.6875rem}}.ab_typeahead .twitter-typeahead .tt-menu .tt-dataset .suggestion_wrap .suggestion .top-row .rating-wrapper .review-count{color:#97A0BE;font-size:.625rem}@media only screen and (max-width: 768px){.ab_typeahead .twitter-typeahead .tt-menu .tt-dataset .suggestion_wrap .suggestion .category{font-size:.625rem}}.ab_typeahead .twitter-typeahead .tt-menu .tt-dataset .tt-suggestion{padding:.75rem 1.5rem;direction:ltr}@media only screen and (max-width: 768px){.ab_typeahead .twitter-typeahead .tt-menu .tt-dataset .tt-suggestion{padding:.75rem 1rem}}.ab_typeahead .twitter-typeahead .tt-menu .tt-dataset .tt-suggestion .suggestion_wrap:nth-child(1){border-top:0}\\n\\n.border-inputbox{border-bottom-width:0;border-radius:4px 4px 0px 0px}.typeahead-title{padding-bottom:.625rem;padding-top:1.75rem;margin:0px}@media only screen and (max-width: 768px){.typeahead-title{font-size:1.125rem;padding-bottom:0rem;padding-top:.75rem}}#typeahead-wrapper{padding:10px 0px !important;display:flex}@media only screen and (max-width: 768px){#typeahead-wrapper{flex-wrap:wrap;justify-content:flex-end !important;padding:16px 0px 20px !important}}#typeahead-wrapper .search-company{width:580px;height:44px;border-radius:4px;border:solid 2px #E4E6EE;background-color:#fff;outline:none;display:flex;position:relative}#typeahead-wrapper .search-company i{padding:10px 8px 10px 24px}@media only screen and (max-width: 768px){#typeahead-wrapper .search-company i{padding:10px 8px 10px 16px}}@media only screen and (max-width: 768px){#typeahead-wrapper .search-company .right-search-icon{padding:10px}}@media only screen and (max-width: 768px){#typeahead-wrapper .search-company{width:100%;margin-bottom:12px}}#typeahead-wrapper .search-company input{width:100%;height:100%;border:0px;outline:none;direction:ltr}#typeahead-wrapper .search-company .component-input{width:100%;height:100%;font-size:.875rem;border:0px;outline:none}#typeahead-wrapper .search-company .component-input ::placeholder{color:#8993a4}@media only screen and (max-width: 768px){#typeahead-wrapper .search-company .component-input{font-size:.8125rem}}@media only screen and (max-width: 768px){#typeahead-wrapper .component-search-company{margin-bottom:8px;box-shadow:0 2px 6px -2px rgba(0,106,194,0.2);border:solid 1px #ebf0f6;background-color:#fff}}#typeahead-wrapper .dropdown{width:297px;margin:0px 8px}@media only screen and (max-width: 768px){#typeahead-wrapper .dropdown{width:100%;margin:0 0 12px 0}}#typeahead-wrapper .search-btn{width:131px;border-width:2px}#typeahead-wrapper .search-btn /deep/ span{font-size:1rem;line-height:1.25}@media only screen and (max-width: 768px){#typeahead-wrapper .search-btn{border-width:1px;width:121px;height:36px}}#typeahead-wrapper .close{margin-right:8px}#typeahead-wrapper .component-search-btn{height:44px;outline:none}#typeahead-wrapper .component-search-btn:active{background-color:#2f48cd}@media only screen and (max-width: 768px){#typeahead-wrapper .component-search-btn{margin-top:-.75rem;width:100%;height:40px}}\\n\\n.border-suggestion-box[data-v-68044ca0]{border:solid 2px #a0a8c4 !important;border-bottom:0px !important}.border-input-box[data-v-68044ca0]{overflow:unset !important;border-radius:4px 4px 0px 0px !important}.wrapper-dropdown[data-v-68044ca0]{position:relative;width:100%;border-radius:4px;border:solid 2px #E4E6EE;background-color:#fff;overflow:hidden}.wrapper-dropdown .input-box[data-v-68044ca0]{height:40px;cursor:pointer;display:flex;align-items:center;justify-content:space-between;padding:12px 24px}@media only screen and (max-width: 768px){.wrapper-dropdown .input-box[data-v-68044ca0]{padding:12px 16px}}.wrapper-dropdown .input-box p[data-v-68044ca0]{font-size:14px;font-weight:500;line-height:1.43;letter-spacing:normal;color:#1E223C}.wrapper-dropdown .input-box i[data-v-68044ca0]{transform:rotate(90deg)}.wrapper-dropdown .autocomplete-list[data-v-68044ca0]{position:absolute;left:-2px;right:-2px;box-shadow:0 9px 14px 0 rgba(88,95,135,0.1);background-color:#fff;list-style:none;overflow-y:hidden;max-height:0px;border:solid 2px #a0a8c4;border-top:0px;border-bottom:solid 2px #E4E6EE;z-index:2;transition:max-height 250ms ease-in;-webkit-transition:max-height 250ms ease-in;will-change:max-height}.wrapper-dropdown .autocomplete-list.list-open[data-v-68044ca0]{max-height:200px;height:auto;border:solid 2px #a0a8c4;border-top:0px;overflow-y:auto}.wrapper-dropdown .autocomplete-list li[data-v-68044ca0]{font-size:0.9rem;margin:0;padding:12px 24px;border-bottom:solid 1px #ebf0f6;background-color:#fff;cursor:pointer;user-select:none;font-size:14px;font-weight:normal;line-height:1.43;letter-spacing:normal;color:#1E223C}.wrapper-dropdown .autocomplete-list li[data-v-68044ca0]:hover{background-color:#f5f7fd}@media only screen and (max-width: 768px){.wrapper-dropdown .autocomplete-list li[data-v-68044ca0]{padding:12px 16px}}@media only screen and (max-width: 768px){.wrapper-dropdown .autocomplete-list li.padding-fix[data-v-68044ca0]{padding:12px}}@media only screen and (max-width: 768px){.component-wrapper-dropdown[data-v-68044ca0]{margin-bottom:20px;border-radius:2px;box-shadow:0 2px 6px -2px rgba(0,106,194,0.2);border:solid 1px #ebf0f6}}@media only screen and (max-width: 768px){.component-wrapper-dropdown .component-input-box[data-v-68044ca0]{padding:10px 10px 10px 12px}}\\n\\n.ab_btn{padding:7px 14px;min-width:120px;cursor:pointer;box-shadow:0 2px 6px -2px rgba(0,106,194,0.2);background-color:#5670fb;border:1px solid #5670fb;color:#fff;border-radius:4px;outline:none}.ab_btn span{color:#fff !important}.ab_btn span.largeText{font-size:1rem;font-weight:600}@media only screen and (max-width: 575px){.ab_btn span.largeText{font-size:.875rem;font-weight:bold}}.ab_btn:hover{background-color:#4158d4}.ab_btn:active{background-color:#2f48cd}.ab_btn.round{border-radius:24px}.ab_btn.invert{background-color:#fff;border-color:#5670fb;box-shadow:none}.ab_btn.invert span{color:#5670fb !important}.ab_btn.invert:hover{border-color:#4158d4}.ab_btn.invert:hover span{color:#4158d4 !important}.ab_btn.invert.active{border-color:#2f48cd}.ab_btn.invert.active span{color:#2f48cd !important}\\n\\n.filter-padding[data-v-6f97e305]{padding:20px 16px}.filters-listing[data-v-6f97e305]{display:flex;overflow-x:auto;overflow-y:hidden;padding-top:12px;padding-bottom:4px}.filters-listing i[data-v-6f97e305]{padding:0px 4px 0 0}.filters-listing .icon-chevron-right[data-v-6f97e305]{padding:0px;transform:rotate(90deg);font-size:1rem}.company-count-wrapper[data-v-6f97e305]{padding-top:20px;padding-bottom:20px}@media only screen and (max-width: 768px){.company-count-wrapper[data-v-6f97e305]{padding-top:0.5rem;padding-bottom:0}}.company-count-wrapper .title[data-v-6f97e305]{margin-top:10px;margin-bottom:2px;color:#1E223C}@media only screen and (max-width: 768px){.company-count-wrapper .title[data-v-6f97e305]{font-size:1.25rem;line-height:1.4;margin-top:0px}}.company-count-wrapper .subtitle[data-v-6f97e305]{margin-bottom:2px;color:#1E223C}@media only screen and (max-width: 768px){.company-count-wrapper .subtitle[data-v-6f97e305]{font-size:.875rem;line-height:1.43;margin-top:0px}}.company-listing-wrapper[data-v-6f97e305]{border-top:1px solid #E4E6EE;padding-top:32px}@media only screen and (max-width: 768px){.company-listing-wrapper[data-v-6f97e305]{border-top:0px;padding-top:0px}}.company-listing-wrapper .filters-wrapper[data-v-6f97e305]{padding-right:45px}@media only screen and (max-width: 768px){.company-listing-wrapper .filters-wrapper[data-v-6f97e305]{display:none}}.company-listing-wrapper .filters-wrapper .filtersCont[data-v-6f97e305]{overflow-y:hidden}.company-listing-wrapper .filters-wrapper .filtersCont .filter[data-v-6f97e305]:last-child{margin-bottom:0;border-bottom:0}.company-listing-wrapper .filters-wrapper .filter[data-v-6f97e305]{margin-bottom:32px;width:280px;padding-bottom:20px;border-bottom:1px solid #E4E6EE}@media only screen and (max-width: 768px){.company-listing-wrapper .filters-wrapper .filter[data-v-6f97e305]{margin-bottom:0;width:100% !important;border-bottom:0px}}@media (max-width: 900px) and (min-width: 768px){.company-listing-wrapper .filters-wrapper .filter[data-v-6f97e305]{width:230px}}.company-listing-wrapper .results-wrapper #cards-list[data-v-6f97e305]{text-align:right}@media only screen and (max-width: 768px){.company-listing-wrapper .results-wrapper #cards-list[data-v-6f97e305]{text-align:initial}}.company-listing-wrapper .results-wrapper #cards-list .sort-btn[data-v-6f97e305]{display:inline-block;margin-bottom:4px;position:relative}.company-listing-wrapper .results-wrapper #cards-list .sort-btn[data-v-6f97e305] .ab_chip{margin-right:0px}.company-listing-wrapper .results-wrapper #cards-list .sort-btn[data-v-6f97e305]::after{content:\\'\\';position:absolute;right:1.5rem;width:140px;right:0;height:50px}.company-listing-wrapper .results-wrapper #cards-list .sort-btn[data-v-6f97e305]:hover{background-color:transparent}.company-listing-wrapper .results-wrapper #cards-list .sort-btn:hover .sort-wrap[data-v-6f97e305]{display:block}.company-listing-wrapper .results-wrapper #cards-list .sort-btn i[data-v-6f97e305]{transform:rotate(90deg)}.company-listing-wrapper .results-wrapper #cards-list .sort-btn .sort-wrap[data-v-6f97e305]{display:none;position:absolute;top:2.3rem;right:0;width:180px;z-index:10;box-shadow:0 2px 6px -2px rgba(0,106,194,0.2);border:1px solid #e9e8f9;background:#fff;border-radius:3px;padding:4px 0}.company-listing-wrapper .results-wrapper #cards-list .sort-btn .sort-wrap[data-v-6f97e305]::after{content:\\'\\';position:absolute;top:calc(-0.3rem);right:2rem;transform:rotate(-45deg);width:0.4rem;height:0.4rem;background-color:#fff;border:solid 1px rgba(0,0,0,0.15);border-bottom:none;border-left:none}.company-listing-wrapper .results-wrapper #cards-list .sort-btn .sort-wrap a[data-v-6f97e305]{display:flex;flex-direction:row;justify-content:space-between;align-items:center;padding:10px 24px;white-space:nowrap;color:#000;cursor:pointer}.company-listing-wrapper .results-wrapper #cards-list .sort-btn .sort-wrap a.active[data-v-6f97e305]{background-color:#f6f7ff}.company-listing-wrapper .results-wrapper #cards-list .sort-btn .sort-wrap a[data-v-6f97e305]:hover{background-color:#f6f7ff}.company-listing-wrapper .results-wrapper .show-more-btn[data-v-6f97e305]{height:42px;border-radius:26px;border:solid 1px #E4E6EE;background-color:#fff;width:100%;cursor:pointer;outline:none;margin-top:4px;display:flex;align-items:center;justify-content:center;font-size:.875rem;font-weight:normal;line-height:1.43;letter-spacing:normal;color:#1E223C;overflow-anchor:none}.company-listing-wrapper .results-wrapper .show-more-btn i[data-v-6f97e305]{transform:rotate(90deg);margin-left:10px}\\n\\n.ab_chip{padding:.25rem .75rem;border-radius:14px;background:#fff;border:solid 1px #E4E6EE;display:inline-flex;cursor:pointer;margin-right:.5rem;text-decoration:none;margin-bottom:.5rem;white-space:nowrap;user-select:none;word-wrap:unset}.ab_chip:hover{background-color:#fffbf3}@media only screen and (max-width: 768px){.ab_chip:hover{background-color:unset}}.ab_chip.active{background-color:#fff5e4;border:solid 1px #f6d399}.ab_chip.colored{border:solid 1px #5670fb;color:#5670fb}.ab_chip.colored:hover{background-color:#f6f7ff}\\n\\n.ab-company-result-card{overflow:hidden;box-shadow:0 2px 6px -2px rgba(0,106,194,0.2);border-radius:.375rem;border:solid 1px #ebf0f6;background-color:#fff;margin-bottom:1rem;width:100%;cursor:pointer}.ab-company-result-card .company-content-wrapper{display:flex;flex-direction:column;padding:1.5rem 1.5rem 0 1.5rem}@media only screen and (max-width: 768px){.ab-company-result-card .company-content-wrapper{padding:1.25rem 1rem 0 1rem}}.ab-company-result-card .company-content-wrapper .company-content{display:flex}@media only screen and (max-width: 768px){.ab-company-result-card .company-content-wrapper .company-content{margin-bottom:.75rem}}.ab-company-result-card .company-content-wrapper .company-content .company-logo{width:6.25rem;height:6.25rem;margin-right:2rem}@media only screen and (max-width: 768px){.ab-company-result-card .company-content-wrapper .company-content .company-logo{width:3rem;height:3rem;margin-right:.625rem}}.ab-company-result-card .company-content-wrapper .company-content .company-logo img{width:6.25rem;height:6.25rem;border-radius:.25rem;border:solid 1px #f0f0f0;object-fit:contain}@media only screen and (max-width: 768px){.ab-company-result-card .company-content-wrapper .company-content .company-logo img{width:3rem;height:3rem}}.ab-company-result-card .company-content-wrapper .company-content .company-info-wrapper{width:100%}.ab-company-result-card .company-content-wrapper .company-content .company-info-wrapper .company-info{display:flex;justify-content:space-between;align-items:end;margin-bottom:.5rem}.ab-company-result-card .company-content-wrapper .company-content .company-info-wrapper .company-info .left{display:flex;flex:1;align-items:center}@media only screen and (max-width: 768px){.ab-company-result-card .company-content-wrapper .company-content .company-info-wrapper .company-info .left{flex-direction:column;align-items:inherit}}.ab-company-result-card .company-content-wrapper .company-content .company-info-wrapper .company-info .left .company-name{margin-right:.5rem;text-transform:capitalize;color:#1E223C}@media only screen and (max-width: 768px){.ab-company-result-card .company-content-wrapper .company-content .company-info-wrapper .company-info .left .company-name{font-size:1.125rem;margin-bottom:.25rem}}.ab-company-result-card .company-content-wrapper .company-content .company-info-wrapper .company-info .left .rating-wrapper{display:flex;align-items:center;line-height:1.33}.ab-company-result-card .company-content-wrapper .company-content .company-info-wrapper .company-info .left .rating-wrapper .rating{color:#fff;margin-right:.5rem;padding:.1875rem .3125rem;border-radius:.25rem;display:flex;width:2.625rem;height:1.25rem;font-size:0.75rem}.ab-company-result-card .company-content-wrapper .company-content .company-info-wrapper .company-info .left .rating-wrapper .rating i{width:.625rem;font-size:.8125rem;margin-right:.3125rem;color:#fff}.ab-company-result-card .company-content-wrapper .company-content .company-info-wrapper .company-info .left .rating-wrapper .review-count{color:#97A0BE}.ab-company-result-card .company-content-wrapper .company-content .company-info-wrapper .company-info .left .rating-wrapper .review-count:hover{color:#5670fb}.ab-company-result-card .company-content-wrapper .company-content .company-info-wrapper .company-info .follow-btn{min-width:4.625rem;padding:.3125rem 1rem}@media only screen and (max-width: 768px){.ab-company-result-card .company-content-wrapper .company-content .company-info-wrapper .company-info .follow-btn{min-width:3.6875rem;padding:.25rem .625rem}}.ab-company-result-card .company-content-wrapper .description{margin-top:8px;color:#1E223C;overflow:hidden;position:relative;line-height:1.33em;max-height:2.66em;text-align:justify;margin-right:-1em;padding-right:1em}.ab-company-result-card .company-content-wrapper .description:before{content:\\'...\\';position:absolute;right:0;bottom:2px}.ab-company-result-card .company-content-wrapper .description:after{content:\\'\\';position:absolute;right:0;width:1em;height:1em;margin-top:0.2em;background:#fff}.ab-company-result-card .company-action-center{display:flex;justify-content:space-between;margin-top:1.5rem;padding:0 1.5rem 1.25rem}@media only screen and (max-width: 768px){.ab-company-result-card .company-action-center{padding:0 1.25rem 1.25rem 1.25rem;margin-top:0}}.ab-company-result-card .company-action-center a{color:#1E223C;text-decoration:none}@media only screen and (max-width: 768px){.ab-company-result-card .company-action-center a{display:flex;flex-direction:column;justify-content:flex-start;font-size:.875rem;line-height:1.2}}.ab-company-result-card .company-action-center a:hover{color:#5670fb;font-weight:600}.ab-company-result-card .company-action-center a:hover span{color:#5E6B92}.ab-company-result-card .company-action-center a span{color:#1E223C;font-weight:500}@media only screen and (max-width: 768px){.ab-company-result-card .company-action-center a span{font-weight:600;line-height:1.2;margin-top:.125rem;display:inline-block}}.ab-company-result-card .company-action-center a span.dash{font-size:.75rem}.ab-company-result-card .company-basic-info{display:flex;flex-wrap:wrap;margin-bottom:16px}@media only screen and (max-width: 768px){.ab-company-result-card .company-basic-info{margin-bottom:12px}}.ab-company-result-card .company-basic-info .infoEntity{font-size:.875rem;color:#5E6B92;display:flex;width:50%;margin:4px 0px}@media only screen and (max-width: 575px){.ab-company-result-card .company-basic-info .infoEntity{width:100%;margin:0px}}.ab-company-result-card .company-basic-info .infoEntity i{width:20px;height:20px;margin-right:8px}.ab-company-result-card .chips-block{display:flex;margin-bottom:12px;flex-wrap:wrap}@media only screen and (max-width: 575px){.ab-company-result-card .chips-block{flex-wrap:nowrap;overflow-x:auto;scrollbar-width:none;-webkit-overflow-scrolling:touch}.ab-company-result-card .chips-block::-webkit-scrollbar{display:none}}\\n\\n#ab-paginator-wrapper{display:flex;justify-content:center;align-items:center;margin:40px 0px}#ab-paginator-wrapper .pagination-btns{display:flex}#ab-paginator-wrapper .pagination-btns a{text-decoration:none;display:flex}#ab-paginator-wrapper .pagination-btns .link-active{background-color:#5E6B92;color:#fff !important}#ab-paginator-wrapper .pagination-btns .page{min-width:32px;width:100%;height:32px;margin:0px 4px;border-radius:4px;display:flex;justify-content:center;align-items:center;cursor:pointer;transition:border-color 0.4s ease-in-out;padding:4px 8px;border:solid 1px #fff}#ab-paginator-wrapper .pagination-btns .page:hover:not(.link-active){border:solid 1px #5E6B92}#ab-paginator-wrapper .page-nav-btn{width:32px;height:32px;border:solid 1px #ebf0f6;background-color:#fff;border-radius:50%;cursor:pointer;margin:0px 8px;display:flex;align-items:center;justify-content:center}#ab-paginator-wrapper .page-nav-btn:hover{box-shadow:0 3px 8px 0 rgba(0,106,194,0.2);transition:150ms linear}#ab-paginator-wrapper .page-nav-btn .nav-btn{width:20px;height:20px}#ab-paginator-wrapper .page-nav-btn .prev{transform:rotate(180deg)}\\n\\n#ab-footer{background-color:#f6f7ff;padding-top:2rem;margin-top:3rem}#ab-footer .col{padding-left:0}#ab-footer .container .info .logo-wrap{display:flex;align-items:center}#ab-footer .container .info .logo-wrap .logo-img{width:1.7rem;height:1.9375rem;vertical-align:middle}#ab-footer .container .info .logo-wrap .logo-text{font-size:1.325rem;font-weight:700;letter-spacing:0.36px;color:#040a1e;margin-left:9px;vertical-align:middle}#ab-footer .container .info .title{margin:.9375rem auto .625rem;font-size:1rem;line-height:1.23}@media only screen and (max-width: 575px){#ab-footer .container .info .title{font-size:.8125rem;font-weight:normal;margin:.375rem auto 1rem}}#ab-footer .container .info .col{display:flex;flex-wrap:wrap;width:75%}@media only screen and (max-width: 768px){#ab-footer .container .info .col{padding:0;width:100%}}#ab-footer .container .info .col .item{min-width:22%}@media only screen and (max-width: 768px){#ab-footer .container .info .col .item{width:25%}}#ab-footer .container .info .col .item span{font-size:1.125rem;line-height:0.89}#ab-footer .container .info .col .item p{font-size:.875rem;line-height:1.07}@media only screen and (max-width: 768px){#ab-footer .container .info .col .item p{font-size:.75rem;font-weight:normal}}#ab-footer .btn{margin-bottom:.5rem}#ab-footer .btn.invert{background-color:transparent}@media only screen and (max-width: 768px){#ab-footer .btn{margin-right:.5rem;padding:.46875rem .4375rem}}#ab-footer .btn:nth-child(5){padding:.4375rem 1rem}@media only screen and (max-width: 768px){#ab-footer .btn:nth-child(5){padding:.46875rem .5625rem}}#ab-footer .btn span{font-size:.875rem;font-weight:600}@media only screen and (max-width: 768px){#ab-footer .btn span{font-size:.8125rem}}#ab-footer .footer-nav-section{padding:2.5rem 0 2rem;display:flex;flex-direction:row;justify-content:space-between;align-items:flex-start}@media only screen and (max-width: 768px){#ab-footer .footer-nav-section{align-items:center;flex-direction:column;margin-top:2.125rem;padding:1.5rem 0 0;border-top:solid 1px #e9e8f9}}#ab-footer .footer-nav-section .left-col{display:flex;min-width:75%;flex-direction:row;align-items:flex-start;align-content:flex-start;flex-wrap:wrap}@media only screen and (max-width: 768px){#ab-footer .footer-nav-section .left-col{min-width:100%}}#ab-footer .footer-nav-section .left-col .col{min-width:25%;padding-right:10px;display:flex;flex-direction:column}@media only screen and (max-width: 768px){#ab-footer .footer-nav-section .left-col .col{min-width:50%;margin-bottom:1.5rem}}#ab-footer .footer-nav-section .left-col .col .item{padding:4px 0px}@media only screen and (max-width: 768px){#ab-footer .footer-nav-section .left-col .col .item{padding:1px 0px}}#ab-footer .footer-nav-section .left-col a{text-decoration:none;color:#1E223C;line-height:1.71;padding:.25rem 0}#ab-footer .footer-nav-section .left-col a:hover{color:#5670fb}@media only screen and (max-width: 768px){#ab-footer .footer-nav-section .left-col a{padding:0}}#ab-footer .footer-nav-section .bold-title{font-size:1.125rem;margin-bottom:.375rem;display:inline-block;line-height:1.56}@media only screen and (max-width: 768px){#ab-footer .footer-nav-section .bold-title{font-size:1rem;line-height:1.75}}#ab-footer .footer-nav-section .right-col{display:flex;flex-direction:column;justify-content:center;align-items:center}#ab-footer .footer-nav-section .right-col .item{padding:.25rem 0}#ab-footer .social{margin-bottom:1.5625rem}@media only screen and (max-width: 768px){#ab-footer .social{margin-bottom:0}}#ab-footer .social img{margin-right:.375rem}#ab-footer .contribute-mobile{font-weight:600;padding:1.5625rem 1.5625rem 1.0625rem;background-color:#e9e8f9}#ab-footer .contribute-mobile :nth-child(3){padding:0.47rem 0.56rem}#ab-footer .contribute-mobile p{margin-bottom:.5rem}@media only screen and (max-width: 768px){#ab-footer a{font-size:.875rem}}#ab-footer .support-mobile{padding:1rem 1.5625rem;text-align:center}#ab-footer .support-mobile a{border-right:1px solid #E4E6EE;padding-right:.625rem;margin-right:.625rem;font-weight:600;color:#1E223C;white-space:nowrap}#ab-footer .support-mobile a:nth-child(3),#ab-footer .support-mobile a:last-child{border-right:none}#ab-footer .copyright-container{padding:1.25rem 0;position:relative;border-top:solid 1px #e9e8f9}@media only screen and (max-width: 575px){#ab-footer .copyright-container{border-top:none;padding:0 0 .4375rem}}#ab-footer .copyright-container p{text-align:left}@media only screen and (max-width: 768px){#ab-footer .copyright-container p{text-align:center;line-height:1.33}}\\n</style>\\n  </head>\\n  <body >\\n    <div data-server-rendered=\"true\" id=\"__nuxt\"><!----><div id=\"__layout\"><div data-v-4b0075a2><div id=\"layoutHeaderWrapper\" class=\"bottomShadow whiteDesktopGreyMobile\" data-v-4b0075a2><header id=\"ambitionbox-header\" class=\"ab_header mobile whiteDesktopGreyMobile\" data-v-4b0075a2><div class=\"navbar\"><div class=\"left-container\"><a href=\"https://www.ambitionbox.com\" class=\"logo\"><img src=\"https://static.ambitionbox.com/static/logo.svg\" alt=\"AmbitionBox\" height=\"32\" style=\"filter:unset;\"> <div class=\"text\" style=\"color:#040a1e;\">\\n\\t\\t\\t\\t\\t\\tAmbitionBox\\n\\t\\t\\t\\t\\t</div></a> <div class=\"nav-list-left\"><div class=\"list-item\"><a href=\"/list-of-companies\" title=\"List of companies in India\" class=\"router-link-active\">Companies</a></div> <div class=\"list-item\"><a href=\"/reviews\" title=\"Company reviews by employees\">Reviews</a></div> <div class=\"list-item\"><a href=\"/salaries\" title=\"Company Salaries\">Salaries</a></div> <div class=\"list-item\"><a href=\"https://www.ambitionbox.com/interviews\" style=\"color:;\">Interviews</a></div> <div class=\"list-item\"><a href=\"/salaries/take-home-salary-calculator\" title=\"Salary Calculator\">Salary Calculator</a></div> <div class=\"list-item\"><a href=\"/awards\" title=\"Awards by AmbitionBox and Naukri\">Awards\\n\\t\\t\\t\\t\\t\\t</a></div></div></div> <div class=\"right-container\"><div class=\"nav-list-right\"><div class=\"list-item\"><a href=\"/contribute\" class=\"purple-btn\">+Contribute</a></div> <div class=\"list-item border-right\"><a href=\"javascript:void(0)\" class=\"login-btn\">\\n\\t\\t\\t\\t\\t\\t\\tLogin\\n\\t\\t\\t\\t\\t\\t</a></div> <div class=\"list-item\"><a href=\"https://employer.ambitionbox.com\" target=\"_blank\" rel=\"noopener\" class=\"employer\" style=\"color:;\">\\n\\t\\t\\t\\t\\t\\t\\tEmployer?\\n\\t\\t\\t\\t\\t\\t</a></div> <div class=\"list-item visible-xs border-right\"><a href=\"javascript:void(0)\"><i class=\"icon-search\"></i></a></div> <div class=\"list-item visible-xs border-right\"><a href=\"javascript:void(0)\" class=\"purple-btn\">\\n\\t\\t\\t\\t\\t\\t\\tLogin\\n\\t\\t\\t\\t\\t\\t</a></div> <div class=\"list-item visible-xs\"><a class=\"open-menu\"><span class=\"ic\"><i class=\"line one\"></i> <i class=\"line two\"></i> <i class=\"line thr\"></i></span></a></div></div></div></div></header> <div id=\"layoutTypeahed\" data-v-4b0075a2><div placeholder=\"Search Company (eg. Adobe)\" default-drop-down-option=\"3\" class=\"ab_typeahead container container\" data-v-4b0075a2><!----> <div id=\"typeahead-wrapper\"><div id=\"typeahead\" class=\"search-company\"><i class=\"icon-search\"></i> <input title=\"Enter a company name\" name=\"CompanyName\" autocomplete=\"off\" type=\"search\" placeholder=\"Search Company (eg. Adobe)\" class=\"input\"> <!----></div> <div class=\"dropdown\"><div class=\"wrapper-dropdown\" data-v-68044ca0><div class=\"input-box\" data-v-68044ca0><p data-v-68044ca0>Company Overview</p> <i class=\"icon-chevron-right\" data-v-68044ca0></i></div> <ul class=\"autocomplete-list\" data-v-68044ca0><li rel=\"CompanyReviews\" style=\"display:;\" data-v-68044ca0>\\n\\t\\t\\tCompany Reviews\\n\\t\\t</li><li rel=\"CompanyJobs\" style=\"display:;\" data-v-68044ca0>\\n\\t\\t\\tCompany Jobs\\n\\t\\t</li><li rel=\"InterviewQuestions\" style=\"display:;\" data-v-68044ca0>\\n\\t\\t\\tInterview Questions\\n\\t\\t</li><li rel=\"CompanyOverview\" style=\"display:none;\" data-v-68044ca0>\\n\\t\\t\\tCompany Overview\\n\\t\\t</li><li rel=\"CompanySalaries\" style=\"display:;\" data-v-68044ca0>\\n\\t\\t\\tCompany Salaries\\n\\t\\t</li><li rel=\"CompanyBenefits\" style=\"display:;\" data-v-68044ca0>\\n\\t\\t\\tCompany Benefits\\n\\t\\t</li></ul></div></div> <button class=\"ab_btn close visible-sm invert\"><span class=\"ctas-btn-medium\">Close</span></button> <button class=\"ab_btn search-btn\"><span class=\"ctas-btn-medium\">Search</span></button></div></div></div></div> <div id=\"routes-margin\" data-v-4b0075a2><main data-v-6f97e305 data-v-4b0075a2><div class=\"company-count-wrapper container\" data-v-6f97e305><h1 class=\"bold-title-l title\" data-v-6f97e305>List of companies in India</h1> <p class=\"sbold-section-header subtitle\" data-v-6f97e305>\\n\\t\\t\\t486,333 unique\\n\\t\\t\\tcompanies found\\n\\t\\t</p></div> <div class=\"stickFilter\" data-v-6f97e305><!----></div> <div class=\"company-listing-wrapper\" data-v-6f97e305><div class=\"container\" data-v-6f97e305><div class=\"row\" data-v-6f97e305><aside id=\"filtersWrapper\" class=\"filters-wrapper col-lg-4 col-md-4\" data-v-6f97e305><div style=\"margin-bottom: 15px;padding:15px;box-shadow: 0 2px 6px -2px rgba(0, 106, 194, 0.2);border-radius: 6px;border: solid 1px #ebf0f6;\" data-v-6f97e305><svg viewBox=\"0 0 228 134\" version=\"1.1\" preserveAspectRatio=\"xMidYMid meet\" data-v-6f97e305 data-v-6f97e305><rect clip-path=\"url(#c8cssetxnl8)\" x=\"0\" y=\"0\" width=\"228\" height=\"134\" style=\"fill:url(#k1tnu12i3bo);\" data-v-6f97e305 data-v-6f97e305></rect><defs data-v-6f97e305 data-v-6f97e305><clipPath id=\"c8cssetxnl8\" data-v-6f97e305 data-v-6f97e305><circle cx=\"-206\" cy=\"188\" r=\"20\" data-v-6f97e305></circle> <rect x=\"35\" y=\"-3\" rx=\"0\" ry=\"0\" width=\"184\" height=\"18\" data-v-6f97e305></rect> <rect x=\"35\" y=\"26\" rx=\"0\" ry=\"0\" width=\"184\" height=\"18\" data-v-6f97e305></rect> <rect x=\"35\" y=\"58\" rx=\"0\" ry=\"0\" width=\"184\" height=\"18\" data-v-6f97e305></rect> <rect x=\"35\" y=\"87\" rx=\"0\" ry=\"0\" width=\"184\" height=\"18\" data-v-6f97e305></rect> <rect x=\"35\" y=\"117\" rx=\"0\" ry=\"0\" width=\"184\" height=\"18\" data-v-6f97e305></rect> <circle cx=\"15\" cy=\"9\" r=\"7\" data-v-6f97e305></circle> <circle cx=\"15\" cy=\"34\" r=\"7\" data-v-6f97e305></circle> <circle cx=\"15\" cy=\"67\" r=\"7\" data-v-6f97e305></circle> <circle cx=\"15\" cy=\"98\" r=\"7\" data-v-6f97e305></circle> <circle cx=\"15\" cy=\"126\" r=\"7\" data-v-6f97e305></circle></clipPath><linearGradient id=\"k1tnu12i3bo\" data-v-6f97e305 data-v-6f97e305><stop offset=\"0%\" stop-color=\"#f9f9f9\" stop-opacity=\"1\" data-v-6f97e305 data-v-6f97e305><animate attributeName=\"offset\" values=\"-2; 1\" dur=\"2s\" repeatCount=\"indefinite\" data-v-6f97e305 data-v-6f97e305></animate></stop><stop offset=\"50%\" stop-color=\"#ecebeb\" stop-opacity=\"1\" data-v-6f97e305 data-v-6f97e305><animate attributeName=\"offset\" values=\"-1.5; 1.5\" dur=\"2s\" repeatCount=\"indefinite\" data-v-6f97e305 data-v-6f97e305></animate></stop><stop offset=\"100%\" stop-color=\"#f9f9f9\" stop-opacity=\"1\" data-v-6f97e305 data-v-6f97e305><animate attributeName=\"offset\" values=\"-1; 2\" dur=\"2s\" repeatCount=\"indefinite\" data-v-6f97e305 data-v-6f97e305></animate></stop></linearGradient></defs></svg></div><div style=\"margin-bottom: 15px;padding:15px;box-shadow: 0 2px 6px -2px rgba(0, 106, 194, 0.2);border-radius: 6px;border: solid 1px #ebf0f6;\" data-v-6f97e305><svg viewBox=\"0 0 228 134\" version=\"1.1\" preserveAspectRatio=\"xMidYMid meet\" data-v-6f97e305 data-v-6f97e305><rect clip-path=\"url(#6f0epg3d49p)\" x=\"0\" y=\"0\" width=\"228\" height=\"134\" style=\"fill:url(#a4c2vmhfd6u);\" data-v-6f97e305 data-v-6f97e305></rect><defs data-v-6f97e305 data-v-6f97e305><clipPath id=\"6f0epg3d49p\" data-v-6f97e305 data-v-6f97e305><circle cx=\"-206\" cy=\"188\" r=\"20\" data-v-6f97e305></circle> <rect x=\"35\" y=\"-3\" rx=\"0\" ry=\"0\" width=\"184\" height=\"18\" data-v-6f97e305></rect> <rect x=\"35\" y=\"26\" rx=\"0\" ry=\"0\" width=\"184\" height=\"18\" data-v-6f97e305></rect> <rect x=\"35\" y=\"58\" rx=\"0\" ry=\"0\" width=\"184\" height=\"18\" data-v-6f97e305></rect> <rect x=\"35\" y=\"87\" rx=\"0\" ry=\"0\" width=\"184\" height=\"18\" data-v-6f97e305></rect> <rect x=\"35\" y=\"117\" rx=\"0\" ry=\"0\" width=\"184\" height=\"18\" data-v-6f97e305></rect> <circle cx=\"15\" cy=\"9\" r=\"7\" data-v-6f97e305></circle> <circle cx=\"15\" cy=\"34\" r=\"7\" data-v-6f97e305></circle> <circle cx=\"15\" cy=\"67\" r=\"7\" data-v-6f97e305></circle> <circle cx=\"15\" cy=\"98\" r=\"7\" data-v-6f97e305></circle> <circle cx=\"15\" cy=\"126\" r=\"7\" data-v-6f97e305></circle></clipPath><linearGradient id=\"a4c2vmhfd6u\" data-v-6f97e305 data-v-6f97e305><stop offset=\"0%\" stop-color=\"#f9f9f9\" stop-opacity=\"1\" data-v-6f97e305 data-v-6f97e305><animate attributeName=\"offset\" values=\"-2; 1\" dur=\"2s\" repeatCount=\"indefinite\" data-v-6f97e305 data-v-6f97e305></animate></stop><stop offset=\"50%\" stop-color=\"#ecebeb\" stop-opacity=\"1\" data-v-6f97e305 data-v-6f97e305><animate attributeName=\"offset\" values=\"-1.5; 1.5\" dur=\"2s\" repeatCount=\"indefinite\" data-v-6f97e305 data-v-6f97e305></animate></stop><stop offset=\"100%\" stop-color=\"#f9f9f9\" stop-opacity=\"1\" data-v-6f97e305 data-v-6f97e305><animate attributeName=\"offset\" values=\"-1; 2\" dur=\"2s\" repeatCount=\"indefinite\" data-v-6f97e305 data-v-6f97e305></animate></stop></linearGradient></defs></svg></div><div style=\"margin-bottom: 15px;padding:15px;box-shadow: 0 2px 6px -2px rgba(0, 106, 194, 0.2);border-radius: 6px;border: solid 1px #ebf0f6;\" data-v-6f97e305><svg viewBox=\"0 0 228 134\" version=\"1.1\" preserveAspectRatio=\"xMidYMid meet\" data-v-6f97e305 data-v-6f97e305><rect clip-path=\"url(#6qnhyp42b8s)\" x=\"0\" y=\"0\" width=\"228\" height=\"134\" style=\"fill:url(#42ez3p93e7m);\" data-v-6f97e305 data-v-6f97e305></rect><defs data-v-6f97e305 data-v-6f97e305><clipPath id=\"6qnhyp42b8s\" data-v-6f97e305 data-v-6f97e305><circle cx=\"-206\" cy=\"188\" r=\"20\" data-v-6f97e305></circle> <rect x=\"35\" y=\"-3\" rx=\"0\" ry=\"0\" width=\"184\" height=\"18\" data-v-6f97e305></rect> <rect x=\"35\" y=\"26\" rx=\"0\" ry=\"0\" width=\"184\" height=\"18\" data-v-6f97e305></rect> <rect x=\"35\" y=\"58\" rx=\"0\" ry=\"0\" width=\"184\" height=\"18\" data-v-6f97e305></rect> <rect x=\"35\" y=\"87\" rx=\"0\" ry=\"0\" width=\"184\" height=\"18\" data-v-6f97e305></rect> <rect x=\"35\" y=\"117\" rx=\"0\" ry=\"0\" width=\"184\" height=\"18\" data-v-6f97e305></rect> <circle cx=\"15\" cy=\"9\" r=\"7\" data-v-6f97e305></circle> <circle cx=\"15\" cy=\"34\" r=\"7\" data-v-6f97e305></circle> <circle cx=\"15\" cy=\"67\" r=\"7\" data-v-6f97e305></circle> <circle cx=\"15\" cy=\"98\" r=\"7\" data-v-6f97e305></circle> <circle cx=\"15\" cy=\"126\" r=\"7\" data-v-6f97e305></circle></clipPath><linearGradient id=\"42ez3p93e7m\" data-v-6f97e305 data-v-6f97e305><stop offset=\"0%\" stop-color=\"#f9f9f9\" stop-opacity=\"1\" data-v-6f97e305 data-v-6f97e305><animate attributeName=\"offset\" values=\"-2; 1\" dur=\"2s\" repeatCount=\"indefinite\" data-v-6f97e305 data-v-6f97e305></animate></stop><stop offset=\"50%\" stop-color=\"#ecebeb\" stop-opacity=\"1\" data-v-6f97e305 data-v-6f97e305><animate attributeName=\"offset\" values=\"-1.5; 1.5\" dur=\"2s\" repeatCount=\"indefinite\" data-v-6f97e305 data-v-6f97e305></animate></stop><stop offset=\"100%\" stop-color=\"#f9f9f9\" stop-opacity=\"1\" data-v-6f97e305 data-v-6f97e305><animate attributeName=\"offset\" values=\"-1; 2\" dur=\"2s\" repeatCount=\"indefinite\" data-v-6f97e305 data-v-6f97e305></animate></stop></linearGradient></defs></svg></div></aside> <section class=\"results-wrapper col-lg-8 col-md-12 col-sm-12 col-12\" data-v-6f97e305><div id=\"cards-list\" data-v-6f97e305><div class=\"sort-btn\" data-v-6f97e305><div class=\"ab_chip body-medium\" data-v-6f97e305><p class=\"sbold-list-header\" data-v-6f97e305>Sort By:\\xa0</p> <p class=\"bold-list-header show-flex\" data-v-6f97e305>\\n\\t\\t\\t\\t\\t\\t\\t\\t\\tPopular\\n\\t\\t\\t\\t\\t\\t\\t\\t\\t<i class=\"icon-chevron-right\" data-v-6f97e305></i></p></div> <!----></div> <div itemscope=\"itemscope\" itemtype=\"http://schema.org/ItemList\" data-v-6f97e305><meta itemprop=\"numberOfItems\" content=\"30\" data-v-6f97e305> <meta itemprop=\"name\" content=\"List of companies in India\" data-v-6f97e305> <meta itemprop=\"url\" content=\"https://www.ambitionbox.com/list-of-companies?page=1\" data-v-6f97e305> <div itemprop=\"itemListElement\" itemscope=\"itemscope\" itemtype=\"http://schema.org/ListItem\" class=\"ab-company-result-card\" data-v-6f97e305><meta itemprop=\"position\" content=\"1\"> <meta itemprop=\"name\" content=\"TCS\"> <meta itemprop=\"alternateName\" content=\"Tata Consultancy Services\"> <meta itemprop=\"url\" content=\"https://www.ambitionbox.com/overview/tcs-overview\"> <meta itemprop=\"image\" content=\"https://static.ambitionbox.com/alpha/company/photos/logos/tcs.jpg\"> <div class=\"company-content-wrapper\"><div class=\"company-content\"><div class=\"company-logo\"><img data-src=\"https://static.ambitionbox.com/alpha/company/photos/logos/tcs.jpg\" src=\"https://static.ambitionbox.com/static/icons/company-placeholder.svg\" alt=\"Tata Consultancy Services logo\" onerror=\"this.onerror=null;this.src=\\'/static/icons/company-placeholder.svg\\';\" class=\"lazy\"></div> <div class=\"company-info-wrapper\"><div class=\"company-info\"><div class=\"left\"><a href=\"/overview/tcs-overview\"><h2 title=\"TCS\" class=\"company-name bold-title-l\">\\n\\t\\t\\t\\t\\t\\t\\t\\tTCS\\n\\t\\t\\t\\t\\t\\t\\t</h2></a> <div class=\"rating-wrapper\"><p class=\"rating badge-large rating-4\"><i class=\"icon icon-star\"></i>\\n\\t\\t\\t\\t\\t\\t\\t\\t4.0\\n\\t\\t\\t\\t\\t\\t\\t</p> <a href=\"https://www.ambitionbox.com/reviews/tcs-reviews\" class=\"review-count sbold-Labels\">\\n\\t\\t\\t\\t\\t\\t\\t\\t(17.7k Reviews)\\n\\t\\t\\t\\t\\t\\t\\t</a></div></div> <button class=\"ab_btn follow-btn invert round\"><span class=\"ctas-btn-medium\">Follow</span></button></div> <div class=\"company-basic-info\"><p class=\"infoEntity sbold-list-header\"><i class=\"icon-domain\"></i>\\n\\t\\t\\t\\t\\t\\tPublic\\n\\t\\t\\t\\t\\t</p> <p class=\"infoEntity sbold-list-header\"><i class=\"icon-pin-drop\"></i>\\n\\t\\t\\t\\t\\t\\tMumbai,Maharashtra + 165 more\\n\\t\\t\\t\\t\\t</p> <p class=\"infoEntity sbold-list-header\"><i class=\"icon-access-time\"></i>\\n\\t\\t\\t\\t\\t\\t52 years old\\n\\t\\t\\t\\t\\t</p> <!----></div> <div class=\"chips-block\"><a href=\"/it-services-and-consulting-companies-in-india\" data-filter-name=\"chips_Company-Tags_it-services-and-consulting\" title=\"IT Services &amp; Consulting companies in India\" class=\"ab_chip body-medium\">\\n\\t\\t\\t\\t\\t\\tIT Services &amp; Consulting\\n\\t\\t\\t\\t\\t</a><a href=\"/fortune500-companies-in-india\" data-filter-name=\"chips_Company-Tags_fortune500\" title=\"Fortune500 companies in India\" class=\"ab_chip body-medium\">\\n\\t\\t\\t\\t\\t\\tFortune500\\n\\t\\t\\t\\t\\t</a><a href=\"/forbesglobal2000-companies-in-india\" data-filter-name=\"chips_Company-Tags_forbesglobal2000\" title=\"Forbes Global 2000 companies in India\" class=\"ab_chip body-medium\">\\n\\t\\t\\t\\t\\t\\tForbes Global 2000\\n\\t\\t\\t\\t\\t</a><a href=\"/public-companies-in-india\" data-filter-name=\"chips_Company-Tags_public\" title=\"Public companies in India\" class=\"ab_chip body-medium\">\\n\\t\\t\\t\\t\\t\\tPublic\\n\\t\\t\\t\\t\\t</a></div></div></div> <!----> <p itemprop=\"description\" class=\"description body-small\">\\n\\t\\t\\t\\tTata Consultancy Services is an IT services, consulting and business solutions organisation that has been partnering with the world’s largest businesses in their transformation journeys for the last 50 years. \\n\\nA part of the Tata group, India\\'s largest multinational business group, TCS has over 436,000 of the world’s best-trained consultants in 46 countries. The company is listed on the BSE (formerly Bombay Stock Exchange) and the NSE (National Stock Exchange) in India. \\n\\nTCS\\'\\u200b proactive stance on climate change and award winning work with communities across the world have earned it a place in leading sustainability indices such as the Dow Jones Sustainability Index (DJSI), MSCI Global Sustainability Index and the FTSE4Good Emerging Index. \\n\\n\\t\\t\\t</p></div> <div class=\"company-action-center\"><a href=\"/overview/tcs-overview\" title=\"TCS Overview\" class=\"body-medium\">\\n\\t\\t\\tAbout\\n\\t\\t\\t<!----></a><a href=\"/reviews/tcs-reviews\" title=\"TCS Reviews\" class=\"body-medium\">\\n\\t\\t\\tReviews\\n\\t\\t\\t<span class=\"caption-subdued-large\">\\n\\t\\t\\t\\t17.7k\\n\\t\\t\\t</span></a><a title=\"TCS Salaries\" href=\"https://www.ambitionbox.com/salaries/tcs-salaries\" class=\"body-medium\">\\n\\t\\t\\tSalaries\\n\\t\\t\\t<span class=\"caption-subdued-large\">\\n\\t\\t\\t\\t173.9k\\n\\t\\t\\t</span></a><a title=\"TCS Interviews\" href=\"https://www.ambitionbox.com/interviews/tcs-interview-questions\" class=\"body-medium\">\\n\\t\\t\\tInterviews\\n\\t\\t\\t<span class=\"caption-subdued-large\">\\n\\t\\t\\t\\t736\\n\\t\\t\\t</span></a><a href=\"/jobs/tcs-jobs\" title=\"TCS Jobs\" class=\"body-medium\">\\n\\t\\t\\tJobs\\n\\t\\t\\t<span class=\"caption-subdued-large\">\\n\\t\\t\\t\\t261\\n\\t\\t\\t</span></a></div></div><div itemprop=\"itemListElement\" itemscope=\"itemscope\" itemtype=\"http://schema.org/ListItem\" class=\"ab-company-result-card\" data-v-6f97e305><meta itemprop=\"position\" content=\"2\"> <meta itemprop=\"name\" content=\"Accenture\"> <meta itemprop=\"alternateName\" content=\"Accenture overview\"> <meta itemprop=\"url\" content=\"https://www.ambitionbox.com/overview/accenture-overview\"> <meta itemprop=\"image\" content=\"https://static.ambitionbox.com/alpha/company/photos/logos/accenture.jpg\"> <div class=\"company-content-wrapper\"><div class=\"company-content\"><div class=\"company-logo\"><img data-src=\"https://static.ambitionbox.com/alpha/company/photos/logos/accenture.jpg\" src=\"https://static.ambitionbox.com/static/icons/company-placeholder.svg\" alt=\"Accenture logo\" onerror=\"this.onerror=null;this.src=\\'/static/icons/company-placeholder.svg\\';\" class=\"lazy\"></div> <div class=\"company-info-wrapper\"><div class=\"company-info\"><div class=\"left\"><a href=\"/overview/accenture-overview\"><h2 title=\"Accenture\" class=\"company-name bold-title-l\">\\n\\t\\t\\t\\t\\t\\t\\t\\tAccenture\\n\\t\\t\\t\\t\\t\\t\\t</h2></a> <div class=\"rating-wrapper\"><p class=\"rating badge-large rating-4\"><i class=\"icon icon-star\"></i>\\n\\t\\t\\t\\t\\t\\t\\t\\t4.0\\n\\t\\t\\t\\t\\t\\t\\t</p> <a href=\"https://www.ambitionbox.com/reviews/accenture-reviews\" class=\"review-count sbold-Labels\">\\n\\t\\t\\t\\t\\t\\t\\t\\t(15.5k Reviews)\\n\\t\\t\\t\\t\\t\\t\\t</a></div></div> <button class=\"ab_btn follow-btn invert round\"><span class=\"ctas-btn-medium\">Follow</span></button></div> <div class=\"company-basic-info\"><p class=\"infoEntity sbold-list-header\"><i class=\"icon-domain\"></i>\\n\\t\\t\\t\\t\\t\\tPrivate\\n\\t\\t\\t\\t\\t</p> <p class=\"infoEntity sbold-list-header\"><i class=\"icon-pin-drop\"></i>\\n\\t\\t\\t\\t\\t\\tDublin + 95 more\\n\\t\\t\\t\\t\\t</p> <p class=\"infoEntity sbold-list-header\"><i class=\"icon-access-time\"></i>\\n\\t\\t\\t\\t\\t\\t31 years old\\n\\t\\t\\t\\t\\t</p> <p class=\"infoEntity sbold-list-header\"><i class=\"icon-supervisor-account\"></i>\\n\\t\\t\\t\\t\\t\\t10000+ employees\\n\\t\\t\\t\\t\\t</p></div> <div class=\"chips-block\"><a href=\"/consulting-companies-in-india\" data-filter-name=\"chips_Company-Tags_consulting\" title=\"Consulting companies in India\" class=\"ab_chip body-medium\">\\n\\t\\t\\t\\t\\t\\tConsulting\\n\\t\\t\\t\\t\\t</a><a href=\"/it-or-ites-companies-in-india\" data-filter-name=\"chips_Company-Tags_it-or-ites\" title=\"IT / ITES companies in India\" class=\"ab_chip body-medium\">\\n\\t\\t\\t\\t\\t\\tIT / ITES\\n\\t\\t\\t\\t\\t</a><a href=\"/mnc-companies-in-india\" data-filter-name=\"chips_Company-Tags_mnc\" title=\"MNC companies in India\" class=\"ab_chip body-medium\">\\n\\t\\t\\t\\t\\t\\tMNC\\n\\t\\t\\t\\t\\t</a><a href=\"/forbesglobal2000-companies-in-india\" data-filter-name=\"chips_Company-Tags_forbesglobal2000\" title=\"Forbes Global 2000 companies in India\" class=\"ab_chip body-medium\">\\n\\t\\t\\t\\t\\t\\tForbes Global 2000\\n\\t\\t\\t\\t\\t</a></div></div></div> <!----> <p itemprop=\"description\" class=\"description body-small\">\\n\\t\\t\\t\\tAccenture is a leading global professional services company, providing a broad range of services and solutions in strategy, consulting, digital, technology and operations. Combining unmatched experience and specialized skills across more than 40 industries and all business functions – underpinned by the world’s largest delivery network – Accenture works at the intersection of business and technology to help clients improve their performance and create sustainable value for their stakeholders. With 449,000 people serving clients in more than 120 countries, Accenture drives innovation to improve the way the world works and lives. Visit us at www.accenture.com.\\n\\t\\t\\t</p></div> <div class=\"company-action-center\"><a href=\"/overview/accenture-overview\" title=\"Accenture Overview\" class=\"body-medium\">\\n\\t\\t\\tAbout\\n\\t\\t\\t<!----></a><a href=\"/reviews/accenture-reviews\" title=\"Accenture Reviews\" class=\"body-medium\">\\n\\t\\t\\tReviews\\n\\t\\t\\t<span class=\"caption-subdued-large\">\\n\\t\\t\\t\\t15.5k\\n\\t\\t\\t</span></a><a title=\"Accenture Salaries\" href=\"https://www.ambitionbox.com/salaries/accenture-salaries\" class=\"body-medium\">\\n\\t\\t\\tSalaries\\n\\t\\t\\t<span class=\"caption-subdued-large\">\\n\\t\\t\\t\\t118.9k\\n\\t\\t\\t</span></a><a title=\"Accenture Interviews\" href=\"https://www.ambitionbox.com/interviews/accenture-interview-questions\" class=\"body-medium\">\\n\\t\\t\\tInterviews\\n\\t\\t\\t<span class=\"caption-subdued-large\">\\n\\t\\t\\t\\t311\\n\\t\\t\\t</span></a><a href=\"/jobs/accenture-jobs\" title=\"Accenture Jobs\" class=\"body-medium\">\\n\\t\\t\\tJobs\\n\\t\\t\\t<span class=\"caption-subdued-large\">\\n\\t\\t\\t\\t7.4k\\n\\t\\t\\t</span></a></div></div><div itemprop=\"itemListElement\" itemscope=\"itemscope\" itemtype=\"http://schema.org/ListItem\" class=\"ab-company-result-card\" data-v-6f97e305><meta itemprop=\"position\" content=\"3\"> <meta itemprop=\"name\" content=\"ICICI Bank\"> <meta itemprop=\"alternateName\" content=\"ICICI Bank overview\"> <meta itemprop=\"url\" content=\"https://www.ambitionbox.com/overview/icici-bank-overview\"> <meta itemprop=\"image\" content=\"https://static.ambitionbox.com/alpha/company/photos/logos/icici_bank.jpg\"> <div class=\"company-content-wrapper\"><div class=\"company-content\"><div class=\"company-logo\"><img data-src=\"https://static.ambitionbox.com/alpha/company/photos/logos/icici_bank.jpg\" src=\"https://static.ambitionbox.com/static/icons/company-placeholder.svg\" alt=\"ICICI Bank logo\" onerror=\"this.onerror=null;this.src=\\'/static/icons/company-placeholder.svg\\';\" class=\"lazy\"></div> <div class=\"company-info-wrapper\"><div class=\"company-info\"><div class=\"left\"><a href=\"/overview/icici-bank-overview\"><h2 title=\"ICICI Bank\" class=\"company-name bold-title-l\">\\n\\t\\t\\t\\t\\t\\t\\t\\tICICI Bank\\n\\t\\t\\t\\t\\t\\t\\t</h2></a> <div class=\"rating-wrapper\"><p class=\"rating badge-large rating-4\"><i class=\"icon icon-star\"></i>\\n\\t\\t\\t\\t\\t\\t\\t\\t4.1\\n\\t\\t\\t\\t\\t\\t\\t</p> <a href=\"https://www.ambitionbox.com/reviews/icici-bank-reviews\" class=\"review-count sbold-Labels\">\\n\\t\\t\\t\\t\\t\\t\\t\\t(14.3k Reviews)\\n\\t\\t\\t\\t\\t\\t\\t</a></div></div> <button class=\"ab_btn follow-btn invert round\"><span class=\"ctas-btn-medium\">Follow</span></button></div> <div class=\"company-basic-info\"><p class=\"infoEntity sbold-list-header\"><i class=\"icon-domain\"></i>\\n\\t\\t\\t\\t\\t\\tPublic\\n\\t\\t\\t\\t\\t</p> <p class=\"infoEntity sbold-list-header\"><i class=\"icon-pin-drop\"></i>\\n\\t\\t\\t\\t\\t\\tMumbai + 728 more\\n\\t\\t\\t\\t\\t</p> <p class=\"infoEntity sbold-list-header\"><i class=\"icon-access-time\"></i>\\n\\t\\t\\t\\t\\t\\t26 years old\\n\\t\\t\\t\\t\\t</p> <p class=\"infoEntity sbold-list-header\"><i class=\"icon-supervisor-account\"></i>\\n\\t\\t\\t\\t\\t\\t10000+ employees\\n\\t\\t\\t\\t\\t</p></div> <div class=\"chips-block\"><a href=\"/banking-or-insurance-or-accounting-companies-in-india\" data-filter-name=\"chips_Company-Tags_banking-or-insurance-or-accounting\" title=\"Banking / Insurance / Accounting companies in India\" class=\"ab_chip body-medium\">\\n\\t\\t\\t\\t\\t\\tBanking / Insurance / Accounting\\n\\t\\t\\t\\t\\t</a><a href=\"/financial-services-companies-in-india\" data-filter-name=\"chips_Company-Tags_financial-services\" title=\"Financial Services companies in India\" class=\"ab_chip body-medium\">\\n\\t\\t\\t\\t\\t\\tFinancial Services\\n\\t\\t\\t\\t\\t</a><a href=\"/mnc-companies-in-india\" data-filter-name=\"chips_Company-Tags_mnc\" title=\"MNC companies in India\" class=\"ab_chip body-medium\">\\n\\t\\t\\t\\t\\t\\tMNC\\n\\t\\t\\t\\t\\t</a><a href=\"/fortune500-companies-in-india\" data-filter-name=\"chips_Company-Tags_fortune500\" title=\"Fortune500 companies in India\" class=\"ab_chip body-medium\">\\n\\t\\t\\t\\t\\t\\tFortune500\\n\\t\\t\\t\\t\\t</a><a href=\"/forbesglobal2000-companies-in-india\" data-filter-name=\"chips_Company-Tags_forbesglobal2000\" title=\"Forbes Global 2000 companies in India\" class=\"ab_chip body-medium\">\\n\\t\\t\\t\\t\\t\\tForbes Global 2000\\n\\t\\t\\t\\t\\t</a><a href=\"/public-companies-in-india\" data-filter-name=\"chips_Company-Tags_public\" title=\"Public companies in India\" class=\"ab_chip body-medium\">\\n\\t\\t\\t\\t\\t\\tPublic\\n\\t\\t\\t\\t\\t</a><a href=\"/list-of-companies?CompanyLocation=mumbai\" data-filter-name=\"chips_Company-Tags_mumbai\" title=\"Companies in Mumbai\" class=\"ab_chip body-medium\">\\n\\t\\t\\t\\t\\t\\tMumbai\\n\\t\\t\\t\\t\\t</a></div></div></div> <!----> <p itemprop=\"description\" class=\"description body-small\">\\n\\t\\t\\t\\tICICI Bank is India\\'s largest private sector bank with total consolidated assets of Rs. 11,242.81 billion (US$ 172.5 billion) at March 31, 2018 and profit after tax of Rs. 67.77 billion (US$ 1.0 billion) for the year ended March 31, 2018. \\n\\nICICI Bank currently has a network of 4,867 Branches and 14,367 ATMs across India.\\n\\nICICI Bank offers a wide range of banking products and financial services to corporate and retail customers through a variety of delivery channels and through its specialised subsidiaries in the areas of investment banking, life and non-life insurance, venture capital and asset management.\\n\\t\\t\\t</p></div> <div class=\"company-action-center\"><a href=\"/overview/icici-bank-overview\" title=\"ICICI Bank Overview\" class=\"body-medium\">\\n\\t\\t\\tAbout\\n\\t\\t\\t<!----></a><a href=\"/reviews/icici-bank-reviews\" title=\"ICICI Bank Reviews\" class=\"body-medium\">\\n\\t\\t\\tReviews\\n\\t\\t\\t<span class=\"caption-subdued-large\">\\n\\t\\t\\t\\t14.3k\\n\\t\\t\\t</span></a><a title=\"ICICI Bank Salaries\" href=\"https://www.ambitionbox.com/salaries/icici-bank-salaries\" class=\"body-medium\">\\n\\t\\t\\tSalaries\\n\\t\\t\\t<span class=\"caption-subdued-large\">\\n\\t\\t\\t\\t52.9k\\n\\t\\t\\t</span></a><a title=\"ICICI Bank Interviews\" href=\"https://www.ambitionbox.com/interviews/icici-bank-interview-questions\" class=\"body-medium\">\\n\\t\\t\\tInterviews\\n\\t\\t\\t<span class=\"caption-subdued-large\">\\n\\t\\t\\t\\t101\\n\\t\\t\\t</span></a><a href=\"/jobs/icici-bank-jobs\" title=\"ICICI Bank Jobs\" class=\"body-medium\">\\n\\t\\t\\tJobs\\n\\t\\t\\t<span class=\"caption-subdued-large\">\\n\\t\\t\\t\\t33\\n\\t\\t\\t</span></a></div></div><div itemprop=\"itemListElement\" itemscope=\"itemscope\" itemtype=\"http://schema.org/ListItem\" class=\"ab-company-result-card\" data-v-6f97e305><meta itemprop=\"position\" content=\"4\"> <meta itemprop=\"name\" content=\"Cognizant\"> <meta itemprop=\"alternateName\" content=\"Cognizant overview\"> <meta itemprop=\"url\" content=\"https://www.ambitionbox.com/overview/cognizant-overview\"> <meta itemprop=\"image\" content=\"https://static.ambitionbox.com/alpha/company/photos/logos/cognizant-technology-solutions.jpg\"> <div class=\"company-content-wrapper\"><div class=\"company-content\"><div class=\"company-logo\"><img data-src=\"https://static.ambitionbox.com/alpha/company/photos/logos/cognizant-technology-solutions.jpg\" src=\"https://static.ambitionbox.com/static/icons/company-placeholder.svg\" alt=\"Cognizant logo\" onerror=\"this.onerror=null;this.src=\\'/static/icons/company-placeholder.svg\\';\" class=\"lazy\"></div> <div class=\"company-info-wrapper\"><div class=\"company-info\"><div class=\"left\"><a href=\"/overview/cognizant-overview\"><h2 title=\"Cognizant\" class=\"company-name bold-title-l\">\\n\\t\\t\\t\\t\\t\\t\\t\\tCognizant\\n\\t\\t\\t\\t\\t\\t\\t</h2></a> <div class=\"rating-wrapper\"><p class=\"rating badge-large rating-35\"><i class=\"icon icon-star\"></i>\\n\\t\\t\\t\\t\\t\\t\\t\\t3.9\\n\\t\\t\\t\\t\\t\\t\\t</p> <a href=\"https://www.ambitionbox.com/reviews/cognizant-reviews\" class=\"review-count sbold-Labels\">\\n\\t\\t\\t\\t\\t\\t\\t\\t(13.3k Reviews)\\n\\t\\t\\t\\t\\t\\t\\t</a></div></div> <button class=\"ab_btn follow-btn invert round\"><span class=\"ctas-btn-medium\">Follow</span></button></div> <div class=\"company-basic-info\"><p class=\"infoEntity sbold-list-header\"><i class=\"icon-domain\"></i>\\n\\t\\t\\t\\t\\t\\tPrivate\\n\\t\\t\\t\\t\\t</p> <p class=\"infoEntity sbold-list-header\"><i class=\"icon-pin-drop\"></i>\\n\\t\\t\\t\\t\\t\\tTeaneck + 48 more\\n\\t\\t\\t\\t\\t</p> <p class=\"infoEntity sbold-list-header\"><i class=\"icon-access-time\"></i>\\n\\t\\t\\t\\t\\t\\t26 years old\\n\\t\\t\\t\\t\\t</p> <p class=\"infoEntity sbold-list-header\"><i class=\"icon-supervisor-account\"></i>\\n\\t\\t\\t\\t\\t\\t10000+ employees\\n\\t\\t\\t\\t\\t</p></div> <div class=\"chips-block\"><a href=\"/it-or-ites-companies-in-india\" data-filter-name=\"chips_Company-Tags_it-or-ites\" title=\"IT / ITES companies in India\" class=\"ab_chip body-medium\">\\n\\t\\t\\t\\t\\t\\tIT / ITES\\n\\t\\t\\t\\t\\t</a><a href=\"/mnc-companies-in-india\" data-filter-name=\"chips_Company-Tags_mnc\" title=\"MNC companies in India\" class=\"ab_chip body-medium\">\\n\\t\\t\\t\\t\\t\\tMNC\\n\\t\\t\\t\\t\\t</a><a href=\"/forbesglobal2000-companies-in-india\" data-filter-name=\"chips_Company-Tags_forbesglobal2000\" title=\"Forbes Global 2000 companies in India\" class=\"ab_chip body-medium\">\\n\\t\\t\\t\\t\\t\\tForbes Global 2000\\n\\t\\t\\t\\t\\t</a></div></div></div> <!----> <p itemprop=\"description\" class=\"description body-small\">\\n\\t\\t\\t\\tCognizant (NASDAQ-100: CTSH) is one of the world’s leading professional services companies,\\ntransforming clients’ business, operating and technology models for the digital era. Our unique industry-based, consultative approach helps many of the best-known organizations in every industry and geography envision, build and run more innovative and efficient businesses.\\nFounded in 1994 as a technology development arm of The Dun &amp; Bradstreet Corporation, we were spun off as an independent company in 1996, and have worked closely with large organizations to help them build stronger businesses ever since. Today, Cognizant specializes in helping some of the world’s most established companies to stay the most loved brands in today’s fast-changing technology landscape by advancing every aspect of how they serve their customers: digitizing their products, services and customer experiences; automating their business processes; and modernizing their technology infrastructures\\n\\t\\t\\t</p></div> <div class=\"company-action-center\"><a href=\"/overview/cognizant-overview\" title=\"Cognizant Overview\" class=\"body-medium\">\\n\\t\\t\\tAbout\\n\\t\\t\\t<!----></a><a href=\"/reviews/cognizant-reviews\" title=\"Cognizant Reviews\" class=\"body-medium\">\\n\\t\\t\\tReviews\\n\\t\\t\\t<span class=\"caption-subdued-large\">\\n\\t\\t\\t\\t13.3k\\n\\t\\t\\t</span></a><a title=\"Cognizant Salaries\" href=\"https://www.ambitionbox.com/salaries/cognizant-salaries\" class=\"body-medium\">\\n\\t\\t\\tSalaries\\n\\t\\t\\t<span class=\"caption-subdued-large\">\\n\\t\\t\\t\\t129.1k\\n\\t\\t\\t</span></a><a title=\"Cognizant Interviews\" href=\"https://www.ambitionbox.com/interviews/cognizant-interview-questions\" class=\"body-medium\">\\n\\t\\t\\tInterviews\\n\\t\\t\\t<span class=\"caption-subdued-large\">\\n\\t\\t\\t\\t240\\n\\t\\t\\t</span></a><a href=\"/jobs/cognizant-jobs\" title=\"Cognizant Jobs\" class=\"body-medium\">\\n\\t\\t\\tJobs\\n\\t\\t\\t<span class=\"caption-subdued-large\">\\n\\t\\t\\t\\t1.4k\\n\\t\\t\\t</span></a></div></div><div itemprop=\"itemListElement\" itemscope=\"itemscope\" itemtype=\"http://schema.org/ListItem\" class=\"ab-company-result-card\" data-v-6f97e305><meta itemprop=\"position\" content=\"5\"> <meta itemprop=\"name\" content=\"HDFC Bank\"> <meta itemprop=\"alternateName\" content=\"HDFC Bank overview\"> <meta itemprop=\"url\" content=\"https://www.ambitionbox.com/overview/hdfc-bank-overview\"> <meta itemprop=\"image\" content=\"https://static.ambitionbox.com/alpha/company/photos/logos/hdfc.jpg\"> <div class=\"company-content-wrapper\"><div class=\"company-content\"><div class=\"company-logo\"><img data-src=\"https://static.ambitionbox.com/alpha/company/photos/logos/hdfc.jpg\" src=\"https://static.ambitionbox.com/static/icons/company-placeholder.svg\" alt=\"HDFC Bank logo\" onerror=\"this.onerror=null;this.src=\\'/static/icons/company-placeholder.svg\\';\" class=\"lazy\"></div> <div class=\"company-info-wrapper\"><div class=\"company-info\"><div class=\"left\"><a href=\"/overview/hdfc-bank-overview\"><h2 title=\"HDFC Bank\" class=\"company-name bold-title-l\">\\n\\t\\t\\t\\t\\t\\t\\t\\tHDFC Bank\\n\\t\\t\\t\\t\\t\\t\\t</h2></a> <div class=\"rating-wrapper\"><p class=\"rating badge-large rating-4\"><i class=\"icon icon-star\"></i>\\n\\t\\t\\t\\t\\t\\t\\t\\t4.0\\n\\t\\t\\t\\t\\t\\t\\t</p> <a href=\"https://www.ambitionbox.com/reviews/hdfc-bank-reviews\" class=\"review-count sbold-Labels\">\\n\\t\\t\\t\\t\\t\\t\\t\\t(12.5k Reviews)\\n\\t\\t\\t\\t\\t\\t\\t</a></div></div> <button class=\"ab_btn follow-btn invert round\"><span class=\"ctas-btn-medium\">Follow</span></button></div> <div class=\"company-basic-info\"><p class=\"infoEntity sbold-list-header\"><i class=\"icon-domain\"></i>\\n\\t\\t\\t\\t\\t\\tPublic\\n\\t\\t\\t\\t\\t</p> <p class=\"infoEntity sbold-list-header\"><i class=\"icon-pin-drop\"></i>\\n\\t\\t\\t\\t\\t\\tMumbai,Maharashtra + 726 more\\n\\t\\t\\t\\t\\t</p> <p class=\"infoEntity sbold-list-header\"><i class=\"icon-access-time\"></i>\\n\\t\\t\\t\\t\\t\\t26 years old\\n\\t\\t\\t\\t\\t</p> <!----></div> <div class=\"chips-block\"><a href=\"/financial-services-companies-in-india\" data-filter-name=\"chips_Company-Tags_financial-services\" title=\"Financial Services companies in India\" class=\"ab_chip body-medium\">\\n\\t\\t\\t\\t\\t\\tFinancial Services\\n\\t\\t\\t\\t\\t</a><a href=\"/banking-companies-in-india\" data-filter-name=\"chips_Company-Tags_banking\" title=\"Banking companies in India\" class=\"ab_chip body-medium\">\\n\\t\\t\\t\\t\\t\\tBanking\\n\\t\\t\\t\\t\\t</a><a href=\"/insurance-companies-in-india\" data-filter-name=\"chips_Company-Tags_insurance\" title=\"Insurance companies in India\" class=\"ab_chip body-medium\">\\n\\t\\t\\t\\t\\t\\tInsurance\\n\\t\\t\\t\\t\\t</a><a href=\"/fortune500-companies-in-india\" data-filter-name=\"chips_Company-Tags_fortune500\" title=\"Fortune500 companies in India\" class=\"ab_chip body-medium\">\\n\\t\\t\\t\\t\\t\\tFortune500\\n\\t\\t\\t\\t\\t</a><a href=\"/forbesglobal2000-companies-in-india\" data-filter-name=\"chips_Company-Tags_forbesglobal2000\" title=\"Forbes Global 2000 companies in India\" class=\"ab_chip body-medium\">\\n\\t\\t\\t\\t\\t\\tForbes Global 2000\\n\\t\\t\\t\\t\\t</a><a href=\"/public-companies-in-india\" data-filter-name=\"chips_Company-Tags_public\" title=\"Public companies in India\" class=\"ab_chip body-medium\">\\n\\t\\t\\t\\t\\t\\tPublic\\n\\t\\t\\t\\t\\t</a></div></div></div> <!----> <p itemprop=\"description\" class=\"description body-small\">\\n\\t\\t\\t\\tHDFC Bank is one of India’s leading private banks and was among the first to receive approval from the Reserve Bank of India (RBI) to set up a private sector bank in 1994.\\n\\nToday, HDFC Bank has a banking network of 5,314 branches and 13,640  ATMs spread across 2,768 cities and towns.\\n\\nHDFC Bank offers a diverse range of financial products and banking services to customers through a growing branch and ATM network and digital channels such as Netbanking, Phonebanking and MobileBanking.\\n\\t\\t\\t</p></div> <div class=\"company-action-center\"><a href=\"/overview/hdfc-bank-overview\" title=\"HDFC Bank Overview\" class=\"body-medium\">\\n\\t\\t\\tAbout\\n\\t\\t\\t<!----></a><a href=\"/reviews/hdfc-bank-reviews\" title=\"HDFC Bank Reviews\" class=\"body-medium\">\\n\\t\\t\\tReviews\\n\\t\\t\\t<span class=\"caption-subdued-large\">\\n\\t\\t\\t\\t12.5k\\n\\t\\t\\t</span></a><a title=\"HDFC Bank Salaries\" href=\"https://www.ambitionbox.com/salaries/hdfc-bank-salaries\" class=\"body-medium\">\\n\\t\\t\\tSalaries\\n\\t\\t\\t<span class=\"caption-subdued-large\">\\n\\t\\t\\t\\t51k\\n\\t\\t\\t</span></a><a title=\"HDFC Bank Interviews\" href=\"https://www.ambitionbox.com/interviews/hdfc-bank-interview-questions\" class=\"body-medium\">\\n\\t\\t\\tInterviews\\n\\t\\t\\t<span class=\"caption-subdued-large\">\\n\\t\\t\\t\\t112\\n\\t\\t\\t</span></a><a href=\"/jobs/hdfc-bank-jobs\" title=\"HDFC Bank Jobs\" class=\"body-medium\">\\n\\t\\t\\tJobs\\n\\t\\t\\t<span class=\"caption-subdued-large\">\\n\\t\\t\\t\\t116\\n\\t\\t\\t</span></a></div></div><div itemprop=\"itemListElement\" itemscope=\"itemscope\" itemtype=\"http://schema.org/ListItem\" class=\"ab-company-result-card\" data-v-6f97e305><meta itemprop=\"position\" content=\"6\"> <meta itemprop=\"name\" content=\"Capgemini\"> <meta itemprop=\"alternateName\" content=\"Capgemini overview\"> <meta itemprop=\"url\" content=\"https://www.ambitionbox.com/overview/capgemini-overview\"> <meta itemprop=\"image\" content=\"https://static.ambitionbox.com/alpha/company/photos/logos/capgemini.jpg\"> <div class=\"company-content-wrapper\"><div class=\"company-content\"><div class=\"company-logo\"><img data-src=\"https://static.ambitionbox.com/alpha/company/photos/logos/capgemini.jpg\" src=\"https://static.ambitionbox.com/static/icons/company-placeholder.svg\" alt=\"Capgemini logo\" onerror=\"this.onerror=null;this.src=\\'/static/icons/company-placeholder.svg\\';\" class=\"lazy\"></div> <div class=\"company-info-wrapper\"><div class=\"company-info\"><div class=\"left\"><a href=\"/overview/capgemini-overview\"><h2 title=\"Capgemini\" class=\"company-name bold-title-l\">\\n\\t\\t\\t\\t\\t\\t\\t\\tCapgemini\\n\\t\\t\\t\\t\\t\\t\\t</h2></a> <div class=\"rating-wrapper\"><p class=\"rating badge-large rating-3\"><i class=\"icon icon-star\"></i>\\n\\t\\t\\t\\t\\t\\t\\t\\t3.4\\n\\t\\t\\t\\t\\t\\t\\t</p> <a href=\"https://www.ambitionbox.com/reviews/capgemini-reviews\" class=\"review-count sbold-Labels\">\\n\\t\\t\\t\\t\\t\\t\\t\\t(10.3k Reviews)\\n\\t\\t\\t\\t\\t\\t\\t</a></div></div> <button class=\"ab_btn follow-btn invert round\"><span class=\"ctas-btn-medium\">Follow</span></button></div> <div class=\"company-basic-info\"><p class=\"infoEntity sbold-list-header\"><i class=\"icon-domain\"></i>\\n\\t\\t\\t\\t\\t\\tPrivate\\n\\t\\t\\t\\t\\t</p> <p class=\"infoEntity sbold-list-header\"><i class=\"icon-pin-drop\"></i>\\n\\t\\t\\t\\t\\t\\tParis + 47 more\\n\\t\\t\\t\\t\\t</p> <p class=\"infoEntity sbold-list-header\"><i class=\"icon-access-time\"></i>\\n\\t\\t\\t\\t\\t\\t53 years old\\n\\t\\t\\t\\t\\t</p> <p class=\"infoEntity sbold-list-header\"><i class=\"icon-supervisor-account\"></i>\\n\\t\\t\\t\\t\\t\\t10000+ employees\\n\\t\\t\\t\\t\\t</p></div> <div class=\"chips-block\"><a href=\"/computer-software-companies-in-india\" data-filter-name=\"chips_Company-Tags_computer-software\" title=\"Computer Software companies in India\" class=\"ab_chip body-medium\">\\n\\t\\t\\t\\t\\t\\tComputer Software\\n\\t\\t\\t\\t\\t</a><a href=\"/consulting-companies-in-india\" data-filter-name=\"chips_Company-Tags_consulting\" title=\"Consulting companies in India\" class=\"ab_chip body-medium\">\\n\\t\\t\\t\\t\\t\\tConsulting\\n\\t\\t\\t\\t\\t</a><a href=\"/internet-companies-in-india\" data-filter-name=\"chips_Company-Tags_internet\" title=\"Internet companies in India\" class=\"ab_chip body-medium\">\\n\\t\\t\\t\\t\\t\\tInternet\\n\\t\\t\\t\\t\\t</a><a href=\"/it-or-ites-companies-in-india\" data-filter-name=\"chips_Company-Tags_it-or-ites\" title=\"IT / ITES companies in India\" class=\"ab_chip body-medium\">\\n\\t\\t\\t\\t\\t\\tIT / ITES\\n\\t\\t\\t\\t\\t</a><a href=\"/analytics-or-bpm-or-research-companies-in-india\" data-filter-name=\"chips_Company-Tags_analytics-or-bpm-or-research\" title=\"Analytics / BPM / Research companies in India\" class=\"ab_chip body-medium\">\\n\\t\\t\\t\\t\\t\\tAnalytics / BPM / Research\\n\\t\\t\\t\\t\\t</a><a href=\"/mnc-companies-in-india\" data-filter-name=\"chips_Company-Tags_mnc\" title=\"MNC companies in India\" class=\"ab_chip body-medium\">\\n\\t\\t\\t\\t\\t\\tMNC\\n\\t\\t\\t\\t\\t</a><a href=\"/forbesglobal2000-companies-in-india\" data-filter-name=\"chips_Company-Tags_forbesglobal2000\" title=\"Forbes Global 2000 companies in India\" class=\"ab_chip body-medium\">\\n\\t\\t\\t\\t\\t\\tForbes Global 2000\\n\\t\\t\\t\\t\\t</a></div></div></div> <!----> <p itemprop=\"description\" class=\"description body-small\">\\n\\t\\t\\t\\tCapgemini is a global leader in consulting, digital transformation, technology and engineering services. The Group is at the forefront of innovation to address the entire breadth of clients’ opportunities in the evolving world of cloud, digital and platforms. Building on its strong 50-year+ heritage and deep industry-specific expertise, Capgemini enables organizations to realize their business ambitions through an array of services from strategy to operations. Capgemini is driven by the conviction that the business value of technology comes from and through people. Today, it is a multicultural company of 270,000 team members in almost 50 countries. With Altran, the Group reported 2019 combined revenues of €17billion.\\n\\nVisit us at www.capgemini.com. People matter, results count.\\n\\n\\t\\t\\t</p></div> <div class=\"company-action-center\"><a href=\"/overview/capgemini-overview\" title=\"Capgemini Overview\" class=\"body-medium\">\\n\\t\\t\\tAbout\\n\\t\\t\\t<!----></a><a href=\"/reviews/capgemini-reviews\" title=\"Capgemini Reviews\" class=\"body-medium\">\\n\\t\\t\\tReviews\\n\\t\\t\\t<span class=\"caption-subdued-large\">\\n\\t\\t\\t\\t10.3k\\n\\t\\t\\t</span></a><a title=\"Capgemini Salaries\" href=\"https://www.ambitionbox.com/salaries/capgemini-salaries\" class=\"body-medium\">\\n\\t\\t\\tSalaries\\n\\t\\t\\t<span class=\"caption-subdued-large\">\\n\\t\\t\\t\\t82.3k\\n\\t\\t\\t</span></a><a title=\"Capgemini Interviews\" href=\"https://www.ambitionbox.com/interviews/capgemini-interview-questions\" class=\"body-medium\">\\n\\t\\t\\tInterviews\\n\\t\\t\\t<span class=\"caption-subdued-large\">\\n\\t\\t\\t\\t151\\n\\t\\t\\t</span></a><a href=\"/jobs/capgemini-jobs\" title=\"Capgemini Jobs\" class=\"body-medium\">\\n\\t\\t\\tJobs\\n\\t\\t\\t<span class=\"caption-subdued-large\">\\n\\t\\t\\t\\t524\\n\\t\\t\\t</span></a></div></div><div itemprop=\"itemListElement\" itemscope=\"itemscope\" itemtype=\"http://schema.org/ListItem\" class=\"ab-company-result-card\" data-v-6f97e305><meta itemprop=\"position\" content=\"7\"> <meta itemprop=\"name\" content=\"Tech Mahindra\"> <meta itemprop=\"alternateName\" content=\"Tech Mahindra overview\"> <meta itemprop=\"url\" content=\"https://www.ambitionbox.com/overview/tech-mahindra-overview\"> <meta itemprop=\"image\" content=\"https://static.ambitionbox.com/alpha/company/photos/logos/techmahindra.jpg\"> <div class=\"company-content-wrapper\"><div class=\"company-content\"><div class=\"company-logo\"><img data-src=\"https://static.ambitionbox.com/alpha/company/photos/logos/techmahindra.jpg\" src=\"https://static.ambitionbox.com/static/icons/company-placeholder.svg\" alt=\"Tech Mahindra logo\" onerror=\"this.onerror=null;this.src=\\'/static/icons/company-placeholder.svg\\';\" class=\"lazy\"></div> <div class=\"company-info-wrapper\"><div class=\"company-info\"><div class=\"left\"><a href=\"/overview/tech-mahindra-overview\"><h2 title=\"Tech Mahindra\" class=\"company-name bold-title-l\">\\n\\t\\t\\t\\t\\t\\t\\t\\tTech Mahindra\\n\\t\\t\\t\\t\\t\\t\\t</h2></a> <div class=\"rating-wrapper\"><p class=\"rating badge-large rating-35\"><i class=\"icon icon-star\"></i>\\n\\t\\t\\t\\t\\t\\t\\t\\t3.6\\n\\t\\t\\t\\t\\t\\t\\t</p> <a href=\"https://www.ambitionbox.com/reviews/tech-mahindra-reviews\" class=\"review-count sbold-Labels\">\\n\\t\\t\\t\\t\\t\\t\\t\\t(10.2k Reviews)\\n\\t\\t\\t\\t\\t\\t\\t</a></div></div> <button class=\"ab_btn follow-btn invert round\"><span class=\"ctas-btn-medium\">Follow</span></button></div> <div class=\"company-basic-info\"><p class=\"infoEntity sbold-list-header\"><i class=\"icon-domain\"></i>\\n\\t\\t\\t\\t\\t\\tPublic\\n\\t\\t\\t\\t\\t</p> <p class=\"infoEntity sbold-list-header\"><i class=\"icon-pin-drop\"></i>\\n\\t\\t\\t\\t\\t\\tPune + 161 more\\n\\t\\t\\t\\t\\t</p> <p class=\"infoEntity sbold-list-header\"><i class=\"icon-access-time\"></i>\\n\\t\\t\\t\\t\\t\\t34 years old\\n\\t\\t\\t\\t\\t</p> <p class=\"infoEntity sbold-list-header\"><i class=\"icon-supervisor-account\"></i>\\n\\t\\t\\t\\t\\t\\t10000+ employees\\n\\t\\t\\t\\t\\t</p></div> <div class=\"chips-block\"><a href=\"/consulting-companies-in-india\" data-filter-name=\"chips_Company-Tags_consulting\" title=\"Consulting companies in India\" class=\"ab_chip body-medium\">\\n\\t\\t\\t\\t\\t\\tConsulting\\n\\t\\t\\t\\t\\t</a><a href=\"/it-or-ites-companies-in-india\" data-filter-name=\"chips_Company-Tags_it-or-ites\" title=\"IT / ITES companies in India\" class=\"ab_chip body-medium\">\\n\\t\\t\\t\\t\\t\\tIT / ITES\\n\\t\\t\\t\\t\\t</a><a href=\"/analytics-or-bpm-or-research-companies-in-india\" data-filter-name=\"chips_Company-Tags_analytics-or-bpm-or-research\" title=\"Analytics / BPM / Research companies in India\" class=\"ab_chip body-medium\">\\n\\t\\t\\t\\t\\t\\tAnalytics / BPM / Research\\n\\t\\t\\t\\t\\t</a><a href=\"/mnc-companies-in-india\" data-filter-name=\"chips_Company-Tags_mnc\" title=\"MNC companies in India\" class=\"ab_chip body-medium\">\\n\\t\\t\\t\\t\\t\\tMNC\\n\\t\\t\\t\\t\\t</a><a href=\"/fortune500-companies-in-india\" data-filter-name=\"chips_Company-Tags_fortune500\" title=\"Fortune500 companies in India\" class=\"ab_chip body-medium\">\\n\\t\\t\\t\\t\\t\\tFortune500\\n\\t\\t\\t\\t\\t</a><a href=\"/forbesglobal2000-companies-in-india\" data-filter-name=\"chips_Company-Tags_forbesglobal2000\" title=\"Forbes Global 2000 companies in India\" class=\"ab_chip body-medium\">\\n\\t\\t\\t\\t\\t\\tForbes Global 2000\\n\\t\\t\\t\\t\\t</a><a href=\"/public-companies-in-india\" data-filter-name=\"chips_Company-Tags_public\" title=\"Public companies in India\" class=\"ab_chip body-medium\">\\n\\t\\t\\t\\t\\t\\tPublic\\n\\t\\t\\t\\t\\t</a><a href=\"/list-of-companies?CompanyLocation=pune\" data-filter-name=\"chips_Company-Tags_pune\" title=\"Companies in Pune\" class=\"ab_chip body-medium\">\\n\\t\\t\\t\\t\\t\\tPune\\n\\t\\t\\t\\t\\t</a></div></div></div> <!----> <p itemprop=\"description\" class=\"description body-small\">\\n\\t\\t\\t\\tTech Mahindra represents the connected world, offering innovative and customer-centric information technology experiences, enabling Enterprises, Associates and the Society to Rise™. We are a USD 4.9 billion company with 125,700+ professionals across 90 countries, helping 941 global customers including Fortune 500 companies. Our convergent, digital, design experiences, innovation platforms and reusable assets connect across a number of technologies to deliver tangible business value and experiences to our stakeholders. Tech Mahindra is the highest ranked Non-U.S. company in the Forbes Global Digital 100 list (2018) and in the Forbes Fab 50 companies in Asia (2018).\\n\\t\\t\\t</p></div> <div class=\"company-action-center\"><a href=\"/overview/tech-mahindra-overview\" title=\"Tech Mahindra Overview\" class=\"body-medium\">\\n\\t\\t\\tAbout\\n\\t\\t\\t<!----></a><a href=\"/reviews/tech-mahindra-reviews\" title=\"Tech Mahindra Reviews\" class=\"body-medium\">\\n\\t\\t\\tReviews\\n\\t\\t\\t<span class=\"caption-subdued-large\">\\n\\t\\t\\t\\t10.2k\\n\\t\\t\\t</span></a><a title=\"Tech Mahindra Salaries\" href=\"https://www.ambitionbox.com/salaries/tech-mahindra-salaries\" class=\"body-medium\">\\n\\t\\t\\tSalaries\\n\\t\\t\\t<span class=\"caption-subdued-large\">\\n\\t\\t\\t\\t60.4k\\n\\t\\t\\t</span></a><a title=\"Tech Mahindra Interviews\" href=\"https://www.ambitionbox.com/interviews/tech-mahindra-interview-questions\" class=\"body-medium\">\\n\\t\\t\\tInterviews\\n\\t\\t\\t<span class=\"caption-subdued-large\">\\n\\t\\t\\t\\t134\\n\\t\\t\\t</span></a><a href=\"/jobs/tech-mahindra-jobs\" title=\"Tech Mahindra Jobs\" class=\"body-medium\">\\n\\t\\t\\tJobs\\n\\t\\t\\t<span class=\"caption-subdued-large\">\\n\\t\\t\\t\\t395\\n\\t\\t\\t</span></a></div></div><div itemprop=\"itemListElement\" itemscope=\"itemscope\" itemtype=\"http://schema.org/ListItem\" class=\"ab-company-result-card\" data-v-6f97e305><meta itemprop=\"position\" content=\"8\"> <meta itemprop=\"name\" content=\"HCL Technologies\"> <meta itemprop=\"alternateName\" content=\"HCL Technologies overview\"> <meta itemprop=\"url\" content=\"https://www.ambitionbox.com/overview/hcl-technologies-overview\"> <meta itemprop=\"image\" content=\"https://static.ambitionbox.com/alpha/company/photos/logos/hcl-technologies-88.jpg\"> <div class=\"company-content-wrapper\"><div class=\"company-content\"><div class=\"company-logo\"><img data-src=\"https://static.ambitionbox.com/alpha/company/photos/logos/hcl-technologies-88.jpg\" src=\"https://static.ambitionbox.com/static/icons/company-placeholder.svg\" alt=\"HCL Technologies logo\" onerror=\"this.onerror=null;this.src=\\'/static/icons/company-placeholder.svg\\';\" class=\"lazy\"></div> <div class=\"company-info-wrapper\"><div class=\"company-info\"><div class=\"left\"><a href=\"/overview/hcl-technologies-overview\"><h2 title=\"HCL Technologies\" class=\"company-name bold-title-l\">\\n\\t\\t\\t\\t\\t\\t\\t\\tHCL Technologies\\n\\t\\t\\t\\t\\t\\t\\t</h2></a> <div class=\"rating-wrapper\"><p class=\"rating badge-large rating-35\"><i class=\"icon icon-star\"></i>\\n\\t\\t\\t\\t\\t\\t\\t\\t3.7\\n\\t\\t\\t\\t\\t\\t\\t</p> <a href=\"https://www.ambitionbox.com/reviews/hcl-technologies-reviews\" class=\"review-count sbold-Labels\">\\n\\t\\t\\t\\t\\t\\t\\t\\t(9.5k Reviews)\\n\\t\\t\\t\\t\\t\\t\\t</a></div></div> <button class=\"ab_btn follow-btn invert round\"><span class=\"ctas-btn-medium\">Follow</span></button></div> <div class=\"company-basic-info\"><p class=\"infoEntity sbold-list-header\"><i class=\"icon-domain\"></i>\\n\\t\\t\\t\\t\\t\\tPublic\\n\\t\\t\\t\\t\\t</p> <p class=\"infoEntity sbold-list-header\"><i class=\"icon-pin-drop\"></i>\\n\\t\\t\\t\\t\\t\\tNoida,Uttar Pradesh + 111 more\\n\\t\\t\\t\\t\\t</p> <p class=\"infoEntity sbold-list-header\"><i class=\"icon-access-time\"></i>\\n\\t\\t\\t\\t\\t\\t14 years old\\n\\t\\t\\t\\t\\t</p> <!----></div> <div class=\"chips-block\"><a href=\"/computer-software-companies-in-india\" data-filter-name=\"chips_Company-Tags_computer-software\" title=\"Computer Software companies in India\" class=\"ab_chip body-medium\">\\n\\t\\t\\t\\t\\t\\tComputer Software\\n\\t\\t\\t\\t\\t</a><a href=\"/consulting-companies-in-india\" data-filter-name=\"chips_Company-Tags_consulting\" title=\"Consulting companies in India\" class=\"ab_chip body-medium\">\\n\\t\\t\\t\\t\\t\\tConsulting\\n\\t\\t\\t\\t\\t</a><a href=\"/financial-services-companies-in-india\" data-filter-name=\"chips_Company-Tags_financial-services\" title=\"Financial Services companies in India\" class=\"ab_chip body-medium\">\\n\\t\\t\\t\\t\\t\\tFinancial Services\\n\\t\\t\\t\\t\\t</a><a href=\"/consumer-electronics-and-appliances-companies-in-india\" data-filter-name=\"chips_Company-Tags_consumer-electronics-and-appliances\" title=\"Consumer Electronics &amp; Appliances companies in India\" class=\"ab_chip body-medium\">\\n\\t\\t\\t\\t\\t\\tConsumer Electronics &amp; Appliances\\n\\t\\t\\t\\t\\t</a><a href=\"/it-services-and-consulting-companies-in-india\" data-filter-name=\"chips_Company-Tags_it-services-and-consulting\" title=\"IT Services &amp; Consulting companies in India\" class=\"ab_chip body-medium\">\\n\\t\\t\\t\\t\\t\\tIT Services &amp; Consulting\\n\\t\\t\\t\\t\\t</a><a href=\"/mnc-companies-in-india\" data-filter-name=\"chips_Company-Tags_mnc\" title=\"MNC companies in India\" class=\"ab_chip body-medium\">\\n\\t\\t\\t\\t\\t\\tMNC\\n\\t\\t\\t\\t\\t</a><a href=\"/fortune500-companies-in-india\" data-filter-name=\"chips_Company-Tags_fortune500\" title=\"Fortune500 companies in India\" class=\"ab_chip body-medium\">\\n\\t\\t\\t\\t\\t\\tFortune500\\n\\t\\t\\t\\t\\t</a><a href=\"/forbesglobal2000-companies-in-india\" data-filter-name=\"chips_Company-Tags_forbesglobal2000\" title=\"Forbes Global 2000 companies in India\" class=\"ab_chip body-medium\">\\n\\t\\t\\t\\t\\t\\tForbes Global 2000\\n\\t\\t\\t\\t\\t</a><a href=\"/public-companies-in-india\" data-filter-name=\"chips_Company-Tags_public\" title=\"Public companies in India\" class=\"ab_chip body-medium\">\\n\\t\\t\\t\\t\\t\\tPublic\\n\\t\\t\\t\\t\\t</a></div></div></div> <!----> <p itemprop=\"description\" class=\"description body-small\">\\n\\t\\t\\t\\tHCL Technologies is a next-generation global technology company that helps enterprises reimagine their businesses for the digital age. Our technology products, services, and engineering are built on four decades of innovation, with a world-renowned management philosophy, a strong culture of invention and risk-taking, and a relentless focus on customer relationships. \\n\\nWe offer an integrated portfolio of products, solutions, services, and IP through our Mode 1-2-3 strategy, built around Digital, IoT, Cloud, Automation, Cybersecurity, Analytics, Infrastructure Management, and Engineering Services, amongst others. With a worldwide network of R&amp;D, innovation labs, and delivery centers, and 153,085 ‘Ideapreneurs’ working in 50 countries, HCL serves leading enterprises across key industries, including 250 of the Fortune 500 and 650 of the Global 2000.\\n\\t\\t\\t</p></div> <div class=\"company-action-center\"><a href=\"/overview/hcl-technologies-overview\" title=\"HCL Technologies Overview\" class=\"body-medium\">\\n\\t\\t\\tAbout\\n\\t\\t\\t<!----></a><a href=\"/reviews/hcl-technologies-reviews\" title=\"HCL Technologies Reviews\" class=\"body-medium\">\\n\\t\\t\\tReviews\\n\\t\\t\\t<span class=\"caption-subdued-large\">\\n\\t\\t\\t\\t9.5k\\n\\t\\t\\t</span></a><a title=\"HCL Technologies Salaries\" href=\"https://www.ambitionbox.com/salaries/hcl-technologies-salaries\" class=\"body-medium\">\\n\\t\\t\\tSalaries\\n\\t\\t\\t<span class=\"caption-subdued-large\">\\n\\t\\t\\t\\t73.5k\\n\\t\\t\\t</span></a><a title=\"HCL Technologies Interviews\" href=\"https://www.ambitionbox.com/interviews/hcl-technologies-interview-questions\" class=\"body-medium\">\\n\\t\\t\\tInterviews\\n\\t\\t\\t<span class=\"caption-subdued-large\">\\n\\t\\t\\t\\t147\\n\\t\\t\\t</span></a><a href=\"/jobs/hcl-technologies-jobs\" title=\"HCL Technologies Jobs\" class=\"body-medium\">\\n\\t\\t\\tJobs\\n\\t\\t\\t<span class=\"caption-subdued-large\">\\n\\t\\t\\t\\t276\\n\\t\\t\\t</span></a></div></div><div itemprop=\"itemListElement\" itemscope=\"itemscope\" itemtype=\"http://schema.org/ListItem\" class=\"ab-company-result-card\" data-v-6f97e305><meta itemprop=\"position\" content=\"9\"> <meta itemprop=\"name\" content=\"L&amp;T\"> <meta itemprop=\"alternateName\" content=\"Larsen and Toubro\"> <meta itemprop=\"url\" content=\"https://www.ambitionbox.com/overview/l-and-t-overview\"> <meta itemprop=\"image\" content=\"https://static.ambitionbox.com/alpha/company/photos/logos/l-and-t.jpg\"> <div class=\"company-content-wrapper\"><div class=\"company-content\"><div class=\"company-logo\"><img data-src=\"https://static.ambitionbox.com/alpha/company/photos/logos/l-and-t.jpg\" src=\"https://static.ambitionbox.com/static/icons/company-placeholder.svg\" alt=\"Larsen and Toubro logo\" onerror=\"this.onerror=null;this.src=\\'/static/icons/company-placeholder.svg\\';\" class=\"lazy\"></div> <div class=\"company-info-wrapper\"><div class=\"company-info\"><div class=\"left\"><a href=\"/overview/l-and-t-overview\"><h2 title=\"L&amp;T\" class=\"company-name bold-title-l\">\\n\\t\\t\\t\\t\\t\\t\\t\\tL&amp;T\\n\\t\\t\\t\\t\\t\\t\\t</h2></a> <div class=\"rating-wrapper\"><p class=\"rating badge-large rating-4\"><i class=\"icon icon-star\"></i>\\n\\t\\t\\t\\t\\t\\t\\t\\t4.1\\n\\t\\t\\t\\t\\t\\t\\t</p> <a href=\"https://www.ambitionbox.com/reviews/l-and-t-reviews\" class=\"review-count sbold-Labels\">\\n\\t\\t\\t\\t\\t\\t\\t\\t(9.4k Reviews)\\n\\t\\t\\t\\t\\t\\t\\t</a></div></div> <button class=\"ab_btn follow-btn invert round\"><span class=\"ctas-btn-medium\">Follow</span></button></div> <div class=\"company-basic-info\"><p class=\"infoEntity sbold-list-header\"><i class=\"icon-domain\"></i>\\n\\t\\t\\t\\t\\t\\tPublic\\n\\t\\t\\t\\t\\t</p> <p class=\"infoEntity sbold-list-header\"><i class=\"icon-pin-drop\"></i>\\n\\t\\t\\t\\t\\t\\tMumbai + 339 more\\n\\t\\t\\t\\t\\t</p> <p class=\"infoEntity sbold-list-header\"><i class=\"icon-access-time\"></i>\\n\\t\\t\\t\\t\\t\\t82 years old\\n\\t\\t\\t\\t\\t</p> <p class=\"infoEntity sbold-list-header\"><i class=\"icon-supervisor-account\"></i>\\n\\t\\t\\t\\t\\t\\t10000+ employees\\n\\t\\t\\t\\t\\t</p></div> <div class=\"chips-block\"><a href=\"/machinery-or-equipment-companies-in-india\" data-filter-name=\"chips_Company-Tags_machinery-or-equipment\" title=\"Industrial Equipment / Machinery companies in India\" class=\"ab_chip body-medium\">\\n\\t\\t\\t\\t\\t\\tIndustrial Equipment / Machinery\\n\\t\\t\\t\\t\\t</a><a href=\"/manufacturing-companies-in-india\" data-filter-name=\"chips_Company-Tags_manufacturing\" title=\"Manufacturing companies in India\" class=\"ab_chip body-medium\">\\n\\t\\t\\t\\t\\t\\tManufacturing\\n\\t\\t\\t\\t\\t</a><a href=\"/engineering-and-construction-companies-in-india\" data-filter-name=\"chips_Company-Tags_engineering-and-construction\" title=\"Engineering &amp; Construction companies in India\" class=\"ab_chip body-medium\">\\n\\t\\t\\t\\t\\t\\tEngineering &amp; Construction\\n\\t\\t\\t\\t\\t</a><a href=\"/conglomerate-companies-in-india\" data-filter-name=\"chips_Company-Tags_conglomerate\" title=\"Conglomerate companies in India\" class=\"ab_chip body-medium\">\\n\\t\\t\\t\\t\\t\\tConglomerate\\n\\t\\t\\t\\t\\t</a><a href=\"/fortune500-companies-in-india\" data-filter-name=\"chips_Company-Tags_fortune500\" title=\"Fortune500 companies in India\" class=\"ab_chip body-medium\">\\n\\t\\t\\t\\t\\t\\tFortune500\\n\\t\\t\\t\\t\\t</a><a href=\"/forbesglobal2000-companies-in-india\" data-filter-name=\"chips_Company-Tags_forbesglobal2000\" title=\"Forbes Global 2000 companies in India\" class=\"ab_chip body-medium\">\\n\\t\\t\\t\\t\\t\\tForbes Global 2000\\n\\t\\t\\t\\t\\t</a><a href=\"/public-companies-in-india\" data-filter-name=\"chips_Company-Tags_public\" title=\"Public companies in India\" class=\"ab_chip body-medium\">\\n\\t\\t\\t\\t\\t\\tPublic\\n\\t\\t\\t\\t\\t</a><a href=\"/list-of-companies?CompanyLocation=mumbai\" data-filter-name=\"chips_Company-Tags_mumbai\" title=\"Companies in Mumbai\" class=\"ab_chip body-medium\">\\n\\t\\t\\t\\t\\t\\tMumbai\\n\\t\\t\\t\\t\\t</a></div></div></div> <!----> <p itemprop=\"description\" class=\"description body-small\">\\n\\t\\t\\t\\tLarsen &amp; Toubro is a major technology, engineering, construction, manufacturing and financial services conglomerate, with global operations. L&amp;T addresses critical needs in key sectors - Hydrocarbon, Infrastructure, Power, Process Industries and Defence - for customers in over 30 countries around the world.\\n\\nL&amp;T is engaged in core, high impact sectors of the economy and our integrated capabilities span the entire spectrum of ‘design to deliver’. With 8 decades of a strong, customer focused approach and a continuous quest for world-class quality, we have unmatched expertise across Technology, Engineering, Construction, Infrastructure Projects and Manufacturing, and maintain a leadership in all our major lines of business.\\n\\nEvery aspect of L&amp;T\\'s businesses is characterised by professionalism and high standards of corporate governance. Sustainability is embedded into our long-term strategy for growth.\\n\\t\\t\\t</p></div> <div class=\"company-action-center\"><a href=\"/overview/l-and-t-overview\" title=\"L&amp;T Overview\" class=\"body-medium\">\\n\\t\\t\\tAbout\\n\\t\\t\\t<!----></a><a href=\"/reviews/l-and-t-reviews\" title=\"L&amp;T Reviews\" class=\"body-medium\">\\n\\t\\t\\tReviews\\n\\t\\t\\t<span class=\"caption-subdued-large\">\\n\\t\\t\\t\\t9.4k\\n\\t\\t\\t</span></a><a title=\"L&amp;T Salaries\" href=\"https://www.ambitionbox.com/salaries/l-and-t-salaries\" class=\"body-medium\">\\n\\t\\t\\tSalaries\\n\\t\\t\\t<span class=\"caption-subdued-large\">\\n\\t\\t\\t\\t28.3k\\n\\t\\t\\t</span></a><a title=\"L&amp;T Interviews\" href=\"https://www.ambitionbox.com/interviews/l-and-t-interview-questions\" class=\"body-medium\">\\n\\t\\t\\tInterviews\\n\\t\\t\\t<span class=\"caption-subdued-large\">\\n\\t\\t\\t\\t143\\n\\t\\t\\t</span></a><a href=\"/jobs/l-and-t-jobs\" title=\"L&amp;T Jobs\" class=\"body-medium\">\\n\\t\\t\\tJobs\\n\\t\\t\\t<span class=\"caption-subdued-large\">\\n\\t\\t\\t\\t90\\n\\t\\t\\t</span></a></div></div><div itemprop=\"itemListElement\" itemscope=\"itemscope\" itemtype=\"http://schema.org/ListItem\" class=\"ab-company-result-card\" data-v-6f97e305><meta itemprop=\"position\" content=\"10\"> <meta itemprop=\"name\" content=\"Infosys\"> <meta itemprop=\"alternateName\" content=\"Infosys overview\"> <meta itemprop=\"url\" content=\"https://www.ambitionbox.com/overview/infosys-overview\"> <meta itemprop=\"image\" content=\"https://static.ambitionbox.com/alpha/company/photos/logos/infosys.jpg\"> <div class=\"company-content-wrapper\"><div class=\"company-content\"><div class=\"company-logo\"><img data-src=\"https://static.ambitionbox.com/alpha/company/photos/logos/infosys.jpg\" src=\"https://static.ambitionbox.com/static/icons/company-placeholder.svg\" alt=\"Infosys logo\" onerror=\"this.onerror=null;this.src=\\'/static/icons/company-placeholder.svg\\';\" class=\"lazy\"></div> <div class=\"company-info-wrapper\"><div class=\"company-info\"><div class=\"left\"><a href=\"/overview/infosys-overview\"><h2 title=\"Infosys\" class=\"company-name bold-title-l\">\\n\\t\\t\\t\\t\\t\\t\\t\\tInfosys\\n\\t\\t\\t\\t\\t\\t\\t</h2></a> <div class=\"rating-wrapper\"><p class=\"rating badge-large rating-35\"><i class=\"icon icon-star\"></i>\\n\\t\\t\\t\\t\\t\\t\\t\\t3.9\\n\\t\\t\\t\\t\\t\\t\\t</p> <a href=\"https://www.ambitionbox.com/reviews/infosys-reviews\" class=\"review-count sbold-Labels\">\\n\\t\\t\\t\\t\\t\\t\\t\\t(8.9k Reviews)\\n\\t\\t\\t\\t\\t\\t\\t</a></div></div> <button class=\"ab_btn follow-btn invert round\"><span class=\"ctas-btn-medium\">Follow</span></button></div> <div class=\"company-basic-info\"><p class=\"infoEntity sbold-list-header\"><i class=\"icon-domain\"></i>\\n\\t\\t\\t\\t\\t\\tPublic\\n\\t\\t\\t\\t\\t</p> <p class=\"infoEntity sbold-list-header\"><i class=\"icon-pin-drop\"></i>\\n\\t\\t\\t\\t\\t\\tBangalore + 67 more\\n\\t\\t\\t\\t\\t</p> <p class=\"infoEntity sbold-list-header\"><i class=\"icon-access-time\"></i>\\n\\t\\t\\t\\t\\t\\t39 years old\\n\\t\\t\\t\\t\\t</p> <p class=\"infoEntity sbold-list-header\"><i class=\"icon-supervisor-account\"></i>\\n\\t\\t\\t\\t\\t\\t10000+ employees\\n\\t\\t\\t\\t\\t</p></div> <div class=\"chips-block\"><a href=\"/it-or-ites-companies-in-india\" data-filter-name=\"chips_Company-Tags_it-or-ites\" title=\"IT / ITES companies in India\" class=\"ab_chip body-medium\">\\n\\t\\t\\t\\t\\t\\tIT / ITES\\n\\t\\t\\t\\t\\t</a><a href=\"/mnc-companies-in-india\" data-filter-name=\"chips_Company-Tags_mnc\" title=\"MNC companies in India\" class=\"ab_chip body-medium\">\\n\\t\\t\\t\\t\\t\\tMNC\\n\\t\\t\\t\\t\\t</a><a href=\"/fortune500-companies-in-india\" data-filter-name=\"chips_Company-Tags_fortune500\" title=\"Fortune500 companies in India\" class=\"ab_chip body-medium\">\\n\\t\\t\\t\\t\\t\\tFortune500\\n\\t\\t\\t\\t\\t</a><a href=\"/forbesglobal2000-companies-in-india\" data-filter-name=\"chips_Company-Tags_forbesglobal2000\" title=\"Forbes Global 2000 companies in India\" class=\"ab_chip body-medium\">\\n\\t\\t\\t\\t\\t\\tForbes Global 2000\\n\\t\\t\\t\\t\\t</a><a href=\"/public-companies-in-india\" data-filter-name=\"chips_Company-Tags_public\" title=\"Public companies in India\" class=\"ab_chip body-medium\">\\n\\t\\t\\t\\t\\t\\tPublic\\n\\t\\t\\t\\t\\t</a></div></div></div> <!----> <p itemprop=\"description\" class=\"description body-small\">\\n\\t\\t\\t\\tInfosys is a global leader in next-generation digital services and consulting. We enable clients in 45 countries to navigate their digital transformation. With over three decades of experience in managing the systems and workings of global enterprises, we expertly steer our clients through the many nexts of their digital journey. We do it by enabling the enterprise with an AI-powered core that helps prioritize the execution of change. We also empower the business with agile digital at scale to deliver unprecedented levels of performance and customer delight. Our always-on learning agenda drives their continuous improvement through building and transferring digital skills, expertise and ideas from our innovation ecosystem.\\n\\t\\t\\t</p></div> <div class=\"company-action-center\"><a href=\"/overview/infosys-overview\" title=\"Infosys Overview\" class=\"body-medium\">\\n\\t\\t\\tAbout\\n\\t\\t\\t<!----></a><a href=\"/reviews/infosys-reviews\" title=\"Infosys Reviews\" class=\"body-medium\">\\n\\t\\t\\tReviews\\n\\t\\t\\t<span class=\"caption-subdued-large\">\\n\\t\\t\\t\\t8.9k\\n\\t\\t\\t</span></a><a title=\"Infosys Salaries\" href=\"https://www.ambitionbox.com/salaries/infosys-salaries\" class=\"body-medium\">\\n\\t\\t\\tSalaries\\n\\t\\t\\t<span class=\"caption-subdued-large\">\\n\\t\\t\\t\\t129.3k\\n\\t\\t\\t</span></a><a title=\"Infosys Interviews\" href=\"https://www.ambitionbox.com/interviews/infosys-interview-questions\" class=\"body-medium\">\\n\\t\\t\\tInterviews\\n\\t\\t\\t<span class=\"caption-subdued-large\">\\n\\t\\t\\t\\t398\\n\\t\\t\\t</span></a><a href=\"/jobs/infosys-jobs\" title=\"Infosys Jobs\" class=\"body-medium\">\\n\\t\\t\\tJobs\\n\\t\\t\\t<span class=\"caption-subdued-large\">\\n\\t\\t\\t\\t8\\n\\t\\t\\t</span></a></div></div><div itemprop=\"itemListElement\" itemscope=\"itemscope\" itemtype=\"http://schema.org/ListItem\" class=\"ab-company-result-card\" data-v-6f97e305><meta itemprop=\"position\" content=\"11\"> <meta itemprop=\"name\" content=\"Tata Motors\"> <meta itemprop=\"alternateName\" content=\"Tata Motors overview\"> <meta itemprop=\"url\" content=\"https://www.ambitionbox.com/overview/tata-motors-overview\"> <meta itemprop=\"image\" content=\"https://static.ambitionbox.com/alpha/company/photos/logos/tata-motors.jpg\"> <div class=\"company-content-wrapper\"><div class=\"company-content\"><div class=\"company-logo\"><img data-src=\"https://static.ambitionbox.com/alpha/company/photos/logos/tata-motors.jpg\" src=\"https://static.ambitionbox.com/static/icons/company-placeholder.svg\" alt=\"Tata Motors logo\" onerror=\"this.onerror=null;this.src=\\'/static/icons/company-placeholder.svg\\';\" class=\"lazy\"></div> <div class=\"company-info-wrapper\"><div class=\"company-info\"><div class=\"left\"><a href=\"/overview/tata-motors-overview\"><h2 title=\"Tata Motors\" class=\"company-name bold-title-l\">\\n\\t\\t\\t\\t\\t\\t\\t\\tTata Motors\\n\\t\\t\\t\\t\\t\\t\\t</h2></a> <div class=\"rating-wrapper\"><p class=\"rating badge-large rating-4\"><i class=\"icon icon-star\"></i>\\n\\t\\t\\t\\t\\t\\t\\t\\t4.1\\n\\t\\t\\t\\t\\t\\t\\t</p> <a href=\"https://www.ambitionbox.com/reviews/tata-motors-reviews\" class=\"review-count sbold-Labels\">\\n\\t\\t\\t\\t\\t\\t\\t\\t(8.8k Reviews)\\n\\t\\t\\t\\t\\t\\t\\t</a></div></div> <button class=\"ab_btn follow-btn invert round\"><span class=\"ctas-btn-medium\">Follow</span></button></div> <div class=\"company-basic-info\"><p class=\"infoEntity sbold-list-header\"><i class=\"icon-domain\"></i>\\n\\t\\t\\t\\t\\t\\tPublic\\n\\t\\t\\t\\t\\t</p> <p class=\"infoEntity sbold-list-header\"><i class=\"icon-pin-drop\"></i>\\n\\t\\t\\t\\t\\t\\tPune + 341 more\\n\\t\\t\\t\\t\\t</p> <p class=\"infoEntity sbold-list-header\"><i class=\"icon-access-time\"></i>\\n\\t\\t\\t\\t\\t\\t75 years old\\n\\t\\t\\t\\t\\t</p> <p class=\"infoEntity sbold-list-header\"><i class=\"icon-supervisor-account\"></i>\\n\\t\\t\\t\\t\\t\\t10000+ employees\\n\\t\\t\\t\\t\\t</p></div> <div class=\"chips-block\"><a href=\"/automobile-companies-in-india\" data-filter-name=\"chips_Company-Tags_automobile\" title=\"Automobile companies in India\" class=\"ab_chip body-medium\">\\n\\t\\t\\t\\t\\t\\tAutomobile\\n\\t\\t\\t\\t\\t</a><a href=\"/manufacturing-companies-in-india\" data-filter-name=\"chips_Company-Tags_manufacturing\" title=\"Manufacturing companies in India\" class=\"ab_chip body-medium\">\\n\\t\\t\\t\\t\\t\\tManufacturing\\n\\t\\t\\t\\t\\t</a><a href=\"/mnc-companies-in-india\" data-filter-name=\"chips_Company-Tags_mnc\" title=\"MNC companies in India\" class=\"ab_chip body-medium\">\\n\\t\\t\\t\\t\\t\\tMNC\\n\\t\\t\\t\\t\\t</a><a href=\"/fortune500-companies-in-india\" data-filter-name=\"chips_Company-Tags_fortune500\" title=\"Fortune500 companies in India\" class=\"ab_chip body-medium\">\\n\\t\\t\\t\\t\\t\\tFortune500\\n\\t\\t\\t\\t\\t</a><a href=\"/forbesglobal2000-companies-in-india\" data-filter-name=\"chips_Company-Tags_forbesglobal2000\" title=\"Forbes Global 2000 companies in India\" class=\"ab_chip body-medium\">\\n\\t\\t\\t\\t\\t\\tForbes Global 2000\\n\\t\\t\\t\\t\\t</a><a href=\"/public-companies-in-india\" data-filter-name=\"chips_Company-Tags_public\" title=\"Public companies in India\" class=\"ab_chip body-medium\">\\n\\t\\t\\t\\t\\t\\tPublic\\n\\t\\t\\t\\t\\t</a><a href=\"/list-of-companies?CompanyLocation=pune\" data-filter-name=\"chips_Company-Tags_pune\" title=\"Companies in Pune\" class=\"ab_chip body-medium\">\\n\\t\\t\\t\\t\\t\\tPune\\n\\t\\t\\t\\t\\t</a></div></div></div> <!----> <p itemprop=\"description\" class=\"description body-small\">\\n\\t\\t\\t\\tTata Motors Limited, a USD 45 billion organisation, is a leading automobile manufacturer with a portfolio that includes a wide range of cars, utility vehicles, trucks, buses and defence vehicles. Our marque can be found on and off-road in over 175 countries around the globe.\\n\\nOur focus on connecting aspirations and our pipeline of tech-enabled products keeps us at the forefront of the market. We have identified six key mobility drivers that will lead us into the future – modular architecture, complexity reduction in manufacturing, connected &amp; autonomous vehicles, clean drivelines, shared mobility, and low total cost of ownership. Our sub-brand TAMO is an incubating centre of innovation that will spark new mobility solutions through new technologies, business models and partnerships.\\n\\t\\t\\t</p></div> <div class=\"company-action-center\"><a href=\"/overview/tata-motors-overview\" title=\"Tata Motors Overview\" class=\"body-medium\">\\n\\t\\t\\tAbout\\n\\t\\t\\t<!----></a><a href=\"/reviews/tata-motors-reviews\" title=\"Tata Motors Reviews\" class=\"body-medium\">\\n\\t\\t\\tReviews\\n\\t\\t\\t<span class=\"caption-subdued-large\">\\n\\t\\t\\t\\t8.8k\\n\\t\\t\\t</span></a><a title=\"Tata Motors Salaries\" href=\"https://www.ambitionbox.com/salaries/tata-motors-salaries\" class=\"body-medium\">\\n\\t\\t\\tSalaries\\n\\t\\t\\t<span class=\"caption-subdued-large\">\\n\\t\\t\\t\\t20.4k\\n\\t\\t\\t</span></a><a title=\"Tata Motors Interviews\" href=\"https://www.ambitionbox.com/interviews/tata-motors-interview-questions\" class=\"body-medium\">\\n\\t\\t\\tInterviews\\n\\t\\t\\t<span class=\"caption-subdued-large\">\\n\\t\\t\\t\\t126\\n\\t\\t\\t</span></a><a href=\"/jobs/tata-motors-jobs\" title=\"Tata Motors Jobs\" class=\"body-medium\">\\n\\t\\t\\tJobs\\n\\t\\t\\t<span class=\"caption-subdued-large\">\\n\\t\\t\\t\\t7\\n\\t\\t\\t</span></a></div></div><div itemprop=\"itemListElement\" itemscope=\"itemscope\" itemtype=\"http://schema.org/ListItem\" class=\"ab-company-result-card\" data-v-6f97e305><meta itemprop=\"position\" content=\"12\"> <meta itemprop=\"name\" content=\"IBM\"> <meta itemprop=\"alternateName\" content=\"IBM overview\"> <meta itemprop=\"url\" content=\"https://www.ambitionbox.com/overview/ibm-overview\"> <meta itemprop=\"image\" content=\"https://static.ambitionbox.com/alpha/company/photos/logos/ibm-global-services.jpg\"> <div class=\"company-content-wrapper\"><div class=\"company-content\"><div class=\"company-logo\"><img data-src=\"https://static.ambitionbox.com/alpha/company/photos/logos/ibm-global-services.jpg\" src=\"https://static.ambitionbox.com/static/icons/company-placeholder.svg\" alt=\"IBM logo\" onerror=\"this.onerror=null;this.src=\\'/static/icons/company-placeholder.svg\\';\" class=\"lazy\"></div> <div class=\"company-info-wrapper\"><div class=\"company-info\"><div class=\"left\"><a href=\"/overview/ibm-overview\"><h2 title=\"IBM\" class=\"company-name bold-title-l\">\\n\\t\\t\\t\\t\\t\\t\\t\\tIBM\\n\\t\\t\\t\\t\\t\\t\\t</h2></a> <div class=\"rating-wrapper\"><p class=\"rating badge-large rating-4\"><i class=\"icon icon-star\"></i>\\n\\t\\t\\t\\t\\t\\t\\t\\t4.1\\n\\t\\t\\t\\t\\t\\t\\t</p> <a href=\"https://www.ambitionbox.com/reviews/ibm-reviews\" class=\"review-count sbold-Labels\">\\n\\t\\t\\t\\t\\t\\t\\t\\t(8.7k Reviews)\\n\\t\\t\\t\\t\\t\\t\\t</a></div></div> <button class=\"ab_btn follow-btn invert round\"><span class=\"ctas-btn-medium\">Follow</span></button></div> <div class=\"company-basic-info\"><p class=\"infoEntity sbold-list-header\"><i class=\"icon-domain\"></i>\\n\\t\\t\\t\\t\\t\\tPublic\\n\\t\\t\\t\\t\\t</p> <p class=\"infoEntity sbold-list-header\"><i class=\"icon-pin-drop\"></i>\\n\\t\\t\\t\\t\\t\\tNew York + 74 more\\n\\t\\t\\t\\t\\t</p> <p class=\"infoEntity sbold-list-header\"><i class=\"icon-access-time\"></i>\\n\\t\\t\\t\\t\\t\\t109 years old\\n\\t\\t\\t\\t\\t</p> <!----></div> <div class=\"chips-block\"><a href=\"/consulting-companies-in-india\" data-filter-name=\"chips_Company-Tags_consulting\" title=\"Consulting companies in India\" class=\"ab_chip body-medium\">\\n\\t\\t\\t\\t\\t\\tConsulting\\n\\t\\t\\t\\t\\t</a><a href=\"/financial-services-companies-in-india\" data-filter-name=\"chips_Company-Tags_financial-services\" title=\"Financial Services companies in India\" class=\"ab_chip body-medium\">\\n\\t\\t\\t\\t\\t\\tFinancial Services\\n\\t\\t\\t\\t\\t</a><a href=\"/analytics-or-bpm-or-research-companies-in-india\" data-filter-name=\"chips_Company-Tags_analytics-or-bpm-or-research\" title=\"Analytics / BPM / Research companies in India\" class=\"ab_chip body-medium\">\\n\\t\\t\\t\\t\\t\\tAnalytics / BPM / Research\\n\\t\\t\\t\\t\\t</a><a href=\"/it-services-and-consulting-companies-in-india\" data-filter-name=\"chips_Company-Tags_it-services-and-consulting\" title=\"IT Services &amp; Consulting companies in India\" class=\"ab_chip body-medium\">\\n\\t\\t\\t\\t\\t\\tIT Services &amp; Consulting\\n\\t\\t\\t\\t\\t</a><a href=\"/industrial-automation-companies-in-india\" data-filter-name=\"chips_Company-Tags_industrial-automation\" title=\"Industrial Automation companies in India\" class=\"ab_chip body-medium\">\\n\\t\\t\\t\\t\\t\\tIndustrial Automation\\n\\t\\t\\t\\t\\t</a><a href=\"/mnc-companies-in-india\" data-filter-name=\"chips_Company-Tags_mnc\" title=\"MNC companies in India\" class=\"ab_chip body-medium\">\\n\\t\\t\\t\\t\\t\\tMNC\\n\\t\\t\\t\\t\\t</a><a href=\"/forbesglobal2000-companies-in-india\" data-filter-name=\"chips_Company-Tags_forbesglobal2000\" title=\"Forbes Global 2000 companies in India\" class=\"ab_chip body-medium\">\\n\\t\\t\\t\\t\\t\\tForbes Global 2000\\n\\t\\t\\t\\t\\t</a><a href=\"/public-companies-in-india\" data-filter-name=\"chips_Company-Tags_public\" title=\"Public companies in India\" class=\"ab_chip body-medium\">\\n\\t\\t\\t\\t\\t\\tPublic\\n\\t\\t\\t\\t\\t</a></div></div></div> <!----> <p itemprop=\"description\" class=\"description body-small\">\\n\\t\\t\\t\\tAt IBM, work is more than a job - it\\'s a calling: To build. To design. To code. To consult. To think along with clients and sell. To make markets. To invent. To collaborate. Not just to do something better, but to attempt things you\\'ve never thought possible. To lead in this new era of technology and solve some of the world\\'s most challenging problems.\\n \\nIBM is a leading cloud platform and cognitive solutions company. Restlessly reinventing since 1911, we are the largest technology and consulting employer in the world, with more than 350,000 employees serving clients in 170 countries. With Watson, the AI platform for business, powered by data, we are building industry-based solutions to real-world problems. For more than seven decades, IBM Research has defined the future of information technology with more than 3,000 researchers in 12 labs located across six continents.\\n\\t\\t\\t</p></div> <div class=\"company-action-center\"><a href=\"/overview/ibm-overview\" title=\"IBM Overview\" class=\"body-medium\">\\n\\t\\t\\tAbout\\n\\t\\t\\t<!----></a><a href=\"/reviews/ibm-reviews\" title=\"IBM Reviews\" class=\"body-medium\">\\n\\t\\t\\tReviews\\n\\t\\t\\t<span class=\"caption-subdued-large\">\\n\\t\\t\\t\\t8.7k\\n\\t\\t\\t</span></a><a title=\"IBM Salaries\" href=\"https://www.ambitionbox.com/salaries/ibm-salaries\" class=\"body-medium\">\\n\\t\\t\\tSalaries\\n\\t\\t\\t<span class=\"caption-subdued-large\">\\n\\t\\t\\t\\t56.6k\\n\\t\\t\\t</span></a><a title=\"IBM Interviews\" href=\"https://www.ambitionbox.com/interviews/ibm-interview-questions\" class=\"body-medium\">\\n\\t\\t\\tInterviews\\n\\t\\t\\t<span class=\"caption-subdued-large\">\\n\\t\\t\\t\\t178\\n\\t\\t\\t</span></a><a href=\"/jobs/ibm-jobs\" title=\"IBM Jobs\" class=\"body-medium\">\\n\\t\\t\\tJobs\\n\\t\\t\\t<span class=\"caption-subdued-large\">\\n\\t\\t\\t\\t2.5k\\n\\t\\t\\t</span></a></div></div><div itemprop=\"itemListElement\" itemscope=\"itemscope\" itemtype=\"http://schema.org/ListItem\" class=\"ab-company-result-card\" data-v-6f97e305><meta itemprop=\"position\" content=\"13\"> <meta itemprop=\"name\" content=\"Axis Bank\"> <meta itemprop=\"alternateName\" content=\"Axis Bank overview\"> <meta itemprop=\"url\" content=\"https://www.ambitionbox.com/overview/axis-bank-overview\"> <meta itemprop=\"image\" content=\"https://static.ambitionbox.com/alpha/company/photos/logos/axis_bank.jpg\"> <div class=\"company-content-wrapper\"><div class=\"company-content\"><div class=\"company-logo\"><img data-src=\"https://static.ambitionbox.com/alpha/company/photos/logos/axis_bank.jpg\" src=\"https://static.ambitionbox.com/static/icons/company-placeholder.svg\" alt=\"Axis Bank logo\" onerror=\"this.onerror=null;this.src=\\'/static/icons/company-placeholder.svg\\';\" class=\"lazy\"></div> <div class=\"company-info-wrapper\"><div class=\"company-info\"><div class=\"left\"><a href=\"/overview/axis-bank-overview\"><h2 title=\"Axis Bank\" class=\"company-name bold-title-l\">\\n\\t\\t\\t\\t\\t\\t\\t\\tAxis Bank\\n\\t\\t\\t\\t\\t\\t\\t</h2></a> <div class=\"rating-wrapper\"><p class=\"rating badge-large rating-4\"><i class=\"icon icon-star\"></i>\\n\\t\\t\\t\\t\\t\\t\\t\\t4.0\\n\\t\\t\\t\\t\\t\\t\\t</p> <a href=\"https://www.ambitionbox.com/reviews/axis-bank-reviews\" class=\"review-count sbold-Labels\">\\n\\t\\t\\t\\t\\t\\t\\t\\t(8.7k Reviews)\\n\\t\\t\\t\\t\\t\\t\\t</a></div></div> <button class=\"ab_btn follow-btn invert round\"><span class=\"ctas-btn-medium\">Follow</span></button></div> <div class=\"company-basic-info\"><p class=\"infoEntity sbold-list-header\"><i class=\"icon-domain\"></i>\\n\\t\\t\\t\\t\\t\\tPublic\\n\\t\\t\\t\\t\\t</p> <p class=\"infoEntity sbold-list-header\"><i class=\"icon-pin-drop\"></i>\\n\\t\\t\\t\\t\\t\\tMumbai + 674 more\\n\\t\\t\\t\\t\\t</p> <p class=\"infoEntity sbold-list-header\"><i class=\"icon-access-time\"></i>\\n\\t\\t\\t\\t\\t\\t27 years old\\n\\t\\t\\t\\t\\t</p> <p class=\"infoEntity sbold-list-header\"><i class=\"icon-supervisor-account\"></i>\\n\\t\\t\\t\\t\\t\\t10000+ employees\\n\\t\\t\\t\\t\\t</p></div> <div class=\"chips-block\"><a href=\"/banking-or-insurance-or-accounting-companies-in-india\" data-filter-name=\"chips_Company-Tags_banking-or-insurance-or-accounting\" title=\"Banking / Insurance / Accounting companies in India\" class=\"ab_chip body-medium\">\\n\\t\\t\\t\\t\\t\\tBanking / Insurance / Accounting\\n\\t\\t\\t\\t\\t</a><a href=\"/financial-services-companies-in-india\" data-filter-name=\"chips_Company-Tags_financial-services\" title=\"Financial Services companies in India\" class=\"ab_chip body-medium\">\\n\\t\\t\\t\\t\\t\\tFinancial Services\\n\\t\\t\\t\\t\\t</a><a href=\"/mnc-companies-in-india\" data-filter-name=\"chips_Company-Tags_mnc\" title=\"MNC companies in India\" class=\"ab_chip body-medium\">\\n\\t\\t\\t\\t\\t\\tMNC\\n\\t\\t\\t\\t\\t</a><a href=\"/fortune500-companies-in-india\" data-filter-name=\"chips_Company-Tags_fortune500\" title=\"Fortune500 companies in India\" class=\"ab_chip body-medium\">\\n\\t\\t\\t\\t\\t\\tFortune500\\n\\t\\t\\t\\t\\t</a><a href=\"/forbesglobal2000-companies-in-india\" data-filter-name=\"chips_Company-Tags_forbesglobal2000\" title=\"Forbes Global 2000 companies in India\" class=\"ab_chip body-medium\">\\n\\t\\t\\t\\t\\t\\tForbes Global 2000\\n\\t\\t\\t\\t\\t</a><a href=\"/public-companies-in-india\" data-filter-name=\"chips_Company-Tags_public\" title=\"Public companies in India\" class=\"ab_chip body-medium\">\\n\\t\\t\\t\\t\\t\\tPublic\\n\\t\\t\\t\\t\\t</a><a href=\"/list-of-companies?CompanyLocation=mumbai\" data-filter-name=\"chips_Company-Tags_mumbai\" title=\"Companies in Mumbai\" class=\"ab_chip body-medium\">\\n\\t\\t\\t\\t\\t\\tMumbai\\n\\t\\t\\t\\t\\t</a></div></div></div> <!----> <p itemprop=\"description\" class=\"description body-small\">\\n\\t\\t\\t\\tAxis Bank is the third largest private sector bank in India. The Bank offers the entire spectrum of financial services to customer segments covering Large and Mid-Corporates, MSME, Agriculture and Retail Businesses.\\n\\nThe Bank has a large footprint of 4,050 domestic branches (including extension counters) with 11,801 ATMs &amp; 4,917 cash recyclers spread across the country as on 31st March, 2019. The overseas operations of the Bank are spread over nine international offices with branches at Singapore, Hong Kong, Dubai (at the DIFC), Colombo and Shanghai; representative offices at Dhaka, Dubai, Abu Dhabi and an overseas subsidiary at London, UK. The international offices focus on corporate lending, trade finance, syndication, investment banking and liability businesses.\\n\\t\\t\\t</p></div> <div class=\"company-action-center\"><a href=\"/overview/axis-bank-overview\" title=\"Axis Bank Overview\" class=\"body-medium\">\\n\\t\\t\\tAbout\\n\\t\\t\\t<!----></a><a href=\"/reviews/axis-bank-reviews\" title=\"Axis Bank Reviews\" class=\"body-medium\">\\n\\t\\t\\tReviews\\n\\t\\t\\t<span class=\"caption-subdued-large\">\\n\\t\\t\\t\\t8.7k\\n\\t\\t\\t</span></a><a title=\"Axis Bank Salaries\" href=\"https://www.ambitionbox.com/salaries/axis-bank-salaries\" class=\"body-medium\">\\n\\t\\t\\tSalaries\\n\\t\\t\\t<span class=\"caption-subdued-large\">\\n\\t\\t\\t\\t39.3k\\n\\t\\t\\t</span></a><a title=\"Axis Bank Interviews\" href=\"https://www.ambitionbox.com/interviews/axis-bank-interview-questions\" class=\"body-medium\">\\n\\t\\t\\tInterviews\\n\\t\\t\\t<span class=\"caption-subdued-large\">\\n\\t\\t\\t\\t86\\n\\t\\t\\t</span></a><a href=\"/jobs/axis-bank-jobs\" title=\"Axis Bank Jobs\" class=\"body-medium\">\\n\\t\\t\\tJobs\\n\\t\\t\\t<span class=\"caption-subdued-large\">\\n\\t\\t\\t\\t128\\n\\t\\t\\t</span></a></div></div><div itemprop=\"itemListElement\" itemscope=\"itemscope\" itemtype=\"http://schema.org/ListItem\" class=\"ab-company-result-card\" data-v-6f97e305><meta itemprop=\"position\" content=\"14\"> <meta itemprop=\"name\" content=\"Genpact\"> <meta itemprop=\"alternateName\" content=\"Genpact overview\"> <meta itemprop=\"url\" content=\"https://www.ambitionbox.com/overview/genpact-overview\"> <meta itemprop=\"image\" content=\"https://static.ambitionbox.com/alpha/company/photos/logos/genpact-india-pvt-limited.jpg\"> <div class=\"company-content-wrapper\"><div class=\"company-content\"><div class=\"company-logo\"><img data-src=\"https://static.ambitionbox.com/alpha/company/photos/logos/genpact-india-pvt-limited.jpg\" src=\"https://static.ambitionbox.com/static/icons/company-placeholder.svg\" alt=\"Genpact logo\" onerror=\"this.onerror=null;this.src=\\'/static/icons/company-placeholder.svg\\';\" class=\"lazy\"></div> <div class=\"company-info-wrapper\"><div class=\"company-info\"><div class=\"left\"><a href=\"/overview/genpact-overview\"><h2 title=\"Genpact\" class=\"company-name bold-title-l\">\\n\\t\\t\\t\\t\\t\\t\\t\\tGenpact\\n\\t\\t\\t\\t\\t\\t\\t</h2></a> <div class=\"rating-wrapper\"><p class=\"rating badge-large rating-4\"><i class=\"icon icon-star\"></i>\\n\\t\\t\\t\\t\\t\\t\\t\\t4.0\\n\\t\\t\\t\\t\\t\\t\\t</p> <a href=\"https://www.ambitionbox.com/reviews/genpact-reviews\" class=\"review-count sbold-Labels\">\\n\\t\\t\\t\\t\\t\\t\\t\\t(8.7k Reviews)\\n\\t\\t\\t\\t\\t\\t\\t</a></div></div> <button class=\"ab_btn follow-btn invert round\"><span class=\"ctas-btn-medium\">Follow</span></button></div> <div class=\"company-basic-info\"><p class=\"infoEntity sbold-list-header\"><i class=\"icon-domain\"></i>\\n\\t\\t\\t\\t\\t\\tPrivate\\n\\t\\t\\t\\t\\t</p> <p class=\"infoEntity sbold-list-header\"><i class=\"icon-pin-drop\"></i>\\n\\t\\t\\t\\t\\t\\tNew York + 32 more\\n\\t\\t\\t\\t\\t</p> <p class=\"infoEntity sbold-list-header\"><i class=\"icon-access-time\"></i>\\n\\t\\t\\t\\t\\t\\t23 years old\\n\\t\\t\\t\\t\\t</p> <p class=\"infoEntity sbold-list-header\"><i class=\"icon-supervisor-account\"></i>\\n\\t\\t\\t\\t\\t\\t10000+ employees\\n\\t\\t\\t\\t\\t</p></div> <div class=\"chips-block\"><a href=\"/consulting-companies-in-india\" data-filter-name=\"chips_Company-Tags_consulting\" title=\"Consulting companies in India\" class=\"ab_chip body-medium\">\\n\\t\\t\\t\\t\\t\\tConsulting\\n\\t\\t\\t\\t\\t</a><a href=\"/it-or-ites-companies-in-india\" data-filter-name=\"chips_Company-Tags_it-or-ites\" title=\"IT / ITES companies in India\" class=\"ab_chip body-medium\">\\n\\t\\t\\t\\t\\t\\tIT / ITES\\n\\t\\t\\t\\t\\t</a><a href=\"/mnc-companies-in-india\" data-filter-name=\"chips_Company-Tags_mnc\" title=\"MNC companies in India\" class=\"ab_chip body-medium\">\\n\\t\\t\\t\\t\\t\\tMNC\\n\\t\\t\\t\\t\\t</a></div></div></div> <!----> <p itemprop=\"description\" class=\"description body-small\">\\n\\t\\t\\t\\tGenpact (NYSE: G) is a global professional services firm that makes business transformation real. We drive digital-led innovation and digitally-enabled intelligent operations for our clients, guided by our experience running thousands of processes primarily for Global Fortune 500 companies. We think with design, dream in digital, and solve problems with data and analytics. Combining our expertise in end-to-end operations and our AI-based platform, Genpact Cora, we focus on the details – all 87,000+ of us. From New York to New Delhi and more than 25 countries in between, we connect every dot, reimagine every process, and reinvent companies’ ways of working. We know that reimagining each step from start to finish will create better business outcomes. Whatever it is, we’ll be there with you – accelerating digital transformation to create bold, lasting results – because transformation happens here.\\n\\nGenpact began in 1997 as a business unit within General Electric. In January 2005, Genpact became an independent company to bring our process expertise and unique DNA in Lean management to clients beyond GE, and then in August 2007, we became a publicly-traded company. Bain Capital became Genpact’s largest shareholder in November 2012, with the strategic objective to grow the company further. Since December 31, 2005, we have expanded from 19,000+ employees and annual revenues of US$491.90 million to 87,000+ employees and annual revenues of US$3.00 billion as of December 31, 2018.\\n\\t\\t\\t</p></div> <div class=\"company-action-center\"><a href=\"/overview/genpact-overview\" title=\"Genpact Overview\" class=\"body-medium\">\\n\\t\\t\\tAbout\\n\\t\\t\\t<!----></a><a href=\"/reviews/genpact-reviews\" title=\"Genpact Reviews\" class=\"body-medium\">\\n\\t\\t\\tReviews\\n\\t\\t\\t<span class=\"caption-subdued-large\">\\n\\t\\t\\t\\t8.7k\\n\\t\\t\\t</span></a><a title=\"Genpact Salaries\" href=\"https://www.ambitionbox.com/salaries/genpact-salaries\" class=\"body-medium\">\\n\\t\\t\\tSalaries\\n\\t\\t\\t<span class=\"caption-subdued-large\">\\n\\t\\t\\t\\t40.7k\\n\\t\\t\\t</span></a><a title=\"Genpact Interviews\" href=\"https://www.ambitionbox.com/interviews/genpact-interview-questions\" class=\"body-medium\">\\n\\t\\t\\tInterviews\\n\\t\\t\\t<span class=\"caption-subdued-large\">\\n\\t\\t\\t\\t89\\n\\t\\t\\t</span></a><a href=\"/jobs/genpact-jobs\" title=\"Genpact Jobs\" class=\"body-medium\">\\n\\t\\t\\tJobs\\n\\t\\t\\t<span class=\"caption-subdued-large\">\\n\\t\\t\\t\\t224\\n\\t\\t\\t</span></a></div></div><div itemprop=\"itemListElement\" itemscope=\"itemscope\" itemtype=\"http://schema.org/ListItem\" class=\"ab-company-result-card\" data-v-6f97e305><meta itemprop=\"position\" content=\"15\"> <meta itemprop=\"name\" content=\"Reliance jio\"> <meta itemprop=\"alternateName\" content=\"Reliance jio overview\"> <meta itemprop=\"url\" content=\"https://www.ambitionbox.com/overview/ireliance-jio-overview\"> <meta itemprop=\"image\" content=\"https://static.ambitionbox.com/alpha/company/photos/logos/reliance-jio-infocomm.jpg\"> <div class=\"company-content-wrapper\"><div class=\"company-content\"><div class=\"company-logo\"><img data-src=\"https://static.ambitionbox.com/alpha/company/photos/logos/reliance-jio-infocomm.jpg\" src=\"https://static.ambitionbox.com/static/icons/company-placeholder.svg\" alt=\"Reliance jio logo\" onerror=\"this.onerror=null;this.src=\\'/static/icons/company-placeholder.svg\\';\" class=\"lazy\"></div> <div class=\"company-info-wrapper\"><div class=\"company-info\"><div class=\"left\"><a href=\"/overview/ireliance-jio-overview\"><h2 title=\"Reliance jio\" class=\"company-name bold-title-l\">\\n\\t\\t\\t\\t\\t\\t\\t\\tReliance jio\\n\\t\\t\\t\\t\\t\\t\\t</h2></a> <div class=\"rating-wrapper\"><p class=\"rating badge-large rating-4\"><i class=\"icon icon-star\"></i>\\n\\t\\t\\t\\t\\t\\t\\t\\t4.0\\n\\t\\t\\t\\t\\t\\t\\t</p> <a href=\"https://www.ambitionbox.com/reviews/ireliance-jio-reviews\" class=\"review-count sbold-Labels\">\\n\\t\\t\\t\\t\\t\\t\\t\\t(8.6k Reviews)\\n\\t\\t\\t\\t\\t\\t\\t</a></div></div> <button class=\"ab_btn follow-btn invert round\"><span class=\"ctas-btn-medium\">Follow</span></button></div> <div class=\"company-basic-info\"><p class=\"infoEntity sbold-list-header\"><i class=\"icon-domain\"></i>\\n\\t\\t\\t\\t\\t\\tPublic\\n\\t\\t\\t\\t\\t</p> <p class=\"infoEntity sbold-list-header\"><i class=\"icon-pin-drop\"></i>\\n\\t\\t\\t\\t\\t\\tNavi Mumbai + 601 more\\n\\t\\t\\t\\t\\t</p> <p class=\"infoEntity sbold-list-header\"><i class=\"icon-access-time\"></i>\\n\\t\\t\\t\\t\\t\\t10 years old\\n\\t\\t\\t\\t\\t</p> <p class=\"infoEntity sbold-list-header\"><i class=\"icon-supervisor-account\"></i>\\n\\t\\t\\t\\t\\t\\t10000+ employees\\n\\t\\t\\t\\t\\t</p></div> <div class=\"chips-block\"><a href=\"/telecom-or-isp-companies-in-india\" data-filter-name=\"chips_Company-Tags_telecom-or-isp\" title=\"Telecom / ISP companies in India\" class=\"ab_chip body-medium\">\\n\\t\\t\\t\\t\\t\\tTelecom / ISP\\n\\t\\t\\t\\t\\t</a><a href=\"/mnc-companies-in-india\" data-filter-name=\"chips_Company-Tags_mnc\" title=\"MNC companies in India\" class=\"ab_chip body-medium\">\\n\\t\\t\\t\\t\\t\\tMNC\\n\\t\\t\\t\\t\\t</a><a href=\"/public-companies-in-india\" data-filter-name=\"chips_Company-Tags_public\" title=\"Public companies in India\" class=\"ab_chip body-medium\">\\n\\t\\t\\t\\t\\t\\tPublic\\n\\t\\t\\t\\t\\t</a><a href=\"/list-of-companies?CompanyLocation=navi-mumbai\" data-filter-name=\"chips_Company-Tags_navi-mumbai\" title=\"Companies in Navi Mumbai\" class=\"ab_chip body-medium\">\\n\\t\\t\\t\\t\\t\\tNavi Mumbai\\n\\t\\t\\t\\t\\t</a></div></div></div> <!----> <p itemprop=\"description\" class=\"description body-small\">\\n\\t\\t\\t\\tMake a new start. A start that will build beautiful relationships, shape millions of ideas. Enable a new way to live, learn, work and play.\\n\\nAt Jio, we build products and services of the future to empower billions of Indians make their dreams a reality.\\n\\nJio is about YOU. Join the movement to make India Digital.\\n\\t\\t\\t</p></div> <div class=\"company-action-center\"><a href=\"/overview/ireliance-jio-overview\" title=\"Reliance jio Overview\" class=\"body-medium\">\\n\\t\\t\\tAbout\\n\\t\\t\\t<!----></a><a href=\"/reviews/ireliance-jio-reviews\" title=\"Reliance jio Reviews\" class=\"body-medium\">\\n\\t\\t\\tReviews\\n\\t\\t\\t<span class=\"caption-subdued-large\">\\n\\t\\t\\t\\t8.6k\\n\\t\\t\\t</span></a><a title=\"Reliance jio Salaries\" href=\"https://www.ambitionbox.com/salaries/ireliance-jio-salaries\" class=\"body-medium\">\\n\\t\\t\\tSalaries\\n\\t\\t\\t<span class=\"caption-subdued-large\">\\n\\t\\t\\t\\t26k\\n\\t\\t\\t</span></a><a title=\"Reliance jio Interviews\" href=\"https://www.ambitionbox.com/interviews/ireliance-jio-interview-questions\" class=\"body-medium\">\\n\\t\\t\\tInterviews\\n\\t\\t\\t<span class=\"caption-subdued-large\">\\n\\t\\t\\t\\t64\\n\\t\\t\\t</span></a><a href=\"/jobs/ireliance-jio-jobs\" title=\"Reliance jio Jobs\" class=\"body-medium\">\\n\\t\\t\\tJobs\\n\\t\\t\\t<span class=\"caption-subdued-large\">\\n\\t\\t\\t\\t21\\n\\t\\t\\t</span></a></div></div><div itemprop=\"itemListElement\" itemscope=\"itemscope\" itemtype=\"http://schema.org/ListItem\" class=\"ab-company-result-card\" data-v-6f97e305><meta itemprop=\"position\" content=\"16\"> <meta itemprop=\"name\" content=\"Wipro\"> <meta itemprop=\"alternateName\" content=\"Wipro overview\"> <meta itemprop=\"url\" content=\"https://www.ambitionbox.com/overview/wipro-overview\"> <meta itemprop=\"image\" content=\"https://static.ambitionbox.com/alpha/company/photos/logos/wipro.jpg\"> <div class=\"company-content-wrapper\"><div class=\"company-content\"><div class=\"company-logo\"><img data-src=\"https://static.ambitionbox.com/alpha/company/photos/logos/wipro.jpg\" src=\"https://static.ambitionbox.com/static/icons/company-placeholder.svg\" alt=\"Wipro logo\" onerror=\"this.onerror=null;this.src=\\'/static/icons/company-placeholder.svg\\';\" class=\"lazy\"></div> <div class=\"company-info-wrapper\"><div class=\"company-info\"><div class=\"left\"><a href=\"/overview/wipro-overview\"><h2 title=\"Wipro\" class=\"company-name bold-title-l\">\\n\\t\\t\\t\\t\\t\\t\\t\\tWipro\\n\\t\\t\\t\\t\\t\\t\\t</h2></a> <div class=\"rating-wrapper\"><p class=\"rating badge-large rating-35\"><i class=\"icon icon-star\"></i>\\n\\t\\t\\t\\t\\t\\t\\t\\t3.8\\n\\t\\t\\t\\t\\t\\t\\t</p> <a href=\"https://www.ambitionbox.com/reviews/wipro-reviews\" class=\"review-count sbold-Labels\">\\n\\t\\t\\t\\t\\t\\t\\t\\t(7.8k Reviews)\\n\\t\\t\\t\\t\\t\\t\\t</a></div></div> <button class=\"ab_btn follow-btn invert round\"><span class=\"ctas-btn-medium\">Follow</span></button></div> <div class=\"company-basic-info\"><p class=\"infoEntity sbold-list-header\"><i class=\"icon-domain\"></i>\\n\\t\\t\\t\\t\\t\\tPublic\\n\\t\\t\\t\\t\\t</p> <p class=\"infoEntity sbold-list-header\"><i class=\"icon-pin-drop\"></i>\\n\\t\\t\\t\\t\\t\\tBangalore + 125 more\\n\\t\\t\\t\\t\\t</p> <p class=\"infoEntity sbold-list-header\"><i class=\"icon-access-time\"></i>\\n\\t\\t\\t\\t\\t\\t75 years old\\n\\t\\t\\t\\t\\t</p> <p class=\"infoEntity sbold-list-header\"><i class=\"icon-supervisor-account\"></i>\\n\\t\\t\\t\\t\\t\\t10000+ employees\\n\\t\\t\\t\\t\\t</p></div> <div class=\"chips-block\"><a href=\"/consulting-companies-in-india\" data-filter-name=\"chips_Company-Tags_consulting\" title=\"Consulting companies in India\" class=\"ab_chip body-medium\">\\n\\t\\t\\t\\t\\t\\tConsulting\\n\\t\\t\\t\\t\\t</a><a href=\"/it-or-ites-companies-in-india\" data-filter-name=\"chips_Company-Tags_it-or-ites\" title=\"IT / ITES companies in India\" class=\"ab_chip body-medium\">\\n\\t\\t\\t\\t\\t\\tIT / ITES\\n\\t\\t\\t\\t\\t</a><a href=\"/mnc-companies-in-india\" data-filter-name=\"chips_Company-Tags_mnc\" title=\"MNC companies in India\" class=\"ab_chip body-medium\">\\n\\t\\t\\t\\t\\t\\tMNC\\n\\t\\t\\t\\t\\t</a><a href=\"/conglomerate-companies-in-india\" data-filter-name=\"chips_Company-Tags_conglomerate\" title=\"Conglomerate companies in India\" class=\"ab_chip body-medium\">\\n\\t\\t\\t\\t\\t\\tConglomerate\\n\\t\\t\\t\\t\\t</a><a href=\"/fortune500-companies-in-india\" data-filter-name=\"chips_Company-Tags_fortune500\" title=\"Fortune500 companies in India\" class=\"ab_chip body-medium\">\\n\\t\\t\\t\\t\\t\\tFortune500\\n\\t\\t\\t\\t\\t</a><a href=\"/forbesglobal2000-companies-in-india\" data-filter-name=\"chips_Company-Tags_forbesglobal2000\" title=\"Forbes Global 2000 companies in India\" class=\"ab_chip body-medium\">\\n\\t\\t\\t\\t\\t\\tForbes Global 2000\\n\\t\\t\\t\\t\\t</a><a href=\"/public-companies-in-india\" data-filter-name=\"chips_Company-Tags_public\" title=\"Public companies in India\" class=\"ab_chip body-medium\">\\n\\t\\t\\t\\t\\t\\tPublic\\n\\t\\t\\t\\t\\t</a></div></div></div> <!----> <p itemprop=\"description\" class=\"description body-small\">\\n\\t\\t\\t\\tWipro Limited (NYSE: WIT, BSE: 507685, NSE: WIPRO) is a leading global information technology, consulting and business process services company. We harness the power of cognitive computing, hyper-automation, robotics, cloud, analytics and emerging technologies to help our clients adapt to the digital world and make them successful. A company recognized globally for its comprehensive portfolio of services, a strong commitment to sustainability and good corporate citizenship, we have over 160,000 dedicated employees serving clients across six continents. Together, we discover ideas and connect the dots to build a better and a bold new future.\\n\\t\\t\\t</p></div> <div class=\"company-action-center\"><a href=\"/overview/wipro-overview\" title=\"Wipro Overview\" class=\"body-medium\">\\n\\t\\t\\tAbout\\n\\t\\t\\t<!----></a><a href=\"/reviews/wipro-reviews\" title=\"Wipro Reviews\" class=\"body-medium\">\\n\\t\\t\\tReviews\\n\\t\\t\\t<span class=\"caption-subdued-large\">\\n\\t\\t\\t\\t7.8k\\n\\t\\t\\t</span></a><a title=\"Wipro Salaries\" href=\"https://www.ambitionbox.com/salaries/wipro-salaries\" class=\"body-medium\">\\n\\t\\t\\tSalaries\\n\\t\\t\\t<span class=\"caption-subdued-large\">\\n\\t\\t\\t\\t91k\\n\\t\\t\\t</span></a><a title=\"Wipro Interviews\" href=\"https://www.ambitionbox.com/interviews/wipro-interview-questions\" class=\"body-medium\">\\n\\t\\t\\tInterviews\\n\\t\\t\\t<span class=\"caption-subdued-large\">\\n\\t\\t\\t\\t221\\n\\t\\t\\t</span></a><a href=\"/jobs/wipro-jobs\" title=\"Wipro Jobs\" class=\"body-medium\">\\n\\t\\t\\tJobs\\n\\t\\t\\t<span class=\"caption-subdued-large\">\\n\\t\\t\\t\\t94\\n\\t\\t\\t</span></a></div></div><div itemprop=\"itemListElement\" itemscope=\"itemscope\" itemtype=\"http://schema.org/ListItem\" class=\"ab-company-result-card\" data-v-6f97e305><meta itemprop=\"position\" content=\"17\"> <meta itemprop=\"name\" content=\"Concentrix Corporation\"> <meta itemprop=\"alternateName\" content=\"Concentrix Corporation overview\"> <meta itemprop=\"url\" content=\"https://www.ambitionbox.com/overview/concentrix-corporation-overview\"> <meta itemprop=\"image\" content=\"https://static.ambitionbox.com/alpha/company/photos/logos/concentrix-corporation.jpg\"> <div class=\"company-content-wrapper\"><div class=\"company-content\"><div class=\"company-logo\"><img data-src=\"https://static.ambitionbox.com/alpha/company/photos/logos/concentrix-corporation.jpg\" src=\"https://static.ambitionbox.com/static/icons/company-placeholder.svg\" alt=\"Concentrix Corporation logo\" onerror=\"this.onerror=null;this.src=\\'/static/icons/company-placeholder.svg\\';\" class=\"lazy\"></div> <div class=\"company-info-wrapper\"><div class=\"company-info\"><div class=\"left\"><a href=\"/overview/concentrix-corporation-overview\"><h2 title=\"Concentrix Corporation\" class=\"company-name bold-title-l\">\\n\\t\\t\\t\\t\\t\\t\\t\\tConcentrix Corpora...\\n\\t\\t\\t\\t\\t\\t\\t</h2></a> <div class=\"rating-wrapper\"><p class=\"rating badge-large rating-4\"><i class=\"icon icon-star\"></i>\\n\\t\\t\\t\\t\\t\\t\\t\\t4.0\\n\\t\\t\\t\\t\\t\\t\\t</p> <a href=\"https://www.ambitionbox.com/reviews/concentrix-corporation-reviews\" class=\"review-count sbold-Labels\">\\n\\t\\t\\t\\t\\t\\t\\t\\t(7.5k Reviews)\\n\\t\\t\\t\\t\\t\\t\\t</a></div></div> <button class=\"ab_btn follow-btn invert round\"><span class=\"ctas-btn-medium\">Follow</span></button></div> <div class=\"company-basic-info\"><p class=\"infoEntity sbold-list-header\"><i class=\"icon-domain\"></i>\\n\\t\\t\\t\\t\\t\\tPublic\\n\\t\\t\\t\\t\\t</p> <p class=\"infoEntity sbold-list-header\"><i class=\"icon-pin-drop\"></i>\\n\\t\\t\\t\\t\\t\\tFremont + 38 more\\n\\t\\t\\t\\t\\t</p> <p class=\"infoEntity sbold-list-header\"><i class=\"icon-access-time\"></i>\\n\\t\\t\\t\\t\\t\\t37 years old\\n\\t\\t\\t\\t\\t</p> <p class=\"infoEntity sbold-list-header\"><i class=\"icon-supervisor-account\"></i>\\n\\t\\t\\t\\t\\t\\t10000+ employees\\n\\t\\t\\t\\t\\t</p></div> <div class=\"chips-block\"><a href=\"/bpo-or-kpo-companies-in-india\" data-filter-name=\"chips_Company-Tags_bpo-or-kpo\" title=\"BPO/KPO companies in India\" class=\"ab_chip body-medium\">\\n\\t\\t\\t\\t\\t\\tBPO/KPO\\n\\t\\t\\t\\t\\t</a><a href=\"/public-companies-in-india\" data-filter-name=\"chips_Company-Tags_public\" title=\"Public companies in India\" class=\"ab_chip body-medium\">\\n\\t\\t\\t\\t\\t\\tPublic\\n\\t\\t\\t\\t\\t</a></div></div></div> <!----> <p itemprop=\"description\" class=\"description body-small\">\\n\\t\\t\\t\\tConcentrix is a technology-enabled global business services company specializing in customer engagement and improving business performance. We partner with ambitious, progressive executives around the world to future-proof their business and stay ahead of the competition and customer expectations.\\n\\nIt’s all about tapping into sentiment and building an emotional connection that keeps customers and staff fanatical about your brand. That’s where we come in—we create exceptional customer engagement, accelerate digital transformation, and deliver actionable CX insights.\\n\\nWe help you reimagine your business—and get you there faster than you ever thought possible.\\n\\t\\t\\t</p></div> <div class=\"company-action-center\"><a href=\"/overview/concentrix-corporation-overview\" title=\"Concentrix Corporation Overview\" class=\"body-medium\">\\n\\t\\t\\tAbout\\n\\t\\t\\t<!----></a><a href=\"/reviews/concentrix-corporation-reviews\" title=\"Concentrix Corporation Reviews\" class=\"body-medium\">\\n\\t\\t\\tReviews\\n\\t\\t\\t<span class=\"caption-subdued-large\">\\n\\t\\t\\t\\t7.5k\\n\\t\\t\\t</span></a><a title=\"Concentrix Corporation Salaries\" href=\"https://www.ambitionbox.com/salaries/concentrix-corporation-salaries\" class=\"body-medium\">\\n\\t\\t\\tSalaries\\n\\t\\t\\t<span class=\"caption-subdued-large\">\\n\\t\\t\\t\\t16.4k\\n\\t\\t\\t</span></a><a title=\"Concentrix Corporation Interviews\" href=\"https://www.ambitionbox.com/interviews/concentrix-corporation-interview-questions\" class=\"body-medium\">\\n\\t\\t\\tInterviews\\n\\t\\t\\t<span class=\"caption-subdued-large\">\\n\\t\\t\\t\\t51\\n\\t\\t\\t</span></a><a href=\"/jobs/concentrix-corporation-jobs\" title=\"Concentrix Corporation Jobs\" class=\"body-medium\">\\n\\t\\t\\tJobs\\n\\t\\t\\t<span class=\"caption-subdued-large\">\\n\\t\\t\\t\\t71\\n\\t\\t\\t</span></a></div></div><div itemprop=\"itemListElement\" itemscope=\"itemscope\" itemtype=\"http://schema.org/ListItem\" class=\"ab-company-result-card\" data-v-6f97e305><meta itemprop=\"position\" content=\"18\"> <meta itemprop=\"name\" content=\"HDB Financial Services\"> <meta itemprop=\"alternateName\" content=\"HDB Financial Services overview\"> <meta itemprop=\"url\" content=\"https://www.ambitionbox.com/overview/hdb-financial-services-overview\"> <meta itemprop=\"image\" content=\"https://static.ambitionbox.com/alpha/company/photos/logos/hdb-financial-services-6193.jpg\"> <div class=\"company-content-wrapper\"><div class=\"company-content\"><div class=\"company-logo\"><img data-src=\"https://static.ambitionbox.com/alpha/company/photos/logos/hdb-financial-services-6193.jpg\" src=\"https://static.ambitionbox.com/static/icons/company-placeholder.svg\" alt=\"HDB Financial Services logo\" onerror=\"this.onerror=null;this.src=\\'/static/icons/company-placeholder.svg\\';\" class=\"lazy\"></div> <div class=\"company-info-wrapper\"><div class=\"company-info\"><div class=\"left\"><a href=\"/overview/hdb-financial-services-overview\"><h2 title=\"HDB Financial Services\" class=\"company-name bold-title-l\">\\n\\t\\t\\t\\t\\t\\t\\t\\tHDB Financial Serv...\\n\\t\\t\\t\\t\\t\\t\\t</h2></a> <div class=\"rating-wrapper\"><p class=\"rating badge-large rating-4\"><i class=\"icon icon-star\"></i>\\n\\t\\t\\t\\t\\t\\t\\t\\t4.0\\n\\t\\t\\t\\t\\t\\t\\t</p> <a href=\"https://www.ambitionbox.com/reviews/hdb-financial-services-reviews\" class=\"review-count sbold-Labels\">\\n\\t\\t\\t\\t\\t\\t\\t\\t(6.7k Reviews)\\n\\t\\t\\t\\t\\t\\t\\t</a></div></div> <button class=\"ab_btn follow-btn invert round\"><span class=\"ctas-btn-medium\">Follow</span></button></div> <div class=\"company-basic-info\"><p class=\"infoEntity sbold-list-header\"><i class=\"icon-domain\"></i>\\n\\t\\t\\t\\t\\t\\tPrivate\\n\\t\\t\\t\\t\\t</p> <p class=\"infoEntity sbold-list-header\"><i class=\"icon-pin-drop\"></i>\\n\\t\\t\\t\\t\\t\\tAhmedabad + 474 more\\n\\t\\t\\t\\t\\t</p> <p class=\"infoEntity sbold-list-header\"><i class=\"icon-access-time\"></i>\\n\\t\\t\\t\\t\\t\\t13 years old\\n\\t\\t\\t\\t\\t</p> <p class=\"infoEntity sbold-list-header\"><i class=\"icon-supervisor-account\"></i>\\n\\t\\t\\t\\t\\t\\t10000+ employees\\n\\t\\t\\t\\t\\t</p></div> <div class=\"chips-block\"><a href=\"/financial-services-companies-in-india\" data-filter-name=\"chips_Company-Tags_financial-services\" title=\"Financial Services companies in India\" class=\"ab_chip body-medium\">\\n\\t\\t\\t\\t\\t\\tFinancial Services\\n\\t\\t\\t\\t\\t</a><a href=\"/list-of-companies?CompanyLocation=ahmedabad\" data-filter-name=\"chips_Company-Tags_ahmedabad\" title=\"Companies in Ahmedabad\" class=\"ab_chip body-medium\">\\n\\t\\t\\t\\t\\t\\tAhmedabad\\n\\t\\t\\t\\t\\t</a></div></div></div> <!----> <p itemprop=\"description\" class=\"description body-small\">\\n\\t\\t\\t\\tHDB Financial Services (HDBFS) is a leading Non-Banking Financial Company (NBFC) that caters to the growing needs of an Aspirational India, serving both Individual &amp; Business Clients.\\n\\nIncorporated in 2007, we are a well-established business with strong capitalization. HDBFS is accredited with CARE AAA &amp; CRISIL AAA ratings for its long-term debt &amp; Bank facilities and an A1+ rating for its short-term debt &amp; commercial papers, making it a strong and reliable financial institution.\\n\\nHDBFS maintains a strong commitment to ethical conduct. Transparency is ingrained in the structure of our Code of Ethics and our compliance policies to ensure that the highest standards of professional conduct are consistently reinforced and embedded in every corner of the organisation.\\n\\n\\t\\t\\t</p></div> <div class=\"company-action-center\"><a href=\"/overview/hdb-financial-services-overview\" title=\"HDB Financial Services Overview\" class=\"body-medium\">\\n\\t\\t\\tAbout\\n\\t\\t\\t<!----></a><a href=\"/reviews/hdb-financial-services-reviews\" title=\"HDB Financial Services Reviews\" class=\"body-medium\">\\n\\t\\t\\tReviews\\n\\t\\t\\t<span class=\"caption-subdued-large\">\\n\\t\\t\\t\\t6.7k\\n\\t\\t\\t</span></a><a title=\"HDB Financial Services Salaries\" href=\"https://www.ambitionbox.com/salaries/hdb-financial-services-salaries\" class=\"body-medium\">\\n\\t\\t\\tSalaries\\n\\t\\t\\t<span class=\"caption-subdued-large\">\\n\\t\\t\\t\\t22.5k\\n\\t\\t\\t</span></a><a title=\"HDB Financial Services Interviews\" href=\"https://www.ambitionbox.com/interviews/hdb-financial-services-interview-questions\" class=\"body-medium\">\\n\\t\\t\\tInterviews\\n\\t\\t\\t<span class=\"caption-subdued-large\">\\n\\t\\t\\t\\t27\\n\\t\\t\\t</span></a><a href=\"/jobs/hdb-financial-services-jobs\" title=\"HDB Financial Services Jobs\" class=\"body-medium\">\\n\\t\\t\\tJobs\\n\\t\\t\\t<span class=\"caption-subdued-large\">\\n\\t\\t\\t\\t44\\n\\t\\t\\t</span></a></div></div><div itemprop=\"itemListElement\" itemscope=\"itemscope\" itemtype=\"http://schema.org/ListItem\" class=\"ab-company-result-card\" data-v-6f97e305><meta itemprop=\"position\" content=\"19\"> <meta itemprop=\"name\" content=\"Amazon\"> <meta itemprop=\"alternateName\" content=\"Amazon overview\"> <meta itemprop=\"url\" content=\"https://www.ambitionbox.com/overview/amazon-overview\"> <meta itemprop=\"image\" content=\"https://static.ambitionbox.com/alpha/company/photos/logos/amazon.jpg\"> <div class=\"company-content-wrapper\"><div class=\"company-content\"><div class=\"company-logo\"><img data-src=\"https://static.ambitionbox.com/alpha/company/photos/logos/amazon.jpg\" src=\"https://static.ambitionbox.com/static/icons/company-placeholder.svg\" alt=\"Amazon logo\" onerror=\"this.onerror=null;this.src=\\'/static/icons/company-placeholder.svg\\';\" class=\"lazy\"></div> <div class=\"company-info-wrapper\"><div class=\"company-info\"><div class=\"left\"><a href=\"/overview/amazon-overview\"><h2 title=\"Amazon\" class=\"company-name bold-title-l\">\\n\\t\\t\\t\\t\\t\\t\\t\\tAmazon\\n\\t\\t\\t\\t\\t\\t\\t</h2></a> <div class=\"rating-wrapper\"><p class=\"rating badge-large rating-4\"><i class=\"icon icon-star\"></i>\\n\\t\\t\\t\\t\\t\\t\\t\\t4.1\\n\\t\\t\\t\\t\\t\\t\\t</p> <a href=\"https://www.ambitionbox.com/reviews/amazon-reviews\" class=\"review-count sbold-Labels\">\\n\\t\\t\\t\\t\\t\\t\\t\\t(6k Reviews)\\n\\t\\t\\t\\t\\t\\t\\t</a></div></div> <button class=\"ab_btn follow-btn invert round\"><span class=\"ctas-btn-medium\">Follow</span></button></div> <div class=\"company-basic-info\"><p class=\"infoEntity sbold-list-header\"><i class=\"icon-domain\"></i>\\n\\t\\t\\t\\t\\t\\tPrivate\\n\\t\\t\\t\\t\\t</p> <p class=\"infoEntity sbold-list-header\"><i class=\"icon-pin-drop\"></i>\\n\\t\\t\\t\\t\\t\\tWashington + 175 more\\n\\t\\t\\t\\t\\t</p> <p class=\"infoEntity sbold-list-header\"><i class=\"icon-access-time\"></i>\\n\\t\\t\\t\\t\\t\\t26 years old\\n\\t\\t\\t\\t\\t</p> <p class=\"infoEntity sbold-list-header\"><i class=\"icon-supervisor-account\"></i>\\n\\t\\t\\t\\t\\t\\t10000+ employees\\n\\t\\t\\t\\t\\t</p></div> <div class=\"chips-block\"><a href=\"/consumer-goods-companies-in-india\" data-filter-name=\"chips_Company-Tags_consumer-goods\" title=\"Consumer goods companies in India\" class=\"ab_chip body-medium\">\\n\\t\\t\\t\\t\\t\\tConsumer goods\\n\\t\\t\\t\\t\\t</a><a href=\"/internet-companies-in-india\" data-filter-name=\"chips_Company-Tags_internet\" title=\"Internet companies in India\" class=\"ab_chip body-medium\">\\n\\t\\t\\t\\t\\t\\tInternet\\n\\t\\t\\t\\t\\t</a><a href=\"/retail-companies-in-india\" data-filter-name=\"chips_Company-Tags_retail\" title=\"Retail companies in India\" class=\"ab_chip body-medium\">\\n\\t\\t\\t\\t\\t\\tRetail\\n\\t\\t\\t\\t\\t</a><a href=\"/mnc-companies-in-india\" data-filter-name=\"chips_Company-Tags_mnc\" title=\"MNC companies in India\" class=\"ab_chip body-medium\">\\n\\t\\t\\t\\t\\t\\tMNC\\n\\t\\t\\t\\t\\t</a><a href=\"/forbesglobal2000-companies-in-india\" data-filter-name=\"chips_Company-Tags_forbesglobal2000\" title=\"Forbes Global 2000 companies in India\" class=\"ab_chip body-medium\">\\n\\t\\t\\t\\t\\t\\tForbes Global 2000\\n\\t\\t\\t\\t\\t</a></div></div></div> <!----> <p itemprop=\"description\" class=\"description body-small\">\\n\\t\\t\\t\\tAmazon is guided by four principles: customer obsession rather than competitor focus, passion for invention, commitment to operational excellence, and long-term thinking. We are driven by the excitement of building technologies, inventing products, and providing services that change lives. We embrace new ways of doing things, make decisions quickly, and are not afraid to fail. We have the scope and capabilities of a large company, and the spirit and heart of a small one.\\n\\nTogether, Amazonians research and develop new technologies from Amazon Web Services to Alexa on behalf of our customers: shoppers, sellers, content creators, and developers around the world.\\n\\t\\t\\t</p></div> <div class=\"company-action-center\"><a href=\"/overview/amazon-overview\" title=\"Amazon Overview\" class=\"body-medium\">\\n\\t\\t\\tAbout\\n\\t\\t\\t<!----></a><a href=\"/reviews/amazon-reviews\" title=\"Amazon Reviews\" class=\"body-medium\">\\n\\t\\t\\tReviews\\n\\t\\t\\t<span class=\"caption-subdued-large\">\\n\\t\\t\\t\\t6k\\n\\t\\t\\t</span></a><a title=\"Amazon Salaries\" href=\"https://www.ambitionbox.com/salaries/amazon-salaries\" class=\"body-medium\">\\n\\t\\t\\tSalaries\\n\\t\\t\\t<span class=\"caption-subdued-large\">\\n\\t\\t\\t\\t33.3k\\n\\t\\t\\t</span></a><a title=\"Amazon Interviews\" href=\"https://www.ambitionbox.com/interviews/amazon-interview-questions\" class=\"body-medium\">\\n\\t\\t\\tInterviews\\n\\t\\t\\t<span class=\"caption-subdued-large\">\\n\\t\\t\\t\\t373\\n\\t\\t\\t</span></a><a href=\"/jobs/amazon-jobs\" title=\"Amazon Jobs\" class=\"body-medium\">\\n\\t\\t\\tJobs\\n\\t\\t\\t<span class=\"caption-subdued-large\">\\n\\t\\t\\t\\t160\\n\\t\\t\\t</span></a></div></div><div itemprop=\"itemListElement\" itemscope=\"itemscope\" itemtype=\"http://schema.org/ListItem\" class=\"ab-company-result-card\" data-v-6f97e305><meta itemprop=\"position\" content=\"20\"> <meta itemprop=\"name\" content=\"Kotak Mahindra Bank\"> <meta itemprop=\"alternateName\" content=\"Kotak Mahindra Bank Ltd..\"> <meta itemprop=\"url\" content=\"https://www.ambitionbox.com/overview/kotak-mahindra-bank-overview\"> <meta itemprop=\"image\" content=\"https://static.ambitionbox.com/alpha/company/photos/logos/kotak-mahindra-bank.jpg\"> <div class=\"company-content-wrapper\"><div class=\"company-content\"><div class=\"company-logo\"><img data-src=\"https://static.ambitionbox.com/alpha/company/photos/logos/kotak-mahindra-bank.jpg\" src=\"https://static.ambitionbox.com/static/icons/company-placeholder.svg\" alt=\"Kotak Mahindra Bank Ltd.. logo\" onerror=\"this.onerror=null;this.src=\\'/static/icons/company-placeholder.svg\\';\" class=\"lazy\"></div> <div class=\"company-info-wrapper\"><div class=\"company-info\"><div class=\"left\"><a href=\"/overview/kotak-mahindra-bank-overview\"><h2 title=\"Kotak Mahindra Bank\" class=\"company-name bold-title-l\">\\n\\t\\t\\t\\t\\t\\t\\t\\tKotak Mahindra Ban...\\n\\t\\t\\t\\t\\t\\t\\t</h2></a> <div class=\"rating-wrapper\"><p class=\"rating badge-large rating-35\"><i class=\"icon icon-star\"></i>\\n\\t\\t\\t\\t\\t\\t\\t\\t3.8\\n\\t\\t\\t\\t\\t\\t\\t</p> <a href=\"https://www.ambitionbox.com/reviews/kotak-mahindra-bank-reviews\" class=\"review-count sbold-Labels\">\\n\\t\\t\\t\\t\\t\\t\\t\\t(5.9k Reviews)\\n\\t\\t\\t\\t\\t\\t\\t</a></div></div> <button class=\"ab_btn follow-btn invert round\"><span class=\"ctas-btn-medium\">Follow</span></button></div> <div class=\"company-basic-info\"><p class=\"infoEntity sbold-list-header\"><i class=\"icon-domain\"></i>\\n\\t\\t\\t\\t\\t\\tPublic\\n\\t\\t\\t\\t\\t</p> <p class=\"infoEntity sbold-list-header\"><i class=\"icon-pin-drop\"></i>\\n\\t\\t\\t\\t\\t\\tMumbai,Maharashtra + 356 more\\n\\t\\t\\t\\t\\t</p> <p class=\"infoEntity sbold-list-header\"><i class=\"icon-access-time\"></i>\\n\\t\\t\\t\\t\\t\\t17 years old\\n\\t\\t\\t\\t\\t</p> <!----></div> <div class=\"chips-block\"><a href=\"/banking-or-insurance-or-accounting-companies-in-india\" data-filter-name=\"chips_Company-Tags_banking-or-insurance-or-accounting\" title=\"Banking / Insurance / Accounting companies in India\" class=\"ab_chip body-medium\">\\n\\t\\t\\t\\t\\t\\tBanking / Insurance / Accounting\\n\\t\\t\\t\\t\\t</a><a href=\"/financial-services-companies-in-india\" data-filter-name=\"chips_Company-Tags_financial-services\" title=\"Financial Services companies in India\" class=\"ab_chip body-medium\">\\n\\t\\t\\t\\t\\t\\tFinancial Services\\n\\t\\t\\t\\t\\t</a><a href=\"/banking-companies-in-india\" data-filter-name=\"chips_Company-Tags_banking\" title=\"Banking companies in India\" class=\"ab_chip body-medium\">\\n\\t\\t\\t\\t\\t\\tBanking\\n\\t\\t\\t\\t\\t</a><a href=\"/conglomerate-companies-in-india\" data-filter-name=\"chips_Company-Tags_conglomerate\" title=\"Conglomerate companies in India\" class=\"ab_chip body-medium\">\\n\\t\\t\\t\\t\\t\\tConglomerate\\n\\t\\t\\t\\t\\t</a><a href=\"/fortune500-companies-in-india\" data-filter-name=\"chips_Company-Tags_fortune500\" title=\"Fortune500 companies in India\" class=\"ab_chip body-medium\">\\n\\t\\t\\t\\t\\t\\tFortune500\\n\\t\\t\\t\\t\\t</a><a href=\"/forbesglobal2000-companies-in-india\" data-filter-name=\"chips_Company-Tags_forbesglobal2000\" title=\"Forbes Global 2000 companies in India\" class=\"ab_chip body-medium\">\\n\\t\\t\\t\\t\\t\\tForbes Global 2000\\n\\t\\t\\t\\t\\t</a><a href=\"/public-companies-in-india\" data-filter-name=\"chips_Company-Tags_public\" title=\"Public companies in India\" class=\"ab_chip body-medium\">\\n\\t\\t\\t\\t\\t\\tPublic\\n\\t\\t\\t\\t\\t</a></div></div></div> <!----> <p itemprop=\"description\" class=\"description body-small\">\\n\\t\\t\\t\\tIn February 2003, Kotak Mahindra Finance Ltd. (KMFL), the Group\\'s flagship company, received banking license from the Reserve Bank of India (RBI), becoming the first non-banking finance company in India to convert into a bank - Kotak Mahindra Bank Ltd.\\nEffective April 1, 2015, ING Vysya Bank Ltd. merged with Kotak Mahindra Bank Ltd. \\nThe Bank has four Strategic Business Units – Consumer Banking, Corporate Banking, Commercial Banking and Treasury, which cater to retail and corporate customers across urban and rural India.\\n\\nThe Group offers a wide range of financial services that encompass every sphere of life. From commercial banking, to stock broking, mutual funds, life insurance and investment banking, the Group caters to the diverse financial needs of individuals and the corporate sector. The Group has a wide distribution network through branches and franchisees across India, and international offices in London, New York, California, Dubai, Abu Dhabi, Bahrain, Mauritius and Singapore.\\n\\t\\t\\t</p></div> <div class=\"company-action-center\"><a href=\"/overview/kotak-mahindra-bank-overview\" title=\"Kotak Mahindra Bank Overview\" class=\"body-medium\">\\n\\t\\t\\tAbout\\n\\t\\t\\t<!----></a><a href=\"/reviews/kotak-mahindra-bank-reviews\" title=\"Kotak Mahindra Bank Reviews\" class=\"body-medium\">\\n\\t\\t\\tReviews\\n\\t\\t\\t<span class=\"caption-subdued-large\">\\n\\t\\t\\t\\t5.9k\\n\\t\\t\\t</span></a><a title=\"Kotak Mahindra Bank Salaries\" href=\"https://www.ambitionbox.com/salaries/kotak-mahindra-bank-salaries\" class=\"body-medium\">\\n\\t\\t\\tSalaries\\n\\t\\t\\t<span class=\"caption-subdued-large\">\\n\\t\\t\\t\\t24.8k\\n\\t\\t\\t</span></a><a title=\"Kotak Mahindra Bank Interviews\" href=\"https://www.ambitionbox.com/interviews/kotak-mahindra-bank-interview-questions\" class=\"body-medium\">\\n\\t\\t\\tInterviews\\n\\t\\t\\t<span class=\"caption-subdued-large\">\\n\\t\\t\\t\\t36\\n\\t\\t\\t</span></a><a href=\"/jobs/kotak-mahindra-bank-jobs\" title=\"Kotak Mahindra Bank Jobs\" class=\"body-medium\">\\n\\t\\t\\tJobs\\n\\t\\t\\t<span class=\"caption-subdued-large\">\\n\\t\\t\\t\\t138\\n\\t\\t\\t</span></a></div></div><div itemprop=\"itemListElement\" itemscope=\"itemscope\" itemtype=\"http://schema.org/ListItem\" class=\"ab-company-result-card\" data-v-6f97e305><meta itemprop=\"position\" content=\"21\"> <meta itemprop=\"name\" content=\"Bharti Airtel\"> <meta itemprop=\"alternateName\" content=\"Bharti Airtel overview\"> <meta itemprop=\"url\" content=\"https://www.ambitionbox.com/overview/bharti-airtel-overview\"> <meta itemprop=\"image\" content=\"https://static.ambitionbox.com/alpha/company/photos/logos/airtel-bharti.jpg\"> <div class=\"company-content-wrapper\"><div class=\"company-content\"><div class=\"company-logo\"><img data-src=\"https://static.ambitionbox.com/alpha/company/photos/logos/airtel-bharti.jpg\" src=\"https://static.ambitionbox.com/static/icons/company-placeholder.svg\" alt=\"Bharti Airtel logo\" onerror=\"this.onerror=null;this.src=\\'/static/icons/company-placeholder.svg\\';\" class=\"lazy\"></div> <div class=\"company-info-wrapper\"><div class=\"company-info\"><div class=\"left\"><a href=\"/overview/bharti-airtel-overview\"><h2 title=\"Bharti Airtel\" class=\"company-name bold-title-l\">\\n\\t\\t\\t\\t\\t\\t\\t\\tBharti Airtel\\n\\t\\t\\t\\t\\t\\t\\t</h2></a> <div class=\"rating-wrapper\"><p class=\"rating badge-large rating-4\"><i class=\"icon icon-star\"></i>\\n\\t\\t\\t\\t\\t\\t\\t\\t4.2\\n\\t\\t\\t\\t\\t\\t\\t</p> <a href=\"https://www.ambitionbox.com/reviews/bharti-airtel-reviews\" class=\"review-count sbold-Labels\">\\n\\t\\t\\t\\t\\t\\t\\t\\t(5.8k Reviews)\\n\\t\\t\\t\\t\\t\\t\\t</a></div></div> <button class=\"ab_btn follow-btn invert round\"><span class=\"ctas-btn-medium\">Follow</span></button></div> <div class=\"company-basic-info\"><p class=\"infoEntity sbold-list-header\"><i class=\"icon-domain\"></i>\\n\\t\\t\\t\\t\\t\\tPublic\\n\\t\\t\\t\\t\\t</p> <p class=\"infoEntity sbold-list-header\"><i class=\"icon-pin-drop\"></i>\\n\\t\\t\\t\\t\\t\\tNew Delhi + 344 more\\n\\t\\t\\t\\t\\t</p> <p class=\"infoEntity sbold-list-header\"><i class=\"icon-access-time\"></i>\\n\\t\\t\\t\\t\\t\\t25 years old\\n\\t\\t\\t\\t\\t</p> <p class=\"infoEntity sbold-list-header\"><i class=\"icon-supervisor-account\"></i>\\n\\t\\t\\t\\t\\t\\t10000+ employees\\n\\t\\t\\t\\t\\t</p></div> <div class=\"chips-block\"><a href=\"/telecom-or-isp-companies-in-india\" data-filter-name=\"chips_Company-Tags_telecom-or-isp\" title=\"Telecom / ISP companies in India\" class=\"ab_chip body-medium\">\\n\\t\\t\\t\\t\\t\\tTelecom / ISP\\n\\t\\t\\t\\t\\t</a><a href=\"/fortune500-companies-in-india\" data-filter-name=\"chips_Company-Tags_fortune500\" title=\"Fortune500 companies in India\" class=\"ab_chip body-medium\">\\n\\t\\t\\t\\t\\t\\tFortune500\\n\\t\\t\\t\\t\\t</a><a href=\"/forbesglobal2000-companies-in-india\" data-filter-name=\"chips_Company-Tags_forbesglobal2000\" title=\"Forbes Global 2000 companies in India\" class=\"ab_chip body-medium\">\\n\\t\\t\\t\\t\\t\\tForbes Global 2000\\n\\t\\t\\t\\t\\t</a><a href=\"/public-companies-in-india\" data-filter-name=\"chips_Company-Tags_public\" title=\"Public companies in India\" class=\"ab_chip body-medium\">\\n\\t\\t\\t\\t\\t\\tPublic\\n\\t\\t\\t\\t\\t</a><a href=\"/list-of-companies?CompanyLocation=new-delhi\" data-filter-name=\"chips_Company-Tags_new-delhi\" title=\"Companies in New Delhi\" class=\"ab_chip body-medium\">\\n\\t\\t\\t\\t\\t\\tNew Delhi\\n\\t\\t\\t\\t\\t</a></div></div></div> <!----> <p itemprop=\"description\" class=\"description body-small\">\\n\\t\\t\\t\\tBharti Airtel is a leading alternative provider of telecommunications services in India and among the top ten global carriers offering services in about 20 other countries, particularly in Africa. Through subsidiaries, the company operates three business units: Telemedia Services (broadband and telephone), Enterprise Services, and Mobile Services. The Enterprise Services group aids both long-distance carriers and corporate clients. Bharti Airtel has more than 220 million mainly mobile subscribers. It provides digital television service for 5 million in India. The company is a unit of Bharti Enterprises, a conglomerate with interests in financial services, food, and retail, besides telecom.\\n\\t\\t\\t</p></div> <div class=\"company-action-center\"><a href=\"/overview/bharti-airtel-overview\" title=\"Bharti Airtel Overview\" class=\"body-medium\">\\n\\t\\t\\tAbout\\n\\t\\t\\t<!----></a><a href=\"/reviews/bharti-airtel-reviews\" title=\"Bharti Airtel Reviews\" class=\"body-medium\">\\n\\t\\t\\tReviews\\n\\t\\t\\t<span class=\"caption-subdued-large\">\\n\\t\\t\\t\\t5.8k\\n\\t\\t\\t</span></a><a title=\"Bharti Airtel Salaries\" href=\"https://www.ambitionbox.com/salaries/bharti-airtel-salaries\" class=\"body-medium\">\\n\\t\\t\\tSalaries\\n\\t\\t\\t<span class=\"caption-subdued-large\">\\n\\t\\t\\t\\t16.6k\\n\\t\\t\\t</span></a><a title=\"Bharti Airtel Interviews\" href=\"https://www.ambitionbox.com/interviews/bharti-airtel-interview-questions\" class=\"body-medium\">\\n\\t\\t\\tInterviews\\n\\t\\t\\t<span class=\"caption-subdued-large\">\\n\\t\\t\\t\\t45\\n\\t\\t\\t</span></a><a href=\"/jobs/bharti-airtel-jobs\" title=\"Bharti Airtel Jobs\" class=\"body-medium\">\\n\\t\\t\\tJobs\\n\\t\\t\\t<span class=\"caption-subdued-large\">\\n\\t\\t\\t\\t59\\n\\t\\t\\t</span></a></div></div><div itemprop=\"itemListElement\" itemscope=\"itemscope\" itemtype=\"http://schema.org/ListItem\" class=\"ab-company-result-card\" data-v-6f97e305><meta itemprop=\"position\" content=\"22\"> <meta itemprop=\"name\" content=\"Vodafone\"> <meta itemprop=\"alternateName\" content=\"Vodafone overview\"> <meta itemprop=\"url\" content=\"https://www.ambitionbox.com/overview/vodafone-overview\"> <meta itemprop=\"image\" content=\"https://static.ambitionbox.com/alpha/company/photos/logos/vodafone-india-services.jpg\"> <div class=\"company-content-wrapper\"><div class=\"company-content\"><div class=\"company-logo\"><img data-src=\"https://static.ambitionbox.com/alpha/company/photos/logos/vodafone-india-services.jpg\" src=\"https://static.ambitionbox.com/static/icons/company-placeholder.svg\" alt=\"Vodafone logo\" onerror=\"this.onerror=null;this.src=\\'/static/icons/company-placeholder.svg\\';\" class=\"lazy\"></div> <div class=\"company-info-wrapper\"><div class=\"company-info\"><div class=\"left\"><a href=\"/overview/vodafone-overview\"><h2 title=\"Vodafone\" class=\"company-name bold-title-l\">\\n\\t\\t\\t\\t\\t\\t\\t\\tVodafone\\n\\t\\t\\t\\t\\t\\t\\t</h2></a> <div class=\"rating-wrapper\"><p class=\"rating badge-large rating-4\"><i class=\"icon icon-star\"></i>\\n\\t\\t\\t\\t\\t\\t\\t\\t4.2\\n\\t\\t\\t\\t\\t\\t\\t</p> <a href=\"https://www.ambitionbox.com/reviews/vodafone-reviews\" class=\"review-count sbold-Labels\">\\n\\t\\t\\t\\t\\t\\t\\t\\t(5.8k Reviews)\\n\\t\\t\\t\\t\\t\\t\\t</a></div></div> <button class=\"ab_btn follow-btn invert round\"><span class=\"ctas-btn-medium\">Follow</span></button></div> <div class=\"company-basic-info\"><p class=\"infoEntity sbold-list-header\"><i class=\"icon-domain\"></i>\\n\\t\\t\\t\\t\\t\\tPublic\\n\\t\\t\\t\\t\\t</p> <p class=\"infoEntity sbold-list-header\"><i class=\"icon-pin-drop\"></i>\\n\\t\\t\\t\\t\\t\\tBerkshire + 357 more\\n\\t\\t\\t\\t\\t</p> <p class=\"infoEntity sbold-list-header\"><i class=\"icon-access-time\"></i>\\n\\t\\t\\t\\t\\t\\t38 years old\\n\\t\\t\\t\\t\\t</p> <p class=\"infoEntity sbold-list-header\"><i class=\"icon-supervisor-account\"></i>\\n\\t\\t\\t\\t\\t\\t10000+ employees\\n\\t\\t\\t\\t\\t</p></div> <div class=\"chips-block\"><a href=\"/telecom-or-isp-companies-in-india\" data-filter-name=\"chips_Company-Tags_telecom-or-isp\" title=\"Telecom / ISP companies in India\" class=\"ab_chip body-medium\">\\n\\t\\t\\t\\t\\t\\tTelecom / ISP\\n\\t\\t\\t\\t\\t</a><a href=\"/mnc-companies-in-india\" data-filter-name=\"chips_Company-Tags_mnc\" title=\"MNC companies in India\" class=\"ab_chip body-medium\">\\n\\t\\t\\t\\t\\t\\tMNC\\n\\t\\t\\t\\t\\t</a><a href=\"/fortune500-companies-in-india\" data-filter-name=\"chips_Company-Tags_fortune500\" title=\"Fortune500 companies in India\" class=\"ab_chip body-medium\">\\n\\t\\t\\t\\t\\t\\tFortune500\\n\\t\\t\\t\\t\\t</a><a href=\"/forbesglobal2000-companies-in-india\" data-filter-name=\"chips_Company-Tags_forbesglobal2000\" title=\"Forbes Global 2000 companies in India\" class=\"ab_chip body-medium\">\\n\\t\\t\\t\\t\\t\\tForbes Global 2000\\n\\t\\t\\t\\t\\t</a><a href=\"/public-companies-in-india\" data-filter-name=\"chips_Company-Tags_public\" title=\"Public companies in India\" class=\"ab_chip body-medium\">\\n\\t\\t\\t\\t\\t\\tPublic\\n\\t\\t\\t\\t\\t</a></div></div></div> <!----> <p itemprop=\"description\" class=\"description body-small\">\\n\\t\\t\\t\\tVodafone is a leader in technology communications through mobile, fixed, broadband and TV.\\nWe have extensive experience in connectivity, convergence and the Internet of Things, as well as championing mobile financial services and digital transformation in emerging markets.\\n\\nSince making the first mobile call in the UK on 1 January 1985, Vodafone has grown into an international business and one of the most valuable brands in the world. We have mobile operations in 24 countries, partner with mobile networks in 42 more, and provide fixed broadband in 19 markets.\\n\\nAs of 30 September 2019, Vodafone Group had approximately 625 million mobile customers, 27 million fixed broadband customers and 22 million TV customers, including all of the customers in Vodafone’s joint ventures and associates.\\n\\nWe’re working hard to build a digital future that works for everyone\\n\\t\\t\\t</p></div> <div class=\"company-action-center\"><a href=\"/overview/vodafone-overview\" title=\"Vodafone Overview\" class=\"body-medium\">\\n\\t\\t\\tAbout\\n\\t\\t\\t<!----></a><a href=\"/reviews/vodafone-reviews\" title=\"Vodafone Reviews\" class=\"body-medium\">\\n\\t\\t\\tReviews\\n\\t\\t\\t<span class=\"caption-subdued-large\">\\n\\t\\t\\t\\t5.8k\\n\\t\\t\\t</span></a><a title=\"Vodafone Salaries\" href=\"https://www.ambitionbox.com/salaries/vodafone-salaries\" class=\"body-medium\">\\n\\t\\t\\tSalaries\\n\\t\\t\\t<span class=\"caption-subdued-large\">\\n\\t\\t\\t\\t13.8k\\n\\t\\t\\t</span></a><a title=\"Vodafone Interviews\" href=\"https://www.ambitionbox.com/interviews/vodafone-interview-questions\" class=\"body-medium\">\\n\\t\\t\\tInterviews\\n\\t\\t\\t<span class=\"caption-subdued-large\">\\n\\t\\t\\t\\t31\\n\\t\\t\\t</span></a><a href=\"/jobs/vodafone-jobs\" title=\"Vodafone Jobs\" class=\"body-medium\">\\n\\t\\t\\tJobs\\n\\t\\t\\t<span class=\"caption-subdued-large\">\\n\\t\\t\\t\\t5\\n\\t\\t\\t</span></a></div></div><div itemprop=\"itemListElement\" itemscope=\"itemscope\" itemtype=\"http://schema.org/ListItem\" class=\"ab-company-result-card\" data-v-6f97e305><meta itemprop=\"position\" content=\"23\"> <meta itemprop=\"name\" content=\"Reliance\"> <meta itemprop=\"alternateName\" content=\"Reliance Industries Limited\"> <meta itemprop=\"url\" content=\"https://www.ambitionbox.com/overview/reliance-overview\"> <meta itemprop=\"image\" content=\"https://static.ambitionbox.com/alpha/company/photos/logos/reliance.jpg\"> <div class=\"company-content-wrapper\"><div class=\"company-content\"><div class=\"company-logo\"><img data-src=\"https://static.ambitionbox.com/alpha/company/photos/logos/reliance.jpg\" src=\"https://static.ambitionbox.com/static/icons/company-placeholder.svg\" alt=\"Reliance Industries Limited logo\" onerror=\"this.onerror=null;this.src=\\'/static/icons/company-placeholder.svg\\';\" class=\"lazy\"></div> <div class=\"company-info-wrapper\"><div class=\"company-info\"><div class=\"left\"><a href=\"/overview/reliance-overview\"><h2 title=\"Reliance\" class=\"company-name bold-title-l\">\\n\\t\\t\\t\\t\\t\\t\\t\\tReliance\\n\\t\\t\\t\\t\\t\\t\\t</h2></a> <div class=\"rating-wrapper\"><p class=\"rating badge-large rating-4\"><i class=\"icon icon-star\"></i>\\n\\t\\t\\t\\t\\t\\t\\t\\t4.2\\n\\t\\t\\t\\t\\t\\t\\t</p> <a href=\"https://www.ambitionbox.com/reviews/reliance-reviews\" class=\"review-count sbold-Labels\">\\n\\t\\t\\t\\t\\t\\t\\t\\t(5k Reviews)\\n\\t\\t\\t\\t\\t\\t\\t</a></div></div> <button class=\"ab_btn follow-btn invert round\"><span class=\"ctas-btn-medium\">Follow</span></button></div> <div class=\"company-basic-info\"><p class=\"infoEntity sbold-list-header\"><i class=\"icon-domain\"></i>\\n\\t\\t\\t\\t\\t\\tPublic\\n\\t\\t\\t\\t\\t</p> <p class=\"infoEntity sbold-list-header\"><i class=\"icon-pin-drop\"></i>\\n\\t\\t\\t\\t\\t\\tMumbai + 230 more\\n\\t\\t\\t\\t\\t</p> <p class=\"infoEntity sbold-list-header\"><i class=\"icon-access-time\"></i>\\n\\t\\t\\t\\t\\t\\t54 years old\\n\\t\\t\\t\\t\\t</p> <p class=\"infoEntity sbold-list-header\"><i class=\"icon-supervisor-account\"></i>\\n\\t\\t\\t\\t\\t\\t10000+ employees\\n\\t\\t\\t\\t\\t</p></div> <div class=\"chips-block\"><a href=\"/oil-or-gas-or-petro-chemicals-companies-in-india\" data-filter-name=\"chips_Company-Tags_oil-or-gas-or-petro-chemicals\" title=\"Oil / Gas / Petro Chemicals companies in India\" class=\"ab_chip body-medium\">\\n\\t\\t\\t\\t\\t\\tOil / Gas / Petro Chemicals\\n\\t\\t\\t\\t\\t</a><a href=\"/power-and-energy-companies-in-india\" data-filter-name=\"chips_Company-Tags_power-and-energy\" title=\"Power companies in India\" class=\"ab_chip body-medium\">\\n\\t\\t\\t\\t\\t\\tPower\\n\\t\\t\\t\\t\\t</a><a href=\"/mnc-companies-in-india\" data-filter-name=\"chips_Company-Tags_mnc\" title=\"MNC companies in India\" class=\"ab_chip body-medium\">\\n\\t\\t\\t\\t\\t\\tMNC\\n\\t\\t\\t\\t\\t</a><a href=\"/conglomerate-companies-in-india\" data-filter-name=\"chips_Company-Tags_conglomerate\" title=\"Conglomerate companies in India\" class=\"ab_chip body-medium\">\\n\\t\\t\\t\\t\\t\\tConglomerate\\n\\t\\t\\t\\t\\t</a><a href=\"/fortune500-companies-in-india\" data-filter-name=\"chips_Company-Tags_fortune500\" title=\"Fortune500 companies in India\" class=\"ab_chip body-medium\">\\n\\t\\t\\t\\t\\t\\tFortune500\\n\\t\\t\\t\\t\\t</a><a href=\"/forbesglobal2000-companies-in-india\" data-filter-name=\"chips_Company-Tags_forbesglobal2000\" title=\"Forbes Global 2000 companies in India\" class=\"ab_chip body-medium\">\\n\\t\\t\\t\\t\\t\\tForbes Global 2000\\n\\t\\t\\t\\t\\t</a><a href=\"/public-companies-in-india\" data-filter-name=\"chips_Company-Tags_public\" title=\"Public companies in India\" class=\"ab_chip body-medium\">\\n\\t\\t\\t\\t\\t\\tPublic\\n\\t\\t\\t\\t\\t</a><a href=\"/list-of-companies?CompanyLocation=mumbai\" data-filter-name=\"chips_Company-Tags_mumbai\" title=\"Companies in Mumbai\" class=\"ab_chip body-medium\">\\n\\t\\t\\t\\t\\t\\tMumbai\\n\\t\\t\\t\\t\\t</a></div></div></div> <!----> <p itemprop=\"description\" class=\"description body-small\">\\n\\t\\t\\t\\tReliance Industries Limited is a Fortune 500 company and the largest private sector corporation in India.\\n\\nOur motto “Growth is Life” aptly captures the ever-evolving spirit of Reliance. We have evolved from being a textiles and polyester company to an integrated player across energy, materials, retail, entertainment and digital services. In each of these areas, we are committed to innovation-led, exponential growth. Our vision has pushed us to achieve global leadership in many of our businesses.\\n\\nReliance\\'s products and services portfolio touches almost all Indians on a daily basis, across economic and social spectrums. We are now focussed on building platforms that will herald the Fourth Industrial Revolution and will create opportunities and avenues for India and all its citizens to realise their true potential.\\n\\t\\t\\t</p></div> <div class=\"company-action-center\"><a href=\"/overview/reliance-overview\" title=\"Reliance Overview\" class=\"body-medium\">\\n\\t\\t\\tAbout\\n\\t\\t\\t<!----></a><a href=\"/reviews/reliance-reviews\" title=\"Reliance Reviews\" class=\"body-medium\">\\n\\t\\t\\tReviews\\n\\t\\t\\t<span class=\"caption-subdued-large\">\\n\\t\\t\\t\\t5k\\n\\t\\t\\t</span></a><a title=\"Reliance Salaries\" href=\"https://www.ambitionbox.com/salaries/reliance-salaries\" class=\"body-medium\">\\n\\t\\t\\tSalaries\\n\\t\\t\\t<span class=\"caption-subdued-large\">\\n\\t\\t\\t\\t18.8k\\n\\t\\t\\t</span></a><a title=\"Reliance Interviews\" href=\"https://www.ambitionbox.com/interviews/reliance-interview-questions\" class=\"body-medium\">\\n\\t\\t\\tInterviews\\n\\t\\t\\t<span class=\"caption-subdued-large\">\\n\\t\\t\\t\\t106\\n\\t\\t\\t</span></a><a href=\"/jobs/reliance-jobs\" title=\"Reliance Jobs\" class=\"body-medium\">\\n\\t\\t\\tJobs\\n\\t\\t\\t<span class=\"caption-subdued-large\">\\n\\t\\t\\t\\t286\\n\\t\\t\\t</span></a></div></div><div itemprop=\"itemListElement\" itemscope=\"itemscope\" itemtype=\"http://schema.org/ListItem\" class=\"ab-company-result-card\" data-v-6f97e305><meta itemprop=\"position\" content=\"24\"> <meta itemprop=\"name\" content=\"Bajaj Finserv\"> <meta itemprop=\"alternateName\" content=\"Bajaj Finserv overview\"> <meta itemprop=\"url\" content=\"https://www.ambitionbox.com/overview/bajaj-finserv-overview\"> <meta itemprop=\"image\" content=\"https://static.ambitionbox.com/alpha/company/photos/logos/bajaj-finserv.jpg\"> <div class=\"company-content-wrapper\"><div class=\"company-content\"><div class=\"company-logo\"><img data-src=\"https://static.ambitionbox.com/alpha/company/photos/logos/bajaj-finserv.jpg\" src=\"https://static.ambitionbox.com/static/icons/company-placeholder.svg\" alt=\"Bajaj Finserv logo\" onerror=\"this.onerror=null;this.src=\\'/static/icons/company-placeholder.svg\\';\" class=\"lazy\"></div> <div class=\"company-info-wrapper\"><div class=\"company-info\"><div class=\"left\"><a href=\"/overview/bajaj-finserv-overview\"><h2 title=\"Bajaj Finserv\" class=\"company-name bold-title-l\">\\n\\t\\t\\t\\t\\t\\t\\t\\tBajaj Finserv\\n\\t\\t\\t\\t\\t\\t\\t</h2></a> <div class=\"rating-wrapper\"><p class=\"rating badge-large rating-4\"><i class=\"icon icon-star\"></i>\\n\\t\\t\\t\\t\\t\\t\\t\\t4.1\\n\\t\\t\\t\\t\\t\\t\\t</p> <a href=\"https://www.ambitionbox.com/reviews/bajaj-finserv-reviews\" class=\"review-count sbold-Labels\">\\n\\t\\t\\t\\t\\t\\t\\t\\t(4.2k Reviews)\\n\\t\\t\\t\\t\\t\\t\\t</a></div></div> <button class=\"ab_btn follow-btn invert round\"><span class=\"ctas-btn-medium\">Follow</span></button></div> <div class=\"company-basic-info\"><p class=\"infoEntity sbold-list-header\"><i class=\"icon-domain\"></i>\\n\\t\\t\\t\\t\\t\\tPublic\\n\\t\\t\\t\\t\\t</p> <p class=\"infoEntity sbold-list-header\"><i class=\"icon-pin-drop\"></i>\\n\\t\\t\\t\\t\\t\\tPune + 480 more\\n\\t\\t\\t\\t\\t</p> <p class=\"infoEntity sbold-list-header\"><i class=\"icon-access-time\"></i>\\n\\t\\t\\t\\t\\t\\t13 years old\\n\\t\\t\\t\\t\\t</p> <p class=\"infoEntity sbold-list-header\"><i class=\"icon-supervisor-account\"></i>\\n\\t\\t\\t\\t\\t\\t10000+ employees\\n\\t\\t\\t\\t\\t</p></div> <div class=\"chips-block\"><a href=\"/financial-services-companies-in-india\" data-filter-name=\"chips_Company-Tags_financial-services\" title=\"Financial Services companies in India\" class=\"ab_chip body-medium\">\\n\\t\\t\\t\\t\\t\\tFinancial Services\\n\\t\\t\\t\\t\\t</a><a href=\"/fortune500-companies-in-india\" data-filter-name=\"chips_Company-Tags_fortune500\" title=\"Fortune500 companies in India\" class=\"ab_chip body-medium\">\\n\\t\\t\\t\\t\\t\\tFortune500\\n\\t\\t\\t\\t\\t</a><a href=\"/forbesglobal2000-companies-in-india\" data-filter-name=\"chips_Company-Tags_forbesglobal2000\" title=\"Forbes Global 2000 companies in India\" class=\"ab_chip body-medium\">\\n\\t\\t\\t\\t\\t\\tForbes Global 2000\\n\\t\\t\\t\\t\\t</a><a href=\"/public-companies-in-india\" data-filter-name=\"chips_Company-Tags_public\" title=\"Public companies in India\" class=\"ab_chip body-medium\">\\n\\t\\t\\t\\t\\t\\tPublic\\n\\t\\t\\t\\t\\t</a><a href=\"/list-of-companies?CompanyLocation=pune\" data-filter-name=\"chips_Company-Tags_pune\" title=\"Companies in Pune\" class=\"ab_chip body-medium\">\\n\\t\\t\\t\\t\\t\\tPune\\n\\t\\t\\t\\t\\t</a></div></div></div> <!----> <p itemprop=\"description\" class=\"description body-small\">\\n\\t\\t\\t\\tBajaj Finserv was formed in April 2007 as a result of its demerger from Bajaj Auto Limited to further the Group’s interests in financial services. This demerger enabled Bajaj Finserv to independently run the core businesses of Lending, Protection and savings. Bajaj Finserv Limited is the holding company for the businesses dealing with financial services of the Bajaj Group. It serves millions of customers in the financial services space by providing solutions for asset acquisition through financing, asset protection through general insurance, family protection and income protection in the form of life and health insurance and retirement and savings solutions\\n\\t\\t\\t</p></div> <div class=\"company-action-center\"><a href=\"/overview/bajaj-finserv-overview\" title=\"Bajaj Finserv Overview\" class=\"body-medium\">\\n\\t\\t\\tAbout\\n\\t\\t\\t<!----></a><a href=\"/reviews/bajaj-finserv-reviews\" title=\"Bajaj Finserv Reviews\" class=\"body-medium\">\\n\\t\\t\\tReviews\\n\\t\\t\\t<span class=\"caption-subdued-large\">\\n\\t\\t\\t\\t4.2k\\n\\t\\t\\t</span></a><a title=\"Bajaj Finserv Salaries\" href=\"https://www.ambitionbox.com/salaries/bajaj-finserv-salaries\" class=\"body-medium\">\\n\\t\\t\\tSalaries\\n\\t\\t\\t<span class=\"caption-subdued-large\">\\n\\t\\t\\t\\t10.2k\\n\\t\\t\\t</span></a><a title=\"Bajaj Finserv Interviews\" href=\"https://www.ambitionbox.com/interviews/bajaj-finserv-interview-questions\" class=\"body-medium\">\\n\\t\\t\\tInterviews\\n\\t\\t\\t<span class=\"caption-subdued-large\">\\n\\t\\t\\t\\t26\\n\\t\\t\\t</span></a><a href=\"/jobs/bajaj-finserv-jobs\" title=\"Bajaj Finserv Jobs\" class=\"body-medium\">\\n\\t\\t\\tJobs\\n\\t\\t\\t<span class=\"caption-subdued-large\">\\n\\t\\t\\t\\t37\\n\\t\\t\\t</span></a></div></div><div itemprop=\"itemListElement\" itemscope=\"itemscope\" itemtype=\"http://schema.org/ListItem\" class=\"ab-company-result-card\" data-v-6f97e305><meta itemprop=\"position\" content=\"25\"> <meta itemprop=\"name\" content=\"IndusInd Bank\"> <meta itemprop=\"alternateName\" content=\"IndusInd Bank overview\"> <meta itemprop=\"url\" content=\"https://www.ambitionbox.com/overview/indusind-bank-overview\"> <meta itemprop=\"image\" content=\"https://static.ambitionbox.com/alpha/company/photos/logos/indusind-bank.jpg\"> <div class=\"company-content-wrapper\"><div class=\"company-content\"><div class=\"company-logo\"><img data-src=\"https://static.ambitionbox.com/alpha/company/photos/logos/indusind-bank.jpg\" src=\"https://static.ambitionbox.com/static/icons/company-placeholder.svg\" alt=\"IndusInd Bank logo\" onerror=\"this.onerror=null;this.src=\\'/static/icons/company-placeholder.svg\\';\" class=\"lazy\"></div> <div class=\"company-info-wrapper\"><div class=\"company-info\"><div class=\"left\"><a href=\"/overview/indusind-bank-overview\"><h2 title=\"IndusInd Bank\" class=\"company-name bold-title-l\">\\n\\t\\t\\t\\t\\t\\t\\t\\tIndusInd Bank\\n\\t\\t\\t\\t\\t\\t\\t</h2></a> <div class=\"rating-wrapper\"><p class=\"rating badge-large rating-35\"><i class=\"icon icon-star\"></i>\\n\\t\\t\\t\\t\\t\\t\\t\\t3.6\\n\\t\\t\\t\\t\\t\\t\\t</p> <a href=\"https://www.ambitionbox.com/reviews/indusind-bank-reviews\" class=\"review-count sbold-Labels\">\\n\\t\\t\\t\\t\\t\\t\\t\\t(4.1k Reviews)\\n\\t\\t\\t\\t\\t\\t\\t</a></div></div> <button class=\"ab_btn follow-btn invert round\"><span class=\"ctas-btn-medium\">Follow</span></button></div> <div class=\"company-basic-info\"><p class=\"infoEntity sbold-list-header\"><i class=\"icon-domain\"></i>\\n\\t\\t\\t\\t\\t\\tPublic\\n\\t\\t\\t\\t\\t</p> <p class=\"infoEntity sbold-list-header\"><i class=\"icon-pin-drop\"></i>\\n\\t\\t\\t\\t\\t\\tMumbai + 367 more\\n\\t\\t\\t\\t\\t</p> <p class=\"infoEntity sbold-list-header\"><i class=\"icon-access-time\"></i>\\n\\t\\t\\t\\t\\t\\t26 years old\\n\\t\\t\\t\\t\\t</p> <p class=\"infoEntity sbold-list-header\"><i class=\"icon-supervisor-account\"></i>\\n\\t\\t\\t\\t\\t\\t10000+ employees\\n\\t\\t\\t\\t\\t</p></div> <div class=\"chips-block\"><a href=\"/banking-or-insurance-or-accounting-companies-in-india\" data-filter-name=\"chips_Company-Tags_banking-or-insurance-or-accounting\" title=\"Banking / Insurance / Accounting companies in India\" class=\"ab_chip body-medium\">\\n\\t\\t\\t\\t\\t\\tBanking / Insurance / Accounting\\n\\t\\t\\t\\t\\t</a><a href=\"/financial-services-companies-in-india\" data-filter-name=\"chips_Company-Tags_financial-services\" title=\"Financial Services companies in India\" class=\"ab_chip body-medium\">\\n\\t\\t\\t\\t\\t\\tFinancial Services\\n\\t\\t\\t\\t\\t</a><a href=\"/fortune500-companies-in-india\" data-filter-name=\"chips_Company-Tags_fortune500\" title=\"Fortune500 companies in India\" class=\"ab_chip body-medium\">\\n\\t\\t\\t\\t\\t\\tFortune500\\n\\t\\t\\t\\t\\t</a><a href=\"/forbesglobal2000-companies-in-india\" data-filter-name=\"chips_Company-Tags_forbesglobal2000\" title=\"Forbes Global 2000 companies in India\" class=\"ab_chip body-medium\">\\n\\t\\t\\t\\t\\t\\tForbes Global 2000\\n\\t\\t\\t\\t\\t</a><a href=\"/public-companies-in-india\" data-filter-name=\"chips_Company-Tags_public\" title=\"Public companies in India\" class=\"ab_chip body-medium\">\\n\\t\\t\\t\\t\\t\\tPublic\\n\\t\\t\\t\\t\\t</a><a href=\"/list-of-companies?CompanyLocation=mumbai\" data-filter-name=\"chips_Company-Tags_mumbai\" title=\"Companies in Mumbai\" class=\"ab_chip body-medium\">\\n\\t\\t\\t\\t\\t\\tMumbai\\n\\t\\t\\t\\t\\t</a></div></div></div> <!----> <p itemprop=\"description\" class=\"description body-small\">\\n\\t\\t\\t\\tIndusInd Bank is a Mumbai based scheduled private bank founded in Mumbai in April 1994. This bank offers a wide range of banking as well as financial products and services to the customers and is headquartered in Mumbai, Maharashtra. The bank has over 745 branches with a total network of over 1635 operating ATMs. It has two representative offices outside India in London and Dubai respectively.\\nIndusInd Bank stands tall today as one of the reputed banking brands in the country. The bank has been continuously investing in various advertising &amp; marketing programs to enhance the brand image &amp; recall. In an endeavor to emerge as best-in-class brand, IndusInd Bank has made \\'Responsive Innovation\\' as a central theme of its brand building program. The Bank has combined responsiveness with innovation to launch a wide range of banking products and services which are unique, convenient and very relevant to Indian consumer.\\n\\t\\t\\t</p></div> <div class=\"company-action-center\"><a href=\"/overview/indusind-bank-overview\" title=\"IndusInd Bank Overview\" class=\"body-medium\">\\n\\t\\t\\tAbout\\n\\t\\t\\t<!----></a><a href=\"/reviews/indusind-bank-reviews\" title=\"IndusInd Bank Reviews\" class=\"body-medium\">\\n\\t\\t\\tReviews\\n\\t\\t\\t<span class=\"caption-subdued-large\">\\n\\t\\t\\t\\t4.1k\\n\\t\\t\\t</span></a><a title=\"IndusInd Bank Salaries\" href=\"https://www.ambitionbox.com/salaries/indusind-bank-salaries\" class=\"body-medium\">\\n\\t\\t\\tSalaries\\n\\t\\t\\t<span class=\"caption-subdued-large\">\\n\\t\\t\\t\\t17.9k\\n\\t\\t\\t</span></a><a title=\"IndusInd Bank Interviews\" href=\"https://www.ambitionbox.com/interviews/indusind-bank-interview-questions\" class=\"body-medium\">\\n\\t\\t\\tInterviews\\n\\t\\t\\t<span class=\"caption-subdued-large\">\\n\\t\\t\\t\\t32\\n\\t\\t\\t</span></a><a href=\"/jobs/indusind-bank-jobs\" title=\"IndusInd Bank Jobs\" class=\"body-medium\">\\n\\t\\t\\tJobs\\n\\t\\t\\t<span class=\"caption-subdued-large\">\\n\\t\\t\\t\\t124\\n\\t\\t\\t</span></a></div></div><div itemprop=\"itemListElement\" itemscope=\"itemscope\" itemtype=\"http://schema.org/ListItem\" class=\"ab-company-result-card\" data-v-6f97e305><meta itemprop=\"position\" content=\"26\"> <meta itemprop=\"name\" content=\"Teleperformance\"> <meta itemprop=\"alternateName\" content=\"Teleperformance overview\"> <meta itemprop=\"url\" content=\"https://www.ambitionbox.com/overview/teleperformance-overview\"> <meta itemprop=\"image\" content=\"https://static.ambitionbox.com/alpha/company/photos/logos/teleperformance-group.jpg\"> <div class=\"company-content-wrapper\"><div class=\"company-content\"><div class=\"company-logo\"><img data-src=\"https://static.ambitionbox.com/alpha/company/photos/logos/teleperformance-group.jpg\" src=\"https://static.ambitionbox.com/static/icons/company-placeholder.svg\" alt=\"Teleperformance logo\" onerror=\"this.onerror=null;this.src=\\'/static/icons/company-placeholder.svg\\';\" class=\"lazy\"></div> <div class=\"company-info-wrapper\"><div class=\"company-info\"><div class=\"left\"><a href=\"/overview/teleperformance-overview\"><h2 title=\"Teleperformance\" class=\"company-name bold-title-l\">\\n\\t\\t\\t\\t\\t\\t\\t\\tTeleperformance\\n\\t\\t\\t\\t\\t\\t\\t</h2></a> <div class=\"rating-wrapper\"><p class=\"rating badge-large rating-35\"><i class=\"icon icon-star\"></i>\\n\\t\\t\\t\\t\\t\\t\\t\\t3.6\\n\\t\\t\\t\\t\\t\\t\\t</p> <a href=\"https://www.ambitionbox.com/reviews/teleperformance-reviews\" class=\"review-count sbold-Labels\">\\n\\t\\t\\t\\t\\t\\t\\t\\t(4.1k Reviews)\\n\\t\\t\\t\\t\\t\\t\\t</a></div></div> <button class=\"ab_btn follow-btn invert round\"><span class=\"ctas-btn-medium\">Follow</span></button></div> <div class=\"company-basic-info\"><p class=\"infoEntity sbold-list-header\"><i class=\"icon-domain\"></i>\\n\\t\\t\\t\\t\\t\\tPrivate\\n\\t\\t\\t\\t\\t</p> <p class=\"infoEntity sbold-list-header\"><i class=\"icon-pin-drop\"></i>\\n\\t\\t\\t\\t\\t\\tParis + 47 more\\n\\t\\t\\t\\t\\t</p> <p class=\"infoEntity sbold-list-header\"><i class=\"icon-access-time\"></i>\\n\\t\\t\\t\\t\\t\\t42 years old\\n\\t\\t\\t\\t\\t</p> <p class=\"infoEntity sbold-list-header\"><i class=\"icon-supervisor-account\"></i>\\n\\t\\t\\t\\t\\t\\t10000+ employees\\n\\t\\t\\t\\t\\t</p></div> <div class=\"chips-block\"><a href=\"/bpo-or-kpo-companies-in-india\" data-filter-name=\"chips_Company-Tags_bpo-or-kpo\" title=\"BPO/KPO companies in India\" class=\"ab_chip body-medium\">\\n\\t\\t\\t\\t\\t\\tBPO/KPO\\n\\t\\t\\t\\t\\t</a><a href=\"/it-or-ites-companies-in-india\" data-filter-name=\"chips_Company-Tags_it-or-ites\" title=\"IT / ITES companies in India\" class=\"ab_chip body-medium\">\\n\\t\\t\\t\\t\\t\\tIT / ITES\\n\\t\\t\\t\\t\\t</a><a href=\"/mnc-companies-in-india\" data-filter-name=\"chips_Company-Tags_mnc\" title=\"MNC companies in India\" class=\"ab_chip body-medium\">\\n\\t\\t\\t\\t\\t\\tMNC\\n\\t\\t\\t\\t\\t</a><a href=\"/forbesglobal2000-companies-in-india\" data-filter-name=\"chips_Company-Tags_forbesglobal2000\" title=\"Forbes Global 2000 companies in India\" class=\"ab_chip body-medium\">\\n\\t\\t\\t\\t\\t\\tForbes Global 2000\\n\\t\\t\\t\\t\\t</a></div></div></div> <!----> <p itemprop=\"description\" class=\"description body-small\">\\n\\t\\t\\t\\tTeleperformance is the agile business services partner that companies need in this digital world.\\nFor over 40 years, Teleperformance has been connecting customers with the world’s most successful companies. It is the global leader in customer experience outsourcing management and the trusted provider of digitally integrated business services.\\nAt Teleperformance, we combine human touch and high technology to deliver extraordinary customer experiences. While technology creates new and agile ways of working, our interaction experts remain committed to creating unique connections through empathy, adaptive communication skills, and more importantly, a passion to make it happen.\\n\\t\\t\\t</p></div> <div class=\"company-action-center\"><a href=\"/overview/teleperformance-overview\" title=\"Teleperformance Overview\" class=\"body-medium\">\\n\\t\\t\\tAbout\\n\\t\\t\\t<!----></a><a href=\"/reviews/teleperformance-reviews\" title=\"Teleperformance Reviews\" class=\"body-medium\">\\n\\t\\t\\tReviews\\n\\t\\t\\t<span class=\"caption-subdued-large\">\\n\\t\\t\\t\\t4.1k\\n\\t\\t\\t</span></a><a title=\"Teleperformance Salaries\" href=\"https://www.ambitionbox.com/salaries/teleperformance-salaries\" class=\"body-medium\">\\n\\t\\t\\tSalaries\\n\\t\\t\\t<span class=\"caption-subdued-large\">\\n\\t\\t\\t\\t18.9k\\n\\t\\t\\t</span></a><a title=\"Teleperformance Interviews\" href=\"https://www.ambitionbox.com/interviews/teleperformance-interview-questions\" class=\"body-medium\">\\n\\t\\t\\tInterviews\\n\\t\\t\\t<span class=\"caption-subdued-large\">\\n\\t\\t\\t\\t53\\n\\t\\t\\t</span></a><a href=\"/jobs/teleperformance-jobs\" title=\"Teleperformance Jobs\" class=\"body-medium\">\\n\\t\\t\\tJobs\\n\\t\\t\\t<span class=\"caption-subdued-large\">\\n\\t\\t\\t\\t5\\n\\t\\t\\t</span></a></div></div><div itemprop=\"itemListElement\" itemscope=\"itemscope\" itemtype=\"http://schema.org/ListItem\" class=\"ab-company-result-card\" data-v-6f97e305><meta itemprop=\"position\" content=\"27\"> <meta itemprop=\"name\" content=\"Indian Army\"> <meta itemprop=\"alternateName\" content=\"Indian Army overview\"> <meta itemprop=\"url\" content=\"https://www.ambitionbox.com/overview/indian-army-overview\"> <meta itemprop=\"image\" content=\"https://static.ambitionbox.com/alpha/company/photos/logos/indian-army.jpg\"> <div class=\"company-content-wrapper\"><div class=\"company-content\"><div class=\"company-logo\"><img data-src=\"https://static.ambitionbox.com/alpha/company/photos/logos/indian-army.jpg\" src=\"https://static.ambitionbox.com/static/icons/company-placeholder.svg\" alt=\"Indian Army logo\" onerror=\"this.onerror=null;this.src=\\'/static/icons/company-placeholder.svg\\';\" class=\"lazy\"></div> <div class=\"company-info-wrapper\"><div class=\"company-info\"><div class=\"left\"><a href=\"/overview/indian-army-overview\"><h2 title=\"Indian Army\" class=\"company-name bold-title-l\">\\n\\t\\t\\t\\t\\t\\t\\t\\tIndian Army\\n\\t\\t\\t\\t\\t\\t\\t</h2></a> <div class=\"rating-wrapper\"><p class=\"rating badge-large rating-45\"><i class=\"icon icon-star\"></i>\\n\\t\\t\\t\\t\\t\\t\\t\\t4.7\\n\\t\\t\\t\\t\\t\\t\\t</p> <a href=\"https://www.ambitionbox.com/reviews/indian-army-reviews\" class=\"review-count sbold-Labels\">\\n\\t\\t\\t\\t\\t\\t\\t\\t(4k Reviews)\\n\\t\\t\\t\\t\\t\\t\\t</a></div></div> <button class=\"ab_btn follow-btn invert round\"><span class=\"ctas-btn-medium\">Follow</span></button></div> <div class=\"company-basic-info\"><p class=\"infoEntity sbold-list-header\"><i class=\"icon-domain\"></i>\\n\\t\\t\\t\\t\\t\\tGovt agency\\n\\t\\t\\t\\t\\t</p> <p class=\"infoEntity sbold-list-header\"><i class=\"icon-pin-drop\"></i>\\n\\t\\t\\t\\t\\t\\tNew Delhi + 211 more\\n\\t\\t\\t\\t\\t</p> <p class=\"infoEntity sbold-list-header\"><i class=\"icon-access-time\"></i>\\n\\t\\t\\t\\t\\t\\t125 years old\\n\\t\\t\\t\\t\\t</p> <p class=\"infoEntity sbold-list-header\"><i class=\"icon-supervisor-account\"></i>\\n\\t\\t\\t\\t\\t\\t10000+ employees\\n\\t\\t\\t\\t\\t</p></div> <div class=\"chips-block\"><a href=\"/defence-companies-in-india\" data-filter-name=\"chips_Company-Tags_defence\" title=\"Defence &amp; Aerospace companies in India\" class=\"ab_chip body-medium\">\\n\\t\\t\\t\\t\\t\\tDefence &amp; Aerospace\\n\\t\\t\\t\\t\\t</a><a href=\"/federal-agencies-companies-in-india\" data-filter-name=\"chips_Company-Tags_federal-agencies\" title=\"Federal Agencies companies in India\" class=\"ab_chip body-medium\">\\n\\t\\t\\t\\t\\t\\tFederal Agencies\\n\\t\\t\\t\\t\\t</a><a href=\"/government-companies-in-india\" data-filter-name=\"chips_Company-Tags_government\" title=\"Government companies in India\" class=\"ab_chip body-medium\">\\n\\t\\t\\t\\t\\t\\tGovernment\\n\\t\\t\\t\\t\\t</a><a href=\"/list-of-companies?CompanyLocation=new-delhi\" data-filter-name=\"chips_Company-Tags_new-delhi\" title=\"Companies in New Delhi\" class=\"ab_chip body-medium\">\\n\\t\\t\\t\\t\\t\\tNew Delhi\\n\\t\\t\\t\\t\\t</a></div></div></div> <!----> <p itemprop=\"description\" class=\"description body-small\">\\n\\t\\t\\t\\tThe principal task of the Ministry is to frame policy directions on defence and security related matters and communicate them for implementation to the Services Headquarters, Inter-Service Organisations, Production Establishments and Research &amp; Development Organisations. It is required to ensure effective implementation of the Government\\'s policy directions and the execution of approved programmes within the allocated resources.\\n\\t\\t\\t</p></div> <div class=\"company-action-center\"><a href=\"/overview/indian-army-overview\" title=\"Indian Army Overview\" class=\"body-medium\">\\n\\t\\t\\tAbout\\n\\t\\t\\t<!----></a><a href=\"/reviews/indian-army-reviews\" title=\"Indian Army Reviews\" class=\"body-medium\">\\n\\t\\t\\tReviews\\n\\t\\t\\t<span class=\"caption-subdued-large\">\\n\\t\\t\\t\\t4k\\n\\t\\t\\t</span></a><a title=\"Indian Army Salaries\" href=\"https://www.ambitionbox.com/salaries/indian-army-salaries\" class=\"body-medium\">\\n\\t\\t\\tSalaries\\n\\t\\t\\t<span class=\"caption-subdued-large\">\\n\\t\\t\\t\\t6.9k\\n\\t\\t\\t</span></a><a title=\"Indian Army Interviews\" href=\"https://www.ambitionbox.com/interviews/indian-army-interview-questions\" class=\"body-medium\">\\n\\t\\t\\tInterviews\\n\\t\\t\\t<span class=\"caption-subdued-large\">\\n\\t\\t\\t\\t10\\n\\t\\t\\t</span></a><a href=\"/jobs/indian-army-jobs\" title=\"Indian Army Jobs\" class=\"body-medium\">\\n\\t\\t\\tJobs\\n\\t\\t\\t<!----></a></div></div><div itemprop=\"itemListElement\" itemscope=\"itemscope\" itemtype=\"http://schema.org/ListItem\" class=\"ab-company-result-card\" data-v-6f97e305><meta itemprop=\"position\" content=\"28\"> <meta itemprop=\"name\" content=\"Hinduja Global Solutions\"> <meta itemprop=\"alternateName\" content=\"Hinduja Global Solutions overview\"> <meta itemprop=\"url\" content=\"https://www.ambitionbox.com/overview/hinduja-global-solutions-overview\"> <meta itemprop=\"image\" content=\"https://static.ambitionbox.com/alpha/company/photos/logos/hinduja-global-solutions.jpg\"> <div class=\"company-content-wrapper\"><div class=\"company-content\"><div class=\"company-logo\"><img data-src=\"https://static.ambitionbox.com/alpha/company/photos/logos/hinduja-global-solutions.jpg\" src=\"https://static.ambitionbox.com/static/icons/company-placeholder.svg\" alt=\"Hinduja Global Solutions logo\" onerror=\"this.onerror=null;this.src=\\'/static/icons/company-placeholder.svg\\';\" class=\"lazy\"></div> <div class=\"company-info-wrapper\"><div class=\"company-info\"><div class=\"left\"><a href=\"/overview/hinduja-global-solutions-overview\"><h2 title=\"Hinduja Global Solutions\" class=\"company-name bold-title-l\">\\n\\t\\t\\t\\t\\t\\t\\t\\tHinduja Global Sol...\\n\\t\\t\\t\\t\\t\\t\\t</h2></a> <div class=\"rating-wrapper\"><p class=\"rating badge-large rating-35\"><i class=\"icon icon-star\"></i>\\n\\t\\t\\t\\t\\t\\t\\t\\t3.8\\n\\t\\t\\t\\t\\t\\t\\t</p> <a href=\"https://www.ambitionbox.com/reviews/hinduja-global-solutions-reviews\" class=\"review-count sbold-Labels\">\\n\\t\\t\\t\\t\\t\\t\\t\\t(3.9k Reviews)\\n\\t\\t\\t\\t\\t\\t\\t</a></div></div> <button class=\"ab_btn follow-btn invert round\"><span class=\"ctas-btn-medium\">Follow</span></button></div> <div class=\"company-basic-info\"><p class=\"infoEntity sbold-list-header\"><i class=\"icon-domain\"></i>\\n\\t\\t\\t\\t\\t\\tPublic\\n\\t\\t\\t\\t\\t</p> <p class=\"infoEntity sbold-list-header\"><i class=\"icon-pin-drop\"></i>\\n\\t\\t\\t\\t\\t\\tBangalore + 52 more\\n\\t\\t\\t\\t\\t</p> <p class=\"infoEntity sbold-list-header\"><i class=\"icon-access-time\"></i>\\n\\t\\t\\t\\t\\t\\t20 years old\\n\\t\\t\\t\\t\\t</p> <p class=\"infoEntity sbold-list-header\"><i class=\"icon-supervisor-account\"></i>\\n\\t\\t\\t\\t\\t\\t10000+ employees\\n\\t\\t\\t\\t\\t</p></div> <div class=\"chips-block\"><a href=\"/bpo-or-kpo-companies-in-india\" data-filter-name=\"chips_Company-Tags_bpo-or-kpo\" title=\"BPO/KPO companies in India\" class=\"ab_chip body-medium\">\\n\\t\\t\\t\\t\\t\\tBPO/KPO\\n\\t\\t\\t\\t\\t</a><a href=\"/mnc-companies-in-india\" data-filter-name=\"chips_Company-Tags_mnc\" title=\"MNC companies in India\" class=\"ab_chip body-medium\">\\n\\t\\t\\t\\t\\t\\tMNC\\n\\t\\t\\t\\t\\t</a><a href=\"/fortune500-companies-in-india\" data-filter-name=\"chips_Company-Tags_fortune500\" title=\"Fortune500 companies in India\" class=\"ab_chip body-medium\">\\n\\t\\t\\t\\t\\t\\tFortune500\\n\\t\\t\\t\\t\\t</a><a href=\"/public-companies-in-india\" data-filter-name=\"chips_Company-Tags_public\" title=\"Public companies in India\" class=\"ab_chip body-medium\">\\n\\t\\t\\t\\t\\t\\tPublic\\n\\t\\t\\t\\t\\t</a></div></div></div> <!----> <p itemprop=\"description\" class=\"description body-small\">\\n\\t\\t\\t\\tA global leader in business process management (BPM) and optimizing the customer experience lifecycle, HGS is helping make its clients more competitive every day. HGS combines technology-powered services in automation, analytics, and digital with domain expertise focusing on back-office processing, contact centers, and HRO solutions to deliver transformational impact to clients. HGS takes a true “globally local” approach, with our employees making a difference to some of the world’s leading brands across nine key verticals.\\n\\nHGS expertise spans the telecommunications and media, healthcare, insurance, banking, consumer electronics and technology, retail, and consumer packaged goods industries, as well as the public sector. HGS operates on a global landscape with around 37000 employees in 61 worldwide locations delivering localized solutions. For the year ended 31st March 2020, HGS had revenues of US$ 737 million. HGS, part of the multi-billion dollar Hinduja Group, has more than four decades of experience working with some of the world’s most recognized brands.\\n\\t\\t\\t</p></div> <div class=\"company-action-center\"><a href=\"/overview/hinduja-global-solutions-overview\" title=\"Hinduja Global Solutions Overview\" class=\"body-medium\">\\n\\t\\t\\tAbout\\n\\t\\t\\t<!----></a><a href=\"/reviews/hinduja-global-solutions-reviews\" title=\"Hinduja Global Solutions Reviews\" class=\"body-medium\">\\n\\t\\t\\tReviews\\n\\t\\t\\t<span class=\"caption-subdued-large\">\\n\\t\\t\\t\\t3.9k\\n\\t\\t\\t</span></a><a title=\"Hinduja Global Solutions Salaries\" href=\"https://www.ambitionbox.com/salaries/hinduja-global-solutions-salaries\" class=\"body-medium\">\\n\\t\\t\\tSalaries\\n\\t\\t\\t<span class=\"caption-subdued-large\">\\n\\t\\t\\t\\t9.7k\\n\\t\\t\\t</span></a><a title=\"Hinduja Global Solutions Interviews\" href=\"https://www.ambitionbox.com/interviews/hinduja-global-solutions-interview-questions\" class=\"body-medium\">\\n\\t\\t\\tInterviews\\n\\t\\t\\t<span class=\"caption-subdued-large\">\\n\\t\\t\\t\\t21\\n\\t\\t\\t</span></a><a href=\"/jobs/hinduja-global-solutions-jobs\" title=\"Hinduja Global Solutions Jobs\" class=\"body-medium\">\\n\\t\\t\\tJobs\\n\\t\\t\\t<span class=\"caption-subdued-large\">\\n\\t\\t\\t\\t66\\n\\t\\t\\t</span></a></div></div><div itemprop=\"itemListElement\" itemscope=\"itemscope\" itemtype=\"http://schema.org/ListItem\" class=\"ab-company-result-card\" data-v-6f97e305><meta itemprop=\"position\" content=\"29\"> <meta itemprop=\"name\" content=\"Mahindra &amp; Mahindra\"> <meta itemprop=\"alternateName\" content=\"Mahindra &amp; Mahindra overview\"> <meta itemprop=\"url\" content=\"https://www.ambitionbox.com/overview/mahindra-and-mahindra-overview\"> <meta itemprop=\"image\" content=\"https://static.ambitionbox.com/alpha/company/photos/logos/mahindra-and-mahindra-228.jpg\"> <div class=\"company-content-wrapper\"><div class=\"company-content\"><div class=\"company-logo\"><img data-src=\"https://static.ambitionbox.com/alpha/company/photos/logos/mahindra-and-mahindra-228.jpg\" src=\"https://static.ambitionbox.com/static/icons/company-placeholder.svg\" alt=\"Mahindra &amp; Mahindra logo\" onerror=\"this.onerror=null;this.src=\\'/static/icons/company-placeholder.svg\\';\" class=\"lazy\"></div> <div class=\"company-info-wrapper\"><div class=\"company-info\"><div class=\"left\"><a href=\"/overview/mahindra-and-mahindra-overview\"><h2 title=\"Mahindra &amp; Mahindra\" class=\"company-name bold-title-l\">\\n\\t\\t\\t\\t\\t\\t\\t\\tMahindra &amp; Mahindr...\\n\\t\\t\\t\\t\\t\\t\\t</h2></a> <div class=\"rating-wrapper\"><p class=\"rating badge-large rating-4\"><i class=\"icon icon-star\"></i>\\n\\t\\t\\t\\t\\t\\t\\t\\t4.2\\n\\t\\t\\t\\t\\t\\t\\t</p> <a href=\"https://www.ambitionbox.com/reviews/mahindra-and-mahindra-reviews\" class=\"review-count sbold-Labels\">\\n\\t\\t\\t\\t\\t\\t\\t\\t(3.8k Reviews)\\n\\t\\t\\t\\t\\t\\t\\t</a></div></div> <button class=\"ab_btn follow-btn invert round\"><span class=\"ctas-btn-medium\">Follow</span></button></div> <div class=\"company-basic-info\"><p class=\"infoEntity sbold-list-header\"><i class=\"icon-domain\"></i>\\n\\t\\t\\t\\t\\t\\tPublic\\n\\t\\t\\t\\t\\t</p> <p class=\"infoEntity sbold-list-header\"><i class=\"icon-pin-drop\"></i>\\n\\t\\t\\t\\t\\t\\tMumbai + 268 more\\n\\t\\t\\t\\t\\t</p> <p class=\"infoEntity sbold-list-header\"><i class=\"icon-access-time\"></i>\\n\\t\\t\\t\\t\\t\\t75 years old\\n\\t\\t\\t\\t\\t</p> <p class=\"infoEntity sbold-list-header\"><i class=\"icon-supervisor-account\"></i>\\n\\t\\t\\t\\t\\t\\t10000+ employees\\n\\t\\t\\t\\t\\t</p></div> <div class=\"chips-block\"><a href=\"/automobile-companies-in-india\" data-filter-name=\"chips_Company-Tags_automobile\" title=\"Automobile companies in India\" class=\"ab_chip body-medium\">\\n\\t\\t\\t\\t\\t\\tAutomobile\\n\\t\\t\\t\\t\\t</a><a href=\"/machinery-or-equipment-companies-in-india\" data-filter-name=\"chips_Company-Tags_machinery-or-equipment\" title=\"Industrial Equipment / Machinery companies in India\" class=\"ab_chip body-medium\">\\n\\t\\t\\t\\t\\t\\tIndustrial Equipment / Machinery\\n\\t\\t\\t\\t\\t</a><a href=\"/manufacturing-companies-in-india\" data-filter-name=\"chips_Company-Tags_manufacturing\" title=\"Manufacturing companies in India\" class=\"ab_chip body-medium\">\\n\\t\\t\\t\\t\\t\\tManufacturing\\n\\t\\t\\t\\t\\t</a><a href=\"/mnc-companies-in-india\" data-filter-name=\"chips_Company-Tags_mnc\" title=\"MNC companies in India\" class=\"ab_chip body-medium\">\\n\\t\\t\\t\\t\\t\\tMNC\\n\\t\\t\\t\\t\\t</a><a href=\"/fortune500-companies-in-india\" data-filter-name=\"chips_Company-Tags_fortune500\" title=\"Fortune500 companies in India\" class=\"ab_chip body-medium\">\\n\\t\\t\\t\\t\\t\\tFortune500\\n\\t\\t\\t\\t\\t</a><a href=\"/forbesglobal2000-companies-in-india\" data-filter-name=\"chips_Company-Tags_forbesglobal2000\" title=\"Forbes Global 2000 companies in India\" class=\"ab_chip body-medium\">\\n\\t\\t\\t\\t\\t\\tForbes Global 2000\\n\\t\\t\\t\\t\\t</a><a href=\"/public-companies-in-india\" data-filter-name=\"chips_Company-Tags_public\" title=\"Public companies in India\" class=\"ab_chip body-medium\">\\n\\t\\t\\t\\t\\t\\tPublic\\n\\t\\t\\t\\t\\t</a><a href=\"/list-of-companies?CompanyLocation=mumbai\" data-filter-name=\"chips_Company-Tags_mumbai\" title=\"Companies in Mumbai\" class=\"ab_chip body-medium\">\\n\\t\\t\\t\\t\\t\\tMumbai\\n\\t\\t\\t\\t\\t</a></div></div></div> <!----> <p itemprop=\"description\" class=\"description body-small\">\\n\\t\\t\\t\\tMahindra &amp; Mahindra Limited is an Indian multinational car manufacturing corporation headquartered in Mumbai, Maharashtra, India.  It is one of the largest vehicle manufacturers by production in India and the largest manufacturer of tractors in the world.\\n\\nEstablished in 1947, our core automotive business has grown to become India’s No.1 Utility Vehicle maker. But we’re not content to stop there. With a portfolio that extends from pick-ups to SUVs to LCVs &amp; HCVs, we’re committed to making “Mahindra” synonymous with world-class automobiles and we’re building an innovation ecosystem that spans USA, Europe, India and S.Korea. Whether it’s our commitment to the Future of Mobility, social responsibility, or creating customer delight - you’ll find that our vehicles today are as global as the customers we serve.\\n\\t\\t\\t</p></div> <div class=\"company-action-center\"><a href=\"/overview/mahindra-and-mahindra-overview\" title=\"Mahindra &amp; Mahindra Overview\" class=\"body-medium\">\\n\\t\\t\\tAbout\\n\\t\\t\\t<!----></a><a href=\"/reviews/mahindra-and-mahindra-reviews\" title=\"Mahindra &amp; Mahindra Reviews\" class=\"body-medium\">\\n\\t\\t\\tReviews\\n\\t\\t\\t<span class=\"caption-subdued-large\">\\n\\t\\t\\t\\t3.8k\\n\\t\\t\\t</span></a><a title=\"Mahindra &amp; Mahindra Salaries\" href=\"https://www.ambitionbox.com/salaries/mahindra-and-mahindra-salaries\" class=\"body-medium\">\\n\\t\\t\\tSalaries\\n\\t\\t\\t<span class=\"caption-subdued-large\">\\n\\t\\t\\t\\t13k\\n\\t\\t\\t</span></a><a title=\"Mahindra &amp; Mahindra Interviews\" href=\"https://www.ambitionbox.com/interviews/mahindra-and-mahindra-interview-questions\" class=\"body-medium\">\\n\\t\\t\\tInterviews\\n\\t\\t\\t<span class=\"caption-subdued-large\">\\n\\t\\t\\t\\t54\\n\\t\\t\\t</span></a><a href=\"/jobs/mahindra-and-mahindra-jobs\" title=\"Mahindra &amp; Mahindra Jobs\" class=\"body-medium\">\\n\\t\\t\\tJobs\\n\\t\\t\\t<span class=\"caption-subdued-large\">\\n\\t\\t\\t\\t3\\n\\t\\t\\t</span></a></div></div><div itemprop=\"itemListElement\" itemscope=\"itemscope\" itemtype=\"http://schema.org/ListItem\" class=\"ab-company-result-card\" data-v-6f97e305><meta itemprop=\"position\" content=\"30\"> <meta itemprop=\"name\" content=\"Maruti Suzuki\"> <meta itemprop=\"alternateName\" content=\"Maruti Suzuki India Limited\"> <meta itemprop=\"url\" content=\"https://www.ambitionbox.com/overview/maruti-suzuki-overview\"> <meta itemprop=\"image\" content=\"https://static.ambitionbox.com/alpha/company/photos/logos/maruti.jpg\"> <div class=\"company-content-wrapper\"><div class=\"company-content\"><div class=\"company-logo\"><img data-src=\"https://static.ambitionbox.com/alpha/company/photos/logos/maruti.jpg\" src=\"https://static.ambitionbox.com/static/icons/company-placeholder.svg\" alt=\"Maruti Suzuki India Limited logo\" onerror=\"this.onerror=null;this.src=\\'/static/icons/company-placeholder.svg\\';\" class=\"lazy\"></div> <div class=\"company-info-wrapper\"><div class=\"company-info\"><div class=\"left\"><a href=\"/overview/maruti-suzuki-overview\"><h2 title=\"Maruti Suzuki\" class=\"company-name bold-title-l\">\\n\\t\\t\\t\\t\\t\\t\\t\\tMaruti Suzuki\\n\\t\\t\\t\\t\\t\\t\\t</h2></a> <div class=\"rating-wrapper\"><p class=\"rating badge-large rating-4\"><i class=\"icon icon-star\"></i>\\n\\t\\t\\t\\t\\t\\t\\t\\t4.2\\n\\t\\t\\t\\t\\t\\t\\t</p> <a href=\"https://www.ambitionbox.com/reviews/maruti-suzuki-reviews\" class=\"review-count sbold-Labels\">\\n\\t\\t\\t\\t\\t\\t\\t\\t(3.4k Reviews)\\n\\t\\t\\t\\t\\t\\t\\t</a></div></div> <button class=\"ab_btn follow-btn invert round\"><span class=\"ctas-btn-medium\">Follow</span></button></div> <div class=\"company-basic-info\"><p class=\"infoEntity sbold-list-header\"><i class=\"icon-domain\"></i>\\n\\t\\t\\t\\t\\t\\tPublic\\n\\t\\t\\t\\t\\t</p> <p class=\"infoEntity sbold-list-header\"><i class=\"icon-pin-drop\"></i>\\n\\t\\t\\t\\t\\t\\tNew Delhi,Delhi + 277 more\\n\\t\\t\\t\\t\\t</p> <p class=\"infoEntity sbold-list-header\"><i class=\"icon-access-time\"></i>\\n\\t\\t\\t\\t\\t\\t37 years old\\n\\t\\t\\t\\t\\t</p> <!----></div> <div class=\"chips-block\"><a href=\"/automobile-companies-in-india\" data-filter-name=\"chips_Company-Tags_automobile\" title=\"Automobile companies in India\" class=\"ab_chip body-medium\">\\n\\t\\t\\t\\t\\t\\tAutomobile\\n\\t\\t\\t\\t\\t</a><a href=\"/manufacturing-companies-in-india\" data-filter-name=\"chips_Company-Tags_manufacturing\" title=\"Manufacturing companies in India\" class=\"ab_chip body-medium\">\\n\\t\\t\\t\\t\\t\\tManufacturing\\n\\t\\t\\t\\t\\t</a><a href=\"/fortune500-companies-in-india\" data-filter-name=\"chips_Company-Tags_fortune500\" title=\"Fortune500 companies in India\" class=\"ab_chip body-medium\">\\n\\t\\t\\t\\t\\t\\tFortune500\\n\\t\\t\\t\\t\\t</a><a href=\"/public-companies-in-india\" data-filter-name=\"chips_Company-Tags_public\" title=\"Public companies in India\" class=\"ab_chip body-medium\">\\n\\t\\t\\t\\t\\t\\tPublic\\n\\t\\t\\t\\t\\t</a></div></div></div> <!----> <p itemprop=\"description\" class=\"description body-small\">\\n\\t\\t\\t\\tCars are what Maruti Suzuki builds. Experiences are what it creates.\\n\\nExperiences fuelled by innovations, forward thinking, and a commitment to bring the very best to Indian roads. From the day the iconic Maruti 800 was launched in 1983, the company has been spearheading a revolution of change. Turning an entire country’s need for driving, into its love for driving.\\nHowever, tastes and demands keep on evolving with each new generation of Indians. This has not been looked at by Maruti Suzuki as a challenge, but as an inspiration to go beyond traditional boundaries of car-making. Infusing design and technology is one such step it has taken to make its cars meet new age expectations smoothly. Today, Maruti Suzuki has its eyes set firmly on the possibilities of tomorrow. And everybody is invited on this journey.\\n\\t\\t\\t</p></div> <div class=\"company-action-center\"><a href=\"/overview/maruti-suzuki-overview\" title=\"Maruti Suzuki Overview\" class=\"body-medium\">\\n\\t\\t\\tAbout\\n\\t\\t\\t<!----></a><a href=\"/reviews/maruti-suzuki-reviews\" title=\"Maruti Suzuki Reviews\" class=\"body-medium\">\\n\\t\\t\\tReviews\\n\\t\\t\\t<span class=\"caption-subdued-large\">\\n\\t\\t\\t\\t3.4k\\n\\t\\t\\t</span></a><a title=\"Maruti Suzuki Salaries\" href=\"https://www.ambitionbox.com/salaries/maruti-suzuki-salaries\" class=\"body-medium\">\\n\\t\\t\\tSalaries\\n\\t\\t\\t<span class=\"caption-subdued-large\">\\n\\t\\t\\t\\t9.4k\\n\\t\\t\\t</span></a><a title=\"Maruti Suzuki Interviews\" href=\"https://www.ambitionbox.com/interviews/maruti-suzuki-interview-questions\" class=\"body-medium\">\\n\\t\\t\\tInterviews\\n\\t\\t\\t<span class=\"caption-subdued-large\">\\n\\t\\t\\t\\t51\\n\\t\\t\\t</span></a><a href=\"/jobs/maruti-suzuki-jobs\" title=\"Maruti Suzuki Jobs\" class=\"body-medium\">\\n\\t\\t\\tJobs\\n\\t\\t\\t<span class=\"caption-subdued-large\">\\n\\t\\t\\t\\t21\\n\\t\\t\\t</span></a></div></div></div></div> <div id=\"ab-paginator-wrapper\" role=\"navigation\" data-v-6f97e305><!----> <div class=\"pagination-btns\"><a href=\"/list-of-companies?page=1\" class=\"page sbold-section-header router-link-exact-active router-link-active link-active\">\\n\\t\\t\\t1\\n\\t\\t</a><a href=\"/list-of-companies?page=2\" class=\"page sbold-section-header router-link-active\">\\n\\t\\t\\t2\\n\\t\\t</a><a href=\"/list-of-companies?page=3\" class=\"page sbold-section-header router-link-active\">\\n\\t\\t\\t3\\n\\t\\t</a><a href=\"/list-of-companies?page=4\" class=\"page sbold-section-header router-link-active\">\\n\\t\\t\\t4\\n\\t\\t</a><a href=\"/list-of-companies?page=5\" class=\"page sbold-section-header router-link-active\">\\n\\t\\t\\t5\\n\\t\\t</a><a href=\"/list-of-companies?page=6\" class=\"page sbold-section-header router-link-active\">\\n\\t\\t\\t6\\n\\t\\t</a><a href=\"/list-of-companies?page=7\" class=\"page sbold-section-header router-link-active\">\\n\\t\\t\\t7\\n\\t\\t</a></div> <a href=\"/list-of-companies?page=2\" class=\"page-nav-btn router-link-active\"><i class=\"icon-chevron-right next nav-btn\"></i></a></div> <!----></section></div></div></div></main></div> <!----><!----><!----><!----><!----><!----><!----> <!----> <footer id=\"ab-footer\" data-v-4b0075a2><div class=\"container\"><div class=\"info\"><div class=\"logo-wrap\"><img src=\"https://static.ambitionbox.com/static/logo.svg\" alt=\"AmbitionBox\" class=\"logo-img\"> <span class=\"logo-text\">AmbitionBox</span></div> <p class=\"title semibold\">\\n\\t\\t\\t\\tHelping over 2 million job seekers every month in choosing their right fit\\n\\t\\t\\t\\tcompany\\n\\t\\t\\t</p> <div class=\"col\"><div class=\"item\"><span class=\"bold-title\">20 Lakh+</span> <p class=\"semibold\">Reviews</p></div> <div class=\"item\"><span class=\"bold-title\">50 Lakh+</span> <p class=\"semibold\">Salaries</p></div> <div class=\"item\"><span class=\"bold-title\">1 Lakh+</span> <p class=\"semibold\">Interviews</p></div> <div class=\"item\"><span class=\"bold-title\">25 Lakh+</span> <p class=\"semibold\">Users/month</p></div></div></div> <div class=\"footer-nav-section\"><div class=\"left-col\"><div class=\"col\"><span class=\"item bold-title\">Browse by</span> <a href=\"/list-of-companies\" class=\"item router-link-active\">Companies</a> <a href=\"/reviews\" class=\"item\">Reviews</a> <a href=\"/salaries\" class=\"item\">Salaries</a> <a href=\"/awards\" class=\"item\">\\n\\t\\t\\t\\t\\t\\tAwards\\n\\t\\t\\t\\t\\t</a> <a href=\"https://www.ambitionbox.com/interviews\" rel=\"noreferrer\" class=\"item\">Interviews</a> <a href=\"/salaries/take-home-salary-calculator\" class=\"item\">\\n\\t\\t\\t\\t\\t\\tSalary Calculator\\n\\t\\t\\t\\t\\t</a> <a href=\"https://www.ambitionbox.com/topics/aptitude/questions-and-answers\" rel=\"noreferrer\" class=\"item\">Practice Test</a></div> <div class=\"col\"><span class=\"item bold-title\">AmbitionBox</span> <a href=\"https://www.ambitionbox.com/overview/ambition-box-overview\" rel=\"noreferrer\" class=\"item\">About</a> <a href=\"mailto:hi@ambitionbox.com?Subject=Query\" target=\"_blank\" rel=\"noreferrer\" class=\"body-text-large\">Email Us</a> <a href=\"https://www.ambitionbox.com/unboxed\" target=\"_blank\" rel=\"noreferrer\" class=\"item\">Blog</a> <a href=\"/faq\" target=\"_blank\" rel=\"noreferrer\" class=\"item\">FAQ</a></div> <div class=\"col\"><span class=\"item bold-title\">Support</span> <a href=\"/legal/privacy-policy\" target=\"_blank\" rel=\"noreferrer\" class=\"item\">Privacy Policy</a> <a href=\"https://www.ambitionbox.com/legal/grievances\" target=\"_blank\" rel=\"noreferrer\" class=\"item\">Grievances</a> <a href=\"https://www.ambitionbox.com/legal/summons-notice-form\" target=\"_blank\" rel=\"noreferrer\" class=\"item\">Summons/Notices</a> <a href=\"/legal/community-guidelines\" target=\"_blank\" rel=\"noreferrer\" class=\"item\">Community Guidelines</a> <a href=\"/legal/terms-of-use\" target=\"_blank\" rel=\"noreferrer\" class=\"item\">Terms of Use</a></div> <!----></div> <div class=\"right-col\"><div class=\"col\"><span class=\"item bold-title\">Follow Us</span> <div class=\"social\"><a href=\"https://bit.ly/3b4QqEJ\" target=\"_blank\" rel=\"nofollow noopener\"><img alt=\"Instagram\" data-src=\"https://static.ambitionbox.com/static/icons/social/instagram-logo.svg\" onerror=\"this.onerror=null;this.src=\\'/static/icons/social/instagram-logo.svg\\'\" class=\"lazy\"></a> <a href=\"https://bit.ly/2W42b9V \" target=\"_blank\" rel=\"nofollow noopener\"><img alt=\"LinkedIn\" data-src=\"https://static.ambitionbox.com/static/icons/social/linkedin-logo.svg\" onerror=\"this.onerror=null;this.src=\\'/static/icons/social/linkedin-logo.svg\\'\" class=\"lazy\"></a> <a href=\"https://bit.ly/2YzmnCf\" target=\"_blank\" rel=\"nofollow noopener\"><img alt=\"Facebook\" data-src=\"https://static.ambitionbox.com/static/icons/social/fb-logo.svg\" onerror=\"this.onerror=null;this.src=\\'/static/icons/social/fb-logo.svg\\'\" class=\"lazy\"></a> <a href=\"https://bit.ly/35wg97E\" target=\"_blank\" rel=\"nofollow noopener\"><img alt=\"Twitter\" data-src=\"https://static.ambitionbox.com/static/icons/social/twitter-logo.svg\" onerror=\"this.onerror=null;this.src=\\'/static/icons/social/fb-logo.svg\\'\" class=\"lazy\"></a></div> <span class=\"item bold-title\">Contribute</span> <button class=\"ab_btn btn invert\"><span class=\"ctas-btn-medium\">Write Company Review</span></button> <button class=\"ab_btn btn invert\"><span class=\"ctas-btn-medium\">Write Interview Advice</span></button></div></div></div></div> <!----> <!----> <div class=\"copyright-container\"><p class=\"container body-large\">\\n\\t\\t\\tTrademarks belong to their respective owners. All rights reserved © 2020 Info Edge\\n\\t\\t\\t(India) Ltd.\\n\\t\\t</p></div></footer></div></div></div><script>window.__NUXT__=(function(a,b,c,d,e,f,g,h,i,j,k,l,m,n,o,p,q,r,s,t,u,v,w,x,y,z,A,B,C,D,E,F,G,H,I,J,K,L,M,N,O,P,Q,R,S,T,U,V,W,X,Y,Z,_,$,aa,ab,ac,ad,ae,af,ag,ah,ai,aj,ak,al,am,an,ao,ap,aq,ar,as,at,au,av,aw,ax,ay,az,aA,aB,aC,aD,aE,aF,aG,aH,aI,aJ,aK,aL,aM,aN,aO,aP,aQ,aR,aS,aT,aU,aV,aW,aX,aY,aZ,a_,a$,ba,bb,bc,bd,be,bf,bg,bh,bi,bj,bk,bl,bm,bn,bo,bp,bq,br,bs,bt,bu,bv,bw,bx,by,bz,bA,bB,bC,bD,bE,bF,bG,bH,bI,bJ,bK,bL,bM,bN,bO,bP,bQ){return {layout:\"companyListingLayout\",data:[{companyListingData:[{CompanyId:al,CompanyReviewsLive:17744,Rating:av,InterviewExperiencesLive:736,CompanySalaries:173887,CompanyType:g,Name:\"Tata Consultancy Services\",UrlName:ar,Age:aB,ShortName:\"TCS\",Logo:ar,TotalEmployees:d,headquaters:y,HQCountry:h,industries:[{UrlName:U,Id:_,Name:Q}],tags:[{Name:k,UrlName:l},{Name:e,UrlName:f}],location_count:165,first_location:[y,a],HQUrlName:d,industry_string:Q,About:\"Tata Consultancy Services is an IT services, consulting and business solutions organisation that has been partnering with the world’s largest businesses in their transformation journeys for the last 50 years. \\\\n\\\\nA part of the Tata group, India\\'s largest multinational business group, TCS has over 436,000 of the world’s best-trained consultants in 46 countries. The company is listed on the BSE (formerly Bombay Stock Exchange) and the NSE (National Stock Exchange) in India. \\\\n\\\\nTCS\\'\\u200b proactive stance on climate change and award winning work with communities across the world have earned it a place in leading sustainability indices such as the Dow Jones Sustainability Index (DJSI), MSCI Global Sustainability Index and the FTSE4Good Emerging Index. \\\\n\",CompanyJobsLive:261,Subscribed:b},{CompanyId:273,CompanyReviewsLive:15541,Rating:bg,InterviewExperiencesLive:311,CompanySalaries:118919,CompanyType:x,Name:am,UrlName:an,Age:aq,ShortName:am,Logo:an,TotalEmployees:c,headquaters:az,HQCountry:\"Ireland\",industries:[{UrlName:u,Id:v,Name:w},{UrlName:s,Id:t,Name:p}],tags:[{Name:j,UrlName:i},{Name:e,UrlName:f}],location_count:aA,first_location:[az,a],HQUrlName:d,industry_string:S,About:\"Accenture is a leading global professional services company, providing a broad range of services and solutions in strategy, consulting, digital, technology and operations. Combining unmatched experience and specialized skills across more than 40 industries and all business functions – underpinned by the world’s largest delivery network – Accenture works at the intersection of business and technology to help clients improve their performance and create sustainable value for their stakeholders. With 449,000 people serving clients in more than 120 countries, Accenture drives innovation to improve the way the world works and lives. Visit us at www.accenture.com.\",CompanyJobsLive:7384,Subscribed:b},{CompanyId:aC,CompanyReviewsLive:14340,Rating:4.08,InterviewExperiencesLive:101,CompanySalaries:52915,CompanyType:g,Name:aJ,UrlName:\"icici-bank\",Age:C,ShortName:aJ,Logo:\"icici_bank\",TotalEmployees:c,headquaters:a,HQCountry:h,industries:[{UrlName:I,Id:J,Name:N},{UrlName:r,Id:q,Name:n}],tags:[{Name:j,UrlName:i},{Name:k,UrlName:l},{Name:e,UrlName:f}],location_count:728,first_location:[a,z],HQUrlName:A,industry_string:ag,About:\"ICICI Bank is India\\'s largest private sector bank with total consolidated assets of Rs. 11,242.81 billion (US$ 172.5 billion) at March 31, 2018 and profit after tax of Rs. 67.77 billion (US$ 1.0 billion) for the year ended March 31, 2018. \\\\n\\\\nICICI Bank currently has a network of 4,867 Branches and 14,367 ATMs across India.\\\\n\\\\nICICI Bank offers a wide range of banking products and financial services to corporate and retail customers through a variety of delivery channels and through its specialised subsidiaries in the areas of investment banking, life and non-life insurance, venture capital and asset management.\",CompanyJobsLive:33,Subscribed:b},{CompanyId:43,CompanyReviewsLive:13326,Rating:3.89,InterviewExperiencesLive:240,CompanySalaries:129137,CompanyType:x,Name:aD,UrlName:\"cognizant\",Age:C,ShortName:aD,Logo:\"cognizant-technology-solutions\",TotalEmployees:c,headquaters:aG,HQCountry:ah,industries:[{UrlName:s,Id:t,Name:p}],tags:[{Name:j,UrlName:i},{Name:e,UrlName:f}],location_count:48,first_location:[aG,a],HQUrlName:d,industry_string:p,About:\"Cognizant (NASDAQ-100: CTSH) is one of the world’s leading professional services companies,\\\\ntransforming clients’ business, operating and technology models for the digital era. Our unique industry-based, consultative approach helps many of the best-known organizations in every industry and geography envision, build and run more innovative and efficient businesses.\\\\nFounded in 1994 as a technology development arm of The Dun & Bradstreet Corporation, we were spun off as an independent company in 1996, and have worked closely with large organizations to help them build stronger businesses ever since. Today, Cognizant specializes in helping some of the world’s most established companies to stay the most loved brands in today’s fast-changing technology landscape by advancing every aspect of how they serve their customers: digitizing their products, services and customer experiences; automating their business processes; and modernizing their technology infrastructures\",CompanyJobsLive:1369,Subscribed:b},{CompanyId:137,CompanyReviewsLive:12535,Rating:aK,InterviewExperiencesLive:112,CompanySalaries:51049,CompanyType:g,Name:aL,UrlName:\"hdfc-bank\",Age:C,ShortName:aL,Logo:\"hdfc\",TotalEmployees:d,headquaters:y,HQCountry:h,industries:[{UrlName:r,Id:q,Name:n},{UrlName:aM,Id:aP,Name:aX},{UrlName:\"insurance\",Id:\"99\",Name:\"Insurance\"}],tags:[{Name:k,UrlName:l},{Name:e,UrlName:f}],location_count:726,first_location:[y,a],HQUrlName:d,industry_string:\"Financial Services,Banking,Insurance\",About:\"HDFC Bank is one of India’s leading private banks and was among the first to receive approval from the Reserve Bank of India (RBI) to set up a private sector bank in 1994.\\\\n\\\\nToday, HDFC Bank has a banking network of 5,314 branches and 13,640  ATMs spread across 2,768 cities and towns.\\\\n\\\\nHDFC Bank offers a diverse range of financial products and banking services to customers through a growing branch and ATM network and digital channels such as Netbanking, Phonebanking and MobileBanking.\",CompanyJobsLive:116,Subscribed:b},{CompanyId:aA,CompanyReviewsLive:10276,Rating:3.36,InterviewExperiencesLive:151,CompanySalaries:82266,CompanyType:x,Name:aY,UrlName:aZ,Age:a_,ShortName:aY,Logo:aZ,TotalEmployees:c,headquaters:P,HQCountry:bj,industries:[{UrlName:bk,Id:bl,Name:bw},{UrlName:u,Id:v,Name:w},{UrlName:bP,Id:aj,Name:ak},{UrlName:s,Id:t,Name:p},{UrlName:T,Id:ai,Name:V}],tags:[{Name:j,UrlName:i},{Name:e,UrlName:f}],location_count:ao,first_location:[P,a],HQUrlName:d,industry_string:\"Computer Software,Consulting,Internet,IT \\\\u002F ITES,Analytics \\\\u002F BPM \\\\u002F Research\",About:\"Capgemini is a global leader in consulting, digital transformation, technology and engineering services. The Group is at the forefront of innovation to address the entire breadth of clients’ opportunities in the evolving world of cloud, digital and platforms. Building on its strong 50-year+ heritage and deep industry-specific expertise, Capgemini enables organizations to realize their business ambitions through an array of services from strategy to operations. Capgemini is driven by the conviction that the business value of technology comes from and through people. Today, it is a multicultural company of 270,000 team members in almost 50 countries. With Altran, the Group reported 2019 combined revenues of €17billion.\\\\n\\\\nVisit us at www.capgemini.com. People matter, results count.\\\\n\",CompanyJobsLive:524,Subscribed:b},{CompanyId:351,CompanyReviewsLive:10156,Rating:3.55,InterviewExperiencesLive:aC,CompanySalaries:60399,CompanyType:g,Name:ap,UrlName:\"tech-mahindra\",Age:34,ShortName:ap,Logo:\"techmahindra\",TotalEmployees:c,headquaters:B,HQCountry:h,industries:[{UrlName:u,Id:v,Name:w},{UrlName:s,Id:t,Name:p},{UrlName:T,Id:ai,Name:V}],tags:[{Name:j,UrlName:i},{Name:k,UrlName:l},{Name:e,UrlName:f}],location_count:161,first_location:[B,a],HQUrlName:ab,industry_string:\"Consulting,IT \\\\u002F ITES,Analytics \\\\u002F BPM \\\\u002F Research\",About:\"Tech Mahindra represents the connected world, offering innovative and customer-centric information technology experiences, enabling Enterprises, Associates and the Society to Rise™. We are a USD 4.9 billion company with 125,700+ professionals across 90 countries, helping 941 global customers including Fortune 500 companies. Our convergent, digital, design experiences, innovation platforms and reusable assets connect across a number of technologies to deliver tangible business value and experiences to our stakeholders. Tech Mahindra is the highest ranked Non-U.S. company in the Forbes Global Digital 100 list (2018) and in the Forbes Fab 50 companies in Asia (2018).\",CompanyJobsLive:395,Subscribed:b},{CompanyId:88,CompanyReviewsLive:9474,Rating:3.7,InterviewExperiencesLive:147,CompanySalaries:73519,CompanyType:g,Name:as,UrlName:\"hcl-technologies\",Age:14,ShortName:as,Logo:\"hcl-technologies-88\",TotalEmployees:d,headquaters:at,HQCountry:h,industries:[{UrlName:bk,Id:bl,Name:bw},{UrlName:u,Id:v,Name:w},{UrlName:r,Id:q,Name:n},{UrlName:\"consumer-electronics-and-appliances\",Id:\"111\",Name:\"Consumer Electronics & Appliances\"},{UrlName:U,Id:_,Name:Q}],tags:[{Name:j,UrlName:i},{Name:k,UrlName:l},{Name:e,UrlName:f}],location_count:111,first_location:[at,a],HQUrlName:d,industry_string:\"Computer Software,Consulting,Financial Services,Consumer Electronics & Appliances,IT Services & Consulting\",About:\"HCL Technologies is a next-generation global technology company that helps enterprises reimagine their businesses for the digital age. Our technology products, services, and engineering are built on four decades of innovation, with a world-renowned management philosophy, a strong culture of invention and risk-taking, and a relentless focus on customer relationships. \\\\n\\\\nWe offer an integrated portfolio of products, solutions, services, and IP through our Mode 1-2-3 strategy, built around Digital, IoT, Cloud, Automation, Cybersecurity, Analytics, Infrastructure Management, and Engineering Services, amongst others. With a worldwide network of R&D, innovation labs, and delivery centers, and 153,085 ‘Ideapreneurs’ working in 50 countries, HCL serves leading enterprises across key industries, including 250 of the Fortune 500 and 650 of the Global 2000.\",CompanyJobsLive:276,Subscribed:b},{CompanyId:70,CompanyReviewsLive:9401,Rating:au,InterviewExperiencesLive:143,CompanySalaries:28343,CompanyType:g,Name:\"Larsen and Toubro\",UrlName:bQ,Age:82,ShortName:\"L&T\",Logo:bQ,TotalEmployees:c,headquaters:a,HQCountry:h,industries:[{UrlName:aw,Id:ax,Name:ay},{UrlName:G,Id:H,Name:K},{UrlName:\"engineering-and-construction\",Id:\"91\",Name:\"Engineering & Construction\"}],tags:[{Name:L,UrlName:M},{Name:k,UrlName:l},{Name:e,UrlName:f}],location_count:339,first_location:[a,z],HQUrlName:A,industry_string:\"Industrial Equipment \\\\u002F Machinery,Manufacturing,Engineering & Construction\",About:\"Larsen & Toubro is a major technology, engineering, construction, manufacturing and financial services conglomerate, with global operations. L&T addresses critical needs in key sectors - Hydrocarbon, Infrastructure, Power, Process Industries and Defence - for customers in over 30 countries around the world.\\\\n\\\\nL&T is engaged in core, high impact sectors of the economy and our integrated capabilities span the entire spectrum of ‘design to deliver’. With 8 decades of a strong, customer focused approach and a continuous quest for world-class quality, we have unmatched expertise across Technology, Engineering, Construction, Infrastructure Projects and Manufacturing, and maintain a leadership in all our major lines of business.\\\\n\\\\nEvery aspect of L&T\\'s businesses is characterised by professionalism and high standards of corporate governance. Sustainability is embedded into our long-term strategy for growth.\",CompanyJobsLive:90,Subscribed:b},{CompanyId:41,CompanyReviewsLive:8920,Rating:3.87,InterviewExperiencesLive:398,CompanySalaries:129251,CompanyType:g,Name:aE,UrlName:aF,Age:39,ShortName:aE,Logo:aF,TotalEmployees:c,headquaters:D,HQCountry:h,industries:[{UrlName:s,Id:t,Name:p}],tags:[{Name:j,UrlName:i},{Name:k,UrlName:l},{Name:e,UrlName:f}],location_count:67,first_location:[D,a],HQUrlName:d,industry_string:p,About:\"Infosys is a global leader in next-generation digital services and consulting. We enable clients in 45 countries to navigate their digital transformation. With over three decades of experience in managing the systems and workings of global enterprises, we expertly steer our clients through the many nexts of their digital journey. We do it by enabling the enterprise with an AI-powered core that helps prioritize the execution of change. We also empower the business with agile digital at scale to deliver unprecedented levels of performance and customer delight. Our always-on learning agenda drives their continuous improvement through building and transferring digital skills, expertise and ideas from our innovation ecosystem.\",CompanyJobsLive:8,Subscribed:b},{CompanyId:142,CompanyReviewsLive:8759,Rating:4.12,InterviewExperiencesLive:126,CompanySalaries:20384,CompanyType:g,Name:aH,UrlName:aI,Age:W,ShortName:aH,Logo:aI,TotalEmployees:c,headquaters:B,HQCountry:h,industries:[{UrlName:X,Id:Y,Name:Z},{UrlName:G,Id:H,Name:K}],tags:[{Name:j,UrlName:i},{Name:k,UrlName:l},{Name:e,UrlName:f}],location_count:341,first_location:[B,a],HQUrlName:ab,industry_string:aN,About:\"Tata Motors Limited, a USD 45 billion organisation, is a leading automobile manufacturer with a portfolio that includes a wide range of cars, utility vehicles, trucks, buses and defence vehicles. Our marque can be found on and off-road in over 175 countries around the globe.\\\\n\\\\nOur focus on connecting aspirations and our pipeline of tech-enabled products keeps us at the forefront of the market. We have identified six key mobility drivers that will lead us into the future – modular architecture, complexity reduction in manufacturing, connected & autonomous vehicles, clean drivelines, shared mobility, and low total cost of ownership. Our sub-brand TAMO is an incubating centre of innovation that will spark new mobility solutions through new technologies, business models and partnerships.\",CompanyJobsLive:7,Subscribed:b},{CompanyId:136,CompanyReviewsLive:8677,Rating:4.05,InterviewExperiencesLive:178,CompanySalaries:56634,CompanyType:g,Name:aO,UrlName:\"ibm\",Age:109,ShortName:aO,Logo:\"ibm-global-services\",TotalEmployees:d,headquaters:O,HQCountry:ah,industries:[{UrlName:u,Id:v,Name:w},{UrlName:r,Id:q,Name:n},{UrlName:T,Id:ai,Name:V},{UrlName:U,Id:_,Name:Q},{UrlName:\"industrial-automation\",Id:\"167\",Name:\"Industrial Automation\"}],tags:[{Name:j,UrlName:i},{Name:e,UrlName:f}],location_count:74,first_location:[O,a],HQUrlName:d,industry_string:\"Consulting,Financial Services,Analytics \\\\u002F BPM \\\\u002F Research,IT Services & Consulting,Industrial Automation\",About:\"At IBM, work is more than a job - it\\'s a calling: To build. To design. To code. To consult. To think along with clients and sell. To make markets. To invent. To collaborate. Not just to do something better, but to attempt things you\\'ve never thought possible. To lead in this new era of technology and solve some of the world\\'s most challenging problems.\\\\n \\\\nIBM is a leading cloud platform and cognitive solutions company. Restlessly reinventing since 1911, we are the largest technology and consulting employer in the world, with more than 350,000 employees serving clients in 170 countries. With Watson, the AI platform for business, powered by data, we are building industry-based solutions to real-world problems. For more than seven decades, IBM Research has defined the future of information technology with more than 3,000 researchers in 12 labs located across six continents.\",CompanyJobsLive:2515,Subscribed:b},{CompanyId:562,CompanyReviewsLive:8671,Rating:bg,InterviewExperiencesLive:86,CompanySalaries:39311,CompanyType:g,Name:aQ,UrlName:\"axis-bank\",Age:aR,ShortName:aQ,Logo:\"axis_bank\",TotalEmployees:c,headquaters:a,HQCountry:h,industries:[{UrlName:I,Id:J,Name:N},{UrlName:r,Id:q,Name:n}],tags:[{Name:j,UrlName:i},{Name:k,UrlName:l},{Name:e,UrlName:f}],location_count:674,first_location:[a,z],HQUrlName:A,industry_string:ag,About:\"Axis Bank is the third largest private sector bank in India. The Bank offers the entire spectrum of financial services to customer segments covering Large and Mid-Corporates, MSME, Agriculture and Retail Businesses.\\\\n\\\\nThe Bank has a large footprint of 4,050 domestic branches (including extension counters) with 11,801 ATMs & 4,917 cash recyclers spread across the country as on 31st March, 2019. The overseas operations of the Bank are spread over nine international offices with branches at Singapore, Hong Kong, Dubai (at the DIFC), Colombo and Shanghai; representative offices at Dhaka, Dubai, Abu Dhabi and an overseas subsidiary at London, UK. The international offices focus on corporate lending, trade finance, syndication, investment banking and liability businesses.\",CompanyJobsLive:128,Subscribed:b},{CompanyId:298,CompanyReviewsLive:8670,Rating:3.96,InterviewExperiencesLive:89,CompanySalaries:40735,CompanyType:x,Name:aS,UrlName:\"genpact\",Age:23,ShortName:aS,Logo:\"genpact-india-pvt-limited\",TotalEmployees:c,headquaters:O,HQCountry:ah,industries:[{UrlName:u,Id:v,Name:w},{UrlName:s,Id:t,Name:p}],tags:[{Name:j,UrlName:i}],location_count:aT,first_location:[O,a],HQUrlName:d,industry_string:S,About:\"Genpact (NYSE: G) is a global professional services firm that makes business transformation real. We drive digital-led innovation and digitally-enabled intelligent operations for our clients, guided by our experience running thousands of processes primarily for Global Fortune 500 companies. We think with design, dream in digital, and solve problems with data and analytics. Combining our expertise in end-to-end operations and our AI-based platform, Genpact Cora, we focus on the details – all 87,000+ of us. From New York to New Delhi and more than 25 countries in between, we connect every dot, reimagine every process, and reinvent companies’ ways of working. We know that reimagining each step from start to finish will create better business outcomes. Whatever it is, we’ll be there with you – accelerating digital transformation to create bold, lasting results – because transformation happens here.\\\\n\\\\nGenpact began in 1997 as a business unit within General Electric. In January 2005, Genpact became an independent company to bring our process expertise and unique DNA in Lean management to clients beyond GE, and then in August 2007, we became a publicly-traded company. Bain Capital became Genpact’s largest shareholder in November 2012, with the strategic objective to grow the company further. Since December 31, 2005, we have expanded from 19,000+ employees and annual revenues of US$491.90 million to 87,000+ employees and annual revenues of US$3.00 billion as of December 31, 2018.\",CompanyJobsLive:224,Subscribed:b},{CompanyId:417825,CompanyReviewsLive:8606,Rating:aK,InterviewExperiencesLive:64,CompanySalaries:25972,CompanyType:g,Name:aU,UrlName:\"ireliance-jio\",Age:aV,ShortName:aU,Logo:\"reliance-jio-infocomm\",TotalEmployees:c,headquaters:aW,HQCountry:h,industries:[{UrlName:$,Id:aa,Name:E}],tags:[{Name:j,UrlName:i}],location_count:601,first_location:[aW,a],HQUrlName:\"navi-mumbai\",industry_string:E,About:\"Make a new start. A start that will build beautiful relationships, shape millions of ideas. Enable a new way to live, learn, work and play.\\\\n\\\\nAt Jio, we build products and services of the future to empower billions of Indians make their dreams a reality.\\\\n\\\\nJio is about YOU. Join the movement to make India Digital.\",CompanyJobsLive:ac,Subscribed:b},{CompanyId:a$,CompanyReviewsLive:7806,Rating:3.8,InterviewExperiencesLive:221,CompanySalaries:91039,CompanyType:g,Name:ba,UrlName:bb,Age:W,ShortName:ba,Logo:bb,TotalEmployees:c,headquaters:D,HQCountry:h,industries:[{UrlName:u,Id:v,Name:w},{UrlName:s,Id:t,Name:p}],tags:[{Name:j,UrlName:i},{Name:L,UrlName:M},{Name:k,UrlName:l},{Name:e,UrlName:f}],location_count:bc,first_location:[D,a],HQUrlName:d,industry_string:S,About:\"Wipro Limited (NYSE: WIT, BSE: 507685, NSE: WIPRO) is a leading global information technology, consulting and business process services company. We harness the power of cognitive computing, hyper-automation, robotics, cloud, analytics and emerging technologies to help our clients adapt to the digital world and make them successful. A company recognized globally for its comprehensive portfolio of services, a strong commitment to sustainability and good corporate citizenship, we have over 160,000 dedicated employees serving clients across six continents. Together, we discover ideas and connect the dots to build a better and a bold new future.\",CompanyJobsLive:94,Subscribed:b},{CompanyId:631479,CompanyReviewsLive:7514,Rating:3.99,InterviewExperiencesLive:bd,CompanySalaries:16403,CompanyType:g,Name:be,UrlName:bf,Age:ad,ShortName:be,Logo:bf,TotalEmployees:c,headquaters:bh,HQCountry:bi,industries:[{UrlName:ae,Id:af,Name:F}],tags:[],location_count:bm,first_location:[bh,a],HQUrlName:d,industry_string:F,About:\"Concentrix is a technology-enabled global business services company specializing in customer engagement and improving business performance. We partner with ambitious, progressive executives around the world to future-proof their business and stay ahead of the competition and customer expectations.\\\\n\\\\nIt’s all about tapping into sentiment and building an emotional connection that keeps customers and staff fanatical about your brand. That’s where we come in—we create exceptional customer engagement, accelerate digital transformation, and deliver actionable CX insights.\\\\n\\\\nWe help you reimagine your business—and get you there faster than you ever thought possible.\",CompanyJobsLive:71,Subscribed:b},{CompanyId:6193,CompanyReviewsLive:6667,Rating:av,InterviewExperiencesLive:aR,CompanySalaries:22538,CompanyType:x,Name:bn,UrlName:\"hdb-financial-services\",Age:bo,ShortName:bn,Logo:\"hdb-financial-services-6193\",TotalEmployees:c,headquaters:bp,HQCountry:h,industries:[{UrlName:r,Id:q,Name:n}],tags:[],location_count:474,first_location:[bp,a],HQUrlName:\"ahmedabad\",industry_string:n,About:\"HDB Financial Services (HDBFS) is a leading Non-Banking Financial Company (NBFC) that caters to the growing needs of an Aspirational India, serving both Individual & Business Clients.\\\\n\\\\nIncorporated in 2007, we are a well-established business with strong capitalization. HDBFS is accredited with CARE AAA & CRISIL AAA ratings for its long-term debt & Bank facilities and an A1+ rating for its short-term debt & commercial papers, making it a strong and reliable financial institution.\\\\n\\\\nHDBFS maintains a strong commitment to ethical conduct. Transparency is ingrained in the structure of our Code of Ethics and our compliance policies to ensure that the highest standards of professional conduct are consistently reinforced and embedded in every corner of the organisation.\\\\n\",CompanyJobsLive:a$,Subscribed:b},{CompanyId:114,CompanyReviewsLive:5974,Rating:au,InterviewExperiencesLive:373,CompanySalaries:33339,CompanyType:x,Name:bq,UrlName:br,Age:C,ShortName:bq,Logo:br,TotalEmployees:c,headquaters:bs,HQCountry:bi,industries:[{UrlName:\"consumer-goods\",Id:\"16\",Name:\"Consumer goods\"},{UrlName:bP,Id:aj,Name:ak},{UrlName:\"retail\",Id:\"49\",Name:\"Retail\"}],tags:[{Name:j,UrlName:i},{Name:e,UrlName:f}],location_count:175,first_location:[bs,a],HQUrlName:d,industry_string:\"Consumer goods,Internet,Retail\",About:\"Amazon is guided by four principles: customer obsession rather than competitor focus, passion for invention, commitment to operational excellence, and long-term thinking. We are driven by the excitement of building technologies, inventing products, and providing services that change lives. We embrace new ways of doing things, make decisions quickly, and are not afraid to fail. We have the scope and capabilities of a large company, and the spirit and heart of a small one.\\\\n\\\\nTogether, Amazonians research and develop new technologies from Amazon Web Services to Alexa on behalf of our customers: shoppers, sellers, content creators, and developers around the world.\",CompanyJobsLive:160,Subscribed:b},{CompanyId:293916,CompanyReviewsLive:5945,Rating:3.82,InterviewExperiencesLive:36,CompanySalaries:24792,CompanyType:g,Name:\"Kotak Mahindra Bank Ltd..\",UrlName:bt,Age:17,ShortName:\"Kotak Mahindra Bank\",Logo:bt,TotalEmployees:d,headquaters:y,HQCountry:h,industries:[{UrlName:I,Id:J,Name:N},{UrlName:r,Id:q,Name:n},{UrlName:aM,Id:aP,Name:aX}],tags:[{Name:L,UrlName:M},{Name:k,UrlName:l},{Name:e,UrlName:f}],location_count:356,first_location:[y,a],HQUrlName:d,industry_string:\"Banking \\\\u002F Insurance \\\\u002F Accounting,Financial Services,Banking\",About:\"In February 2003, Kotak Mahindra Finance Ltd. (KMFL), the Group\\'s flagship company, received banking license from the Reserve Bank of India (RBI), becoming the first non-banking finance company in India to convert into a bank - Kotak Mahindra Bank Ltd.\\\\nEffective April 1, 2015, ING Vysya Bank Ltd. merged with Kotak Mahindra Bank Ltd. \\\\nThe Bank has four Strategic Business Units – Consumer Banking, Corporate Banking, Commercial Banking and Treasury, which cater to retail and corporate customers across urban and rural India.\\\\n\\\\nThe Group offers a wide range of financial services that encompass every sphere of life. From commercial banking, to stock broking, mutual funds, life insurance and investment banking, the Group caters to the diverse financial needs of individuals and the corporate sector. The Group has a wide distribution network through branches and franchisees across India, and international offices in London, New York, California, Dubai, Abu Dhabi, Bahrain, Mauritius and Singapore.\",CompanyJobsLive:138,Subscribed:b},{CompanyId:2244,CompanyReviewsLive:5841,Rating:bu,InterviewExperiencesLive:45,CompanySalaries:16551,CompanyType:g,Name:bv,UrlName:\"bharti-airtel\",Age:25,ShortName:bv,Logo:\"airtel-bharti\",TotalEmployees:c,headquaters:R,HQCountry:h,industries:[{UrlName:$,Id:aa,Name:E}],tags:[{Name:k,UrlName:l},{Name:e,UrlName:f}],location_count:344,first_location:[R,a],HQUrlName:bx,industry_string:E,About:\"Bharti Airtel is a leading alternative provider of telecommunications services in India and among the top ten global carriers offering services in about 20 other countries, particularly in Africa. Through subsidiaries, the company operates three business units: Telemedia Services (broadband and telephone), Enterprise Services, and Mobile Services. The Enterprise Services group aids both long-distance carriers and corporate clients. Bharti Airtel has more than 220 million mainly mobile subscribers. It provides digital television service for 5 million in India. The company is a unit of Bharti Enterprises, a conglomerate with interests in financial services, food, and retail, besides telecom.\",CompanyJobsLive:59,Subscribed:b},{CompanyId:56,CompanyReviewsLive:5788,Rating:by,InterviewExperiencesLive:aq,CompanySalaries:13828,CompanyType:g,Name:bz,UrlName:\"vodafone\",Age:bm,ShortName:bz,Logo:\"vodafone-india-services\",TotalEmployees:c,headquaters:bA,HQCountry:\"UnitedKingdom\",industries:[{UrlName:$,Id:aa,Name:E}],tags:[{Name:j,UrlName:i},{Name:k,UrlName:l},{Name:e,UrlName:f}],location_count:357,first_location:[bA,a],HQUrlName:d,industry_string:E,About:\"Vodafone is a leader in technology communications through mobile, fixed, broadband and TV.\\\\nWe have extensive experience in connectivity, convergence and the Internet of Things, as well as championing mobile financial services and digital transformation in emerging markets.\\\\n\\\\nSince making the first mobile call in the UK on 1 January 1985, Vodafone has grown into an international business and one of the most valuable brands in the world. We have mobile operations in 24 countries, partner with mobile networks in 42 more, and provide fixed broadband in 19 markets.\\\\n\\\\nAs of 30 September 2019, Vodafone Group had approximately 625 million mobile customers, 27 million fixed broadband customers and 22 million TV customers, including all of the customers in Vodafone’s joint ventures and associates.\\\\n\\\\nWe’re working hard to build a digital future that works for everyone\",CompanyJobsLive:bB,Subscribed:b},{CompanyId:167,CompanyReviewsLive:5016,Rating:bu,InterviewExperiencesLive:106,CompanySalaries:18812,CompanyType:g,Name:\"Reliance Industries Limited\",UrlName:bC,Age:bD,ShortName:\"Reliance\",Logo:bC,TotalEmployees:c,headquaters:a,HQCountry:h,industries:[{UrlName:\"oil-or-gas-or-petro-chemicals\",Id:\"42\",Name:\"Oil \\\\u002F Gas \\\\u002F Petro Chemicals\"},{UrlName:\"power-and-energy\",Id:\"44\",Name:\"Power\"}],tags:[{Name:j,UrlName:i},{Name:L,UrlName:M},{Name:k,UrlName:l},{Name:e,UrlName:f}],location_count:230,first_location:[a,z],HQUrlName:A,industry_string:\"Oil \\\\u002F Gas \\\\u002F Petro Chemicals,Power\",About:\"Reliance Industries Limited is a Fortune 500 company and the largest private sector corporation in India.\\\\n\\\\nOur motto “Growth is Life” aptly captures the ever-evolving spirit of Reliance. We have evolved from being a textiles and polyester company to an integrated player across energy, materials, retail, entertainment and digital services. In each of these areas, we are committed to innovation-led, exponential growth. Our vision has pushed us to achieve global leadership in many of our businesses.\\\\n\\\\nReliance\\'s products and services portfolio touches almost all Indians on a daily basis, across economic and social spectrums. We are now focussed on building platforms that will herald the Fourth Industrial Revolution and will create opportunities and avenues for India and all its citizens to realise their true potential.\",CompanyJobsLive:286,Subscribed:b},{CompanyId:200861,CompanyReviewsLive:4247,Rating:4.09,InterviewExperiencesLive:C,CompanySalaries:10224,CompanyType:g,Name:bE,UrlName:bF,Age:bo,ShortName:bE,Logo:bF,TotalEmployees:c,headquaters:B,HQCountry:h,industries:[{UrlName:r,Id:q,Name:n}],tags:[{Name:k,UrlName:l},{Name:e,UrlName:f}],location_count:480,first_location:[B,a],HQUrlName:ab,industry_string:n,About:\"Bajaj Finserv was formed in April 2007 as a result of its demerger from Bajaj Auto Limited to further the Group’s interests in financial services. This demerger enabled Bajaj Finserv to independently run the core businesses of Lending, Protection and savings. Bajaj Finserv Limited is the holding company for the businesses dealing with financial services of the Bajaj Group. It serves millions of customers in the financial services space by providing solutions for asset acquisition through financing, asset protection through general insurance, family protection and income protection in the form of life and health insurance and retirement and savings solutions\",CompanyJobsLive:ad,Subscribed:b},{CompanyId:12059,CompanyReviewsLive:4086,Rating:3.62,InterviewExperiencesLive:aT,CompanySalaries:17882,CompanyType:g,Name:bG,UrlName:bH,Age:C,ShortName:bG,Logo:bH,TotalEmployees:c,headquaters:a,HQCountry:h,industries:[{UrlName:I,Id:J,Name:N},{UrlName:r,Id:q,Name:n}],tags:[{Name:k,UrlName:l},{Name:e,UrlName:f}],location_count:367,first_location:[a,z],HQUrlName:A,industry_string:ag,About:\"IndusInd Bank is a Mumbai based scheduled private bank founded in Mumbai in April 1994. This bank offers a wide range of banking as well as financial products and services to the customers and is headquartered in Mumbai, Maharashtra. The bank has over 745 branches with a total network of over 1635 operating ATMs. It has two representative offices outside India in London and Dubai respectively.\\\\nIndusInd Bank stands tall today as one of the reputed banking brands in the country. The bank has been continuously investing in various advertising & marketing programs to enhance the brand image & recall. In an endeavor to emerge as best-in-class brand, IndusInd Bank has made \\'Responsive Innovation\\' as a central theme of its brand building program. The Bank has combined responsiveness with innovation to launch a wide range of banking products and services which are unique, convenient and very relevant to Indian consumer.\",CompanyJobsLive:124,Subscribed:b},{CompanyId:153271,CompanyReviewsLive:4077,Rating:3.64,InterviewExperiencesLive:a_,CompanySalaries:18884,CompanyType:x,Name:bI,UrlName:\"teleperformance\",Age:al,ShortName:bI,Logo:\"teleperformance-group\",TotalEmployees:c,headquaters:P,HQCountry:bj,industries:[{UrlName:ae,Id:af,Name:F},{UrlName:s,Id:t,Name:p}],tags:[{Name:j,UrlName:i},{Name:e,UrlName:f}],location_count:ao,first_location:[P,a],HQUrlName:d,industry_string:\"BPO\\\\u002FKPO,IT \\\\u002F ITES\",About:\"Teleperformance is the agile business services partner that companies need in this digital world.\\\\nFor over 40 years, Teleperformance has been connecting customers with the world’s most successful companies. It is the global leader in customer experience outsourcing management and the trusted provider of digitally integrated business services.\\\\nAt Teleperformance, we combine human touch and high technology to deliver extraordinary customer experiences. While technology creates new and agile ways of working, our interaction experts remain committed to creating unique connections through empathy, adaptive communication skills, and more importantly, a passion to make it happen.\",CompanyJobsLive:bB,Subscribed:b},{CompanyId:566,CompanyReviewsLive:3964,Rating:4.69,InterviewExperiencesLive:aV,CompanySalaries:6943,CompanyType:\"Govt agency\",Name:bJ,UrlName:bK,Age:bc,ShortName:bJ,Logo:bK,TotalEmployees:c,headquaters:R,HQCountry:h,industries:[{UrlName:\"defence\",Id:\"17\",Name:\"Defence & Aerospace\"},{UrlName:\"federal-agencies\",Id:\"73\",Name:\"Federal Agencies\"}],tags:[{Name:\"Government\",UrlName:\"government\"}],location_count:211,first_location:[R,a],HQUrlName:bx,industry_string:\"Defence & Aerospace,Federal Agencies\",About:\"The principal task of the Ministry is to frame policy directions on defence and security related matters and communicate them for implementation to the Services Headquarters, Inter-Service Organisations, Production Establishments and Research & Development Organisations. It is required to ensure effective implementation of the Government\\'s policy directions and the execution of approved programmes within the allocated resources.\",CompanyJobsLive:b,Subscribed:b},{CompanyId:2326,CompanyReviewsLive:3924,Rating:3.83,InterviewExperiencesLive:ac,CompanySalaries:9664,CompanyType:g,Name:bL,UrlName:bM,Age:20,ShortName:bL,Logo:bM,TotalEmployees:c,headquaters:D,HQCountry:h,industries:[{UrlName:ae,Id:af,Name:F}],tags:[{Name:j,UrlName:i},{Name:k,UrlName:l}],location_count:aB,first_location:[D,a],HQUrlName:d,industry_string:F,About:\"A global leader in business process management (BPM) and optimizing the customer experience lifecycle, HGS is helping make its clients more competitive every day. HGS combines technology-powered services in automation, analytics, and digital with domain expertise focusing on back-office processing, contact centers, and HRO solutions to deliver transformational impact to clients. HGS takes a true “globally local” approach, with our employees making a difference to some of the world’s leading brands across nine key verticals.\\\\n\\\\nHGS expertise spans the telecommunications and media, healthcare, insurance, banking, consumer electronics and technology, retail, and consumer packaged goods industries, as well as the public sector. HGS operates on a global landscape with around 37000 employees in 61 worldwide locations delivering localized solutions. For the year ended 31st March 2020, HGS had revenues of US$ 737 million. HGS, part of the multi-billion dollar Hinduja Group, has more than four decades of experience working with some of the world’s most recognized brands.\",CompanyJobsLive:66,Subscribed:b},{CompanyId:228,CompanyReviewsLive:3797,Rating:by,InterviewExperiencesLive:bD,CompanySalaries:13003,CompanyType:g,Name:bN,UrlName:\"mahindra-and-mahindra\",Age:W,ShortName:bN,Logo:\"mahindra-and-mahindra-228\",TotalEmployees:c,headquaters:a,HQCountry:h,industries:[{UrlName:X,Id:Y,Name:Z},{UrlName:aw,Id:ax,Name:ay},{UrlName:G,Id:H,Name:K}],tags:[{Name:j,UrlName:i},{Name:k,UrlName:l},{Name:e,UrlName:f}],location_count:268,first_location:[a,z],HQUrlName:A,industry_string:\"Automobile,Industrial Equipment \\\\u002F Machinery,Manufacturing\",About:\"Mahindra & Mahindra Limited is an Indian multinational car manufacturing corporation headquartered in Mumbai, Maharashtra, India.  It is one of the largest vehicle manufacturers by production in India and the largest manufacturer of tractors in the world.\\\\n\\\\nEstablished in 1947, our core automotive business has grown to become India’s No.1 Utility Vehicle maker. But we’re not content to stop there. With a portfolio that extends from pick-ups to SUVs to LCVs & HCVs, we’re committed to making “Mahindra” synonymous with world-class automobiles and we’re building an innovation ecosystem that spans USA, Europe, India and S.Korea. Whether it’s our commitment to the Future of Mobility, social responsibility, or creating customer delight - you’ll find that our vehicles today are as global as the customers we serve.\",CompanyJobsLive:3,Subscribed:b},{CompanyId:391,CompanyReviewsLive:3393,Rating:4.22,InterviewExperiencesLive:bd,CompanySalaries:9424,CompanyType:g,Name:\"Maruti Suzuki India Limited\",UrlName:\"maruti-suzuki\",Age:ad,ShortName:\"Maruti Suzuki\",Logo:\"maruti\",TotalEmployees:d,headquaters:bO,HQCountry:h,industries:[{UrlName:X,Id:Y,Name:Z},{UrlName:G,Id:H,Name:K}],tags:[{Name:k,UrlName:l}],location_count:277,first_location:[bO,a],HQUrlName:d,industry_string:aN,About:\"Cars are what Maruti Suzuki builds. Experiences are what it creates.\\\\n\\\\nExperiences fuelled by innovations, forward thinking, and a commitment to bring the very best to Indian roads. From the day the iconic Maruti 800 was launched in 1983, the company has been spearheading a revolution of change. Turning an entire country’s need for driving, into its love for driving.\\\\nHowever, tastes and demands keep on evolving with each new generation of Indians. This has not been looked at by Maruti Suzuki as a challenge, but as an inspiration to go beyond traditional boundaries of car-making. Infusing design and technology is one such step it has taken to make its cars meet new age expectations smoothly. Today, Maruti Suzuki has its eyes set firmly on the possibilities of tomorrow. And everybody is invited on this journey.\",CompanyJobsLive:ac,Subscribed:b}],urlNameToNameMappings:[],pagination:{currentPage:1,pageBase:{page:\"1\"},totalPages:16212,baseUrl:\"\\\\u002Flist-of-companies\",totalResults:486333}}],error:o,state:{company:{companyInfo:o,stats:o,metaObj:o,companyTabs:o},designation:{desigInfo:o,desigTabs:o},globals:{DOMAIN:\"https:\\\\u002F\\\\u002Fwww.ambitionbox.com\",CDN:\"https:\\\\u002F\\\\u002Fstatic.ambitionbox.com\"},user:{user:o,clientId:o},loginModal:{isLoginOpen:m,isPersonaliseOpen:m,isOverlayOpen:m},bottomSheetController:{isOpen:m,openedTab:[m,m,m,m,m,m]},filerDropdownController:{openedFilters:[m,m,m,m,m,m]},feed:{entityMapping:o,helpfulHistory:[]}},serverRendered:true}}(\"Mumbai\",0,\"10000+\",\"\",\"Forbes Global 2000\",\"forbesglobal2000\",\"Public\",\"India\",\"mnc\",\"MNC\",\"Fortune500\",\"fortune500\",false,\"Financial Services\",null,\"IT \\\\u002F ITES\",\"21\",\"financial-services\",\"it-or-ites\",\"33\",\"consulting\",\"15\",\"Consulting\",\"Private\",\"Mumbai,Maharashtra\",\"Hyderabad\\\\u002FSecunderabad\",\"mumbai\",\"Pune\",26,\"Bangalore\",\"Telecom \\\\u002F ISP\",\"BPO\\\\u002FKPO\",\"manufacturing\",\"37\",\"banking-or-insurance-or-accounting\",\"7\",\"Manufacturing\",\"Conglomerate\",\"conglomerate\",\"Banking \\\\u002F Insurance \\\\u002F Accounting\",\"New York\",\"Paris\",\"IT Services & Consulting\",\"New Delhi\",\"Consulting,IT \\\\u002F ITES\",\"analytics-or-bpm-or-research\",\"it-services-and-consulting\",\"Analytics \\\\u002F BPM \\\\u002F Research\",75,\"automobile\",\"6\",\"Automobile\",\"155\",\"telecom-or-isp\",\"55\",\"pune\",21,37,\"bpo-or-kpo\",\"10\",\"Banking \\\\u002F Insurance \\\\u002F Accounting,Financial Services\",\"UnitedStates\",\"83\",\"31\",\"Internet\",42,\"Accenture\",\"accenture\",47,\"Tech Mahindra\",31,\"tcs\",\"HCL Technologies\",\"Noida,Uttar Pradesh\",4.14,3.95,\"machinery-or-equipment\",\"36\",\"Industrial Equipment \\\\u002F Machinery\",\"Dublin\",95,52,134,\"Cognizant\",\"Infosys\",\"infosys\",\"Teaneck\",\"Tata Motors\",\"tata-motors\",\"ICICI Bank\",3.97,\"HDFC Bank\",\"banking\",\"Automobile,Manufacturing\",\"IBM\",\"95\",\"Axis Bank\",27,\"Genpact\",32,\"Reliance jio\",10,\"Navi Mumbai\",\"Banking\",\"Capgemini\",\"capgemini\",53,44,\"Wipro\",\"wipro\",125,51,\"Concentrix Corporation\",\"concentrix-corporation\",4,\"Fremont\",\"United States\",\"France\",\"computer-software\",\"13\",38,\"HDB Financial Services\",13,\"Ahmedabad\",\"Amazon\",\"amazon\",\"Washington\",\"kotak-mahindra-bank\",4.17,\"Bharti Airtel\",\"Computer Software\",\"new-delhi\",4.23,\"Vodafone\",\"Berkshire\",5,\"reliance\",54,\"Bajaj Finserv\",\"bajaj-finserv\",\"IndusInd Bank\",\"indusind-bank\",\"Teleperformance\",\"Indian Army\",\"indian-army\",\"Hinduja Global Solutions\",\"hinduja-global-solutions\",\"Mahindra & Mahindra\",\"New Delhi,Delhi\",\"internet\",\"l-and-t\"));</script><script src=\"https://static.ambitionbox.com/_nuxt/runtime.74c30c2046f3556799aa.js\" defer></script><script src=\"https://static.ambitionbox.com/_nuxt/header.57f7e63414a8c9308652.js\" defer></script><script src=\"https://static.ambitionbox.com/_nuxt/typeahead.3408d76854c41d6c8fc3.js\" defer></script><script src=\"https://static.ambitionbox.com/_nuxt/93.aa465b738789c5b44fc2.js\" defer></script><script src=\"https://static.ambitionbox.com/_nuxt/ab.atoms.f362cc6bef79aa2672bf.js\" defer></script><script src=\"https://static.ambitionbox.com/_nuxt/c.listing.4171434591babbc5dcd6.js\" defer></script><script src=\"https://static.ambitionbox.com/_nuxt/paginator.527105654ba178f05afb.js\" defer></script><script src=\"https://static.ambitionbox.com/_nuxt/footer.d49c5dbf3bec474d713a.js\" defer></script><script src=\"https://static.ambitionbox.com/_nuxt/commons.app.de4f7cc5a6b84c6638ac.js\" defer></script><script src=\"https://static.ambitionbox.com/_nuxt/vendors.app.cddab13450b34a194388.js\" defer></script><script src=\"https://static.ambitionbox.com/_nuxt/app.74f0b84e448189b30fd9.js\" defer></script><script data-n-head=\"ssr\" src=\"https://cdnjs.cloudflare.com/ajax/libs/jquery/3.5.1/jquery.min.js\" data-body=\"true\" crossorigin=\"\"></script><script data-n-head=\"ssr\" src=\"https://cdnjs.cloudflare.com/ajax/libs/corejs-typeahead/1.2.1/typeahead.bundle.min.js\" data-body=\"true\" crossorigin=\"\"></script><script data-n-head=\"ssr\" src=\"https://cdnjs.cloudflare.com/ajax/libs/vanilla-lazyload/12.1.0/lazyload.min.js\" data-body=\"true\" crossorigin=\"\"></script><script data-n-head=\"ssr\" src=\"https://apis.google.com/js/platform.js?onload=init\" data-body=\"true\" async defer crossorigin=\"\"></script><script data-n-head=\"ssr\" src=\"https://accounts.google.com/gsi/client\" skip=\"false\" data-body=\"true\" async defer></script>\\n  </body>\\n</html>'"
      ]
     },
     "execution_count": 5,
     "metadata": {},
     "output_type": "execute_result"
    }
   ],
   "source": [
    "# webpage's robot.txt doesn't allow bots!\n",
    "requests.get(\"https://www.ambitionbox.com/list-of-companies?page=1\").text"
   ]
  },
  {
   "cell_type": "code",
   "execution_count": 6,
   "metadata": {},
   "outputs": [],
   "source": [
    "# google chrome browser's request header (to make it look like, we are making this request from a browser)\n",
    "header = {\n",
    "    \"User-Agent\": \"Mozilla/5.0 (Windows NT 10.0; Win64; x64) AppleWebKit/537.36 (KHTML, like Gecko) Chrome/80.0.3987.163 Safari/537.36\"\n",
    "}"
   ]
  },
  {
   "cell_type": "code",
   "execution_count": 7,
   "metadata": {},
   "outputs": [],
   "source": [
    "# hit using the header\n",
    "response = requests.get(\"https://www.ambitionbox.com/list-of-companies?page=1\", headers=header)"
   ]
  },
  {
   "cell_type": "code",
   "execution_count": 8,
   "metadata": {},
   "outputs": [
    {
     "data": {
      "text/plain": [
       "'<!doctype html>\\n<html data-n-head-ssr lang=\"en\" data-n-head=\"%7B%22lang%22:%7B%22ssr%22:%22en%22%7D%7D\">\\n  <head >\\n    <meta charset=\"UTF-8\">\\n    <meta name=\"viewport\" content=\"width=device-width,initial-scale=1\">\\n    <meta http-equiv=\"X-UA-Compatible\" content=\"IE=edge\"> \\n    <title>List of companies - 486.3k companies | AmbitionBox</title><meta data-n-head=\"ssr\" name=\"copyright\" content=\"2020 AmbitionBox\"><meta data-n-head=\"ssr\" name=\"revisit-after\" content=\"1 day\"><meta data-n-head=\"ssr\" name='"
      ]
     },
     "execution_count": 8,
     "metadata": {},
     "output_type": "execute_result"
    }
   ],
   "source": [
    "# see the recieved page source\n",
    "response.text[0:500]"
   ]
  },
  {
   "cell_type": "markdown",
   "metadata": {},
   "source": [
    "## Pass the fetched webpage response to Beautiful Soup"
   ]
  },
  {
   "cell_type": "code",
   "execution_count": 9,
   "metadata": {},
   "outputs": [],
   "source": [
    "# give the webpage to Beautiful Soup using parsers: \"html.parser\" or \"lxml\"\n",
    "soup = BeautifulSoup(response.text, 'lxml')"
   ]
  },
  {
   "cell_type": "code",
   "execution_count": 10,
   "metadata": {},
   "outputs": [],
   "source": [
    "# we see the whole webpage is made of cards and each card has the company info\n",
    "# on inspecting, we see the cards are HTML: \"div\"s with class-name = \"company-content-wrapper\"\n",
    "# Let us extract the first card and see how we can extract data from it...\n",
    "\n",
    "first_company_card = soup.find(\"div\", class_=\"company-content-wrapper\")"
   ]
  },
  {
   "cell_type": "code",
   "execution_count": 11,
   "metadata": {},
   "outputs": [
    {
     "name": "stdout",
     "output_type": "stream",
     "text": [
      "<div class=\"company-content-wrapper\">\n",
      " <div class=\"company-content\">\n",
      "  <div class=\"company-logo\">\n",
      "   <img alt=\"Tata Consultancy Services logo\" class=\"lazy\" data-src=\"https://static.ambitionbox.com/alpha/company/photos/logos/tcs.jpg\" onerror=\"this.onerror=null;this.src='/static/icons/company-placeholder.svg';\" src=\"https://static.ambitionbox.com/static/icons/company-placeholder.svg\"/>\n",
      "  </div>\n",
      "  <div class=\"company-info-wrapper\">\n",
      "   <div class=\"company-info\">\n",
      "    <div class=\"left\">\n",
      "     <a href=\"/overview/tcs-overview\">\n",
      "      <h2 class=\"company-name bold-title-l\" title=\"TCS\">\n",
      "       TCS\n",
      "      </h2>\n",
      "     </a>\n",
      "     <div class=\"rating-wrapper\">\n",
      "      <p class=\"rating badge-large rating-4\">\n",
      "       <i class=\"icon icon-star\">\n",
      "       </i>\n",
      "       4.0\n",
      "      </p>\n",
      "      <a class=\"review-count sbold-Labels\" href=\"https://www.ambitionbox.com/reviews/tcs-reviews\">\n",
      "       (17.7k Reviews)\n",
      "      </a>\n",
      "     </div>\n",
      "    </div>\n",
      "    <button class=\"ab_btn follow-btn invert round\">\n",
      "     <span class=\"ctas-btn-medium\">\n",
      "      Follow\n",
      "     </span>\n",
      "    </button>\n",
      "   </div>\n",
      "   <div class=\"company-basic-info\">\n",
      "    <p class=\"infoEntity sbold-list-header\">\n",
      "     <i class=\"icon-domain\">\n",
      "     </i>\n",
      "     Public\n",
      "    </p>\n",
      "    <p class=\"infoEntity sbold-list-header\">\n",
      "     <i class=\"icon-pin-drop\">\n",
      "     </i>\n",
      "     Mumbai,Maharashtra + 165 more\n",
      "    </p>\n",
      "    <p class=\"infoEntity sbold-list-header\">\n",
      "     <i class=\"icon-access-time\">\n",
      "     </i>\n",
      "     52 years old\n",
      "    </p>\n",
      "    <!-- -->\n",
      "   </div>\n",
      "   <div class=\"chips-block\">\n",
      "    <a class=\"ab_chip body-medium\" data-filter-name=\"chips_Company-Tags_it-services-and-consulting\" href=\"/it-services-and-consulting-companies-in-india\" title=\"IT Services &amp; Consulting companies in India\">\n",
      "     IT Services &amp; Consulting\n",
      "    </a>\n",
      "    <a class=\"ab_chip body-medium\" data-filter-name=\"chips_Company-Tags_fortune500\" href=\"/fortune500-companies-in-india\" title=\"Fortune500 companies in India\">\n",
      "     Fortune500\n",
      "    </a>\n",
      "    <a class=\"ab_chip body-medium\" data-filter-name=\"chips_Company-Tags_forbesglobal2000\" href=\"/forbesglobal2000-companies-in-india\" title=\"Forbes Global 2000 companies in India\">\n",
      "     Forbes Global 2000\n",
      "    </a>\n",
      "    <a class=\"ab_chip body-medium\" data-filter-name=\"chips_Company-Tags_public\" href=\"/public-companies-in-india\" title=\"Public companies in India\">\n",
      "     Public\n",
      "    </a>\n",
      "   </div>\n",
      "  </div>\n",
      " </div>\n",
      " <!-- -->\n",
      " <p class=\"description body-small\" itemprop=\"description\">\n",
      "  Tata Consultancy Services is an IT services, consulting and business solutions organisation that has been partnering with the world’s largest businesses in their transformation journeys for the last 50 years. \n",
      "\n",
      "A part of the Tata group, India's largest multinational business group, TCS has over 436,000 of the world’s best-trained consultants in 46 countries. The company is listed on the BSE (formerly Bombay Stock Exchange) and the NSE (National Stock Exchange) in India. \n",
      "\n",
      "TCS'​ proactive stance on climate change and award winning work with communities across the world have earned it a place in leading sustainability indices such as the Dow Jones Sustainability Index (DJSI), MSCI Global Sustainability Index and the FTSE4Good Emerging Index.\n",
      " </p>\n",
      "</div>\n",
      "\n"
     ]
    }
   ],
   "source": [
    "# let's see what we got here...\n",
    "print(first_company_card.prettify())"
   ]
  },
  {
   "cell_type": "markdown",
   "metadata": {},
   "source": [
    "## Let us try and extract the data from a single company card"
   ]
  },
  {
   "cell_type": "markdown",
   "metadata": {},
   "source": [
    "##  [1] Company Name"
   ]
  },
  {
   "cell_type": "code",
   "execution_count": 12,
   "metadata": {},
   "outputs": [
    {
     "data": {
      "text/plain": [
       "<h2 class=\"company-name bold-title-l\" title=\"TCS\">\n",
       "\t\t\t\t\t\t\t\tTCS\n",
       "\t\t\t\t\t\t\t</h2>"
      ]
     },
     "execution_count": 12,
     "metadata": {},
     "output_type": "execute_result"
    }
   ],
   "source": [
    "# 1. company name is inside h2 tag: <h2 class=\"company-name bold-title-l\" title=\"TCS\">\n",
    "first_company_card.find(\"h2\")"
   ]
  },
  {
   "cell_type": "code",
   "execution_count": 13,
   "metadata": {},
   "outputs": [
    {
     "data": {
      "text/plain": [
       "'TCS'"
      ]
     },
     "execution_count": 13,
     "metadata": {},
     "output_type": "execute_result"
    }
   ],
   "source": [
    "# extract company name\n",
    "first_company_card.find(\"h2\").text.strip()"
   ]
  },
  {
   "cell_type": "markdown",
   "metadata": {},
   "source": [
    "##  [2] Company Rating"
   ]
  },
  {
   "cell_type": "code",
   "execution_count": 14,
   "metadata": {},
   "outputs": [
    {
     "data": {
      "text/plain": [
       "<p class=\"rating badge-large rating-4\"><i class=\"icon icon-star\"></i>\n",
       "\t\t\t\t\t\t\t\t4.0\n",
       "\t\t\t\t\t\t\t</p>"
      ]
     },
     "execution_count": 14,
     "metadata": {},
     "output_type": "execute_result"
    }
   ],
   "source": [
    "# 2. company rating lies inside p tag: <p class=\"rating badge-large rating-35\">\n",
    "first_company_card.find(\"p\", class_=\"rating\")"
   ]
  },
  {
   "cell_type": "code",
   "execution_count": 15,
   "metadata": {},
   "outputs": [
    {
     "data": {
      "text/plain": [
       "'4.0'"
      ]
     },
     "execution_count": 15,
     "metadata": {},
     "output_type": "execute_result"
    }
   ],
   "source": [
    "# extract company rating\n",
    "first_company_card.find(\"p\", class_=\"rating\").text.strip()"
   ]
  },
  {
   "cell_type": "markdown",
   "metadata": {},
   "source": [
    "##  [3] Number of Company Reviews"
   ]
  },
  {
   "cell_type": "code",
   "execution_count": 16,
   "metadata": {},
   "outputs": [
    {
     "data": {
      "text/plain": [
       "<a class=\"review-count sbold-Labels\" href=\"https://www.ambitionbox.com/reviews/tcs-reviews\">\n",
       "\t\t\t\t\t\t\t\t(17.7k Reviews)\n",
       "\t\t\t\t\t\t\t</a>"
      ]
     },
     "execution_count": 16,
     "metadata": {},
     "output_type": "execute_result"
    }
   ],
   "source": [
    "# 3. number of company reviews lies inside a tag: <a class=\"review-count sbold-Labels\">\n",
    "first_company_card.find(\"a\", class_=\"review-count sbold-Labels\")"
   ]
  },
  {
   "cell_type": "code",
   "execution_count": 17,
   "metadata": {},
   "outputs": [
    {
     "data": {
      "text/plain": [
       "'(17.7k Reviews)'"
      ]
     },
     "execution_count": 17,
     "metadata": {},
     "output_type": "execute_result"
    }
   ],
   "source": [
    "# extract number of company reviews\n",
    "first_company_card.find(\"a\", class_=\"review-count sbold-Labels\").text.strip()"
   ]
  },
  {
   "cell_type": "code",
   "execution_count": 18,
   "metadata": {},
   "outputs": [
    {
     "data": {
      "text/plain": [
       "'(17.7k)'"
      ]
     },
     "execution_count": 18,
     "metadata": {},
     "output_type": "execute_result"
    }
   ],
   "source": [
    "first_company_card.find(\"a\", class_=\"review-count sbold-Labels\").text.strip().replace(\" Reviews\", \"\")"
   ]
  },
  {
   "cell_type": "markdown",
   "metadata": {},
   "source": [
    "## [4] Domain,  [5] Location,  [6] Years Old,  [7] Employee Strength"
   ]
  },
  {
   "cell_type": "code",
   "execution_count": 19,
   "metadata": {},
   "outputs": [],
   "source": [
    "# Now this is tricky!\n",
    "# extract \"infoEntity\" containing: \n",
    "# 4. 'domain', \n",
    "# 5. 'location', \n",
    "# 6. 'years old'\n",
    "# 7. 'employee strength'"
   ]
  },
  {
   "cell_type": "code",
   "execution_count": 20,
   "metadata": {},
   "outputs": [
    {
     "data": {
      "text/plain": [
       "[<p class=\"infoEntity sbold-list-header\"><i class=\"icon-domain\"></i>\n",
       " \t\t\t\t\t\tPublic\n",
       " \t\t\t\t\t</p>,\n",
       " <p class=\"infoEntity sbold-list-header\"><i class=\"icon-pin-drop\"></i>\n",
       " \t\t\t\t\t\tMumbai,Maharashtra + 165 more\n",
       " \t\t\t\t\t</p>,\n",
       " <p class=\"infoEntity sbold-list-header\"><i class=\"icon-access-time\"></i>\n",
       " \t\t\t\t\t\t52 years old\n",
       " \t\t\t\t\t</p>]"
      ]
     },
     "execution_count": 20,
     "metadata": {},
     "output_type": "execute_result"
    }
   ],
   "source": [
    "# Try 1:\n",
    "first_company_card.find_all(\"p\", class_=\"infoEntity sbold-list-header\")"
   ]
  },
  {
   "cell_type": "code",
   "execution_count": 21,
   "metadata": {},
   "outputs": [
    {
     "data": {
      "text/plain": [
       "<p class=\"infoEntity sbold-list-header\"><i class=\"icon-domain\"></i>\n",
       "\t\t\t\t\t\tPublic\n",
       "\t\t\t\t\t</p>"
      ]
     },
     "execution_count": 21,
     "metadata": {},
     "output_type": "execute_result"
    }
   ],
   "source": [
    "first_company_card.find_all(\"p\", class_=\"infoEntity sbold-list-header\")[0]"
   ]
  },
  {
   "cell_type": "code",
   "execution_count": 22,
   "metadata": {},
   "outputs": [
    {
     "data": {
      "text/plain": [
       "[<p class=\"infoEntity sbold-list-header\"><i class=\"icon-domain\"></i>\n",
       " \t\t\t\t\t\tPublic\n",
       " \t\t\t\t\t</p>,\n",
       " <p class=\"infoEntity sbold-list-header\"><i class=\"icon-pin-drop\"></i>\n",
       " \t\t\t\t\t\tMumbai,Maharashtra + 165 more\n",
       " \t\t\t\t\t</p>,\n",
       " <p class=\"infoEntity sbold-list-header\"><i class=\"icon-access-time\"></i>\n",
       " \t\t\t\t\t\t52 years old\n",
       " \t\t\t\t\t</p>]"
      ]
     },
     "execution_count": 22,
     "metadata": {},
     "output_type": "execute_result"
    }
   ],
   "source": [
    "inner_company_info_list = first_company_card.find_all(\"p\", class_=\"infoEntity sbold-list-header\")\n",
    "inner_company_info_list"
   ]
  },
  {
   "cell_type": "code",
   "execution_count": 23,
   "metadata": {},
   "outputs": [
    {
     "data": {
      "text/plain": [
       "<p class=\"infoEntity sbold-list-header\"><i class=\"icon-domain\"></i>\n",
       "\t\t\t\t\t\tPublic\n",
       "\t\t\t\t\t</p>"
      ]
     },
     "execution_count": 23,
     "metadata": {},
     "output_type": "execute_result"
    }
   ],
   "source": [
    "inner_company_info_list[0]"
   ]
  },
  {
   "cell_type": "code",
   "execution_count": 24,
   "metadata": {},
   "outputs": [
    {
     "ename": "IndexError",
     "evalue": "list index out of range",
     "output_type": "error",
     "traceback": [
      "\u001b[1;31m---------------------------------------------------------------------------\u001b[0m",
      "\u001b[1;31mIndexError\u001b[0m                                Traceback (most recent call last)",
      "\u001b[1;32m<ipython-input-24-42b2cb194cb9>\u001b[0m in \u001b[0;36m<module>\u001b[1;34m\u001b[0m\n\u001b[1;32m----> 1\u001b[1;33m \u001b[0minner_company_info_list\u001b[0m\u001b[1;33m[\u001b[0m\u001b[1;36m3\u001b[0m\u001b[1;33m]\u001b[0m\u001b[1;33m.\u001b[0m\u001b[0mfindChildren\u001b[0m\u001b[1;33m(\u001b[0m\u001b[1;34m\"i\"\u001b[0m\u001b[1;33m)\u001b[0m\u001b[1;33m[\u001b[0m\u001b[1;36m0\u001b[0m\u001b[1;33m]\u001b[0m\u001b[1;33m[\u001b[0m\u001b[1;34m\"class\"\u001b[0m\u001b[1;33m]\u001b[0m\u001b[1;33m[\u001b[0m\u001b[1;36m0\u001b[0m\u001b[1;33m]\u001b[0m\u001b[1;33m\u001b[0m\u001b[1;33m\u001b[0m\u001b[0m\n\u001b[0m",
      "\u001b[1;31mIndexError\u001b[0m: list index out of range"
     ]
    }
   ],
   "source": [
    "inner_company_info_list[3].findChildren(\"i\")[0][\"class\"][0]"
   ]
  },
  {
   "cell_type": "code",
   "execution_count": 25,
   "metadata": {},
   "outputs": [
    {
     "ename": "IndexError",
     "evalue": "list index out of range",
     "output_type": "error",
     "traceback": [
      "\u001b[1;31m---------------------------------------------------------------------------\u001b[0m",
      "\u001b[1;31mIndexError\u001b[0m                                Traceback (most recent call last)",
      "\u001b[1;32m<ipython-input-25-d2809977bf05>\u001b[0m in \u001b[0;36m<module>\u001b[1;34m\u001b[0m\n\u001b[1;32m----> 1\u001b[1;33m \u001b[0minner_company_info_list\u001b[0m\u001b[1;33m[\u001b[0m\u001b[1;36m3\u001b[0m\u001b[1;33m]\u001b[0m\u001b[1;33m.\u001b[0m\u001b[0mtext\u001b[0m\u001b[1;33m.\u001b[0m\u001b[0mstrip\u001b[0m\u001b[1;33m(\u001b[0m\u001b[1;33m)\u001b[0m\u001b[1;33m\u001b[0m\u001b[1;33m\u001b[0m\u001b[0m\n\u001b[0m",
      "\u001b[1;31mIndexError\u001b[0m: list index out of range"
     ]
    }
   ],
   "source": [
    "inner_company_info_list[3].text.strip()"
   ]
  },
  {
   "cell_type": "code",
   "execution_count": 26,
   "metadata": {},
   "outputs": [
    {
     "name": "stdout",
     "output_type": "stream",
     "text": [
      "<div class=\"company-basic-info\">\n",
      " <p class=\"infoEntity sbold-list-header\">\n",
      "  <i class=\"icon-domain\">\n",
      "  </i>\n",
      "  Public\n",
      " </p>\n",
      " <p class=\"infoEntity sbold-list-header\">\n",
      "  <i class=\"icon-pin-drop\">\n",
      "  </i>\n",
      "  Mumbai,Maharashtra + 165 more\n",
      " </p>\n",
      " <p class=\"infoEntity sbold-list-header\">\n",
      "  <i class=\"icon-access-time\">\n",
      "  </i>\n",
      "  52 years old\n",
      " </p>\n",
      " <!-- -->\n",
      "</div>\n",
      "\n"
     ]
    }
   ],
   "source": [
    "# let's try using it's parent tag: div\n",
    "inner_company_info_card = first_company_card.find(\"div\", class_=\"company-basic-info\")\n",
    "print(inner_company_info_card.prettify())"
   ]
  },
  {
   "cell_type": "code",
   "execution_count": 27,
   "metadata": {},
   "outputs": [
    {
     "data": {
      "text/plain": [
       "[<i class=\"icon-domain\"></i>,\n",
       " <i class=\"icon-pin-drop\"></i>,\n",
       " <i class=\"icon-access-time\"></i>]"
      ]
     },
     "execution_count": 27,
     "metadata": {},
     "output_type": "execute_result"
    }
   ],
   "source": [
    "inner_company_info_card.findChildren(\"i\")"
   ]
  },
  {
   "cell_type": "code",
   "execution_count": 28,
   "metadata": {},
   "outputs": [
    {
     "data": {
      "text/plain": [
       "'icon-domain'"
      ]
     },
     "execution_count": 28,
     "metadata": {},
     "output_type": "execute_result"
    }
   ],
   "source": [
    "inner_company_info_card.findChildren(\"i\")[0][\"class\"][0]"
   ]
  },
  {
   "cell_type": "code",
   "execution_count": 29,
   "metadata": {},
   "outputs": [
    {
     "data": {
      "text/plain": [
       "'Public'"
      ]
     },
     "execution_count": 29,
     "metadata": {},
     "output_type": "execute_result"
    }
   ],
   "source": [
    "inner_company_info_card.find_all(\"p\")[0].text.strip()"
   ]
  },
  {
   "cell_type": "code",
   "execution_count": 30,
   "metadata": {},
   "outputs": [
    {
     "data": {
      "text/plain": [
       "<p class=\"infoEntity sbold-list-header\"><i class=\"icon-domain\"></i>\n",
       "\t\t\t\t\t\tPublic\n",
       "\t\t\t\t\t</p>"
      ]
     },
     "execution_count": 30,
     "metadata": {},
     "output_type": "execute_result"
    }
   ],
   "source": [
    "# ignore\n",
    "first_company_card.find_all(\"p\", class_=\"infoEntity sbold-list-header\")[0]"
   ]
  },
  {
   "cell_type": "code",
   "execution_count": 31,
   "metadata": {},
   "outputs": [
    {
     "ename": "IndexError",
     "evalue": "list index out of range",
     "output_type": "error",
     "traceback": [
      "\u001b[1;31m---------------------------------------------------------------------------\u001b[0m",
      "\u001b[1;31mIndexError\u001b[0m                                Traceback (most recent call last)",
      "\u001b[1;32m<ipython-input-31-c4951cd7ef2c>\u001b[0m in \u001b[0;36m<module>\u001b[1;34m\u001b[0m\n\u001b[0;32m      8\u001b[0m \u001b[1;33m\u001b[0m\u001b[0m\n\u001b[0;32m      9\u001b[0m \u001b[1;32mfor\u001b[0m \u001b[0mi\u001b[0m \u001b[1;32min\u001b[0m \u001b[0mrange\u001b[0m\u001b[1;33m(\u001b[0m\u001b[1;36m4\u001b[0m\u001b[1;33m)\u001b[0m\u001b[1;33m:\u001b[0m\u001b[1;33m\u001b[0m\u001b[1;33m\u001b[0m\u001b[0m\n\u001b[1;32m---> 10\u001b[1;33m     \u001b[1;32mif\u001b[0m \u001b[0minfo_list\u001b[0m\u001b[1;33m[\u001b[0m\u001b[0mi\u001b[0m\u001b[1;33m]\u001b[0m\u001b[1;33m.\u001b[0m\u001b[0mfindChildren\u001b[0m\u001b[1;33m(\u001b[0m\u001b[1;34m\"i\"\u001b[0m\u001b[1;33m)\u001b[0m\u001b[1;33m[\u001b[0m\u001b[1;36m0\u001b[0m\u001b[1;33m]\u001b[0m\u001b[1;33m[\u001b[0m\u001b[1;34m\"class\"\u001b[0m\u001b[1;33m]\u001b[0m\u001b[1;33m[\u001b[0m\u001b[1;36m0\u001b[0m\u001b[1;33m]\u001b[0m \u001b[1;33m==\u001b[0m \u001b[1;34m'icon-domain'\u001b[0m\u001b[1;33m:\u001b[0m\u001b[1;33m\u001b[0m\u001b[1;33m\u001b[0m\u001b[0m\n\u001b[0m\u001b[0;32m     11\u001b[0m         \u001b[0mdom\u001b[0m \u001b[1;33m=\u001b[0m \u001b[0minfo_list\u001b[0m\u001b[1;33m[\u001b[0m\u001b[0mi\u001b[0m\u001b[1;33m]\u001b[0m\u001b[1;33m.\u001b[0m\u001b[0mtext\u001b[0m\u001b[1;33m.\u001b[0m\u001b[0mstrip\u001b[0m\u001b[1;33m(\u001b[0m\u001b[1;33m)\u001b[0m\u001b[1;33m\u001b[0m\u001b[1;33m\u001b[0m\u001b[0m\n\u001b[0;32m     12\u001b[0m \u001b[1;33m\u001b[0m\u001b[0m\n",
      "\u001b[1;31mIndexError\u001b[0m: list index out of range"
     ]
    }
   ],
   "source": [
    "# extract \"infoEntity\" containing 'domain', 'location', 'years old' & 'employee strength'\n",
    "\n",
    "info_list = first_company_card.find_all(\"p\", class_=\"infoEntity sbold-list-header\")\n",
    "dom = None\n",
    "loc = None\n",
    "old = None\n",
    "emp = None\n",
    "\n",
    "for i in range(4):\n",
    "    if info_list[i].findChildren(\"i\")[0][\"class\"][0] == 'icon-domain':\n",
    "        dom = info_list[i].text.strip()\n",
    "        \n",
    "    if info_list[i].findChildren(\"i\")[0][\"class\"][0] == 'icon-pin-drop':\n",
    "        loc = info_list[i].text.strip()\n",
    "        \n",
    "    if info_list[i].findChildren(\"i\")[0][\"class\"][0] == 'icon-access-time':\n",
    "        old = info_list[i].text.strip()\n",
    "        \n",
    "    if info_list[i].findChildren(\"i\")[0][\"class\"][0] == 'icon-supervisor-account':\n",
    "        emp = info_list[i].text.strip()\n",
    "    \n",
    "print(\"domain:\", dom)\n",
    "print(\"location:\", loc)\n",
    "print(\"years old:\", old)\n",
    "print(\"employee strength:\", emp)"
   ]
  },
  {
   "cell_type": "markdown",
   "metadata": {},
   "source": [
    "##  [8] Company Tags"
   ]
  },
  {
   "cell_type": "code",
   "execution_count": 32,
   "metadata": {},
   "outputs": [
    {
     "data": {
      "text/plain": [
       "[<a class=\"ab_chip body-medium\" data-filter-name=\"chips_Company-Tags_it-services-and-consulting\" href=\"/it-services-and-consulting-companies-in-india\" title=\"IT Services &amp; Consulting companies in India\">\n",
       " \t\t\t\t\t\tIT Services &amp; Consulting\n",
       " \t\t\t\t\t</a>,\n",
       " <a class=\"ab_chip body-medium\" data-filter-name=\"chips_Company-Tags_fortune500\" href=\"/fortune500-companies-in-india\" title=\"Fortune500 companies in India\">\n",
       " \t\t\t\t\t\tFortune500\n",
       " \t\t\t\t\t</a>,\n",
       " <a class=\"ab_chip body-medium\" data-filter-name=\"chips_Company-Tags_forbesglobal2000\" href=\"/forbesglobal2000-companies-in-india\" title=\"Forbes Global 2000 companies in India\">\n",
       " \t\t\t\t\t\tForbes Global 2000\n",
       " \t\t\t\t\t</a>,\n",
       " <a class=\"ab_chip body-medium\" data-filter-name=\"chips_Company-Tags_public\" href=\"/public-companies-in-india\" title=\"Public companies in India\">\n",
       " \t\t\t\t\t\tPublic\n",
       " \t\t\t\t\t</a>]"
      ]
     },
     "execution_count": 32,
     "metadata": {},
     "output_type": "execute_result"
    }
   ],
   "source": [
    "# 8. company tags are inside a tags: <a class=\"ab_chip\">\n",
    "first_company_card.find_all(\"a\", class_=\"ab_chip\")"
   ]
  },
  {
   "cell_type": "code",
   "execution_count": 33,
   "metadata": {},
   "outputs": [
    {
     "data": {
      "text/plain": [
       "['IT Services & Consulting', 'Fortune500', 'Forbes Global 2000', 'Public']"
      ]
     },
     "execution_count": 33,
     "metadata": {},
     "output_type": "execute_result"
    }
   ],
   "source": [
    "# extract company tags\n",
    "tags = []\n",
    "for tag in first_company_card.find_all(\"a\", class_=\"ab_chip\"):\n",
    "    tags.append(tag.text.strip())\n",
    "tags"
   ]
  },
  {
   "cell_type": "code",
   "execution_count": 34,
   "metadata": {},
   "outputs": [
    {
     "data": {
      "text/plain": [
       "'IT Services & Consulting, Fortune500, Forbes Global 2000, Public'"
      ]
     },
     "execution_count": 34,
     "metadata": {},
     "output_type": "execute_result"
    }
   ],
   "source": [
    "tags = ', '.join(tags)\n",
    "tags"
   ]
  },
  {
   "cell_type": "markdown",
   "metadata": {},
   "source": [
    "##  [9] Company Description"
   ]
  },
  {
   "cell_type": "code",
   "execution_count": 35,
   "metadata": {},
   "outputs": [
    {
     "data": {
      "text/plain": [
       "<p class=\"description body-small\" itemprop=\"description\">\n",
       "\t\t\t\tTata Consultancy Services is an IT services, consulting and business solutions organisation that has been partnering with the world’s largest businesses in their transformation journeys for the last 50 years. \n",
       "\n",
       "A part of the Tata group, India's largest multinational business group, TCS has over 436,000 of the world’s best-trained consultants in 46 countries. The company is listed on the BSE (formerly Bombay Stock Exchange) and the NSE (National Stock Exchange) in India. \n",
       "\n",
       "TCS'​ proactive stance on climate change and award winning work with communities across the world have earned it a place in leading sustainability indices such as the Dow Jones Sustainability Index (DJSI), MSCI Global Sustainability Index and the FTSE4Good Emerging Index. \n",
       "\n",
       "\t\t\t</p>"
      ]
     },
     "execution_count": 35,
     "metadata": {},
     "output_type": "execute_result"
    }
   ],
   "source": [
    "# 9. company description is inside p tag: <p class=\"description\">\n",
    "first_company_card.find(\"p\", class_=\"description\")"
   ]
  },
  {
   "cell_type": "code",
   "execution_count": 36,
   "metadata": {},
   "outputs": [
    {
     "data": {
      "text/plain": [
       "\"Tata Consultancy Services is an IT services, consulting and business solutions organisation that has been partnering with the world’s largest businesses in their transformation journeys for the last 50 years. \\n\\nA part of the Tata group, India's largest multinational business group, TCS has over 436,000 of the world’s best-trained consultants in 46 countries. The company is listed on the BSE (formerly Bombay Stock Exchange) and the NSE (National Stock Exchange) in India. \\n\\nTCS'\\u200b proactive stance on climate change and award winning work with communities across the world have earned it a place in leading sustainability indices such as the Dow Jones Sustainability Index (DJSI), MSCI Global Sustainability Index and the FTSE4Good Emerging Index.\""
      ]
     },
     "execution_count": 36,
     "metadata": {},
     "output_type": "execute_result"
    }
   ],
   "source": [
    "# extract company description\n",
    "first_company_card.find(\"p\", class_=\"description\").text.strip()"
   ]
  },
  {
   "cell_type": "markdown",
   "metadata": {},
   "source": [
    "## Scraping a Single WebPage"
   ]
  },
  {
   "cell_type": "code",
   "execution_count": 37,
   "metadata": {},
   "outputs": [
    {
     "data": {
      "text/plain": [
       "30"
      ]
     },
     "execution_count": 37,
     "metadata": {},
     "output_type": "execute_result"
    }
   ],
   "source": [
    "# find all the company cards in the webpage (HTML divs that encloses data about each company)\n",
    "company_cards = soup.find_all(\"div\", class_=\"company-content-wrapper\")\n",
    "len(company_cards)"
   ]
  },
  {
   "cell_type": "code",
   "execution_count": 38,
   "metadata": {},
   "outputs": [
    {
     "name": "stdout",
     "output_type": "stream",
     "text": [
      "Wall time: 250 ms\n"
     ]
    }
   ],
   "source": [
    "%%time\n",
    "\n",
    "name = []\n",
    "rating = []\n",
    "reviews = []\n",
    "domain = []\n",
    "location = []\n",
    "years_old = []\n",
    "employee_strength = []\n",
    "tags = []\n",
    "about = []\n",
    "\n",
    "for card in company_cards:\n",
    "    # 1. name\n",
    "    name.append(card.find(\"h2\").text.strip())\n",
    "    \n",
    "    # 2. rating\n",
    "    rating.append(card.find(\"p\", class_=\"rating\").text.strip())\n",
    "    \n",
    "    # 3. reviews\n",
    "    reviews.append(card.find(\"a\", class_=\"review-count sbold-Labels\").text.strip().replace(\" Reviews\", \"\"))\n",
    "    \n",
    "    # 4. domain, 5. location, 6. years old & 7. employee strength\n",
    "    info_list = card.find_all(\"p\", class_=\"infoEntity sbold-list-header\")\n",
    "    dom = None\n",
    "    loc = None\n",
    "    old = None\n",
    "    emp = None\n",
    "    for i in range(4):\n",
    "        try:\n",
    "            if info_list[i].findChildren(\"i\")[0][\"class\"][0] == 'icon-domain':\n",
    "                dom = info_list[i].text.strip()\n",
    "\n",
    "            if info_list[i].findChildren(\"i\")[0][\"class\"][0] == 'icon-pin-drop':\n",
    "                loc = info_list[i].text.strip()\n",
    "\n",
    "            if info_list[i].findChildren(\"i\")[0][\"class\"][0] == 'icon-access-time':\n",
    "                old = info_list[i].text.strip()\n",
    "\n",
    "            if info_list[i].findChildren(\"i\")[0][\"class\"][0] == 'icon-supervisor-account':\n",
    "                emp = info_list[i].text.strip()\n",
    "        except:\n",
    "            pass\n",
    "    \n",
    "    domain.append(dom)\n",
    "    location.append(loc)\n",
    "    years_old.append(old)\n",
    "    employee_strength.append(emp)\n",
    "    \n",
    "    # 8. tags\n",
    "    t = []\n",
    "    for tag in card.find_all(\"a\", class_=\"ab_chip\"):\n",
    "        t.append(tag.text.strip())\n",
    "    t = ', '.join(t)\n",
    "    tags.append(t)\n",
    "    \n",
    "    # 9. about\n",
    "    about.append(card.find(\"p\", class_=\"description\").text.strip())\n",
    "    \n",
    "col_dic = {\n",
    "    \"name\": name,\n",
    "    \"rating\": rating,\n",
    "    \"reviews\": reviews,\n",
    "    \"domain\": domain,\n",
    "    \"location\": location,\n",
    "    \"years_old\": years_old,\n",
    "    \"employee_strength\": employee_strength,\n",
    "     \"tags\": tags,\n",
    "    \"about\": about\n",
    "}\n",
    "\n",
    "df = pd.DataFrame(col_dic)"
   ]
  },
  {
   "cell_type": "code",
   "execution_count": 39,
   "metadata": {},
   "outputs": [
    {
     "data": {
      "text/html": [
       "<div>\n",
       "<style scoped>\n",
       "    .dataframe tbody tr th:only-of-type {\n",
       "        vertical-align: middle;\n",
       "    }\n",
       "\n",
       "    .dataframe tbody tr th {\n",
       "        vertical-align: top;\n",
       "    }\n",
       "\n",
       "    .dataframe thead th {\n",
       "        text-align: right;\n",
       "    }\n",
       "</style>\n",
       "<table border=\"1\" class=\"dataframe\">\n",
       "  <thead>\n",
       "    <tr style=\"text-align: right;\">\n",
       "      <th></th>\n",
       "      <th>name</th>\n",
       "      <th>rating</th>\n",
       "      <th>reviews</th>\n",
       "      <th>domain</th>\n",
       "      <th>location</th>\n",
       "      <th>years_old</th>\n",
       "      <th>employee_strength</th>\n",
       "      <th>tags</th>\n",
       "      <th>about</th>\n",
       "    </tr>\n",
       "  </thead>\n",
       "  <tbody>\n",
       "    <tr>\n",
       "      <th>0</th>\n",
       "      <td>TCS</td>\n",
       "      <td>4.0</td>\n",
       "      <td>(17.7k)</td>\n",
       "      <td>Public</td>\n",
       "      <td>Mumbai,Maharashtra + 165 more</td>\n",
       "      <td>52 years old</td>\n",
       "      <td>None</td>\n",
       "      <td>IT Services &amp; Consulting, Fortune500, Forbes G...</td>\n",
       "      <td>Tata Consultancy Services is an IT services, c...</td>\n",
       "    </tr>\n",
       "    <tr>\n",
       "      <th>1</th>\n",
       "      <td>Accenture</td>\n",
       "      <td>4.0</td>\n",
       "      <td>(15.5k)</td>\n",
       "      <td>Private</td>\n",
       "      <td>Dublin + 95 more</td>\n",
       "      <td>31 years old</td>\n",
       "      <td>10000+ employees</td>\n",
       "      <td>Consulting, IT / ITES, MNC, Forbes Global 2000</td>\n",
       "      <td>Accenture is a leading global professional ser...</td>\n",
       "    </tr>\n",
       "    <tr>\n",
       "      <th>2</th>\n",
       "      <td>ICICI Bank</td>\n",
       "      <td>4.1</td>\n",
       "      <td>(14.3k)</td>\n",
       "      <td>Public</td>\n",
       "      <td>Mumbai + 728 more</td>\n",
       "      <td>26 years old</td>\n",
       "      <td>10000+ employees</td>\n",
       "      <td>Banking / Insurance / Accounting, Financial Se...</td>\n",
       "      <td>ICICI Bank is India's largest private sector b...</td>\n",
       "    </tr>\n",
       "    <tr>\n",
       "      <th>3</th>\n",
       "      <td>Cognizant</td>\n",
       "      <td>3.9</td>\n",
       "      <td>(13.3k)</td>\n",
       "      <td>Private</td>\n",
       "      <td>Teaneck + 48 more</td>\n",
       "      <td>26 years old</td>\n",
       "      <td>10000+ employees</td>\n",
       "      <td>IT / ITES, MNC, Forbes Global 2000</td>\n",
       "      <td>Cognizant (NASDAQ-100: CTSH) is one of the wor...</td>\n",
       "    </tr>\n",
       "    <tr>\n",
       "      <th>4</th>\n",
       "      <td>HDFC Bank</td>\n",
       "      <td>4.0</td>\n",
       "      <td>(12.5k)</td>\n",
       "      <td>Public</td>\n",
       "      <td>Mumbai,Maharashtra + 726 more</td>\n",
       "      <td>26 years old</td>\n",
       "      <td>None</td>\n",
       "      <td>Financial Services, Banking, Insurance, Fortun...</td>\n",
       "      <td>HDFC Bank is one of India’s leading private ba...</td>\n",
       "    </tr>\n",
       "    <tr>\n",
       "      <th>5</th>\n",
       "      <td>Capgemini</td>\n",
       "      <td>3.4</td>\n",
       "      <td>(10.3k)</td>\n",
       "      <td>Private</td>\n",
       "      <td>Paris + 47 more</td>\n",
       "      <td>53 years old</td>\n",
       "      <td>10000+ employees</td>\n",
       "      <td>Computer Software, Consulting, Internet, IT / ...</td>\n",
       "      <td>Capgemini is a global leader in consulting, di...</td>\n",
       "    </tr>\n",
       "    <tr>\n",
       "      <th>6</th>\n",
       "      <td>Tech Mahindra</td>\n",
       "      <td>3.6</td>\n",
       "      <td>(10.2k)</td>\n",
       "      <td>Public</td>\n",
       "      <td>Pune + 161 more</td>\n",
       "      <td>34 years old</td>\n",
       "      <td>10000+ employees</td>\n",
       "      <td>Consulting, IT / ITES, Analytics / BPM / Resea...</td>\n",
       "      <td>Tech Mahindra represents the connected world, ...</td>\n",
       "    </tr>\n",
       "    <tr>\n",
       "      <th>7</th>\n",
       "      <td>HCL Technologies</td>\n",
       "      <td>3.7</td>\n",
       "      <td>(9.5k)</td>\n",
       "      <td>Public</td>\n",
       "      <td>Noida,Uttar Pradesh + 111 more</td>\n",
       "      <td>14 years old</td>\n",
       "      <td>None</td>\n",
       "      <td>Computer Software, Consulting, Financial Servi...</td>\n",
       "      <td>HCL Technologies is a next-generation global t...</td>\n",
       "    </tr>\n",
       "    <tr>\n",
       "      <th>8</th>\n",
       "      <td>L&amp;T</td>\n",
       "      <td>4.1</td>\n",
       "      <td>(9.4k)</td>\n",
       "      <td>Public</td>\n",
       "      <td>Mumbai + 339 more</td>\n",
       "      <td>82 years old</td>\n",
       "      <td>10000+ employees</td>\n",
       "      <td>Industrial Equipment / Machinery, Manufacturin...</td>\n",
       "      <td>Larsen &amp; Toubro is a major technology, enginee...</td>\n",
       "    </tr>\n",
       "    <tr>\n",
       "      <th>9</th>\n",
       "      <td>Infosys</td>\n",
       "      <td>3.9</td>\n",
       "      <td>(8.9k)</td>\n",
       "      <td>Public</td>\n",
       "      <td>Bangalore + 67 more</td>\n",
       "      <td>39 years old</td>\n",
       "      <td>10000+ employees</td>\n",
       "      <td>IT / ITES, MNC, Fortune500, Forbes Global 2000...</td>\n",
       "      <td>Infosys is a global leader in next-generation ...</td>\n",
       "    </tr>\n",
       "    <tr>\n",
       "      <th>10</th>\n",
       "      <td>Tata Motors</td>\n",
       "      <td>4.1</td>\n",
       "      <td>(8.8k)</td>\n",
       "      <td>Public</td>\n",
       "      <td>Pune + 341 more</td>\n",
       "      <td>75 years old</td>\n",
       "      <td>10000+ employees</td>\n",
       "      <td>Automobile, Manufacturing, MNC, Fortune500, Fo...</td>\n",
       "      <td>Tata Motors Limited, a USD 45 billion organisa...</td>\n",
       "    </tr>\n",
       "    <tr>\n",
       "      <th>11</th>\n",
       "      <td>IBM</td>\n",
       "      <td>4.1</td>\n",
       "      <td>(8.7k)</td>\n",
       "      <td>Public</td>\n",
       "      <td>New York + 74 more</td>\n",
       "      <td>109 years old</td>\n",
       "      <td>None</td>\n",
       "      <td>Consulting, Financial Services, Analytics / BP...</td>\n",
       "      <td>At IBM, work is more than a job - it's a calli...</td>\n",
       "    </tr>\n",
       "    <tr>\n",
       "      <th>12</th>\n",
       "      <td>Axis Bank</td>\n",
       "      <td>4.0</td>\n",
       "      <td>(8.7k)</td>\n",
       "      <td>Public</td>\n",
       "      <td>Mumbai + 674 more</td>\n",
       "      <td>27 years old</td>\n",
       "      <td>10000+ employees</td>\n",
       "      <td>Banking / Insurance / Accounting, Financial Se...</td>\n",
       "      <td>Axis Bank is the third largest private sector ...</td>\n",
       "    </tr>\n",
       "    <tr>\n",
       "      <th>13</th>\n",
       "      <td>Genpact</td>\n",
       "      <td>4.0</td>\n",
       "      <td>(8.7k)</td>\n",
       "      <td>Private</td>\n",
       "      <td>New York + 32 more</td>\n",
       "      <td>23 years old</td>\n",
       "      <td>10000+ employees</td>\n",
       "      <td>Consulting, IT / ITES, MNC</td>\n",
       "      <td>Genpact (NYSE: G) is a global professional ser...</td>\n",
       "    </tr>\n",
       "    <tr>\n",
       "      <th>14</th>\n",
       "      <td>Reliance jio</td>\n",
       "      <td>4.0</td>\n",
       "      <td>(8.6k)</td>\n",
       "      <td>Public</td>\n",
       "      <td>Navi Mumbai + 601 more</td>\n",
       "      <td>10 years old</td>\n",
       "      <td>10000+ employees</td>\n",
       "      <td>Telecom / ISP, MNC, Public, Navi Mumbai</td>\n",
       "      <td>Make a new start. A start that will build beau...</td>\n",
       "    </tr>\n",
       "    <tr>\n",
       "      <th>15</th>\n",
       "      <td>Wipro</td>\n",
       "      <td>3.8</td>\n",
       "      <td>(7.8k)</td>\n",
       "      <td>Public</td>\n",
       "      <td>Bangalore + 125 more</td>\n",
       "      <td>75 years old</td>\n",
       "      <td>10000+ employees</td>\n",
       "      <td>Consulting, IT / ITES, MNC, Conglomerate, Fort...</td>\n",
       "      <td>Wipro Limited (NYSE: WIT, BSE: 507685, NSE: WI...</td>\n",
       "    </tr>\n",
       "    <tr>\n",
       "      <th>16</th>\n",
       "      <td>Concentrix Corpora...</td>\n",
       "      <td>4.0</td>\n",
       "      <td>(7.5k)</td>\n",
       "      <td>Public</td>\n",
       "      <td>Fremont + 38 more</td>\n",
       "      <td>37 years old</td>\n",
       "      <td>10000+ employees</td>\n",
       "      <td>BPO/KPO, Public</td>\n",
       "      <td>Concentrix is a technology-enabled global busi...</td>\n",
       "    </tr>\n",
       "    <tr>\n",
       "      <th>17</th>\n",
       "      <td>HDB Financial Serv...</td>\n",
       "      <td>4.0</td>\n",
       "      <td>(6.7k)</td>\n",
       "      <td>Private</td>\n",
       "      <td>Ahmedabad + 474 more</td>\n",
       "      <td>13 years old</td>\n",
       "      <td>10000+ employees</td>\n",
       "      <td>Financial Services, Ahmedabad</td>\n",
       "      <td>HDB Financial Services (HDBFS) is a leading No...</td>\n",
       "    </tr>\n",
       "    <tr>\n",
       "      <th>18</th>\n",
       "      <td>Amazon</td>\n",
       "      <td>4.1</td>\n",
       "      <td>(6k)</td>\n",
       "      <td>Private</td>\n",
       "      <td>Washington + 175 more</td>\n",
       "      <td>26 years old</td>\n",
       "      <td>10000+ employees</td>\n",
       "      <td>Consumer goods, Internet, Retail, MNC, Forbes ...</td>\n",
       "      <td>Amazon is guided by four principles: customer ...</td>\n",
       "    </tr>\n",
       "    <tr>\n",
       "      <th>19</th>\n",
       "      <td>Kotak Mahindra Ban...</td>\n",
       "      <td>3.8</td>\n",
       "      <td>(5.9k)</td>\n",
       "      <td>Public</td>\n",
       "      <td>Mumbai,Maharashtra + 356 more</td>\n",
       "      <td>17 years old</td>\n",
       "      <td>None</td>\n",
       "      <td>Banking / Insurance / Accounting, Financial Se...</td>\n",
       "      <td>In February 2003, Kotak Mahindra Finance Ltd. ...</td>\n",
       "    </tr>\n",
       "    <tr>\n",
       "      <th>20</th>\n",
       "      <td>Bharti Airtel</td>\n",
       "      <td>4.2</td>\n",
       "      <td>(5.8k)</td>\n",
       "      <td>Public</td>\n",
       "      <td>New Delhi + 344 more</td>\n",
       "      <td>25 years old</td>\n",
       "      <td>10000+ employees</td>\n",
       "      <td>Telecom / ISP, Fortune500, Forbes Global 2000,...</td>\n",
       "      <td>Bharti Airtel is a leading alternative provide...</td>\n",
       "    </tr>\n",
       "    <tr>\n",
       "      <th>21</th>\n",
       "      <td>Vodafone</td>\n",
       "      <td>4.2</td>\n",
       "      <td>(5.8k)</td>\n",
       "      <td>Public</td>\n",
       "      <td>Berkshire + 357 more</td>\n",
       "      <td>38 years old</td>\n",
       "      <td>10000+ employees</td>\n",
       "      <td>Telecom / ISP, MNC, Fortune500, Forbes Global ...</td>\n",
       "      <td>Vodafone is a leader in technology communicati...</td>\n",
       "    </tr>\n",
       "    <tr>\n",
       "      <th>22</th>\n",
       "      <td>Reliance</td>\n",
       "      <td>4.2</td>\n",
       "      <td>(5k)</td>\n",
       "      <td>Public</td>\n",
       "      <td>Mumbai + 230 more</td>\n",
       "      <td>54 years old</td>\n",
       "      <td>10000+ employees</td>\n",
       "      <td>Oil / Gas / Petro Chemicals, Power, MNC, Congl...</td>\n",
       "      <td>Reliance Industries Limited is a Fortune 500 c...</td>\n",
       "    </tr>\n",
       "    <tr>\n",
       "      <th>23</th>\n",
       "      <td>Bajaj Finserv</td>\n",
       "      <td>4.1</td>\n",
       "      <td>(4.2k)</td>\n",
       "      <td>Public</td>\n",
       "      <td>Pune + 480 more</td>\n",
       "      <td>13 years old</td>\n",
       "      <td>10000+ employees</td>\n",
       "      <td>Financial Services, Fortune500, Forbes Global ...</td>\n",
       "      <td>Bajaj Finserv was formed in April 2007 as a re...</td>\n",
       "    </tr>\n",
       "    <tr>\n",
       "      <th>24</th>\n",
       "      <td>IndusInd Bank</td>\n",
       "      <td>3.6</td>\n",
       "      <td>(4.1k)</td>\n",
       "      <td>Public</td>\n",
       "      <td>Mumbai + 367 more</td>\n",
       "      <td>26 years old</td>\n",
       "      <td>10000+ employees</td>\n",
       "      <td>Banking / Insurance / Accounting, Financial Se...</td>\n",
       "      <td>IndusInd Bank is a Mumbai based scheduled priv...</td>\n",
       "    </tr>\n",
       "    <tr>\n",
       "      <th>25</th>\n",
       "      <td>Teleperformance</td>\n",
       "      <td>3.6</td>\n",
       "      <td>(4.1k)</td>\n",
       "      <td>Private</td>\n",
       "      <td>Paris + 47 more</td>\n",
       "      <td>42 years old</td>\n",
       "      <td>10000+ employees</td>\n",
       "      <td>BPO/KPO, IT / ITES, MNC, Forbes Global 2000</td>\n",
       "      <td>Teleperformance is the agile business services...</td>\n",
       "    </tr>\n",
       "    <tr>\n",
       "      <th>26</th>\n",
       "      <td>Indian Army</td>\n",
       "      <td>4.7</td>\n",
       "      <td>(4k)</td>\n",
       "      <td>Govt agency</td>\n",
       "      <td>New Delhi + 211 more</td>\n",
       "      <td>125 years old</td>\n",
       "      <td>10000+ employees</td>\n",
       "      <td>Defence &amp; Aerospace, Federal Agencies, Governm...</td>\n",
       "      <td>The principal task of the Ministry is to frame...</td>\n",
       "    </tr>\n",
       "    <tr>\n",
       "      <th>27</th>\n",
       "      <td>Hinduja Global Sol...</td>\n",
       "      <td>3.8</td>\n",
       "      <td>(3.9k)</td>\n",
       "      <td>Public</td>\n",
       "      <td>Bangalore + 52 more</td>\n",
       "      <td>20 years old</td>\n",
       "      <td>10000+ employees</td>\n",
       "      <td>BPO/KPO, MNC, Fortune500, Public</td>\n",
       "      <td>A global leader in business process management...</td>\n",
       "    </tr>\n",
       "    <tr>\n",
       "      <th>28</th>\n",
       "      <td>Mahindra &amp; Mahindr...</td>\n",
       "      <td>4.2</td>\n",
       "      <td>(3.8k)</td>\n",
       "      <td>Public</td>\n",
       "      <td>Mumbai + 268 more</td>\n",
       "      <td>75 years old</td>\n",
       "      <td>10000+ employees</td>\n",
       "      <td>Automobile, Industrial Equipment / Machinery, ...</td>\n",
       "      <td>Mahindra &amp; Mahindra Limited is an Indian multi...</td>\n",
       "    </tr>\n",
       "    <tr>\n",
       "      <th>29</th>\n",
       "      <td>Maruti Suzuki</td>\n",
       "      <td>4.2</td>\n",
       "      <td>(3.4k)</td>\n",
       "      <td>Public</td>\n",
       "      <td>New Delhi,Delhi + 277 more</td>\n",
       "      <td>37 years old</td>\n",
       "      <td>None</td>\n",
       "      <td>Automobile, Manufacturing, Fortune500, Public</td>\n",
       "      <td>Cars are what Maruti Suzuki builds. Experience...</td>\n",
       "    </tr>\n",
       "  </tbody>\n",
       "</table>\n",
       "</div>"
      ],
      "text/plain": [
       "                     name rating  reviews       domain  \\\n",
       "0                     TCS    4.0  (17.7k)       Public   \n",
       "1               Accenture    4.0  (15.5k)      Private   \n",
       "2              ICICI Bank    4.1  (14.3k)       Public   \n",
       "3               Cognizant    3.9  (13.3k)      Private   \n",
       "4               HDFC Bank    4.0  (12.5k)       Public   \n",
       "5               Capgemini    3.4  (10.3k)      Private   \n",
       "6           Tech Mahindra    3.6  (10.2k)       Public   \n",
       "7        HCL Technologies    3.7   (9.5k)       Public   \n",
       "8                     L&T    4.1   (9.4k)       Public   \n",
       "9                 Infosys    3.9   (8.9k)       Public   \n",
       "10            Tata Motors    4.1   (8.8k)       Public   \n",
       "11                    IBM    4.1   (8.7k)       Public   \n",
       "12              Axis Bank    4.0   (8.7k)       Public   \n",
       "13                Genpact    4.0   (8.7k)      Private   \n",
       "14           Reliance jio    4.0   (8.6k)       Public   \n",
       "15                  Wipro    3.8   (7.8k)       Public   \n",
       "16  Concentrix Corpora...    4.0   (7.5k)       Public   \n",
       "17  HDB Financial Serv...    4.0   (6.7k)      Private   \n",
       "18                 Amazon    4.1     (6k)      Private   \n",
       "19  Kotak Mahindra Ban...    3.8   (5.9k)       Public   \n",
       "20          Bharti Airtel    4.2   (5.8k)       Public   \n",
       "21               Vodafone    4.2   (5.8k)       Public   \n",
       "22               Reliance    4.2     (5k)       Public   \n",
       "23          Bajaj Finserv    4.1   (4.2k)       Public   \n",
       "24          IndusInd Bank    3.6   (4.1k)       Public   \n",
       "25        Teleperformance    3.6   (4.1k)      Private   \n",
       "26            Indian Army    4.7     (4k)  Govt agency   \n",
       "27  Hinduja Global Sol...    3.8   (3.9k)       Public   \n",
       "28  Mahindra & Mahindr...    4.2   (3.8k)       Public   \n",
       "29          Maruti Suzuki    4.2   (3.4k)       Public   \n",
       "\n",
       "                          location      years_old employee_strength  \\\n",
       "0    Mumbai,Maharashtra + 165 more   52 years old              None   \n",
       "1                 Dublin + 95 more   31 years old  10000+ employees   \n",
       "2                Mumbai + 728 more   26 years old  10000+ employees   \n",
       "3                Teaneck + 48 more   26 years old  10000+ employees   \n",
       "4    Mumbai,Maharashtra + 726 more   26 years old              None   \n",
       "5                  Paris + 47 more   53 years old  10000+ employees   \n",
       "6                  Pune + 161 more   34 years old  10000+ employees   \n",
       "7   Noida,Uttar Pradesh + 111 more   14 years old              None   \n",
       "8                Mumbai + 339 more   82 years old  10000+ employees   \n",
       "9              Bangalore + 67 more   39 years old  10000+ employees   \n",
       "10                 Pune + 341 more   75 years old  10000+ employees   \n",
       "11              New York + 74 more  109 years old              None   \n",
       "12               Mumbai + 674 more   27 years old  10000+ employees   \n",
       "13              New York + 32 more   23 years old  10000+ employees   \n",
       "14          Navi Mumbai + 601 more   10 years old  10000+ employees   \n",
       "15            Bangalore + 125 more   75 years old  10000+ employees   \n",
       "16               Fremont + 38 more   37 years old  10000+ employees   \n",
       "17            Ahmedabad + 474 more   13 years old  10000+ employees   \n",
       "18           Washington + 175 more   26 years old  10000+ employees   \n",
       "19   Mumbai,Maharashtra + 356 more   17 years old              None   \n",
       "20            New Delhi + 344 more   25 years old  10000+ employees   \n",
       "21            Berkshire + 357 more   38 years old  10000+ employees   \n",
       "22               Mumbai + 230 more   54 years old  10000+ employees   \n",
       "23                 Pune + 480 more   13 years old  10000+ employees   \n",
       "24               Mumbai + 367 more   26 years old  10000+ employees   \n",
       "25                 Paris + 47 more   42 years old  10000+ employees   \n",
       "26            New Delhi + 211 more  125 years old  10000+ employees   \n",
       "27             Bangalore + 52 more   20 years old  10000+ employees   \n",
       "28               Mumbai + 268 more   75 years old  10000+ employees   \n",
       "29      New Delhi,Delhi + 277 more   37 years old              None   \n",
       "\n",
       "                                                 tags  \\\n",
       "0   IT Services & Consulting, Fortune500, Forbes G...   \n",
       "1      Consulting, IT / ITES, MNC, Forbes Global 2000   \n",
       "2   Banking / Insurance / Accounting, Financial Se...   \n",
       "3                  IT / ITES, MNC, Forbes Global 2000   \n",
       "4   Financial Services, Banking, Insurance, Fortun...   \n",
       "5   Computer Software, Consulting, Internet, IT / ...   \n",
       "6   Consulting, IT / ITES, Analytics / BPM / Resea...   \n",
       "7   Computer Software, Consulting, Financial Servi...   \n",
       "8   Industrial Equipment / Machinery, Manufacturin...   \n",
       "9   IT / ITES, MNC, Fortune500, Forbes Global 2000...   \n",
       "10  Automobile, Manufacturing, MNC, Fortune500, Fo...   \n",
       "11  Consulting, Financial Services, Analytics / BP...   \n",
       "12  Banking / Insurance / Accounting, Financial Se...   \n",
       "13                         Consulting, IT / ITES, MNC   \n",
       "14            Telecom / ISP, MNC, Public, Navi Mumbai   \n",
       "15  Consulting, IT / ITES, MNC, Conglomerate, Fort...   \n",
       "16                                    BPO/KPO, Public   \n",
       "17                      Financial Services, Ahmedabad   \n",
       "18  Consumer goods, Internet, Retail, MNC, Forbes ...   \n",
       "19  Banking / Insurance / Accounting, Financial Se...   \n",
       "20  Telecom / ISP, Fortune500, Forbes Global 2000,...   \n",
       "21  Telecom / ISP, MNC, Fortune500, Forbes Global ...   \n",
       "22  Oil / Gas / Petro Chemicals, Power, MNC, Congl...   \n",
       "23  Financial Services, Fortune500, Forbes Global ...   \n",
       "24  Banking / Insurance / Accounting, Financial Se...   \n",
       "25        BPO/KPO, IT / ITES, MNC, Forbes Global 2000   \n",
       "26  Defence & Aerospace, Federal Agencies, Governm...   \n",
       "27                   BPO/KPO, MNC, Fortune500, Public   \n",
       "28  Automobile, Industrial Equipment / Machinery, ...   \n",
       "29      Automobile, Manufacturing, Fortune500, Public   \n",
       "\n",
       "                                                about  \n",
       "0   Tata Consultancy Services is an IT services, c...  \n",
       "1   Accenture is a leading global professional ser...  \n",
       "2   ICICI Bank is India's largest private sector b...  \n",
       "3   Cognizant (NASDAQ-100: CTSH) is one of the wor...  \n",
       "4   HDFC Bank is one of India’s leading private ba...  \n",
       "5   Capgemini is a global leader in consulting, di...  \n",
       "6   Tech Mahindra represents the connected world, ...  \n",
       "7   HCL Technologies is a next-generation global t...  \n",
       "8   Larsen & Toubro is a major technology, enginee...  \n",
       "9   Infosys is a global leader in next-generation ...  \n",
       "10  Tata Motors Limited, a USD 45 billion organisa...  \n",
       "11  At IBM, work is more than a job - it's a calli...  \n",
       "12  Axis Bank is the third largest private sector ...  \n",
       "13  Genpact (NYSE: G) is a global professional ser...  \n",
       "14  Make a new start. A start that will build beau...  \n",
       "15  Wipro Limited (NYSE: WIT, BSE: 507685, NSE: WI...  \n",
       "16  Concentrix is a technology-enabled global busi...  \n",
       "17  HDB Financial Services (HDBFS) is a leading No...  \n",
       "18  Amazon is guided by four principles: customer ...  \n",
       "19  In February 2003, Kotak Mahindra Finance Ltd. ...  \n",
       "20  Bharti Airtel is a leading alternative provide...  \n",
       "21  Vodafone is a leader in technology communicati...  \n",
       "22  Reliance Industries Limited is a Fortune 500 c...  \n",
       "23  Bajaj Finserv was formed in April 2007 as a re...  \n",
       "24  IndusInd Bank is a Mumbai based scheduled priv...  \n",
       "25  Teleperformance is the agile business services...  \n",
       "26  The principal task of the Ministry is to frame...  \n",
       "27  A global leader in business process management...  \n",
       "28  Mahindra & Mahindra Limited is an Indian multi...  \n",
       "29  Cars are what Maruti Suzuki builds. Experience...  "
      ]
     },
     "execution_count": 39,
     "metadata": {},
     "output_type": "execute_result"
    }
   ],
   "source": [
    "df"
   ]
  },
  {
   "cell_type": "markdown",
   "metadata": {},
   "source": [
    "## Scraping the Whole Website!!"
   ]
  },
  {
   "cell_type": "code",
   "execution_count": 40,
   "metadata": {},
   "outputs": [],
   "source": [
    "# ALL SET! LET'S PUT EVERYTHING TOGETHER AND SCRAPE THE WHOLE WEBSITE !!!\n",
    "# Let's not scrape the whole website here... use a python script and run it in the terminal to do so!\n",
    "# the external python script is attatched with this notebook"
   ]
  },
  {
   "cell_type": "code",
   "execution_count": 41,
   "metadata": {},
   "outputs": [],
   "source": [
    "start_time = time.time()\n",
    "dataframe_final = pd.DataFrame()\n",
    "\n",
    "# 4,86,333 unique companies found / 30 per page = 16,211 pages\n",
    "# total_number_of_webpages = 16,211\n",
    "total_number_of_webpages = 10"
   ]
  },
  {
   "cell_type": "code",
   "execution_count": 42,
   "metadata": {},
   "outputs": [
    {
     "name": "stdout",
     "output_type": "stream",
     "text": [
      "scraping webpage number: 1 of 10\n",
      "success!\n",
      "time taken: 216.93 ms\n",
      "total time elapsed: 0:03:37.434261\n",
      "\n",
      "scraping webpage number: 2 of 10\n",
      "success!\n",
      "time taken: 294.44 ms\n",
      "total time elapsed: 0:03:37.728699\n",
      "\n",
      "scraping webpage number: 3 of 10\n",
      "success!\n",
      "time taken: 531.37 ms\n",
      "total time elapsed: 0:03:38.261064\n",
      "\n",
      "scraping webpage number: 4 of 10\n",
      "success!\n",
      "time taken: 564.94 ms\n",
      "total time elapsed: 0:03:38.826004\n",
      "\n",
      "scraping webpage number: 5 of 10\n",
      "success!\n",
      "time taken: 478.72 ms\n",
      "total time elapsed: 0:03:39.304723\n",
      "\n",
      "scraping webpage number: 6 of 10\n",
      "success!\n",
      "time taken: 547.23 ms\n",
      "total time elapsed: 0:03:39.851951\n",
      "\n",
      "scraping webpage number: 7 of 10\n",
      "success!\n",
      "time taken: 587.68 ms\n",
      "total time elapsed: 0:03:40.440599\n",
      "\n",
      "scraping webpage number: 8 of 10\n",
      "success!\n",
      "time taken: 201.41 ms\n",
      "total time elapsed: 0:03:40.642010\n",
      "\n",
      "scraping webpage number: 9 of 10\n",
      "success!\n",
      "time taken: 516.77 ms\n",
      "total time elapsed: 0:03:41.159779\n",
      "\n",
      "scraping webpage number: 10 of 10\n",
      "success!\n",
      "time taken: 523.43 ms\n",
      "total time elapsed: 0:03:41.684179\n",
      "\n",
      "full website scraped successfully!\n",
      "total time taken: 0:03:41.684179\n",
      "\n"
     ]
    }
   ],
   "source": [
    "for page in range(1, total_number_of_webpages+1):\n",
    "    print(\"scraping webpage number: {page} of {total}\".format(page=page, total=total_number_of_webpages))\n",
    "    loop_time = time.time()\n",
    "    \n",
    "    # set page url and header\n",
    "    url = \"https://www.ambitionbox.com/list-of-companies?page={}\".format(page)\n",
    "    header = {\"User-Agent\": \"Mozilla/5.0 (Windows NT 10.0; Win64; x64) AppleWebKit/537.36 (KHTML, like Gecko) Chrome/80.0.3987.163 Safari/537.36\"}\n",
    "    \n",
    "    # get page response from the website\n",
    "    response = requests.get(url, headers=header)\n",
    "    # time.sleep(0.1)\n",
    "    \n",
    "    # pass the page to BeautifulSoup\n",
    "    soup = BeautifulSoup(response.text, 'lxml')\n",
    "    \n",
    "    # find all the company cards from the webpage\n",
    "    company_cards = soup.find_all(\"div\", class_=\"company-content-wrapper\")\n",
    "    \n",
    "    # extract all the required data from each company card and store them in a list\n",
    "    name = []\n",
    "    rating = []\n",
    "    reviews = []\n",
    "    domain = []\n",
    "    location = []\n",
    "    years_old = []\n",
    "    employee_strength = []\n",
    "    tags = []\n",
    "    about = []\n",
    "    \n",
    "    # scrap scrap scrap!\n",
    "    for card in company_cards:\n",
    "        # 1. name\n",
    "        try:\n",
    "            name.append(card.find(\"h2\").text.strip())\n",
    "        except:\n",
    "            name.append(None)\n",
    "            # 2. rating\n",
    "        try:\n",
    "            rating.append(card.find(\"p\", class_=\"rating\").text.strip())\n",
    "        except:\n",
    "            rating.append(None)\n",
    "\n",
    "        # 3. reviews\n",
    "        try:\n",
    "            reviews.append(card.find(\"a\", class_=\"review-count sbold-Labels\").text.strip().replace(\" Reviews\", \"\"))\n",
    "        except:\n",
    "            reviews.append(None)\n",
    "\n",
    "        # 4. domain, 5. location, 6. years old & 7. employee strength\n",
    "        info_list = card.find_all(\"p\", class_=\"infoEntity sbold-list-header\")\n",
    "        dom = None\n",
    "        loc = None\n",
    "        old = None\n",
    "        emp = None\n",
    "        for i in range(4):\n",
    "            try:\n",
    "                if info_list[i].findChildren(\"i\")[0][\"class\"][0] == 'icon-domain':\n",
    "                    dom = info_list[i].text.strip()\n",
    "\n",
    "                if info_list[i].findChildren(\"i\")[0][\"class\"][0] == 'icon-pin-drop':\n",
    "                    loc = info_list[i].text.strip()\n",
    "\n",
    "                if info_list[i].findChildren(\"i\")[0][\"class\"][0] == 'icon-access-time':\n",
    "                    old = info_list[i].text.strip()\n",
    "\n",
    "                if info_list[i].findChildren(\"i\")[0][\"class\"][0] == 'icon-supervisor-account':\n",
    "                    emp = info_list[i].text.strip()\n",
    "            except:\n",
    "                pass\n",
    "            \n",
    "        domain.append(dom)\n",
    "        location.append(loc)\n",
    "        years_old.append(old)\n",
    "        employee_strength.append(emp)\n",
    "\n",
    "        # 8. tags\n",
    "        t = []\n",
    "        try:\n",
    "            for tag in card.find_all(\"a\", class_=\"ab_chip\"):\n",
    "                t.append(tag.text.strip())\n",
    "            t = ', '.join(t)\n",
    "            tags.append(t)\n",
    "        except:\n",
    "            tags.append(None)\n",
    "\n",
    "        # 9. about\n",
    "        try:\n",
    "            about.append(card.find(\"p\", class_=\"description\").text.strip())\n",
    "        except:\n",
    "            about.append(None)\n",
    "    \n",
    "    # make a dictionary containing all the data extracted\n",
    "    col_dic = {\n",
    "        \"name\": name,\n",
    "        \"rating\": rating,\n",
    "        \"reviews\": reviews,\n",
    "        \"domain\": domain,\n",
    "        \"location\": location,\n",
    "        \"years_old\": years_old,\n",
    "        \"employee_strength\": employee_strength,\n",
    "        \"tags\": tags,\n",
    "        \"about\": about\n",
    "    }\n",
    "    \n",
    "    # pass the dictionary to pandas to create a dataframe (page)\n",
    "    df = pd.DataFrame(col_dic)\n",
    "    \n",
    "    # append the dataframe to the final dataframe (the whole website)\n",
    "    dataframe_final = dataframe_final.append(df, ignore_index=True)\n",
    "    \n",
    "    # success\n",
    "    print(\"success!\")\n",
    "    print(\"time taken:\", round((time.time()-loop_time)*1000, 2), \"ms\")\n",
    "    print(\"total time elapsed:\", str(timedelta(seconds=(time.time()-start_time))))\n",
    "    print()\n",
    "\n",
    "end_time = time.time()\n",
    "print(\"full website scraped successfully!\")\n",
    "print(\"total time taken:\", str(timedelta(seconds=(end_time - start_time))))\n",
    "print()"
   ]
  },
  {
   "cell_type": "markdown",
   "metadata": {},
   "source": [
    "## Let's see what our dataframe looks like"
   ]
  },
  {
   "cell_type": "code",
   "execution_count": 43,
   "metadata": {},
   "outputs": [
    {
     "data": {
      "text/html": [
       "<div>\n",
       "<style scoped>\n",
       "    .dataframe tbody tr th:only-of-type {\n",
       "        vertical-align: middle;\n",
       "    }\n",
       "\n",
       "    .dataframe tbody tr th {\n",
       "        vertical-align: top;\n",
       "    }\n",
       "\n",
       "    .dataframe thead th {\n",
       "        text-align: right;\n",
       "    }\n",
       "</style>\n",
       "<table border=\"1\" class=\"dataframe\">\n",
       "  <thead>\n",
       "    <tr style=\"text-align: right;\">\n",
       "      <th></th>\n",
       "      <th>name</th>\n",
       "      <th>rating</th>\n",
       "      <th>reviews</th>\n",
       "      <th>domain</th>\n",
       "      <th>location</th>\n",
       "      <th>years_old</th>\n",
       "      <th>employee_strength</th>\n",
       "      <th>tags</th>\n",
       "      <th>about</th>\n",
       "    </tr>\n",
       "  </thead>\n",
       "  <tbody>\n",
       "    <tr>\n",
       "      <th>0</th>\n",
       "      <td>TCS</td>\n",
       "      <td>4.0</td>\n",
       "      <td>(17.7k)</td>\n",
       "      <td>Public</td>\n",
       "      <td>Mumbai,Maharashtra + 165 more</td>\n",
       "      <td>52 years old</td>\n",
       "      <td>None</td>\n",
       "      <td>IT Services &amp; Consulting, Fortune500, Forbes G...</td>\n",
       "      <td>Tata Consultancy Services is an IT services, c...</td>\n",
       "    </tr>\n",
       "    <tr>\n",
       "      <th>1</th>\n",
       "      <td>Accenture</td>\n",
       "      <td>4.0</td>\n",
       "      <td>(15.5k)</td>\n",
       "      <td>Private</td>\n",
       "      <td>Dublin + 95 more</td>\n",
       "      <td>31 years old</td>\n",
       "      <td>10000+ employees</td>\n",
       "      <td>Consulting, IT / ITES, MNC, Forbes Global 2000</td>\n",
       "      <td>Accenture is a leading global professional ser...</td>\n",
       "    </tr>\n",
       "    <tr>\n",
       "      <th>2</th>\n",
       "      <td>ICICI Bank</td>\n",
       "      <td>4.1</td>\n",
       "      <td>(14.3k)</td>\n",
       "      <td>Public</td>\n",
       "      <td>Mumbai + 728 more</td>\n",
       "      <td>26 years old</td>\n",
       "      <td>10000+ employees</td>\n",
       "      <td>Banking / Insurance / Accounting, Financial Se...</td>\n",
       "      <td>ICICI Bank is India's largest private sector b...</td>\n",
       "    </tr>\n",
       "    <tr>\n",
       "      <th>3</th>\n",
       "      <td>Cognizant</td>\n",
       "      <td>3.9</td>\n",
       "      <td>(13.3k)</td>\n",
       "      <td>Private</td>\n",
       "      <td>Teaneck + 48 more</td>\n",
       "      <td>26 years old</td>\n",
       "      <td>10000+ employees</td>\n",
       "      <td>IT / ITES, MNC, Forbes Global 2000</td>\n",
       "      <td>Cognizant (NASDAQ-100: CTSH) is one of the wor...</td>\n",
       "    </tr>\n",
       "    <tr>\n",
       "      <th>4</th>\n",
       "      <td>HDFC Bank</td>\n",
       "      <td>4.0</td>\n",
       "      <td>(12.5k)</td>\n",
       "      <td>Public</td>\n",
       "      <td>Mumbai,Maharashtra + 726 more</td>\n",
       "      <td>26 years old</td>\n",
       "      <td>None</td>\n",
       "      <td>Financial Services, Banking, Insurance, Fortun...</td>\n",
       "      <td>HDFC Bank is one of India’s leading private ba...</td>\n",
       "    </tr>\n",
       "  </tbody>\n",
       "</table>\n",
       "</div>"
      ],
      "text/plain": [
       "         name rating  reviews   domain                       location  \\\n",
       "0         TCS    4.0  (17.7k)   Public  Mumbai,Maharashtra + 165 more   \n",
       "1   Accenture    4.0  (15.5k)  Private               Dublin + 95 more   \n",
       "2  ICICI Bank    4.1  (14.3k)   Public              Mumbai + 728 more   \n",
       "3   Cognizant    3.9  (13.3k)  Private              Teaneck + 48 more   \n",
       "4   HDFC Bank    4.0  (12.5k)   Public  Mumbai,Maharashtra + 726 more   \n",
       "\n",
       "      years_old employee_strength  \\\n",
       "0  52 years old              None   \n",
       "1  31 years old  10000+ employees   \n",
       "2  26 years old  10000+ employees   \n",
       "3  26 years old  10000+ employees   \n",
       "4  26 years old              None   \n",
       "\n",
       "                                                tags  \\\n",
       "0  IT Services & Consulting, Fortune500, Forbes G...   \n",
       "1     Consulting, IT / ITES, MNC, Forbes Global 2000   \n",
       "2  Banking / Insurance / Accounting, Financial Se...   \n",
       "3                 IT / ITES, MNC, Forbes Global 2000   \n",
       "4  Financial Services, Banking, Insurance, Fortun...   \n",
       "\n",
       "                                               about  \n",
       "0  Tata Consultancy Services is an IT services, c...  \n",
       "1  Accenture is a leading global professional ser...  \n",
       "2  ICICI Bank is India's largest private sector b...  \n",
       "3  Cognizant (NASDAQ-100: CTSH) is one of the wor...  \n",
       "4  HDFC Bank is one of India’s leading private ba...  "
      ]
     },
     "execution_count": 43,
     "metadata": {},
     "output_type": "execute_result"
    }
   ],
   "source": [
    "dataframe_final.head()"
   ]
  },
  {
   "cell_type": "code",
   "execution_count": 44,
   "metadata": {},
   "outputs": [
    {
     "name": "stdout",
     "output_type": "stream",
     "text": [
      "dataframe shape (300, 9)\n",
      "\n",
      "column-wise null count\n",
      "name                  0\n",
      "rating                0\n",
      "reviews               0\n",
      "domain               11\n",
      "location              0\n",
      "years_old             2\n",
      "employee_strength    11\n",
      "tags                  0\n",
      "about                 2\n",
      "dtype: int64\n",
      "\n"
     ]
    }
   ],
   "source": [
    "# Print some statistics about the final dataframe:\n",
    "print(\"dataframe shape\", dataframe_final.shape)\n",
    "print()\n",
    "print(\"column-wise null count\")\n",
    "print(dataframe_final.isna().sum())\n",
    "print()"
   ]
  },
  {
   "cell_type": "code",
   "execution_count": 45,
   "metadata": {},
   "outputs": [
    {
     "data": {
      "text/html": [
       "<div>\n",
       "<style scoped>\n",
       "    .dataframe tbody tr th:only-of-type {\n",
       "        vertical-align: middle;\n",
       "    }\n",
       "\n",
       "    .dataframe tbody tr th {\n",
       "        vertical-align: top;\n",
       "    }\n",
       "\n",
       "    .dataframe thead th {\n",
       "        text-align: right;\n",
       "    }\n",
       "</style>\n",
       "<table border=\"1\" class=\"dataframe\">\n",
       "  <thead>\n",
       "    <tr style=\"text-align: right;\">\n",
       "      <th></th>\n",
       "      <th>name</th>\n",
       "      <th>rating</th>\n",
       "      <th>reviews</th>\n",
       "      <th>domain</th>\n",
       "      <th>location</th>\n",
       "      <th>years_old</th>\n",
       "      <th>employee_strength</th>\n",
       "      <th>tags</th>\n",
       "      <th>about</th>\n",
       "    </tr>\n",
       "  </thead>\n",
       "  <tbody>\n",
       "    <tr>\n",
       "      <th>count</th>\n",
       "      <td>300</td>\n",
       "      <td>300</td>\n",
       "      <td>300</td>\n",
       "      <td>289</td>\n",
       "      <td>300</td>\n",
       "      <td>298</td>\n",
       "      <td>289</td>\n",
       "      <td>300</td>\n",
       "      <td>298</td>\n",
       "    </tr>\n",
       "    <tr>\n",
       "      <th>unique</th>\n",
       "      <td>299</td>\n",
       "      <td>15</td>\n",
       "      <td>113</td>\n",
       "      <td>4</td>\n",
       "      <td>288</td>\n",
       "      <td>108</td>\n",
       "      <td>3</td>\n",
       "      <td>270</td>\n",
       "      <td>298</td>\n",
       "    </tr>\n",
       "    <tr>\n",
       "      <th>top</th>\n",
       "      <td>Mahindra &amp; Mahindr...</td>\n",
       "      <td>4.2</td>\n",
       "      <td>(1.1k)</td>\n",
       "      <td>Private</td>\n",
       "      <td>Mumbai + 122 more</td>\n",
       "      <td>20 years old</td>\n",
       "      <td>10000+ employees</td>\n",
       "      <td>Banking / Insurance / Accounting, Financial Se...</td>\n",
       "      <td>In 1954, in a newly independent India, the nee...</td>\n",
       "    </tr>\n",
       "    <tr>\n",
       "      <th>freq</th>\n",
       "      <td>2</td>\n",
       "      <td>61</td>\n",
       "      <td>29</td>\n",
       "      <td>141</td>\n",
       "      <td>2</td>\n",
       "      <td>15</td>\n",
       "      <td>233</td>\n",
       "      <td>5</td>\n",
       "      <td>1</td>\n",
       "    </tr>\n",
       "  </tbody>\n",
       "</table>\n",
       "</div>"
      ],
      "text/plain": [
       "                         name rating reviews   domain           location  \\\n",
       "count                     300    300     300      289                300   \n",
       "unique                    299     15     113        4                288   \n",
       "top     Mahindra & Mahindr...    4.2  (1.1k)  Private  Mumbai + 122 more   \n",
       "freq                        2     61      29      141                  2   \n",
       "\n",
       "           years_old employee_strength  \\\n",
       "count            298               289   \n",
       "unique           108                 3   \n",
       "top     20 years old  10000+ employees   \n",
       "freq              15               233   \n",
       "\n",
       "                                                     tags  \\\n",
       "count                                                 300   \n",
       "unique                                                270   \n",
       "top     Banking / Insurance / Accounting, Financial Se...   \n",
       "freq                                                    5   \n",
       "\n",
       "                                                    about  \n",
       "count                                                 298  \n",
       "unique                                                298  \n",
       "top     In 1954, in a newly independent India, the nee...  \n",
       "freq                                                    1  "
      ]
     },
     "execution_count": 45,
     "metadata": {},
     "output_type": "execute_result"
    }
   ],
   "source": [
    "dataframe_final.describe()"
   ]
  },
  {
   "cell_type": "markdown",
   "metadata": {},
   "source": [
    "## Exporting the DataFrame into an external CSV"
   ]
  },
  {
   "cell_type": "code",
   "execution_count": 49,
   "metadata": {},
   "outputs": [],
   "source": [
    "# export the data to external csv\n",
    "dataframe_final.to_csv(\"E:\\dataset.csv\", encoding=\"utf-8\")"
   ]
  },
  {
   "cell_type": "code",
   "execution_count": null,
   "metadata": {},
   "outputs": [],
   "source": []
  }
 ],
 "metadata": {
  "kernelspec": {
   "display_name": "Python 3",
   "language": "python",
   "name": "python3"
  },
  "language_info": {
   "codemirror_mode": {
    "name": "ipython",
    "version": 3
   },
   "file_extension": ".py",
   "mimetype": "text/x-python",
   "name": "python",
   "nbconvert_exporter": "python",
   "pygments_lexer": "ipython3",
   "version": "3.8.3"
  }
 },
 "nbformat": 4,
 "nbformat_minor": 4
}
