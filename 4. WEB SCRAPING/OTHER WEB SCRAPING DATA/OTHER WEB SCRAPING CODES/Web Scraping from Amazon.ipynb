{
 "cells": [
  {
   "cell_type": "code",
   "execution_count": 1,
   "metadata": {},
   "outputs": [],
   "source": [
    "from bs4 import BeautifulSoup\n",
    "import re # import Regular expression operations module\n",
    "import requests\n",
    "from time import gmtime, strftime"
   ]
  },
  {
   "cell_type": "code",
   "execution_count": 2,
   "metadata": {},
   "outputs": [
    {
     "name": "stdout",
     "output_type": "stream",
     "text": [
      "Enter the product category you want to search for: Electronics\n"
     ]
    }
   ],
   "source": [
    "a = []\n",
    "url_str = input(\"Enter the product category you want to search for: \")\n",
    "url = []"
   ]
  },
  {
   "cell_type": "code",
   "execution_count": 4,
   "metadata": {},
   "outputs": [],
   "source": [
    "# Hacky fix\n",
    "words = url_str.split()\n",
    "var = len(words)"
   ]
  },
  {
   "cell_type": "code",
   "execution_count": 5,
   "metadata": {},
   "outputs": [],
   "source": [
    "if var == 1:\n",
    "\turl = \"https://www.amazon.com/s/ref=nb_sb_noss_1?url=search-alias%3Daps&field-keywords=\" + words[0]\n",
    "\n",
    "if var == 2:\n",
    "\turl = \"https://www.amazon.com/s/ref=nb_sb_noss_1?url=search-alias%3Daps&field-keywords=\" + words[0] + \"+\" + words[1]\n",
    "\n",
    "elif var == 3:\n",
    "\turl = \"https://www.amazon.com/s/ref=nb_sb_noss_1?url=search-alias%3Daps&field-keywords=\" + words[0] + \"+\" + words[1] + \"+\" + words[2]\n"
   ]
  },
  {
   "cell_type": "code",
   "execution_count": 6,
   "metadata": {},
   "outputs": [],
   "source": [
    "# Add header\n",
    "headers = {'User-Agent': 'Mozilla/5.0 (Windows NT 6.3; Win64; x64) AppleWebKit/537.36 (KHTML, like Gecko) Chrome/54.0.2840.71 Safari/537.36'}"
   ]
  },
  {
   "cell_type": "code",
   "execution_count": 7,
   "metadata": {},
   "outputs": [],
   "source": [
    "r = requests.get(url, headers=headers)"
   ]
  },
  {
   "cell_type": "code",
   "execution_count": null,
   "metadata": {},
   "outputs": [],
   "source": [
    "# print(r) # print request to see if Response 200"
   ]
  },
  {
   "cell_type": "code",
   "execution_count": 8,
   "metadata": {},
   "outputs": [],
   "source": [
    "soup = BeautifulSoup(r.content, \"html.parser\")"
   ]
  },
  {
   "cell_type": "code",
   "execution_count": 9,
   "metadata": {},
   "outputs": [],
   "source": [
    "# Csv writing setup\n",
    "filename = \"products.csv\"\n",
    "f = open(filename, \"w\", encoding='utf-8')"
   ]
  },
  {
   "cell_type": "code",
   "execution_count": 10,
   "metadata": {},
   "outputs": [
    {
     "data": {
      "text/plain": [
       "'2020-12-20 17:38:05'"
      ]
     },
     "execution_count": 10,
     "metadata": {},
     "output_type": "execute_result"
    }
   ],
   "source": [
    "# Grab time and format string \n",
    "strftime(\"%Y-%m-%d %H:%M:%S\", gmtime())"
   ]
  },
  {
   "cell_type": "code",
   "execution_count": 11,
   "metadata": {},
   "outputs": [
    {
     "data": {
      "text/plain": [
       "58"
      ]
     },
     "execution_count": 11,
     "metadata": {},
     "output_type": "execute_result"
    }
   ],
   "source": [
    "headers =\"Asin, Name,\" + \"Price : \" + strftime(\"%Y-%m-%d %H:%M:%S\", gmtime()) + \", Number of Reviews\\n\"\n",
    "f.write(headers)"
   ]
  },
  {
   "cell_type": "code",
   "execution_count": null,
   "metadata": {},
   "outputs": [],
   "source": [
    "# Regex if needed\n",
    "# a = re.compile((?<=data-asin))\n",
    "# Used this to beautify and inspect the html/xml data ----> http://jsbeautifier.org/"
   ]
  },
  {
   "cell_type": "code",
   "execution_count": 12,
   "metadata": {},
   "outputs": [
    {
     "name": "stdout",
     "output_type": "stream",
     "text": [
      "containers style 1:  0\n"
     ]
    }
   ],
   "source": [
    "# Style 1 of Amazon's product display\n",
    "containers1 = soup.findAll(\"li\", {\"class\":\"s-result-item s-result-card-for-container a-declarative celwidget \"})\n",
    "print(\"containers style 1: \", len(containers1))"
   ]
  },
  {
   "cell_type": "code",
   "execution_count": 13,
   "metadata": {},
   "outputs": [
    {
     "name": "stdout",
     "output_type": "stream",
     "text": [
      "containers style 2:  0\n"
     ]
    }
   ],
   "source": [
    "#page could be styled different, invoke query second style\n",
    "containers2 = soup.findAll(\"li\", {\"class\":\"s-result-item s-result-card-for-container s-carded-grid celwidget \"})\n",
    "print(\"containers style 2: \", len(containers2))"
   ]
  },
  {
   "cell_type": "code",
   "execution_count": 14,
   "metadata": {},
   "outputs": [
    {
     "name": "stdout",
     "output_type": "stream",
     "text": [
      "containers style 3 sponsored:  0\n"
     ]
    }
   ],
   "source": [
    "#check for sponsored containers\n",
    "sponsored_containers = soup.findAll(\"li\", {\"class\":\"s-result-item celwidget AdHolder\"}) \n",
    "print(\"containers style 3 sponsored: \", len(sponsored_containers))"
   ]
  },
  {
   "cell_type": "code",
   "execution_count": 15,
   "metadata": {},
   "outputs": [
    {
     "name": "stdout",
     "output_type": "stream",
     "text": [
      "containers style 4 common:  0\n"
     ]
    }
   ],
   "source": [
    "#check for the most common style\n",
    "common_containers = soup.findAll(\"li\", {\"class\":\"s-result-item celwidget \"})  \n",
    "print(\"containers style 4 common: \", len(common_containers))"
   ]
  },
  {
   "cell_type": "code",
   "execution_count": 16,
   "metadata": {},
   "outputs": [
    {
     "name": "stdout",
     "output_type": "stream",
     "text": [
      "containers style 5 special 0\n"
     ]
    }
   ],
   "source": [
    "#check for special style\n",
    "containers3 = soup.findAll(\"li\", {\"class\":\"s-result-item s-col-span-12 celwidget \"})\n",
    "print(\"containers style 5 special\", len(containers3))"
   ]
  },
  {
   "cell_type": "code",
   "execution_count": 17,
   "metadata": {},
   "outputs": [],
   "source": [
    "for container in sponsored_containers:\n",
    "\t# Product Asin\n",
    "\tasin = (container[\"data-asin\"])\n",
    "\n",
    "\t# Product Name\n",
    "\ttry:\n",
    "\t\ttitle_container = container.findAll(\"a\", {\"class\":\"a-link-normal s-access-detail-page s-color-twister-title-link a-text-normal\"}) \n",
    "\t\tname = title_container[0][\"title\"]\n",
    "\texcept:\n",
    "\t\tname = \"N/A\"\n",
    "\n",
    "\t# Product Price # span class=\"a-offscreen\"\n",
    "\tprice_container = container.findAll(\"span\", {\"class\":\"a-offscreen\"})\n",
    "\tprice = price_container[1].text\n",
    "\n",
    "\t#Number of reviews\n",
    "\tnum_review_container = container.findAll(\"a\", {\"class\":\"a-size-small a-link-normal a-text-normal\"})\n",
    "\ttry:\n",
    "\t\tif (len(num_review_container) > 1):\n",
    "\t\t\tnum_reviews = num_review_container[1].text\n",
    "\t\telse: \n",
    "\t\t\tnum_reviews = num_review_container[0].text \n",
    "\texcept:\n",
    "\t\tnum_reviews = \"0\"\n",
    "\n",
    "\tf.write(asin + ',' + name.replace(\",\", \"|\") + ',' + price.replace(\"$\", \"\") + \",\" + num_reviews.replace(\",\", \"\") + \"\\n\") # + ',' + name.replace(\",\", \"|\") + ',' + price + \",\" + num_reviews + \"\\n\")\n",
    "\n",
    "\n",
    "for container in common_containers:\n",
    "\t# Product Asin\n",
    "\tasin = (container[\"data-asin\"])\n",
    "\n",
    "\t# Product Name\n",
    "\ttry:\n",
    "\t\ttitle_container = container.findAll(\"a\", {\"class\":\"a-link-normal s-access-detail-page s-color-twister-title-link a-text-normal\"}) \n",
    "\t\tname = title_container[0][\"title\"]\n",
    "\texcept:\n",
    "\t\tname = \"N/A\"\n",
    "\n",
    "\t# Product Price # span class=\"a-offscreen\"\n",
    "\tprice_container = container.findAll(\"span\", {\"class\":\"a-offscreen\"})\n",
    "\t# print(price_container)\n",
    "\ttry:\n",
    "\t\tprice = price_container[0].text\n",
    "\texcept:\n",
    "\t\tprice = \"N/A\"\n",
    "\n",
    "\t#Number of reviews\n",
    "\tnum_review_container = container.findAll(\"a\", {\"class\":\"a-size-small a-link-normal a-text-normal\"})\n",
    "\ttry:\n",
    "\t\tif (len(num_review_container) > 1):\n",
    "\t\t\tnum_reviews = num_review_container[1].text\n",
    "\t\telse:\n",
    "\t\t\tnum_reviews = num_review_container[0].text\n",
    "\texcept:\n",
    "\t\tnum_reviews = \"0\"\n",
    "\n",
    "# try:\n",
    "# num_review2 = num_review_container[1].text.strip()\n",
    "# print(num_review2)\n",
    "# except list index out of range:\n",
    "# num_review2 = 0;\n",
    "\n",
    "\tf.write(asin + ',' + name.replace(\",\", \"|\") + ',' + price.replace(\"$\", \"\") + \",\" + num_reviews.replace(\",\", \"\") + \"\\n\")"
   ]
  },
  {
   "cell_type": "code",
   "execution_count": 18,
   "metadata": {},
   "outputs": [],
   "source": [
    "f.close()"
   ]
  },
  {
   "cell_type": "code",
   "execution_count": null,
   "metadata": {},
   "outputs": [],
   "source": []
  }
 ],
 "metadata": {
  "kernelspec": {
   "display_name": "Python 3",
   "language": "python",
   "name": "python3"
  },
  "language_info": {
   "codemirror_mode": {
    "name": "ipython",
    "version": 3
   },
   "file_extension": ".py",
   "mimetype": "text/x-python",
   "name": "python",
   "nbconvert_exporter": "python",
   "pygments_lexer": "ipython3",
   "version": "3.8.3"
  }
 },
 "nbformat": 4,
 "nbformat_minor": 4
}
