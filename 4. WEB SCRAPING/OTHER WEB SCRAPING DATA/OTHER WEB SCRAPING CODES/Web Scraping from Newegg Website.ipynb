{
 "cells": [
  {
   "cell_type": "code",
   "execution_count": 1,
   "metadata": {},
   "outputs": [],
   "source": [
    "import bs4\n",
    "from urllib.request import urlopen\n",
    "from bs4 import BeautifulSoup as soup"
   ]
  },
  {
   "cell_type": "code",
   "execution_count": 2,
   "metadata": {},
   "outputs": [],
   "source": [
    "my_url = 'https://www.newegg.com/Video-Cards-Video-Devices/Category/ID-38?Tpk=graphics%20card'"
   ]
  },
  {
   "cell_type": "code",
   "execution_count": 3,
   "metadata": {},
   "outputs": [],
   "source": [
    "# opening url and grabbing the web page\n",
    "uClient = urlopen(my_url)\n",
    "page_html = uClient.read()\n",
    "uClient.close()"
   ]
  },
  {
   "cell_type": "code",
   "execution_count": 4,
   "metadata": {},
   "outputs": [],
   "source": [
    "# html parsing\n",
    "page_soup = soup(page_html, 'html.parser')"
   ]
  },
  {
   "cell_type": "code",
   "execution_count": 5,
   "metadata": {},
   "outputs": [],
   "source": [
    "# grabbing all containers with class name = item-container\n",
    "containers = page_soup.findAll('div', {'class':'item-container'})"
   ]
  },
  {
   "cell_type": "code",
   "execution_count": 6,
   "metadata": {},
   "outputs": [],
   "source": [
    "filename = \"products.csv\"\n",
    "f = open(filename, 'w')"
   ]
  },
  {
   "cell_type": "code",
   "execution_count": 7,
   "metadata": {},
   "outputs": [],
   "source": [
    "headers = \"brands, product_name, shipping\\n\""
   ]
  },
  {
   "cell_type": "code",
   "execution_count": 8,
   "metadata": {},
   "outputs": [
    {
     "data": {
      "text/plain": [
       "31"
      ]
     },
     "execution_count": 8,
     "metadata": {},
     "output_type": "execute_result"
    }
   ],
   "source": [
    "f.write(headers)"
   ]
  },
  {
   "cell_type": "code",
   "execution_count": 9,
   "metadata": {},
   "outputs": [],
   "source": [
    "container = containers[1]"
   ]
  },
  {
   "cell_type": "code",
   "execution_count": 10,
   "metadata": {},
   "outputs": [
    {
     "name": "stdout",
     "output_type": "stream",
     "text": [
      "brand:GIGABYTE\n",
      "product_name:GIGABYTE GeForce GT 1030 DirectX 12 GV-N1030OC-2GI Video Card\n",
      "shipping:Free Shipping\n",
      "brand:ASUS\n",
      "product_name:ASUS Radeon RX 580 DirectX 12 DUAL-RX580-O8G Video Card\n",
      "shipping:Free Shipping\n",
      "brand:PowerColor\n",
      "product_name:PowerColor RED DRAGON Radeon RX 570 DirectX 12 AXRX 570 4GBD5-DHDV3/OC Video Card\n",
      "shipping:$3.99 Shipping\n",
      "brand:ASUS\n",
      "product_name:ASUS ROG Strix Radeon RX 570 DirectX 12 ROG-STRIX-RX570-O8G-GAMING 8GB 256-Bit GDDR5 PCI Express 3.0 HDCP Ready Video Card\n",
      "shipping:$3.99 Shipping\n",
      "brand:Sapphire Tech\n",
      "product_name:SAPPHIRE PULSE Radeon RX 570 DirectX 12 11266-78-20G Video Card\n",
      "shipping:$6.99 Shipping\n",
      "brand:MSI\n",
      "product_name:MSI GeForce GT 1030 DirectX 12 GT 1030 2G LP OC Video Card\n",
      "shipping:$1.99 Shipping\n",
      "brand:GIGABYTE\n",
      "product_name:GIGABYTE Radeon RX 570 DirectX 12 GV-RX570GAMING-8GD Rev 2.0 Video Card\n",
      "shipping:$6.99 Shipping\n"
     ]
    }
   ],
   "source": [
    "for container in containers:\n",
    "    brand = container.div.div.a.img['title']\n",
    "    title_container = container.findAll('a', {'class':'item-title'})\n",
    "    product_name = title_container[0].text\n",
    "    ship_container = container.findAll('li', {'class':'price-ship'})\n",
    "    # use strip() to remove blank spaces before and after text\n",
    "    shipping = ship_container[0].text.strip()\n",
    "\n",
    "    print(\"brand:\" + brand)\n",
    "    print(\"product_name:\" + product_name)\n",
    "    print(\"shipping:\" + shipping)\n",
    "\n",
    "    f.write(brand + ',' + product_name.replace(',' , '|') + ',' + shipping + '\\n')"
   ]
  },
  {
   "cell_type": "code",
   "execution_count": 11,
   "metadata": {},
   "outputs": [],
   "source": [
    "f.close()"
   ]
  },
  {
   "cell_type": "code",
   "execution_count": null,
   "metadata": {},
   "outputs": [],
   "source": []
  }
 ],
 "metadata": {
  "kernelspec": {
   "display_name": "Python 3",
   "language": "python",
   "name": "python3"
  },
  "language_info": {
   "codemirror_mode": {
    "name": "ipython",
    "version": 3
   },
   "file_extension": ".py",
   "mimetype": "text/x-python",
   "name": "python",
   "nbconvert_exporter": "python",
   "pygments_lexer": "ipython3",
   "version": "3.8.3"
  }
 },
 "nbformat": 4,
 "nbformat_minor": 4
}
