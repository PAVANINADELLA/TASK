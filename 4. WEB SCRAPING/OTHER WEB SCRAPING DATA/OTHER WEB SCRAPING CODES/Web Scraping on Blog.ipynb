{
 "cells": [
  {
   "cell_type": "code",
   "execution_count": 1,
   "metadata": {},
   "outputs": [],
   "source": [
    "import requests\n",
    "from bs4 import BeautifulSoup\n",
    "from csv import writer"
   ]
  },
  {
   "cell_type": "code",
   "execution_count": 2,
   "metadata": {},
   "outputs": [],
   "source": [
    "# we create a response variable\n",
    "\n",
    "response = requests.get('https://blog.hlab.tech/')"
   ]
  },
  {
   "cell_type": "code",
   "execution_count": 3,
   "metadata": {},
   "outputs": [],
   "source": [
    "# we initialize beautiful soup and pass in our response\n",
    "soup = BeautifulSoup(response.text, 'html.parser')"
   ]
  },
  {
   "cell_type": "code",
   "execution_count": 4,
   "metadata": {},
   "outputs": [],
   "source": [
    "# we create a variable called posts and we know that our all our blog posts are in a div called blog-entry-content\n",
    "\n",
    "posts = soup.findAll(class_='blog-entry-content')"
   ]
  },
  {
   "cell_type": "code",
   "execution_count": 5,
   "metadata": {},
   "outputs": [],
   "source": [
    "# writing to csv file\n",
    "\n",
    "with open('articles.csv', 'w') as csv_file:\n",
    "    csv_writer = writer(csv_file)\n",
    "\n",
    "    # creating headers in the csv file\n",
    "    headers = ['Title', 'Link', 'Date']\n",
    "\n",
    "    # writing a row of headers in the csv\n",
    "    csv_writer.writerow(headers)\n",
    "\n",
    "    # now lets loop through our posts\n",
    "\n",
    "    for post in posts:\n",
    "        title = post.find(class_='blog-entry-title entry-title').get_text().replace('\\n', '')\n",
    "        link = post.find('a')['href']\n",
    "        date = post.select('.blog-entry-date.clr')[0].get_text()\n",
    "        csv_writer.writerow([title, link, date])"
   ]
  },
  {
   "cell_type": "code",
   "execution_count": null,
   "metadata": {},
   "outputs": [],
   "source": []
  }
 ],
 "metadata": {
  "kernelspec": {
   "display_name": "Python 3",
   "language": "python",
   "name": "python3"
  },
  "language_info": {
   "codemirror_mode": {
    "name": "ipython",
    "version": 3
   },
   "file_extension": ".py",
   "mimetype": "text/x-python",
   "name": "python",
   "nbconvert_exporter": "python",
   "pygments_lexer": "ipython3",
   "version": "3.8.3"
  }
 },
 "nbformat": 4,
 "nbformat_minor": 4
}
