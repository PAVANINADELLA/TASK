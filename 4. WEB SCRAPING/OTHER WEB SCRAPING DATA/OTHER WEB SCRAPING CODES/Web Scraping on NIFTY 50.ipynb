{
 "cells": [
  {
   "cell_type": "code",
   "execution_count": 1,
   "metadata": {},
   "outputs": [],
   "source": [
    "import numpy as np\n",
    "import pandas as pd\n",
    "import requests\n",
    "from bs4 import BeautifulSoup"
   ]
  },
  {
   "cell_type": "code",
   "execution_count": 2,
   "metadata": {},
   "outputs": [],
   "source": [
    "# get html code  from source page\n",
    "url = \"https://en.wikipedia.org/wiki/NIFTY_50\""
   ]
  },
  {
   "cell_type": "code",
   "execution_count": 3,
   "metadata": {},
   "outputs": [],
   "source": [
    "response = requests.get(url)"
   ]
  },
  {
   "cell_type": "code",
   "execution_count": 4,
   "metadata": {},
   "outputs": [],
   "source": [
    "html = response.content"
   ]
  },
  {
   "cell_type": "code",
   "execution_count": 5,
   "metadata": {},
   "outputs": [],
   "source": [
    "soup = BeautifulSoup(html, \"html.parser\")"
   ]
  },
  {
   "cell_type": "code",
   "execution_count": 6,
   "metadata": {},
   "outputs": [],
   "source": [
    "# extract required table\n",
    "table = soup.find(\"table\", { \"class\" : \"wikitable sortable\" })\n",
    "companies = []\n",
    "symbols = []\n",
    "sectors = []\n",
    "\n",
    "for row in table.findAll(\"tr\"):\n",
    "    cells = row.findAll(\"td\")\n",
    "    if len(cells) == 3:\n",
    "        companies.append(cells[0].find(text=True))\n",
    "        symbols.append(cells[1].findAll(text=True))\n",
    "        sectors.append(cells[2].find(text=True)) "
   ]
  },
  {
   "cell_type": "code",
   "execution_count": 7,
   "metadata": {},
   "outputs": [],
   "source": [
    "# write data to dataframe \n",
    "data = pd.DataFrame({\"Company Name\": companies, \"Symbol\": symbols, \"Sector\": sectors})"
   ]
  },
  {
   "cell_type": "code",
   "execution_count": 8,
   "metadata": {},
   "outputs": [
    {
     "name": "stdout",
     "output_type": "stream",
     "text": [
      "                       Company Name           Symbol                    Sector\n",
      "0                       Adani Ports  [ADANIPORTS.NS]          Infrastructure\\n\n",
      "1                      Asian Paints  [ASIANPAINT.NS]          Consumer Goods\\n\n",
      "2                         Axis Bank    [AXISBANK.NS]                 Banking\\n\n",
      "3                        Bajaj Auto  [BAJAJ-AUTO.NS]              Automobile\\n\n",
      "4                     Bajaj Finance  [BAJFINANCE.NS]      Financial Services\\n\n",
      "5                     Bajaj Finserv  [BAJAJFINSV.NS]      Financial Services\\n\n",
      "6                     Bharti Airtel  [BHARTIARTL.NS]       Telecommunication\\n\n",
      "7                  Bharat Petroleum        [BPCL.NS]      Energy - Oil & Gas\\n\n",
      "8              Britannia Industries   [BRITANNIA.NS]          Consumer Goods\\n\n",
      "9                             Cipla       [CIPLA.NS]         Pharmaceuticals\\n\n",
      "10                       Coal India   [COALINDIA.NS]         Energy & Mining\\n\n",
      "11              Divi's Laboratories    [DIVISLAB.NS]         Pharmaceuticals\\n\n",
      "12         Dr. Reddy's Laboratories     [DRREDDY.NS]         Pharmaceuticals\\n\n",
      "13                    Eicher Motors   [EICHERMOT.NS]              Automobile\\n\n",
      "14                             GAIL        [GAIL.NS]      Energy - Oil & Gas\\n\n",
      "15                Grasim Industries      [GRASIM.NS]                  Cement\\n\n",
      "16                 HCL Technologies     [HCLTECH.NS]  Information Technology\\n\n",
      "17                             HDFC        [HDFC.NS]      Financial Services\\n\n",
      "18                        HDFC Bank    [HDFCBANK.NS]                 Banking\\n\n",
      "19                        HDFC Life    [HDFCLIFE.NS]               Insurance\\n\n",
      "20                    Hero MotoCorp  [HEROMOTOCO.NS]              Automobile\\n\n",
      "21              Hindalco Industries    [HINDALCO.NS]                  Metals\\n\n",
      "22               Hindustan Unilever  [HINDUNILVR.NS]          Consumer Goods\\n\n",
      "23                       ICICI Bank   [ICICIBANK.NS]                 Banking\\n\n",
      "24                    IndusInd Bank  [INDUSINDBK.NS]                 Banking\\n\n",
      "25                          Infosys        [INFY.NS]  Information Technology\\n\n",
      "26           Indian Oil Corporation         [IOC.NS]      Energy - Oil & Gas\\n\n",
      "27                      ITC Limited         [ITC.NS]          Consumer Goods\\n\n",
      "28                        JSW Steel    [JSWSTEEL.NS]                  Metals\\n\n",
      "29              Kotak Mahindra Bank   [KOTAKBANK.NS]                 Banking\\n\n",
      "30                  Larsen & Toubro          [LT.NS]            Construction\\n\n",
      "31              Mahindra & Mahindra         [M&M.NS]              Automobile\\n\n",
      "32                    Maruti Suzuki      [MARUTI.NS]              Automobile\\n\n",
      "33                     Nestlé India   [NESTLEIND.NS]          Consumer Goods\\n\n",
      "34                             NTPC        [NTPC.NS]          Energy - Power\\n\n",
      "35  Oil and Natural Gas Corporation        [ONGC.NS]      Energy - Oil & Gas\\n\n",
      "36  Power Grid Corporation of India   [POWERGRID.NS]          Energy - Power\\n\n",
      "37              Reliance Industries    [RELIANCE.NS]      Energy - Oil & Gas\\n\n",
      "38              State Bank of India        [SBIN.NS]                 Banking\\n\n",
      "39       SBI Life Insurance Company     [SBILIFE.NS]               Insurance\\n\n",
      "40                    Shree Cements    [SHREECEM.NS]                  Cement\\n\n",
      "41               Sun Pharmaceutical   [SUNPHARMA.NS]         Pharmaceuticals\\n\n",
      "42                      Tata Motors  [TATAMOTORS.NS]              Automobile\\n\n",
      "43                       Tata Steel   [TATASTEEL.NS]                  Metals\\n\n",
      "44        Tata Consultancy Services         [TCS.NS]  Information Technology\\n\n",
      "45                    Tech Mahindra       [TECHM.NS]  Information Technology\\n\n",
      "46                    Titan Company       [TITAN.NS]          Consumer Goods\\n\n",
      "47                 UltraTech Cement  [ULTRACEMCO.NS]                  Cement\\n\n",
      "48        United Phosphorus Limited         [UPL.NS]               Chemicals\\n\n",
      "49                            Wipro       [WIPRO.NS]  Information Technology\\n\n"
     ]
    }
   ],
   "source": [
    "print(data)"
   ]
  },
  {
   "cell_type": "code",
   "execution_count": 9,
   "metadata": {},
   "outputs": [],
   "source": [
    "data = data.replace('\\n','', regex=True)"
   ]
  },
  {
   "cell_type": "code",
   "execution_count": 10,
   "metadata": {},
   "outputs": [
    {
     "name": "stdout",
     "output_type": "stream",
     "text": [
      "                       Company Name           Symbol                  Sector\n",
      "0                       Adani Ports  [ADANIPORTS.NS]          Infrastructure\n",
      "1                      Asian Paints  [ASIANPAINT.NS]          Consumer Goods\n",
      "2                         Axis Bank    [AXISBANK.NS]                 Banking\n",
      "3                        Bajaj Auto  [BAJAJ-AUTO.NS]              Automobile\n",
      "4                     Bajaj Finance  [BAJFINANCE.NS]      Financial Services\n",
      "5                     Bajaj Finserv  [BAJAJFINSV.NS]      Financial Services\n",
      "6                     Bharti Airtel  [BHARTIARTL.NS]       Telecommunication\n",
      "7                  Bharat Petroleum        [BPCL.NS]      Energy - Oil & Gas\n",
      "8              Britannia Industries   [BRITANNIA.NS]          Consumer Goods\n",
      "9                             Cipla       [CIPLA.NS]         Pharmaceuticals\n",
      "10                       Coal India   [COALINDIA.NS]         Energy & Mining\n",
      "11              Divi's Laboratories    [DIVISLAB.NS]         Pharmaceuticals\n",
      "12         Dr. Reddy's Laboratories     [DRREDDY.NS]         Pharmaceuticals\n",
      "13                    Eicher Motors   [EICHERMOT.NS]              Automobile\n",
      "14                             GAIL        [GAIL.NS]      Energy - Oil & Gas\n",
      "15                Grasim Industries      [GRASIM.NS]                  Cement\n",
      "16                 HCL Technologies     [HCLTECH.NS]  Information Technology\n",
      "17                             HDFC        [HDFC.NS]      Financial Services\n",
      "18                        HDFC Bank    [HDFCBANK.NS]                 Banking\n",
      "19                        HDFC Life    [HDFCLIFE.NS]               Insurance\n",
      "20                    Hero MotoCorp  [HEROMOTOCO.NS]              Automobile\n",
      "21              Hindalco Industries    [HINDALCO.NS]                  Metals\n",
      "22               Hindustan Unilever  [HINDUNILVR.NS]          Consumer Goods\n",
      "23                       ICICI Bank   [ICICIBANK.NS]                 Banking\n",
      "24                    IndusInd Bank  [INDUSINDBK.NS]                 Banking\n",
      "25                          Infosys        [INFY.NS]  Information Technology\n",
      "26           Indian Oil Corporation         [IOC.NS]      Energy - Oil & Gas\n",
      "27                      ITC Limited         [ITC.NS]          Consumer Goods\n",
      "28                        JSW Steel    [JSWSTEEL.NS]                  Metals\n",
      "29              Kotak Mahindra Bank   [KOTAKBANK.NS]                 Banking\n",
      "30                  Larsen & Toubro          [LT.NS]            Construction\n",
      "31              Mahindra & Mahindra         [M&M.NS]              Automobile\n",
      "32                    Maruti Suzuki      [MARUTI.NS]              Automobile\n",
      "33                     Nestlé India   [NESTLEIND.NS]          Consumer Goods\n",
      "34                             NTPC        [NTPC.NS]          Energy - Power\n",
      "35  Oil and Natural Gas Corporation        [ONGC.NS]      Energy - Oil & Gas\n",
      "36  Power Grid Corporation of India   [POWERGRID.NS]          Energy - Power\n",
      "37              Reliance Industries    [RELIANCE.NS]      Energy - Oil & Gas\n",
      "38              State Bank of India        [SBIN.NS]                 Banking\n",
      "39       SBI Life Insurance Company     [SBILIFE.NS]               Insurance\n",
      "40                    Shree Cements    [SHREECEM.NS]                  Cement\n",
      "41               Sun Pharmaceutical   [SUNPHARMA.NS]         Pharmaceuticals\n",
      "42                      Tata Motors  [TATAMOTORS.NS]              Automobile\n",
      "43                       Tata Steel   [TATASTEEL.NS]                  Metals\n",
      "44        Tata Consultancy Services         [TCS.NS]  Information Technology\n",
      "45                    Tech Mahindra       [TECHM.NS]  Information Technology\n",
      "46                    Titan Company       [TITAN.NS]          Consumer Goods\n",
      "47                 UltraTech Cement  [ULTRACEMCO.NS]                  Cement\n",
      "48        United Phosphorus Limited         [UPL.NS]               Chemicals\n",
      "49                            Wipro       [WIPRO.NS]  Information Technology\n"
     ]
    }
   ],
   "source": [
    "print(data)"
   ]
  },
  {
   "cell_type": "code",
   "execution_count": null,
   "metadata": {},
   "outputs": [],
   "source": []
  }
 ],
 "metadata": {
  "kernelspec": {
   "display_name": "Python 3",
   "language": "python",
   "name": "python3"
  },
  "language_info": {
   "codemirror_mode": {
    "name": "ipython",
    "version": 3
   },
   "file_extension": ".py",
   "mimetype": "text/x-python",
   "name": "python",
   "nbconvert_exporter": "python",
   "pygments_lexer": "ipython3",
   "version": "3.8.3"
  }
 },
 "nbformat": 4,
 "nbformat_minor": 4
}
