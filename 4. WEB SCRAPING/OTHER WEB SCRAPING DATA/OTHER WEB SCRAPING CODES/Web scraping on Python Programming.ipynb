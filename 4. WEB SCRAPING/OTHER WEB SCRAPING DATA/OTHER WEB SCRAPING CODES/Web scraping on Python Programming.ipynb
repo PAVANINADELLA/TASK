{
 "cells": [
  {
   "cell_type": "code",
   "execution_count": 1,
   "metadata": {},
   "outputs": [],
   "source": [
    "import numpy as np\n",
    "import pandas as pd\n",
    "import requests\n",
    "import bs4 as bs\n",
    "import urllib.request"
   ]
  },
  {
   "cell_type": "code",
   "execution_count": 2,
   "metadata": {},
   "outputs": [],
   "source": [
    "source = urllib.request.urlopen('https://pythonprogramming.net/parsememcparseface/').read()"
   ]
  },
  {
   "cell_type": "code",
   "execution_count": 3,
   "metadata": {},
   "outputs": [],
   "source": [
    "soup = bs.BeautifulSoup(source,'lxml')"
   ]
  },
  {
   "cell_type": "code",
   "execution_count": 4,
   "metadata": {},
   "outputs": [
    {
     "name": "stdout",
     "output_type": "stream",
     "text": [
      "<title>Python Programming Tutorials</title>\n",
      "title\n",
      "Python Programming Tutorials\n",
      "head\n",
      "<p class=\"introduction\">Oh, hello! This is a <span style=\"font-size:115%\">wonderful</span> page meant to let you practice web scraping. This page was originally created to help people work with the <a href=\"https://www.crummy.com/software/BeautifulSoup/bs4/doc/\" target=\"blank\"><strong>Beautiful Soup 4</strong></a> library.</p>\n"
     ]
    }
   ],
   "source": [
    "# title of the page\n",
    "print(soup.title)\n",
    "\n",
    "# get attributes:\n",
    "print(soup.title.name)\n",
    "\n",
    "# get values:\n",
    "print(soup.title.string)\n",
    "\n",
    "# beginning navigation:\n",
    "print(soup.title.parent.name)\n",
    "\n",
    "# getting specific values:\n",
    "print(soup.p)"
   ]
  },
  {
   "cell_type": "code",
   "execution_count": 5,
   "metadata": {},
   "outputs": [
    {
     "name": "stdout",
     "output_type": "stream",
     "text": [
      "[<p class=\"introduction\">Oh, hello! This is a <span style=\"font-size:115%\">wonderful</span> page meant to let you practice web scraping. This page was originally created to help people work with the <a href=\"https://www.crummy.com/software/BeautifulSoup/bs4/doc/\" target=\"blank\"><strong>Beautiful Soup 4</strong></a> library.</p>, <p>The following table gives some general information for the following <code>programming languages</code>:</p>, <p>I think it's clear that, on a scale of 1-10, python is:</p>, <p>Javascript (dynamic data) test:</p>, <p class=\"jstest\" id=\"yesnojs\">y u bad tho?</p>, <p>Whᶐt hαppéns now¿</p>, <p><a href=\"/sitemap.xml\" target=\"blank\"><strong>sitemap</strong></a></p>, <p class=\"grey-text text-lighten-4\">Contact: Harrison@pythonprogramming.net.</p>, <p class=\"grey-text right\" style=\"padding-right:10px\">Programming is a superpower.</p>]\n"
     ]
    }
   ],
   "source": [
    "print(soup.find_all('p'))"
   ]
  },
  {
   "cell_type": "code",
   "execution_count": 6,
   "metadata": {},
   "outputs": [
    {
     "name": "stdout",
     "output_type": "stream",
     "text": [
      "None\n",
      "Oh, hello! This is a wonderful page meant to let you practice web scraping. This page was originally created to help people work with the Beautiful Soup 4 library.\n",
      "None\n",
      "The following table gives some general information for the following programming languages:\n",
      "I think it's clear that, on a scale of 1-10, python is:\n",
      "I think it's clear that, on a scale of 1-10, python is:\n",
      "Javascript (dynamic data) test:\n",
      "Javascript (dynamic data) test:\n",
      "y u bad tho?\n",
      "y u bad tho?\n",
      "Whᶐt hαppéns now¿\n",
      "Whᶐt hαppéns now¿\n",
      "sitemap\n",
      "sitemap\n",
      "Contact: Harrison@pythonprogramming.net.\n",
      "Contact: Harrison@pythonprogramming.net.\n",
      "Programming is a superpower.\n",
      "Programming is a superpower.\n"
     ]
    }
   ],
   "source": [
    "for paragraph in soup.find_all('p'):\n",
    "    print(paragraph.string)\n",
    "    print(str(paragraph.text))"
   ]
  },
  {
   "cell_type": "code",
   "execution_count": 7,
   "metadata": {},
   "outputs": [
    {
     "name": "stdout",
     "output_type": "stream",
     "text": [
      "/\n",
      "#\n",
      "/\n",
      "/+=1/\n",
      "/support/\n",
      "https://goo.gl/7zgAVQ\n",
      "/login/\n",
      "/register/\n",
      "/\n",
      "/+=1/\n",
      "/support/\n",
      "https://goo.gl/7zgAVQ\n",
      "/login/\n",
      "/register/\n",
      "https://www.crummy.com/software/BeautifulSoup/bs4/doc/\n",
      "/sitemap.xml\n",
      "/support-donate/\n",
      "/consulting/\n",
      "https://www.facebook.com/pythonprogramming.net/\n",
      "https://twitter.com/sentdex\n",
      "https://instagram.com/sentdex\n",
      "/about/tos/\n",
      "/about/privacy-policy/\n",
      "https://xkcd.com/353/\n"
     ]
    }
   ],
   "source": [
    "for url in soup.find_all('a'):\n",
    "    print(url.get('href'))"
   ]
  },
  {
   "cell_type": "code",
   "execution_count": 8,
   "metadata": {},
   "outputs": [
    {
     "name": "stdout",
     "output_type": "stream",
     "text": [
      "/\n",
      "#\n",
      "/\n",
      "/+=1/\n",
      "/support/\n",
      "https://goo.gl/7zgAVQ\n",
      "/login/\n",
      "/register/\n",
      "/\n",
      "/+=1/\n",
      "/support/\n",
      "https://goo.gl/7zgAVQ\n",
      "/login/\n",
      "/register/\n"
     ]
    }
   ],
   "source": [
    "nav = soup.nav\n",
    "for url in nav.find_all('a'):\n",
    "    print(url.get('href'))"
   ]
  },
  {
   "cell_type": "code",
   "execution_count": 9,
   "metadata": {},
   "outputs": [
    {
     "name": "stdout",
     "output_type": "stream",
     "text": [
      "Oh, hello! This is a wonderful page meant to let you practice web scraping. This page was originally created to help people work with the Beautiful Soup 4 library.\n",
      "The following table gives some general information for the following programming languages:\n",
      "I think it's clear that, on a scale of 1-10, python is:\n",
      "Javascript (dynamic data) test:\n",
      "y u bad tho?\n",
      "Whᶐt hαppéns now¿\n",
      "sitemap\n"
     ]
    }
   ],
   "source": [
    "body = soup.body\n",
    "for paragraph in body.find_all('p'):\n",
    "    print(paragraph.text)"
   ]
  },
  {
   "cell_type": "code",
   "execution_count": 10,
   "metadata": {},
   "outputs": [
    {
     "name": "stdout",
     "output_type": "stream",
     "text": [
      "\n",
      "Oh, hello! This is a wonderful page meant to let you practice web scraping. This page was originally created to help people work with the Beautiful Soup 4 library.\n",
      "The following table gives some general information for the following programming languages:\n",
      "\n",
      "Python\n",
      "Pascal\n",
      "Lisp\n",
      "D#\n",
      "Cobol\n",
      "Fortran\n",
      "Haskell\n",
      "\n",
      "\n",
      "\n",
      "Program Name\n",
      "Internet Points\n",
      "Kittens?\n",
      "\n",
      "\n",
      "Python\n",
      "932914021\n",
      "Definitely\n",
      "\n",
      "\n",
      "Pascal\n",
      "532\n",
      "Unlikely\n",
      "\n",
      "\n",
      "Lisp\n",
      "1522\n",
      "Uncertain\n",
      "\n",
      "\n",
      "D#\n",
      "12\n",
      "Possibly\n",
      "\n",
      "\n",
      "Cobol\n",
      "3\n",
      "No.\n",
      "\n",
      "\n",
      "Fortran\n",
      "52124\n",
      "Yes.\n",
      "\n",
      "\n",
      "Haskell\n",
      "24\n",
      "lol.\n",
      "\n",
      "\n",
      "I think it's clear that, on a scale of 1-10, python is:\n",
      "\n",
      "\n",
      "\n",
      "\n",
      "\n",
      "\n",
      "Javascript (dynamic data) test:\n",
      "y u bad tho?\n",
      "\n",
      "\n",
      "Beautiful is better than ugly.\n",
      "Explicit is better than implicit.\n",
      "Simple is better than complex.\n",
      "Complex is better than complicated.\n",
      "Flat is better than nested.\n",
      "Sparse is better than dense.\n",
      "Readability counts.\n",
      "Special cases aren't special enough to break the rules.\n",
      "Although practicality beats purity.\n",
      "Errors should never pass silently.\n",
      "Unless explicitly silenced.\n",
      "In the face of ambiguity, refuse the temptation to guess.\n",
      "There should be one-- and preferably only one --obvious way to do it.\n",
      "Although that way may not be obvious at first unless you're Dutch.\n",
      "Now is better than never.\n",
      "Although never is often better than *right* now.\n",
      "If the implementation is hard to explain, it's a bad idea.\n",
      "If the implementation is easy to explain, it may be a good idea.\n",
      "Namespaces are one honking great idea -- let's do more of those!\n",
      "Whᶐt hαppéns now¿\n",
      "sitemap\n",
      "\n"
     ]
    }
   ],
   "source": [
    "for div in soup.find_all('div', class_='body'):\n",
    "    print(div.text)"
   ]
  },
  {
   "cell_type": "code",
   "execution_count": 11,
   "metadata": {},
   "outputs": [
    {
     "name": "stdout",
     "output_type": "stream",
     "text": [
      "[]\n",
      "['Python', '932914021', 'Definitely']\n",
      "['Pascal', '532', 'Unlikely']\n",
      "['Lisp', '1522', 'Uncertain']\n",
      "['D#', '12', 'Possibly']\n",
      "['Cobol', '3', 'No.']\n",
      "['Fortran', '52124', 'Yes.']\n",
      "['Haskell', '24', 'lol.']\n"
     ]
    }
   ],
   "source": [
    "#scrapping specifically with a table example\n",
    "table = soup.table\n",
    "\n",
    "#find the table rows within the table\n",
    "table_rows = table.find_all('tr')\n",
    "\n",
    "# iterate through the rows,find the td tags, and then print out each of the table data tags:\n",
    "for tr in table_rows:\n",
    "    td = tr.find_all('td')\n",
    "    row = [i.text for i in td]\n",
    "    print(row)"
   ]
  },
  {
   "cell_type": "code",
   "execution_count": 12,
   "metadata": {},
   "outputs": [],
   "source": [
    "soup = bs.BeautifulSoup(source,'xml')\n",
    "for url in soup.find_all('loc'):\n",
    "    print(url.text)"
   ]
  },
  {
   "cell_type": "code",
   "execution_count": 13,
   "metadata": {},
   "outputs": [
    {
     "name": "stdout",
     "output_type": "stream",
     "text": [
      "y u bad tho?\n"
     ]
    }
   ],
   "source": [
    "soup = bs.BeautifulSoup(source,'lxml')\n",
    "js_test = soup.find('p', class_='jstest')\n",
    "print(js_test.text)"
   ]
  },
  {
   "cell_type": "code",
   "execution_count": 14,
   "metadata": {},
   "outputs": [
    {
     "name": "stdout",
     "output_type": "stream",
     "text": [
      "it will be contunued\n"
     ]
    }
   ],
   "source": [
    "print(\"it will be contunued\")"
   ]
  },
  {
   "cell_type": "code",
   "execution_count": null,
   "metadata": {},
   "outputs": [],
   "source": []
  }
 ],
 "metadata": {
  "kernelspec": {
   "display_name": "Python 3",
   "language": "python",
   "name": "python3"
  },
  "language_info": {
   "codemirror_mode": {
    "name": "ipython",
    "version": 3
   },
   "file_extension": ".py",
   "mimetype": "text/x-python",
   "name": "python",
   "nbconvert_exporter": "python",
   "pygments_lexer": "ipython3",
   "version": "3.8.3"
  }
 },
 "nbformat": 4,
 "nbformat_minor": 4
}
